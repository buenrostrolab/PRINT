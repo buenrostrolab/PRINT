{
 "cells": [
  {
   "cell_type": "code",
   "execution_count": null,
   "id": "62fe1d96-c18c-4dfa-a3b1-3ec32e49041a",
   "metadata": {
    "scrolled": true
   },
   "outputs": [],
   "source": [
    "%load_ext autoreload\n",
    "%autoreload 2\n",
    "    \n",
    "import scprinter as scp\n",
    "import pandas as pd\n",
    "import seaborn as sns\n",
    "import matplotlib.pyplot as plt\n",
    "import time\n",
    "import pandas as pd\n",
    "import numpy as np\n",
    "import os\n",
    "import pickle\n",
    "import torch\n",
    "import random\n",
    "from tqdm.auto import *\n",
    "\n",
    "import matplotlib as mpl\n",
    "\n",
    "mpl.rcParams['pdf.fonttype'] = 42"
   ]
  },
  {
   "cell_type": "code",
   "execution_count": null,
   "id": "ee34d02c-951f-461c-ba96-9619d8f58ed7",
   "metadata": {},
   "outputs": [],
   "source": [
    "def strided_axis0(a, L):\n",
    "    # Store the shape and strides info\n",
    "    shp = a.shape\n",
    "    s  = a.strides\n",
    "\n",
    "    # Compute length of output array along the first axis\n",
    "    nd0 = shp[0]-L+1\n",
    "\n",
    "    # Setup shape and strides for use with np.lib.stride_tricks.as_strided\n",
    "    # and get (n+1) dim output array\n",
    "    shp_in = (nd0,L)+shp[1:]\n",
    "    strd_in = (s[0],) + s\n",
    "    return np.lib.stride_tricks.as_strided(a, shape=shp_in, strides=strd_in)\n"
   ]
  },
  {
   "cell_type": "code",
   "execution_count": null,
   "id": "c528392a-911d-4a85-bf21-95e35d5fb0bd",
   "metadata": {},
   "outputs": [],
   "source": [
    "# shared info to load\n",
    "barcodegroups = pd.read_table('/data/rzhang/PRINT_rev/mouse_HSC/barcodeGrouping.txt')\n",
    "groupinfo = pd.read_table(\"/data/rzhang/PRINT_rev/mouse_HSC/pbulkClusters.txt\", header=None)\n",
    "map1 = {\n",
    "  \"Old_1\":\"Old_Mk-biased\", \n",
    "  \"Old_2\":\"Old_intermediate\",\n",
    "  \"Old_3\":\"Old_Mk-biased\",\n",
    "  \"Old_4\":\"Old_multi-lineage\",\n",
    "  \"Young_1\":\"Young_multi-lineage\",\n",
    "  \"Young_2\":\"Young_multi-lineage\",\n",
    "  \"Young_3\":\"Young_Mk-biased\"}\n",
    "\n",
    "groups = barcodegroups['group'].unique()\n",
    "ct2bc = {k:[] for k in map1.values()}\n",
    "for i, group in enumerate(groups):\n",
    "    bc = barcodegroups[barcodegroups['group'] == group]['barcode']\n",
    "    bc = list(bc)\n",
    "    ct = map1[groupinfo.iloc[i, 0]]\n",
    "    ct2bc[ct] += bc\n",
    "\n",
    "\n",
    "for ct in ct2bc:\n",
    "    ct2bc[ct] = list(set(ct2bc[ct]))\n",
    "\n",
    "\n",
    "barcodes = [ct2bc[ct] for ct in ct2bc]\n",
    "cell_types = [ct for ct in ct2bc]\n",
    "\n",
    "map1 = {\n",
    "  \"Old_1\":\"Old\", \n",
    "  \"Old_2\":\"Old\",\n",
    "  \"Old_3\":\"Old\",\n",
    "  \"Old_4\":\"Old\",\n",
    "  \"Young_1\":\"Young\",\n",
    "  \"Young_2\":\"Young\",\n",
    "  \"Young_3\":\"Young\"}\n",
    "\n",
    "groups = barcodegroups['group'].unique()\n",
    "ct2bc = {k:[] for k in map1.values()}\n",
    "for i, group in enumerate(groups):\n",
    "    bc = barcodegroups[barcodegroups['group'] == group]['barcode']\n",
    "    bc = list(bc)\n",
    "    ct = map1[groupinfo.iloc[i, 0]]\n",
    "    ct2bc[ct] += bc\n",
    "\n",
    "\n",
    "for ct in ct2bc:\n",
    "    ct2bc[ct] = list(set(ct2bc[ct]))\n",
    "\n",
    "\n",
    "barcodes = [ct2bc[ct] for ct in ct2bc]\n",
    "cell_types = [ct for ct in ct2bc]"
   ]
  },
  {
   "cell_type": "code",
   "execution_count": null,
   "id": "cd340edd-ab6e-45e2-9616-5297d5fa5e1e",
   "metadata": {},
   "outputs": [],
   "source": [
    "printer = scp.pp.import_fragments(\n",
    "                        path_to_frags= '/data/rzhang/PRINT_rev/mouse_HSC/all.frags.filt.tsv.gz',\n",
    "                        barcodes=np.unique(barcodegroups['barcode']),\n",
    "                        savename='/data/rzhang/PRINT_rev/mouse_HSC/scprinter.h5ad',\n",
    "                        genome=scp.genome.mm10,\n",
    "                        plus_shift=4,\n",
    "                        minus_shift=-5,\n",
    "                        min_num_fragments=0, min_tsse=0,\n",
    "                        sorted_by_barcode=False, \n",
    "                        low_memory=False,\n",
    "                        )"
   ]
  },
  {
   "cell_type": "code",
   "execution_count": null,
   "id": "5ee16838-1535-47a5-8b17-730142ebe4e4",
   "metadata": {},
   "outputs": [],
   "source": [
    "allCREs = pd.read_csv(\"/data/rzhang/PRINT_rev/mouse_HSC/regionRanges.bed\", sep='\\t', header=None)\n",
    "allCREs[1] = allCREs[1].astype('int')"
   ]
  },
  {
   "cell_type": "code",
   "execution_count": null,
   "id": "0527cd01-c436-407a-91f4-b68e943c8235",
   "metadata": {},
   "outputs": [],
   "source": [
    "peak_adata = scp.pp.make_peak_matrix(printer, allCREs)\n",
    "max_cov = np.sum(peak_adata.X, axis=0)\n",
    "np.sum(max_cov < 10)\n",
    "peak_adata = peak_adata[:, max_cov >= 10].copy()"
   ]
  },
  {
   "cell_type": "code",
   "execution_count": null,
   "id": "83a19076-8da9-443d-bcd3-3969cdcd3ca1",
   "metadata": {
    "scrolled": true
   },
   "outputs": [],
   "source": [
    "CREs = allCREs.loc[np.array(max_cov).reshape((-1)) >= 10]"
   ]
  },
  {
   "cell_type": "code",
   "execution_count": null,
   "id": "77d77794-8177-444a-b5a6-ced8f0fcfb08",
   "metadata": {},
   "outputs": [],
   "source": [
    "import os\n",
    "os.environ[\"CUDA_DEVICE_ORDER\"]=\"PCI_BUS_ID\"\n",
    "os.environ[\"CUDA_VISIBLE_DEVICES\"]=\"0\""
   ]
  },
  {
   "cell_type": "code",
   "execution_count": null,
   "id": "d0358abe-d1f9-49f6-a9eb-72583d6606e0",
   "metadata": {},
   "outputs": [],
   "source": [
    "import scanpy as sc\n",
    "import anndata\n",
    "import cupy as cp\n",
    "import cupyx as cpx\n",
    "import time\n",
    "# import rapids_singlecell as rsc\n",
    "# from rapids_singlecell.cunnData import cunnData\n",
    "\n",
    "import warnings\n",
    "warnings.filterwarnings(\"ignore\")\n",
    "import rmm\n",
    "from rmm.allocators.cupy import rmm_cupy_allocator\n",
    "rmm.reinitialize(\n",
    "    managed_memory=True, # Allows oversubscription\n",
    "    pool_allocator=True, # default is False\n",
    "    devices=0, # GPU device IDs to register. By default registers only GPU 0.\n",
    ")\n",
    "\n",
    "cp.cuda.set_allocator(rmm_cupy_allocator)"
   ]
  },
  {
   "cell_type": "code",
   "execution_count": null,
   "id": "bd2d2f12-9f55-49d6-b9b3-68a954cd1802",
   "metadata": {},
   "outputs": [],
   "source": [
    "scp.chromvar.sample_bg_peaks(peak_adata, \n",
    "                             genome=scp.genome.hg38, \n",
    "                             method='chromvar', \n",
    "                             niterations=250)"
   ]
  },
  {
   "cell_type": "markdown",
   "id": "bf8c8d9c-f218-4eea-be48-64e8d8d37967",
   "metadata": {},
   "source": [
    "## chromvar for cisBP motifs"
   ]
  },
  {
   "cell_type": "code",
   "execution_count": null,
   "id": "29bed5bc-94b2-4b36-9053-8abb46ffba1a",
   "metadata": {},
   "outputs": [],
   "source": [
    "motifs = scp.motifs.FigR_Mouse_Motifs(scp.genome.mm10, \n",
    "                           list(peak_adata.uns['bg_freq']),\n",
    "                           n_jobs=16,pvalue=5e-5, \n",
    "                           mode='motifmatchr' # when turn on mode='motifmatchr', it replicates the behavior and results of motifmatchr\n",
    "                          )\n",
    "motifs.prep_scanner(tf_genes=None,pvalue=5e-5)\n",
    "motifs.chromvar_scan(peak_adata)"
   ]
  },
  {
   "cell_type": "code",
   "execution_count": null,
   "id": "c15e1335-1bd3-4873-9131-a8e07244be07",
   "metadata": {},
   "outputs": [],
   "source": [
    "chromvar_existing = scp.chromvar.compute_deviations(peak_adata, \n",
    "                                        chunk_size=50000, device='cuda')"
   ]
  },
  {
   "cell_type": "code",
   "execution_count": null,
   "id": "ce0ed895-3969-4682-b996-45ec6e2cd403",
   "metadata": {},
   "outputs": [],
   "source": [
    "chromvar_existing"
   ]
  },
  {
   "cell_type": "code",
   "execution_count": null,
   "id": "9879f424-22ef-4479-8993-0a5f274be3a3",
   "metadata": {},
   "outputs": [],
   "source": [
    "chromvar_existing.obs['age'] = [xx.split(\"-\")[1] for xx in chromvar_existing.obs.index]\n",
    "from scipy.stats import *\n",
    "mask = chromvar_existing.obs['age'] == 'Old'\n",
    "res = []\n",
    "for i in range(chromvar_existing.X.shape[1]):\n",
    "    x = chromvar_existing.X[:, i]\n",
    "    test = ttest_ind(x[mask], x[~mask])\n",
    "    res.append([test[0], test[1]])\n",
    "res = np.array(res)\n",
    "# name = [xx.split(\"_\")[0] for xx in chromvar_existing.var.index]\n",
    "# qval = [float(xx.split(\"_\")[1]) for xx in chromvar_existing.var.index]\n",
    "results = pd.DataFrame({'pval':(-np.log10(res[:, 1] + 1e-200)),\n",
    "                        'stats': res[:, 0],\n",
    "                        # 'TF':name,\n",
    "                        # 'qval':qval\n",
    "                        'cluster': chromvar_existing.var.index,\n",
    "                        'nhits': peak_adata.varm['motif_match'].sum(axis=0)\n",
    "                       })\n",
    "chromvar_existing.write(f'/data/rzhang/PRINT_rev/mouse_HSC/final_model/chromvar_exo.h5ad')\n",
    "chromvar_existing.var_names_make_unique()\n",
    "results.to_csv(f'/data/rzhang/PRINT_rev/mouse_HSC/final_model/diff_test_exo.tsv', sep='\\t', index=False)"
   ]
  },
  {
   "cell_type": "markdown",
   "id": "9731fc54-f586-4887-a954-c00599235f87",
   "metadata": {},
   "source": [
    "## chromvar for de-novo motifs"
   ]
  },
  {
   "cell_type": "code",
   "execution_count": null,
   "id": "43c06213-5ab4-4017-b477-db312143c92f",
   "metadata": {},
   "outputs": [],
   "source": [
    "# \n",
    "strs1 = [\n",
    "    'finemo.results.young.count',\n",
    "'finemo.results.old.count',\n",
    "'finemo.results.young.just_sum',\n",
    "'finemo.results.old.just_sum',\n",
    "]\n",
    "strs2 = [\n",
    "    'report_count_y',\n",
    "    'report_count_o',\n",
    "    'report_just_sum_y',\n",
    "    'report_just_sum_o',\n",
    "]"
   ]
  },
  {
   "cell_type": "code",
   "execution_count": null,
   "id": "66952923-f623-4978-aafd-f39f76840865",
   "metadata": {},
   "outputs": [],
   "source": [
    "metamotif2tomtom = {}\n",
    "for str1, str2 in zip(strs1, strs2):\n",
    "    \n",
    "    hits_path = f'/data/rzhang/PRINT_rev/mouse_HSC/final_model/{str1}/hits.tsv'\n",
    "    hits = pd.read_csv(hits_path, sep='\\t')\n",
    "    motif_uniq = np.sort(hits['motif_name'].unique())\n",
    "    new_names = []\n",
    "    motif2tomtom = {}\n",
    "    for motif in motif_uniq:\n",
    "        res = pd.read_csv(f'/data/rzhang/PRINT_rev/mouse_HSC/final_model/{str2}/tomtom/{motif}.tomtom.tsv', sep='\\t')\n",
    "        motif2tomtom[motif] = res.copy()\n",
    "    metamotif2tomtom[str2] = motif2tomtom\n",
    "    motif2id = {m:i for i,m in enumerate(motif_uniq)}\n",
    "    ids = [motif2id[m] for m in hits['motif_name']]\n",
    "    match_mm = np.zeros((len(CREs), len(motif_uniq)))\n",
    "    match_mm[hits['peak_id'], ids] += 1\n",
    "    match_mm\n",
    "    peak_adata.varm['motif_match'] = match_mm[peak_mask]\n",
    "    motif_uniq = [f'{xx}_{str2}' for xx in motif_uniq]\n",
    "    peak_adata.uns['motif_name'] = motif_uniq\n",
    "    start = time.time()\n",
    "    chromvar_denovo = compute_deviations_gpu(peak_adata, \n",
    "                                        chunk_size=50000, device='cuda')\n",
    "    chromvar_denovo.obs['age'] = [xx.split(\"-\")[1] for xx in chromvar_denovo.obs.index]\n",
    "    from scipy.stats import *\n",
    "    mask = chromvar_denovo.obs['age'] == 'Old'\n",
    "    res = []\n",
    "    for i in range(chromvar_denovo.X.shape[1]):\n",
    "        x = chromvar_denovo.X[:, i]\n",
    "        test = ttest_ind(x[mask], x[~mask])\n",
    "        res.append([test[0], test[1]])\n",
    "    res = np.array(res)\n",
    "    # name = [xx.split(\"_\")[0] for xx in chromvar_denovo.var.index]\n",
    "    # qval = [float(xx.split(\"_\")[1]) for xx in chromvar_denovo.var.index]\n",
    "    results = pd.DataFrame({'pval':(-np.log10(res[:, 1] + 1e-200)),\n",
    "                            'stats': res[:, 0],\n",
    "                            # 'TF':name,\n",
    "                            # 'qval':qval\n",
    "                            'cluster': chromvar_denovo.var.index,\n",
    "                            'nhits': peak_adata.varm['motif_match'].sum(axis=0)\n",
    "                           })\n",
    "    chromvar_denovo.write(f'/data/rzhang/PRINT_rev/mouse_HSC/final_model/chromvar_{str2}.h5ad')\n",
    "    chromvar_denovo.var_names_make_unique()\n",
    "    results.to_csv(f'/data/rzhang/PRINT_rev/mouse_HSC/final_model/diff_test_{str2}.tsv', sep='\\t', index=False)"
   ]
  },
  {
   "cell_type": "code",
   "execution_count": null,
   "id": "0135fc62-9ff4-4976-a1a0-4dee52758ca1",
   "metadata": {},
   "outputs": [],
   "source": [
    "\n",
    "strs2 = [\n",
    "    'report_count_y',\n",
    "    'report_count_o',\n",
    "    'report_just_sum_y',\n",
    "    'report_just_sum_o'\n",
    "]"
   ]
  },
  {
   "cell_type": "code",
   "execution_count": null,
   "id": "b1340f04-9118-486e-b79d-9543684f4e1d",
   "metadata": {},
   "outputs": [],
   "source": [
    "metamotif2tomtom = {}\n",
    "for str1, str2 in zip(strs1, strs2):\n",
    "    \n",
    "    hits_path = f'/data/rzhang/PRINT_rev/mouse_HSC/final_model/finemo/{str1}/hits.tsv'\n",
    "    hits = pd.read_csv(hits_path, sep='\\t')\n",
    "    motif_uniq = np.sort(hits['motif_name'].unique())\n",
    "    new_names = []\n",
    "    motif2tomtom = {}\n",
    "    for motif in motif_uniq:\n",
    "        res = pd.read_csv(f'/data/rzhang/PRINT_rev/mouse_HSC/final_model/{str2}/tomtom/{motif}.tomtom.tsv', sep='\\t')\n",
    "        motif2tomtom[motif] = res.copy()\n",
    "    metamotif2tomtom[str2] = motif2tomtom"
   ]
  },
  {
   "cell_type": "code",
   "execution_count": null,
   "id": "35f7a202-a961-4876-ada1-e9f344aabbd6",
   "metadata": {},
   "outputs": [],
   "source": [
    "res_all = []\n",
    "for str2 in strs2:\n",
    "    res = pd.read_csv(f'/data/rzhang/PRINT_rev/mouse_HSC/final_model/{str2}.tsv', sep='\\t')\n",
    "    motif2tomtom = metamotif2tomtom[str2]\n",
    "    tf_list = []\n",
    "    for cluster in tqdm(res['cluster']):\n",
    "        cluster = \"_\".join(cluster.split(\"_\")[:3])\n",
    "        tomtom = motif2tomtom[cluster]\n",
    "        survival_tf = tomtom[tomtom['q-value'] < 0.05]['Target_ID']\n",
    "        if len(survival_tf) > 0:\n",
    "            survival_tf = list(survival_tf)\n",
    "        else:\n",
    "            tf = tomtom['Target_ID'][0]\n",
    "            qval = tomtom['q-value'][0]\n",
    "            survival_tf = [f'unknown_maybe{tf}_{qval:.2f}']\n",
    "            \n",
    "        tf_list.append(survival_tf)\n",
    "    res['TF'] = tf_list\n",
    "    res_all.append(res)\n",
    "res = pd.concat(res_all, axis=0).reset_index(drop=True)\n",
    "res\n",
    "\n",
    "res = res.sort_values('stats', ascending=False)\n",
    "res\n",
    "\n",
    "cluster2tf = {c:tf for (c,tf) in zip(res['cluster'],res['TF'])}"
   ]
  },
  {
   "cell_type": "code",
   "execution_count": null,
   "id": "246ddfca-2ca8-4136-9f2c-b1dd213d5239",
   "metadata": {},
   "outputs": [],
   "source": [
    "res = res.loc[kept]"
   ]
  },
  {
   "cell_type": "code",
   "execution_count": null,
   "id": "5d11499a-68ec-42a9-8598-49d260c990c2",
   "metadata": {},
   "outputs": [],
   "source": [
    "chromvar_denovo = []\n",
    "for str2 in strs2:\n",
    "    chromvar_denovo.append(anndata.read_h5ad(f'/data/rzhang/PRINT_rev/mouse_HSC/final_model/{str2}.h5ad'))\n",
    "chromvar_denovo = anndata.concat(chromvar_denovo, axis=1)\n",
    "chromvar_denovo"
   ]
  },
  {
   "cell_type": "code",
   "execution_count": null,
   "id": "22a1c099-ee8c-4775-9d00-cdb7ccc1c54a",
   "metadata": {},
   "outputs": [],
   "source": [
    "chromvar_denovo = chromvar_denovo[:, res['cluster']].copy()\n",
    "chromvar_denovo"
   ]
  },
  {
   "cell_type": "code",
   "execution_count": null,
   "id": "0c0027a6-7e36-4c90-971f-2b6a7e97aa01",
   "metadata": {},
   "outputs": [],
   "source": [
    "std_denovo = np.std(chromvar_denovo.X, axis=0)\n",
    "std_denovo = kept_denovos['stats']"
   ]
  },
  {
   "cell_type": "code",
   "execution_count": null,
   "id": "b4118a94-9cae-4045-bdda-b054e1ab0743",
   "metadata": {
    "scrolled": true
   },
   "outputs": [],
   "source": [
    "import h5py\n",
    "mms = []\n",
    "for cluster in kept_denovos['cluster']:\n",
    "    info = cluster.split(\".\")\n",
    "    cluster = info[0]\n",
    "    info = info[1].split(\"_\")\n",
    "    pattern = \"_\".join(info[:2])\n",
    "    class_ = \"_\".join(info[2:])\n",
    "    class_ = class_.replace('report', 'modisco_results')\n",
    "    with h5py.File(f'/data/rzhang/PRINT_rev/mouse_HSC/final_model/{class_}.h5', 'r') as f:\n",
    "        m = f[cluster][pattern]['sequence'][:].T\n",
    "        m = np.concatenate([np.ones((4, 5)), m, np.ones((4, 5))], axis=-1)\n",
    "        mms.append(m)\n"
   ]
  },
  {
   "cell_type": "code",
   "execution_count": null,
   "id": "76ecab72-6cda-4027-9f58-bce0b6242825",
   "metadata": {},
   "outputs": [],
   "source": [
    "motifs = scp.motifs.Motifs(\"./mouse_pfms_v4.txt\", \n",
    "                           scp.genome.mm10.fetch_fa(), scp.genome.mm10.bg)\n",
    "motif2matrix = {motif.name.split(\"_\")[2]: np.array([motif.counts['A'], motif.counts['C'], motif.counts['G'], motif.counts['T']]) for motif in motifs.all_motifs}"
   ]
  },
  {
   "cell_type": "code",
   "execution_count": null,
   "id": "899a822c-6182-45b2-a241-7fa6231bad15",
   "metadata": {},
   "outputs": [],
   "source": [
    "def normalize_pfm(pfm):\n",
    "    \"\"\"Convert PFM to PPM by normalizing each column.\"\"\"\n",
    "    # pfm += 0.08\n",
    "    return pfm / pfm.sum(axis=0)\n",
    "\n",
    "def pearson_correlation(col1, col2):\n",
    "    col1 = col1.reshape((-1))\n",
    "    col2 = col2.reshape((-1))\n",
    "    \"\"\"Compute Pearson correlation coefficient using NumPy.\"\"\"\n",
    "    mean_col1 = np.mean(col1)\n",
    "    mean_col2 = np.mean(col2)\n",
    "    numerator = np.sum((col1 - mean_col1) * (col2 - mean_col2))\n",
    "    denominator = np.sqrt(np.sum((col1 - mean_col1) ** 2) * np.sum((col2 - mean_col2) ** 2))\n",
    "    if denominator == 0:\n",
    "        return 0  # Avoid division by zero\n",
    "    return numerator / denominator\n",
    "    \n",
    "def cross_correlation(pfm1, pfm2):\n",
    "    \"\"\"Compute cross-correlation between two PFMs with different shapes.\"\"\"\n",
    "    # Normalize the PFMs\n",
    "    ppm1 = normalize_pfm(np.copy(pfm1))\n",
    "    ppm2 = normalize_pfm(np.copy(pfm2))\n",
    "    ppm1 -= np.ones_like(ppm1) * 0.25\n",
    "    ppm2 -= np.ones_like(ppm2) * 0.25\n",
    "    # print (ppm1)\n",
    "    # print (ppm1.shape, ppm2.shape, ppm1, ppm2)\n",
    "    len1, len2 = ppm1.shape[1], ppm2.shape[1]\n",
    "    # print (ppm1, ppm2)\n",
    "    larger_ppm, smaller_ppm = (ppm1, ppm2) if len1 >= len2 else (ppm2, ppm1)\n",
    "    larger_len, smaller_len = max(len1, len2), min(len1, len2)\n",
    "    \n",
    "    scores = []\n",
    "    \n",
    "    for offset in range(0, larger_len - smaller_len):\n",
    "        # score = np.sum(larger_ppm[:, offset:offset + smaller_len] * smaller_ppm)\n",
    "        # score /= np.sum(smaller_ppm * np.ones_like(smaller_ppm) * 0.25)\n",
    "        score = pearson_correlation(larger_ppm[:, offset:offset + smaller_len],  smaller_ppm)\n",
    "        scores.append(score)\n",
    "    larger_ppm = larger_ppm[::-1][:, ::-1]\n",
    "    for offset in range(0, larger_len - smaller_len):\n",
    "        # score = np.sum(larger_ppm[:, offset:offset + smaller_len] * smaller_ppm)\n",
    "        # score /= np.sum(smaller_ppm * np.ones_like(smaller_ppm) * 0.25)\n",
    "        score = pearson_correlation(larger_ppm[:, offset:offset + smaller_len],  smaller_ppm)\n",
    "        scores.append(score)\n",
    "    # print (scores, np.max(scores))\n",
    "    return scores"
   ]
  },
  {
   "cell_type": "code",
   "execution_count": null,
   "id": "fe40536a-2728-4121-bbc9-d21e10bceb48",
   "metadata": {},
   "outputs": [],
   "source": [
    "sims = []\n",
    "shorted_name = []\n",
    "kind = []\n",
    "for dnv_m, tf in zip(mms, kept_denovos['TF']):\n",
    "    tf = tf[1:-1]\n",
    "    tfs = tf.replace('\\'', '').split(', ')\n",
    "    if \"unknown\" not in tfs[0]:\n",
    "        # tf = tfs[0]\n",
    "        s = []\n",
    "        for tf in tfs:\n",
    "            m = motif2matrix[tf]\n",
    "            s.append(np.max(cross_correlation(dnv_m, m)))\n",
    "        sims.append(np.max(s))\n",
    "        kind.append('known')\n",
    "    else:\n",
    "        tf = tfs[0].split(\"_\")[1].replace('maybe', '')\n",
    "        m = motif2matrix[tf]\n",
    "        sims.append(np.max(cross_correlation(dnv_m, m)))\n",
    "        tfs = [tf]\n",
    "        kind.append('unknown')\n",
    "    \n",
    "    shorted_name.append(\", \".join(tfs))"
   ]
  },
  {
   "cell_type": "code",
   "execution_count": null,
   "id": "5cd4810c-0261-47f5-bba5-32a25d42e876",
   "metadata": {},
   "outputs": [],
   "source": [
    "data = {'chromvar_std': std_denovo, 'max_correlation': sims, 'cluster':kept_denovos['cluster'] , 'names': shorted_name, 'kind': kind}\n",
    "data = pd.DataFrame(data)"
   ]
  },
  {
   "cell_type": "code",
   "execution_count": null,
   "id": "dd901166-4fed-411e-b63f-61e6a48531d5",
   "metadata": {
    "scrolled": true
   },
   "outputs": [],
   "source": [
    "import pandas as pd\n",
    "from plotnine import *\n",
    "\n",
    "colors = ['blue', 'red']\n",
    "label_data = data[np.abs(data['chromvar_std']) > 25]\n",
    "# Create a ggplot2 style scatter plot\n",
    "fig = (ggplot(data, aes(x='max_correlation', y='chromvar_std', label='names', color='kind',)) + \n",
    "geom_point(size=3) +  # Adjust point size as needed +\n",
    "    geom_text(aes(x='max_correlation', y='chromvar_std', label='names'), \n",
    "              data=label_data, format_string='', \n",
    "              ha='center', va='center', color='black', adjust_text={\n",
    "            'arrowprops': {\n",
    "                'arrowstyle': '->',\n",
    "                'color': 'black',\n",
    "            }}) + \\\n",
    "    # geom_abline(intercept = 0, slope = 1) + \\\n",
    "    # xlim(0, 40) + \\\n",
    "    # ylim(0, 40) + \\\n",
    "    # theme_minimal() +\n",
    "    theme(legend_position='right'))  # Positioning the legend\n",
    "fig.save('/data/rzhang/PRINT_rev/mouse_HSC/chromvar_stats_denovo_corr_cisbp.pdf', height=5, width=6)\n",
    "data.to_csv('/data/rzhang/PRINT_rev/mouse_HSC/chromvar_stats_denovo_corr_cisbp.tsv', sep='\\t', index=False)\n",
    "fig.draw()"
   ]
  },
  {
   "cell_type": "code",
   "execution_count": null,
   "id": "abcedbc1-45fb-4281-991d-2af061c4dfdf",
   "metadata": {},
   "outputs": [],
   "source": []
  },
  {
   "cell_type": "code",
   "execution_count": null,
   "id": "2ef61e93-9ddb-49fa-ab36-d766bc847b0c",
   "metadata": {},
   "outputs": [],
   "source": []
  }
 ],
 "metadata": {
  "kernelspec": {
   "display_name": "Python 3 (ipykernel)",
   "language": "python",
   "name": "python3"
  },
  "language_info": {
   "codemirror_mode": {
    "name": "ipython",
    "version": 3
   },
   "file_extension": ".py",
   "mimetype": "text/x-python",
   "name": "python",
   "nbconvert_exporter": "python",
   "pygments_lexer": "ipython3",
   "version": "3.11.9"
  }
 },
 "nbformat": 4,
 "nbformat_minor": 5
}
