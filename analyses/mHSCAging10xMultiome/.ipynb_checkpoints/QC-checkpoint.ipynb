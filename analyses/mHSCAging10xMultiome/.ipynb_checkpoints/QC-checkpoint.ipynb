{
 "cells": [
  {
   "cell_type": "code",
   "execution_count": 4,
   "id": "5625bb41-b1be-4a24-898a-d51e46e07540",
   "metadata": {},
   "outputs": [],
   "source": [
    "# If running in Rstudio, set the working directory to current path\n",
    "if (Sys.getenv(\"RSTUDIO\") == \"1\"){\n",
    "  setwd(dirname(rstudioapi::getActiveDocumentContext()$path))\n",
    "}\n",
    "\n",
    "library(Seurat)\n",
    "library(SummarizedExperiment)\n",
    "library(ggplot2)\n",
    "source(\"../../code/utils.R\")"
   ]
  },
  {
   "cell_type": "code",
   "execution_count": 6,
   "id": "ff26e4e0-d2a0-4a68-80da-67d08c9e34b4",
   "metadata": {},
   "outputs": [
    {
     "name": "stderr",
     "output_type": "stream",
     "text": [
      "\n",
      "\n",
      "   ____                       _____  _______             _\n",
      "  |  _ \\                     |  __ \\|__   __|           | |\n",
      "  | |_) | _   _   ___  _ __  | |__) |  | |  ___    ___  | | ___\n",
      "  |  _ < | | | | / _ \\| '_ \\ |  _  /   | | / _ \\  / _ \\ | |/ __|\n",
      "  | |_) || |_| ||  __/| | | || | \\ \\   | || (_) || (_) || |\\__ \\\n",
      "  |____/  \\__,_| \\___||_| |_||_|  \\_\\  |_| \\___/  \\___/ |_||___/\n",
      "\n",
      "\n",
      "\n",
      "\n",
      "\n"
     ]
    },
    {
     "name": "stdout",
     "output_type": "stream",
     "text": [
      "Reading in fragment file ..\n",
      "Reading all barcodes found within file ..\n"
     ]
    },
    {
     "ename": "ERROR",
     "evalue": "Error: File '../../data/mHSCAging10xV3/all.frags.tsv.gz' does not exist or is non-readable. getwd()=='/data/yanhu/PRINT/multiScaleFootprinting/analyses/mHSCAging10xV3'\n",
     "output_type": "error",
     "traceback": [
      "Error: File '../../data/mHSCAging10xV3/all.frags.tsv.gz' does not exist or is non-readable. getwd()=='/data/yanhu/PRINT/multiScaleFootprinting/analyses/mHSCAging10xV3'\nTraceback:\n",
      "1. BuenRTools::getCountsFromFrags(paste0(\"../../data/\", dataset, \n .     \"/all.frags.tsv.gz\"), peaks)",
      "2. BuenRTools::fragsToRanges(fragFile, barcodeList = barcodeList, \n .     startsAre0based = TRUE)",
      "3. data.table::fread(fragFile, sep = \"\\t\", showProgress = TRUE, \n .     ...) %>% as.data.frame() %>% GenomicRanges::makeGRangesFromDataFrame(seqnames.field = \"V1\", \n .     start.field = \"V2\", end.field = \"V3\", keep.extra.columns = TRUE, \n .     starts.in.df.are.0based = startsAre0based)",
      "4. GenomicRanges::makeGRangesFromDataFrame(., seqnames.field = \"V1\", \n .     start.field = \"V2\", end.field = \"V3\", keep.extra.columns = TRUE, \n .     starts.in.df.are.0based = startsAre0based)",
      "5. as.data.frame(.)",
      "6. data.table::fread(fragFile, sep = \"\\t\", showProgress = TRUE, \n .     ...)",
      "7. stopf(\"File '%s' does not exist or is non-readable. getwd()=='%s'\", \n .     file, getwd())",
      "8. stop(gettextf(fmt, ..., domain = domain), domain = NA, call. = FALSE)"
     ]
    }
   ],
   "source": [
    "########################\n",
    "# Make depth-FRIP plot #\n",
    "########################\n",
    "\n",
    "dataset <- \"mHSCAging10xMultiome\"\n",
    "\n",
    "# Load ATAC peaks\n",
    "peakBed <- read.table(paste0(\"../../data/\", dataset, \"/peaks.bed\"), sep = \"\\t\", header = F)\n",
    "peaks <- GRanges(seqnames = peakBed$V1,\n",
    "                 ranges = IRanges(start = peakBed$V2, end = peakBed$V3))\n",
    "\n",
    "# Get peak-by-cell count matrix\n",
    "scATAC <- BuenRTools::getCountsFromFrags(paste0(\"../../data/\", dataset, \"/all.frags.tsv.gz\"), peaks)\n",
    "\n",
    "# Plot Depth-FRIP plot\n",
    "plotData <- data.frame(\n",
    "  FRIP = scATAC$FRIP,\n",
    "  depth = scATAC$depth,\n",
    "  sample = scATAC$sample,\n",
    "  density = get_density(log10(scATAC$depth), scATAC$FRIP, n = 100)\n",
    ")\n",
    "pdf(paste0(\"../../data/mHSCAging10xV3//plots/QC/FRIPDepth.pdf\"),\n",
    "    height = 5, width = 5)\n",
    "ggplot(plotData) +\n",
    "  geom_point(aes(x = depth, y = FRIP, color = density)) +\n",
    "  scale_x_continuous(trans = \"log10\")\n",
    "dev.off()"
   ]
  },
  {
   "cell_type": "code",
   "execution_count": null,
   "id": "fb99c351-9b26-4e61-8dc8-7f35cf08507a",
   "metadata": {},
   "outputs": [],
   "source": [
    "############################\n",
    "# Visualize fragment sizes #\n",
    "############################\n",
    "\n",
    "# Load fragment coordinates\n",
    "frags <- data.table::fread(paste0(\"../../data/\", dataset, \"/all.frags.filt.tsv.gz\"), \n",
    "                           sep = \"\\t\", showProgress = TRUE, nThread = 16) \n",
    "\n",
    "# Calculate fragment lengths\n",
    "fragLen <- frags$V3 - frags$V2\n",
    "\n",
    "# Calculate histogram\n",
    "histogram <- table(factor(fragLen, levels = 1:max(fragLen)))\n",
    "histogram <- as.numeric(histogram)\n",
    "\n",
    "# Visualize\n",
    "plotData <- data.frame(\n",
    "  length = 1:length(histogram),\n",
    "  freq = histogram / sum(histogram)\n",
    ")\n",
    "plotData <- plotData[plotData$length < 1000, ]\n",
    "\n",
    "pdf(paste0(\"../../data/\", dataset, \"/plots/QC/fragSizes.pdf\"),\n",
    "    width = 7, height = 5.5)\n",
    "ggplot(plotData) +\n",
    "  geom_line(aes(x = length, y = freq), size = 1, color = \"#2171B5\") +\n",
    "  xlab(\"Fragment size\") + ylab(\"Frequency\") +\n",
    "  theme_classic()\n",
    "dev.off()\n",
    "\n",
    "######################\n",
    "# Get TSS enrichment #\n",
    "######################\n",
    "\n",
    "TSSEnrichment <- getTSSEnrichment(frags, \"mm10\")\n",
    "\n",
    "pdf(paste0(\"../../data/\", dataset, \"/plots/QC/TSSPlot.pdf\"),\n",
    "    width = 7, height = 5.5)\n",
    "ggplot(TSSEnrichment) +\n",
    "  geom_line(aes(x = position, y = normValue), size = 1) +\n",
    "  theme_classic()\n",
    "dev.off()\n"
   ]
  }
 ],
 "metadata": {
  "kernelspec": {
   "display_name": "R",
   "language": "R",
   "name": "ir"
  },
  "language_info": {
   "codemirror_mode": "r",
   "file_extension": ".r",
   "mimetype": "text/x-r-source",
   "name": "R",
   "pygments_lexer": "r",
   "version": "4.3.3"
  }
 },
 "nbformat": 4,
 "nbformat_minor": 5
}
