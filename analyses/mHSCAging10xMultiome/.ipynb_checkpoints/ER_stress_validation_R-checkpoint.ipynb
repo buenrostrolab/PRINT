{
 "cells": [
  {
   "cell_type": "code",
   "execution_count": 2,
   "id": "d6b13fce-a44a-47f0-b06b-3a5d1fc28a7c",
   "metadata": {},
   "outputs": [],
   "source": [
    "source(\"../../code/utils.R\")"
   ]
  },
  {
   "cell_type": "code",
   "execution_count": 54,
   "id": "73bb2027-95d1-46c3-9218-0b2062340a18",
   "metadata": {},
   "outputs": [],
   "source": [
    "###################\n",
    "# Load input data #\n",
    "###################\n",
    "\n",
    "# Load aging pseudobulked ATAC counts\n",
    "pbulkATAC <- readRDS(\"../../data/mHSCAging10xV3/pseudobulkATAC.rds\")\n",
    "\n",
    "# Loadu agingpseudobulked RNA (normalized)\n",
    "pbulkRNA <- readRDS(\"../../data/mHSCAging10xV3/pseudobulkedRNANormed.rds\")\n",
    "\n",
    "# Load LSK tunicamycin ATAC counts\n",
    "LSKTmATAC <- readRDS(\"../../data/LSKTunicamycin/pseudobulkATAC.rds\")\n",
    "\n",
    "# Load footprinting project\n",
    "project <- readRDS(\"../../data/mHSCAging10xV3/project.rds\")\n",
    "regions <- regionRanges(project)\n",
    "\n",
    "# Load differential RNA testing results\n",
    "diffRNA <- read.table(\"../../data/mHSCAging10xV3/diffRNA.tsv\")"
   ]
  },
  {
   "cell_type": "code",
   "execution_count": 49,
   "id": "ca71e3fb-6c23-4ae8-9fe2-5a8597ada37b",
   "metadata": {},
   "outputs": [
    {
     "name": "stdout",
     "output_type": "stream",
     "text": [
      "Centering counts for cells sequentially in groups of size  10000  ..\n",
      "\n",
      "Computing centered counts for cells:  1  to  108 ..\n",
      "Computing centered counts per cell using mean reads in features ..\n",
      "\n",
      "Merging results..\n",
      "Done!\n",
      "Running gene-peak mapping for all genes in annotation! (n = 35856) This is bound to take more time than querying specific markers ..\n",
      "Using window of:  10000  bp (total) around TSS per gene ..\n",
      "Determining peak weights based on exponential inverse distance to TSS ..\n",
      "Assembling Peaks x Genes weights matrix ..\n",
      "Assembling Gene x Cells scores matrix ..\n",
      "Done!\n",
      "\n"
     ]
    }
   ],
   "source": [
    "# Create SummarizedExperiment object for ATAC\n",
    "ATACSE <- SummarizedExperiment(\n",
    "  assays=list(counts=cbind(LSKTmATAC, pbulkATAC)), \n",
    "  rowRanges = regions)\n",
    "   \n",
    "# Calculate gene scores\n",
    "geneScores <- BuenRTools::getGeneScoresFromPeaks(ATACSE, \n",
    "                                           genome = \"mm10\", \n",
    "                                           TSSwindow = 10000, \n",
    "                                           getWeightsOnly = FALSE)\n",
    "\n",
    "# Normalize gene scores\n",
    "geneScores <- BuenRTools::centerCounts(geneScores, chunkSize = 1e4)\n",
    "\n",
    "# Scale each gene\n",
    "geneScoresScaled <- t(scale(t(geneScores)))"
   ]
  },
  {
   "cell_type": "code",
   "execution_count": 57,
   "id": "f4bc6b81-6a08-486b-b7fb-6c72aabd4d8f",
   "metadata": {},
   "outputs": [],
   "source": [
    "# Load HSC subpopulation gene signatures from previous literature\n",
    "signatureDir <- \"../../data/mHSCAging10xV3/markers/RNA/\"\n",
    "markerFiles <- list.files(signatureDir)\n",
    "markerFiles <- markerFiles[stringr::str_detect(markerFiles, \".txt\")]\n",
    "markerIDs <- unname(sapply(markerFiles, function(s){stringr::str_split(s, \"\\\\.\")[[1]][1]}))\n",
    "signatures <- list()\n",
    "for(i in 1:length(markerIDs)){\n",
    "    sig <- markerIDs[i]\n",
    "    filePath <- paste(signatureDir, markerFiles[i], sep = \"/\")\n",
    "    signatures[[sig]] <- read.table(filePath, sep = \"\\t\")$V1\n",
    "}\n",
    "\n",
    "# Load aging gene signatures\n",
    "signatures[[\"aging_up\"]] <- rownames(diffRNA)[(diffRNA$log2FoldChange > 2) & (diffRNA$padj < 0.01)]\n",
    "signatures[[\"aging_down\"]] <- rownames(diffRNA)[(diffRNA$log2FoldChange < -2) & (diffRNA$padj < 0.01)]"
   ]
  },
  {
   "cell_type": "code",
   "execution_count": 58,
   "id": "a227f3ca-bcbc-45e2-ba91-ca221332e125",
   "metadata": {},
   "outputs": [],
   "source": [
    "sigGeneScores <- sapply(\n",
    "    signatures,\n",
    "    function(sigGenes){\n",
    "        sigGenes <- intersect(sigGenes, rownames(geneScores))\n",
    "        colMeans(geneScores[sigGenes, ])\n",
    "    }\n",
    ")\n",
    "sigGeneScores <- scale(sigGeneScores)"
   ]
  },
  {
   "cell_type": "code",
   "execution_count": 59,
   "id": "ab11f8a9-eb9a-413c-aa61-cbcc38765ce6",
   "metadata": {},
   "outputs": [
    {
     "data": {
      "text/html": [
       "<strong>png:</strong> 2"
      ],
      "text/latex": [
       "\\textbf{png:} 2"
      ],
      "text/markdown": [
       "**png:** 2"
      ],
      "text/plain": [
       "png \n",
       "  2 "
      ]
     },
     "metadata": {},
     "output_type": "display_data"
    }
   ],
   "source": [
    "pdf(\"../../data/mHSCAging10xV3/plots/ER_stress/geneScores.pdf\", height = 20, width = 10)\n",
    "ComplexHeatmap::Heatmap(sigGeneScores)\n",
    "dev.off()"
   ]
  },
  {
   "cell_type": "code",
   "execution_count": 60,
   "id": "73e8332c-c191-4593-9b12-56e40221d9b0",
   "metadata": {},
   "outputs": [
    {
     "data": {
      "text/html": [
       "<strong>png:</strong> 2"
      ],
      "text/latex": [
       "\\textbf{png:} 2"
      ],
      "text/markdown": [
       "**png:** 2"
      ],
      "text/plain": [
       "png \n",
       "  2 "
      ]
     },
     "metadata": {},
     "output_type": "display_data"
    }
   ],
   "source": [
    "LSKGeneScores <- sigGeneScores[stringr::str_detect(rownames(sigGeneScores), \"Tm|DMSO\"),]\n",
    "LSKGeneScores <- scale(LSKGeneScores)\n",
    "pdf(\"../../data/mHSCAging10xV3/plots/ER_stress/geneScores_LSK_Tm.pdf\", height = 20, width = 10)\n",
    "ComplexHeatmap::Heatmap(LSKGeneScores)\n",
    "dev.off()"
   ]
  },
  {
   "cell_type": "code",
   "execution_count": null,
   "id": "e9db62df-b903-4167-bd5a-7604ebd73856",
   "metadata": {},
   "outputs": [],
   "source": []
  }
 ],
 "metadata": {
  "kernelspec": {
   "display_name": "R",
   "language": "R",
   "name": "ir"
  },
  "language_info": {
   "codemirror_mode": "r",
   "file_extension": ".r",
   "mimetype": "text/x-r-source",
   "name": "R",
   "pygments_lexer": "r",
   "version": "4.3.3"
  }
 },
 "nbformat": 4,
 "nbformat_minor": 5
}
