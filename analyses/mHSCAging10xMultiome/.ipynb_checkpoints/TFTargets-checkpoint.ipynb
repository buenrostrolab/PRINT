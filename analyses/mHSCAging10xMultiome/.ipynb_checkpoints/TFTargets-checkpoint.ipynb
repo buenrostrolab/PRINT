{
 "cells": [
  {
   "cell_type": "code",
   "execution_count": 2,
   "id": "08526b53-5bad-4bd8-8ffb-2f89632d8acb",
   "metadata": {},
   "outputs": [],
   "source": [
    "# If running in Rstudio, set the working directory to current path\n",
    "if (Sys.getenv(\"RSTUDIO\") == \"1\"){\n",
    "  setwd(dirname(rstudioapi::getActiveDocumentContext()$path))\n",
    "}\n",
    "\n",
    "myPath <- .libPaths()\n",
    "myPath <- c(myPath,'/packages')\n",
    ".libPaths(myPath)\n",
    "\n",
    "source(\"../../code/utils.R\")\n",
    "source(\"../../code/getCounts.R\")\n",
    "source(\"../../code/getBias.R\")\n",
    "source(\"../../code/getFootprints.R\")\n",
    "source(\"../../code/visualization.R\")\n",
    "source(\"../../code/getTFBS.R\")\n",
    "source(\"../../code/getTargetPathway.R\")\n",
    "library(\"ComplexHeatmap\")\n",
    "\n",
    "###################\n",
    "# Load input data #\n",
    "###################\n",
    "\n",
    "# Load region ranges\n",
    "regions <- readRDS(\"../../data/mHSCAging10xV3/regionRanges.rds\")\n",
    "\n",
    "# Load TF binding scores and reformat into a vector\n",
    "bw <- rtracklayer::import.bw(\"../../data/mHSCAging10xV3/mouse_HSC_TFBS.bigwig\")\n",
    "\n",
    "# Generate a position-by-sample matrix of TF bindings scores\n",
    "TFBindingSE <- SummarizedExperiment(\n",
    "  assays = list(TFBS = as.matrix(bw$score)),\n",
    "  rowRanges = bw\n",
    ")\n",
    "\n",
    "# Load pathway gene sets from hypeR\n",
    "library(hypeR)\n",
    "c5GO <- msigdb_gsets(species = \"Mus musculus\",\"C5\",\"BP\",clean = TRUE)$genesets\n",
    "names(c5GO) <- stringr::str_replace_all(names(c5GO), \" \",  \"_\")\n",
    "\n",
    "# Get CRE to gene mapping\n",
    "TSS <- FigR::mm10TSSRanges\n",
    "TSSCREOv <- findOverlaps(resize(TSS, 1000, fix = \"center\"), regions)\n",
    "CREGeneMapping <- data.frame(\n",
    "  Gene = as.character(TSS$gene_name)[TSSCREOv@from],\n",
    "  CREInd = TSSCREOv@to,\n",
    "  CRE = as.character(regions)[TSSCREOv@to],\n",
    "  Region = as.character(regions[TSSCREOv@to])\n",
    ")"
   ]
  },
  {
   "cell_type": "code",
   "execution_count": 4,
   "id": "f28ddaf2-492a-4c55-814a-5feff95b727f",
   "metadata": {},
   "outputs": [],
   "source": [
    "##########################\n",
    "# Get TF motif positions #\n",
    "##########################\n",
    "\n",
    "# Load PWM data\n",
    "cisBPMotifs <- readRDS(\"../../data/shared/cisBP_mouse_pwms_2021.rds\")\n",
    "\n",
    "# Find motif matches for all TFs\n",
    "motifPath <- \"../../data/mHSCAging10xV3/TFMotifRanges.rds\"\n",
    "if(!file.exists(motifPath)){\n",
    "  TFMotifRanges <- pbmcapply::pbmclapply(\n",
    "    names(cisBPMotifs),\n",
    "    function(TF){\n",
    "      motifmatchr::matchMotifs(cisBPMotifs[TF], \n",
    "                               regions, \n",
    "                               genome = \"mm10\",\n",
    "                               out = \"positions\",\n",
    "                               p.cutoff = 1e-4)[[1]]\n",
    "    },\n",
    "    mc.cores = 16\n",
    "  )\n",
    "  names(TFMotifRanges) <- names(cisBPMotifs)\n",
    "  saveRDS(TFMotifRanges, motifPath)\n",
    "}else{\n",
    "  TFMotifRanges <- readRDS(motifPath)\n",
    "}"
   ]
  },
  {
   "cell_type": "code",
   "execution_count": 25,
   "id": "b941a815-32bd-4bcb-9058-62490eb89dba",
   "metadata": {},
   "outputs": [
    {
     "data": {
      "text/html": [
       "<strong>png:</strong> 2"
      ],
      "text/latex": [
       "\\textbf{png:} 2"
      ],
      "text/markdown": [
       "**png:** 2"
      ],
      "text/plain": [
       "png \n",
       "  2 "
      ]
     },
     "metadata": {},
     "output_type": "display_data"
    }
   ],
   "source": [
    "############################################\n",
    "# Find target pathwayss of a particular TF #\n",
    "############################################\n",
    "\n",
    "TF <- \"Irf1\"\n",
    "enrichment <- mapTargets(\n",
    "  TFMotifSites = TFMotifRanges[TF], \n",
    "  siteSE = TFBindingSE,\n",
    "  regionGeneCorr = CREGeneMapping,\n",
    "  geneSets = c5GO,\n",
    "  nTargets = 1000,\n",
    "  genome = \"mm10\")\n",
    "\n",
    "# Visualize results\n",
    "plotData <- as.data.frame(enrichment[[TF]][10:1, ])\n",
    "plotData$pathway <- stringr::str_replace_all(plotData$pathway, \"_\", \" \")\n",
    "plotData$pathway <- sapply(plotData$pathway, function(s){gsub('(.{1,30})(\\\\s|$)', '\\\\1\\n', s)}) # Add newline to long strings\n",
    "plotData$pathway <- factor(plotData$pathway, levels = plotData$pathway) # This keeps the entries in the original order when plotting\n",
    "plotData$logP <- -log10(plotData$pval)\n",
    "system(\"mkdir ../../data/mHSCAging10xV3/plots/TFPathwayMapping\")\n",
    "pdf(paste0(\"../../data/mHSCAging10xV3/plots/TFPathwayMapping/\", TF, \"_target_pathways.pdf\"),\n",
    "    width = 8, height = 6)\n",
    "ggplot(plotData) +\n",
    "  geom_bar(aes(x = pathway, y = logP), stat = \"identity\", width = 0.5, fill = \"#CA9B80\") +\n",
    "  xlab(\"Enriched pathways\")  + \n",
    "  ylab(\"Log10(p-value)\") +\n",
    "  coord_flip() +\n",
    "  theme_classic() +\n",
    "  ggtitle(TF) +\n",
    "  theme(axis.text = element_text(size = 10))  \n",
    "dev.off()"
   ]
  },
  {
   "cell_type": "code",
   "execution_count": null,
   "id": "1d396607-0339-4e88-8482-18e48853623a",
   "metadata": {},
   "outputs": [],
   "source": [
    "#######################################\n",
    "# Get TF regulators of the gene lists #\n",
    "#######################################\n",
    "\n",
    "TFs <- names(cisBPMotifs)\n",
    "enrichmentList <- mapTargets(\n",
    "  TFMotifSites = TFMotifRanges, \n",
    "  siteSE = TFBindingSE,\n",
    "  regionGeneCorr = CREGeneMapping,\n",
    "  geneSets = c5GO,\n",
    "  threshold = 0.9,\n",
    "  genome = \"mm10\")\n",
    "saveRDS(enrichmentList, \"../../data/mHSCAging10xV3/regulatorEnrichment.rds\")\n",
    "gc()"
   ]
  },
  {
   "cell_type": "code",
   "execution_count": 4,
   "id": "b991c1e5-ba9b-401a-8952-535519a71e41",
   "metadata": {},
   "outputs": [],
   "source": [
    "###################################################\n",
    "# Get TF regulators of HSC subpop signature genes #\n",
    "###################################################\n",
    "\n",
    "# Load HSC subpopulation gene signatures from previous literature\n",
    "signatureDir <- \"../../data/mHSCAging10xV3/markers/RNA/\"\n",
    "markerFiles <- list.files(signatureDir)\n",
    "markerFiles <- markerFiles[stringr::str_detect(markerFiles, \".txt\")]\n",
    "markerIDs <- unname(sapply(markerFiles, function(s){stringr::str_split(s, \"\\\\.\")[[1]][1]}))\n",
    "HSCSubpopSigs <- list()\n",
    "for(i in 1:length(markerIDs)){\n",
    "    sig <- markerIDs[i]\n",
    "    filePath <- paste(signatureDir, markerFiles[i], sep = \"/\")\n",
    "    HSCSubpopSigs[[sig]] <- read.table(filePath, sep = \"\\t\")$V1\n",
    "}"
   ]
  },
  {
   "cell_type": "code",
   "execution_count": 3,
   "id": "2829650a-0611-4647-98e4-ade449a82c0a",
   "metadata": {},
   "outputs": [
    {
     "name": "stderr",
     "output_type": "stream",
     "text": [
      "Loading required package: TFBSTools\n",
      "\n",
      "\n",
      "\n"
     ]
    }
   ],
   "source": [
    "TFs <- names(cisBPMotifs)\n",
    "enrichmentListSubpop <- mapTargets(\n",
    "  TFMotifSites = TFMotifRanges, \n",
    "  siteSE = TFBindingSE,\n",
    "  regionGeneCorr = CREGeneMapping,\n",
    "  geneSets = HSCSubpopSigs,\n",
    "  threshold = 0.9,\n",
    "  genome = \"mm10\",\n",
    "  nCores = 16\n",
    ")\n",
    "\n",
    "saveRDS(enrichmentListSubpop, \"../../data/mHSCAging10xV3/regulatorEnrichment_subpop_signature.rds\")"
   ]
  },
  {
   "cell_type": "code",
   "execution_count": 5,
   "id": "b2544f89-037d-4d45-9d1f-8107a2ae5ab5",
   "metadata": {},
   "outputs": [],
   "source": [
    "enrichmentListGO <- readRDS(\"../../data/mHSCAging10xV3/regulatorEnrichment.rds\")\n",
    "enrichmentListSubpop <- readRDS(\"../../data/mHSCAging10xV3/regulatorEnrichment_subpop_signature.rds\")\n",
    "enrichmentList <- list()\n",
    "for(TF in names(enrichmentListGO)){\n",
    "    enrichmentList[[TF]] <- rbind(enrichmentListSubpop[[TF]], enrichmentListGO[[TF]])\n",
    "}"
   ]
  },
  {
   "cell_type": "code",
   "execution_count": 6,
   "id": "4b995118-561d-4e46-97ac-037909083f63",
   "metadata": {},
   "outputs": [],
   "source": [
    "####################################\n",
    "# Get pathway-to-TF mapping matrix #\n",
    "####################################\n",
    "\n",
    "# Generate pathway-by-TF regulation matrix\n",
    "pathways <- c(names(c5GO), names(HSCSubpopSigs))\n",
    "enrichmentMat <- pbmcapply::pbmcmapply(\n",
    "  function(TF){\n",
    "    enrichment <- enrichmentList[[TF]]\n",
    "    enrichVec <- rep(0, length(pathways))\n",
    "    names(enrichVec) <- pathways\n",
    "    enrichVec[enrichment$pathway] <- -log10(enrichment$fdrs)\n",
    "    enrichVec\n",
    "  },\n",
    "  names(enrichmentList),\n",
    "  mc.cores = 16\n",
    ")\n",
    "enrichmentMatFilt <- enrichmentMat[rowMaxs(enrichmentMat) > 5, colMaxs(enrichmentMat) > -log10(0.25)]"
   ]
  },
  {
   "cell_type": "code",
   "execution_count": 7,
   "id": "323aa762-4d5f-4803-8b36-4905a3fbe326",
   "metadata": {},
   "outputs": [
    {
     "data": {
      "text/html": [
       "<strong>png:</strong> 2"
      ],
      "text/latex": [
       "\\textbf{png:} 2"
      ],
      "text/markdown": [
       "**png:** 2"
      ],
      "text/plain": [
       "png \n",
       "  2 "
      ]
     },
     "metadata": {},
     "output_type": "display_data"
    }
   ],
   "source": [
    "############################################\n",
    "# Get top regulators of a specific pathway #\n",
    "############################################\n",
    "\n",
    "pathway <- \"Rodriguez_Fraticelli_et_al_multilineage\"\n",
    "enrichmentMatScaled <- t(t(enrichmentMat) / colMaxs(enrichmentMat))\n",
    "sortedHits <- sort(enrichmentMat[pathway,], decreasing = T)\n",
    "plotData <- data.frame(\n",
    "  TF = names(sortedHits),\n",
    "  score = sortedHits\n",
    ")\n",
    "\n",
    "# Visualize results\n",
    "plotData <- plotData[20:1, ]\n",
    "plotData$TF <- factor(plotData$TF, levels = plotData$TF) # This keeps the entries in the original order when plotting\n",
    "system(\"mkdir ../../data/mHSCAging10xV3/plots/TFPathwayMapping\")\n",
    "pdf(paste0(\"../../data/mHSCAging10xV3/plots/TFPathwayMapping/\", pathway, \"_regulator_TFs.pdf\"),\n",
    "    width = 8, height = 6)\n",
    "ggplot(plotData) +\n",
    "  geom_bar(aes(x = TF, y = score), stat = \"identity\", width = 0.5, fill = \"#CA9B80\") +\n",
    "  xlab(\"Top inferred regulator TFs\")  + \n",
    "  ylab(\"Normalized enrichment\") +\n",
    "  coord_flip() +\n",
    "  theme_classic() +\n",
    "  ggtitle(pathway) +\n",
    "  theme(axis.text = element_text(size = 10))  \n",
    "dev.off()"
   ]
  },
  {
   "cell_type": "code",
   "execution_count": 9,
   "id": "f37e4f20-7c4d-4edc-9150-aa991ac2021f",
   "metadata": {},
   "outputs": [
    {
     "data": {
      "text/html": [
       "<strong>png:</strong> 2"
      ],
      "text/latex": [
       "\\textbf{png:} 2"
      ],
      "text/markdown": [
       "**png:** 2"
      ],
      "text/plain": [
       "png \n",
       "  2 "
      ]
     },
     "metadata": {},
     "output_type": "display_data"
    }
   ],
   "source": [
    "#############################\n",
    "# Visualize mapping results #\n",
    "#############################\n",
    "\n",
    "# Find TFs up-regulated in aging\n",
    "upTFs <- sort(Reduce(c, lapply(\n",
    "    readLines(\"../../data//mHSCAging10xV3/seqTF_foot_stat_aging_TF_grouping_up.txt\"),\n",
    "    function(x){\n",
    "        stringr::str_split(x, \",\")[[1]]\n",
    "    }\n",
    ")))\n",
    "\n",
    "\n",
    "# Find TFs down-regulated in aging\n",
    "downTFs <- sort(Reduce(c, lapply(\n",
    "    readLines(\"../../data//mHSCAging10xV3/seqTF_foot_stat_aging_TF_grouping_down.txt\"),\n",
    "    function(x){\n",
    "        stringr::str_split(x, \",\")[[1]]\n",
    "    }\n",
    ")))\n",
    "\n",
    "# Filter based on age-associated differential RNA\n",
    "diffRNA <- read.table(\"../../data/mHSCAging10xV3/diffRNA.tsv\", header = T, sep = \"\\t\")\n",
    "diffRNATFs <- intersect(\n",
    "  colnames(enrichmentMatFilt), \n",
    "  rownames(diffRNA)[diffRNA$padj < 1e-1]\n",
    ")\n",
    "upTFs <- intersect(upTFs, diffRNATFs[diffRNA[diffRNATFs, ]$log2FoldChange > 0])\n",
    "downTFs <- intersect(downTFs, diffRNATFs[diffRNA[diffRNATFs, ]$log2FoldChange < 0])\n",
    "\n",
    "pdf(\"../../data/mHSCAging10xV3/plots/TFPathwayMapping/seq2PRINT_aging_TF_to_pathway_full.pdf\",\n",
    "    width = 150, height = 200)\n",
    "plotMtx <- enrichmentMat[rowMaxs(enrichmentMat) > 2, c(upTFs, downTFs)]\n",
    "plotMtx <- t(t(plotMtx) / colMaxs(plotMtx))\n",
    "plotMtx <- plotMtx[, !is.na(colMaxs(plotMtx))]\n",
    "plotMtx <- plotMtx[rowSums(plotMtx > 0.2) > 1, ]\n",
    "diffSign <- c(\"Down\", \"Up\")[(colnames(plotMtx) %in% upTFs) + 1]\n",
    "colors <- circlize::colorRamp2(seq(0, quantile(plotMtx, 0.99),length.out=9),\n",
    "                               colors = BuenColors::jdb_palette(\"solar_rojos\"))\n",
    "Heatmap(\n",
    "  plotMtx,\n",
    "  col = colors,\n",
    "  column_split = diffSign,\n",
    "  row_names_max_width = unit(20, \"cm\"),\n",
    "  column_names_max_height = unit(20, \"cm\")\n",
    ")\n",
    "dev.off()"
   ]
  },
  {
   "cell_type": "code",
   "execution_count": 10,
   "id": "4a09bc07-c4a7-4330-ada5-1a254afb26aa",
   "metadata": {},
   "outputs": [
    {
     "data": {
      "text/html": [
       "<strong>png:</strong> 2"
      ],
      "text/latex": [
       "\\textbf{png:} 2"
      ],
      "text/markdown": [
       "**png:** 2"
      ],
      "text/plain": [
       "png \n",
       "  2 "
      ]
     },
     "metadata": {},
     "output_type": "display_data"
    }
   ],
   "source": [
    "# Plot a subset of pathways regulated by aging-up-regulated TFs\n",
    "selectedPathways <- c(\n",
    "  \"Macroautophagy\", \"Regulation_Of_Macroautophagy\", \"Regulation_Of_Autophagy\", \n",
    "  \"Endoplasmic_Reticulum_Unfolded_Protein_Response\", \"Cellular_Response_To_Topologically_Incorrect_Protein\",\n",
    "  \"Response_To_Endoplasmic_Reticulum_Stress\",\n",
    "  \"Proteasomal_Protein_Catabolic_Process\", \"Proteolysis\", \"Protein_Catabolic_Process\",\n",
    "  \"Mitochondrion_Organization\", \"Mitochondrial_Translation\", \"Mitochondrial_Transport\",\n",
    "  \"Respiratory_Electron_Transport_Chain\", \"Mitotic_Cell_Cycle\",\n",
    "  \"Regulation_Of_Cell_Cycle\", \"Ribonucleoprotein_Complex_Biogenesis\", \"Ribosome_Biogenesis\", \"Rrna_Metabolic_Process\",\n",
    "  \"Double_Strand_Break_Repair\", \"Recombinational_Repair\", \n",
    "  \"Response_To_Virus\", \"Response_To_Type_I_Interferon\", \"Innate_Immune_Response\", \"Response_To_Biotic_Stimulus\",\n",
    "  \"Microtubule_Based_Process\", \"Microtubule_Cytoskeleton_Organization\", \"Cilium_Movement\", \"Cell_Projection_Assembly\",\n",
    "  \"Regulation_Of_Lymphocyte_Mediated_Immunity\", \"Regulation_Of_Cd4_Positive_Alpha_Beta_T_Cell_Differentiation\",\n",
    "  \"Alpha_Beta_T_Cell_Activation\", \"Antigen_Processing_And_Presentation_Of_Peptide_Antigen_Via_Mhc_Class_I\",\n",
    "  \"Telomere_Organization\", \"Positive_Regulation_Of_Cytokine_Production\",\n",
    "  \"Pei_et_al_differentiation_inactive\", \"Rodriguez_Fraticelli_et_al_lowOutput\", \"Rodriguez_Fraticelli_et_al_mkBiased\",\n",
    "  \"Pei_et_al_multilineage\", \"Rodriguez_Fraticelli_et_al_highOutput\", \"Rodriguez_Fraticelli_et_al_multilineage\"\n",
    ")\n",
    "selectedPathways <- c(selectedPathways, names(HSCSubpopSigs))\n",
    "selectedPathways <- intersect(selectedPathways, rownames(enrichmentMat))\n",
    "\n",
    "pdf(\"../../data/mHSCAging10xV3/plots/TFPathwayMapping/seq2PRINT_aging_TF_to_pathway.pdf\",\n",
    "    width = 24, height = 12)\n",
    "plotMtx <- enrichmentMat[selectedPathways, c(upTFs, downTFs)]\n",
    "plotMtx <- plotMtx[, colMaxs(plotMtx) > -log10(0.2)]\n",
    "plotMtx <- t(t(plotMtx) / colMaxs(plotMtx))\n",
    "plotMtx <- plotMtx[, !is.na(colMaxs(plotMtx))]\n",
    "rownames(plotMtx) <- sapply(rownames(plotMtx), function(x){stringr::str_replace_all(x, \"_\", \" \")})\n",
    "colors <- circlize::colorRamp2(seq(0, quantile(plotMtx, 0.99),length.out=9),\n",
    "                         colors = BuenColors::jdb_palette(\"solar_rojos\"))\n",
    "diffSign <- c(\"Down\", \"Up\")[(colnames(plotMtx) %in% upTFs) + 1]\n",
    "pathwayType <- c(\"Biological pathway\", \"HSC subpop signature\")[rownames(plotMtx) %in% names(HSCSubpopSigs) + 1]\n",
    "Heatmap(\n",
    "  plotMtx,\n",
    "  col = colors,\n",
    "  column_split = diffSign,\n",
    "  row_split = pathwayType,\n",
    "  name = \"Rescaled\\n enrichment\",\n",
    "  cluster_rows = F,\n",
    "  rect_gp = gpar(col = \"grey\", lwd = 2),\n",
    "  column_names_max_height = unit(10, \"cm\"),\n",
    "  row_names_max_width = unit(10, \"cm\")\n",
    ")\n",
    "dev.off()"
   ]
  },
  {
   "cell_type": "code",
   "execution_count": null,
   "id": "e1bb18eb-df4c-4f28-9c69-c7940eef9d45",
   "metadata": {},
   "outputs": [],
   "source": []
  }
 ],
 "metadata": {
  "kernelspec": {
   "display_name": "R",
   "language": "R",
   "name": "ir"
  },
  "language_info": {
   "codemirror_mode": "r",
   "file_extension": ".r",
   "mimetype": "text/x-r-source",
   "name": "R",
   "pygments_lexer": "r",
   "version": "4.3.3"
  }
 },
 "nbformat": 4,
 "nbformat_minor": 5
}
