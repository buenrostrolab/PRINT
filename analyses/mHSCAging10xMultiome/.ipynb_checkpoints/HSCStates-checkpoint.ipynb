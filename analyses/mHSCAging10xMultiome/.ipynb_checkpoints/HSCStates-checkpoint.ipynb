{
 "cells": [
  {
   "cell_type": "code",
   "execution_count": 2,
   "id": "aed99f49-6c59-4f20-92f0-66a40f630db3",
   "metadata": {},
   "outputs": [],
   "source": [
    "# If running in Rstudio, set the working directory to current path\n",
    "if (Sys.getenv(\"RSTUDIO\") == \"1\"){\n",
    "  setwd(dirname(rstudioapi::getActiveDocumentContext()$path))\n",
    "}\n",
    "\n",
    "myPath <- .libPaths()\n",
    "myPath <- c(myPath,'/packages')\n",
    ".libPaths(myPath)\n",
    "\n",
    "library(Seurat)\n",
    "library(Signac)\n",
    "library(SummarizedExperiment)\n",
    "library(ggplot2)\n",
    "library(ComplexHeatmap)\n",
    "library(hdf5r)\n",
    "library(sctransform)\n",
    "library(BuenColors)\n",
    "library(circlize)\n",
    "library(RColorBrewer)\n",
    "library(patchwork)\n",
    "library(ggrepel)\n",
    "source(\"../../code/utils.R\")\n",
    "source(\"../../code/getGroupData.R\")"
   ]
  },
  {
   "cell_type": "code",
   "execution_count": 3,
   "id": "30197936-99bc-42a9-8763-44f7cef03358",
   "metadata": {},
   "outputs": [],
   "source": [
    "###################\n",
    "# Read input data #\n",
    "###################\n",
    "\n",
    "# Load single cell RNA data\n",
    "scRNA <- readRDS(\"../../data/mHSCAging10xV3/scRNA.rds\")\n",
    "\n",
    "# Load barcodes for each pseudobulk\n",
    "barcodeGroups <- read.table(\"../../data/mHSCAging10xV3/barcodeGrouping.txt\", header = T, sep = \"\\t\")\n",
    "\n",
    "# Get gene-by-pseudobulk raw count matrix\n",
    "scRNACounts <- scRNA@assays$RNA@counts\n",
    "pseudobulkRNA <- getGroupRNA(scRNACounts, barcodeGroups)\n",
    "\n",
    "# Use DESeq to estimate size factor\n",
    "metadata <- data.frame(age = stringr::str_split_fixed(colnames(pseudobulkRNA), \"_\", 2)[,1])\n",
    "\n",
    "# Load normalized RNA matrix\n",
    "RNAMatNormed <- readRDS(\"../../data/mHSCAging10xV3/pseudobulkedRNANormed.rds\")"
   ]
  },
  {
   "cell_type": "code",
   "execution_count": 4,
   "id": "4d65f03c-1c9f-477d-9846-3028b31992d4",
   "metadata": {},
   "outputs": [],
   "source": [
    "######################################\n",
    "# Score and cluster spectra programs #\n",
    "######################################\n",
    "\n",
    "# Run runSpectra.py to get spectra programs and then load them in\n",
    "spectraPrograms <- read.table(\"../../data/mHSCAging10xV3/spectra/spectra_markers_lam_10.tsv\", \n",
    "                              sep = \"\\t\", header = T)\n",
    "programNames <- colnames(spectraPrograms)\n",
    "\n",
    "# For each gene, find background genes with matched overall expression\n",
    "# Even though we will scale the expression of each gene, this is still helpful because\n",
    "# expression level is associated with biological function\n",
    "geneExpLevel <- rowMeans(RNAMatNormed)\n",
    "expKNN <- FNN::get.knn(geneExpLevel, k = 100)$nn.index\n",
    "\n",
    "# Generate cell-by-program matrix of program scores\n",
    "programMat <- pbmcapply::pbmcmapply(\n",
    "  function(programInd){\n",
    "    \n",
    "    # Calculate spectra program scores as foreground\n",
    "    programGenes <- spectraPrograms[, programInd]\n",
    "    programGenes <- intersect(programGenes, rownames(RNAMatNormed))\n",
    "    programGenesInds <- match(programGenes, rownames(RNAMatNormed))\n",
    "    programGeneMat <- RNAMatNormed[programGenes, ]\n",
    "    programGeneMat <- t(scale(t(programGeneMat)))\n",
    "    programScores <- colMeans(programGeneMat)\n",
    "    \n",
    "    # Generate background programs consisting of expression-matched genes\n",
    "    # Use them to calculate background scores\n",
    "    bgScores <- sapply(\n",
    "      1:dim(expKNN)[2],\n",
    "      function(i){\n",
    "        bgGeneInds <- expKNN[programGenesInds, i]\n",
    "        bgGeneMat <- RNAMatNormed[bgGeneInds, ]\n",
    "        bgGeneMat <- t(scale(t(bgGeneMat)))\n",
    "        colMeans(bgGeneMat)\n",
    "      }\n",
    "    )\n",
    "    \n",
    "    # Get z-scores\n",
    "    zscores <- (programScores - rowMeans(bgScores)) / rowSds(bgScores)\n",
    "  },\n",
    "  1:ncol(spectraPrograms),\n",
    "  mc.cores = 8\n",
    ")\n",
    "colnames(programMat) <- stringr::str_split_fixed(colnames(spectraPrograms), \"\\\\.\", 5)[, 5]\n",
    "\n",
    "pbulkClusters <- read.table(\"../../data/mHSCAging10xV3/pbulkClusters.txt\")$V1"
   ]
  },
  {
   "cell_type": "code",
   "execution_count": 5,
   "id": "3a336a69-3c5a-4270-b706-0a09f438d019",
   "metadata": {},
   "outputs": [],
   "source": [
    "# Group pseudo-bulk clusters into sub-populations\n",
    "subpopAnno <- list(\n",
    "  \"Old_1\" = \"Old Mk-biased\", \n",
    "  \"Old_2\" = \"Old intermediate\",\n",
    "  \"Old_3\" = \"Old Mk-biased\",\n",
    "  \"Old_4\" = \"Old multi-lineage\",\n",
    "  \"Young_1\" = \"Young multi-lineage\",\n",
    "  \"Young_2\" = \"Young multi-lineage\",\n",
    "  \"Young_3\" = \"Young Mk-biased\")\n",
    "subpopLabels <- sapply(pbulkClusters, function(x){subpopAnno[[x]]})\n",
    "\n",
    "# Order subpopulations\n",
    "subpopOrder <- c(\"Young multi-lineage\", \"Young Mk-biased\", \n",
    "                 \"Old intermediate\", \"Old multi-lineage\", \"Old Mk-biased\")"
   ]
  },
  {
   "cell_type": "code",
   "execution_count": 6,
   "id": "9b638c11-910a-4a27-8b30-23db1c34030d",
   "metadata": {},
   "outputs": [],
   "source": [
    "# Cluster programs\n",
    "set.seed(123)\n",
    "programClusterLabels <- kmeans(cor(programMat), centers = 4, iter.max = 100, nstart = 10)$cluster\n",
    "programClusters <- sort(unique(programClusterLabels))\n",
    "programClusterOrder <- order(-sapply(\n",
    "    programClusters,\n",
    "    function(cluster){\n",
    "        clusterScore <- rowMeans(programMat[, programClusterLabels == cluster])\n",
    "        ratio <- mean(clusterScore[metadata$age == \"Young\"]) - mean(clusterScore[metadata$age == \"Old\"])\n",
    "    }\n",
    "))"
   ]
  },
  {
   "cell_type": "code",
   "execution_count": 7,
   "id": "a34d31ae-c107-4f5a-9522-c65da6118d0a",
   "metadata": {},
   "outputs": [],
   "source": [
    "# Group pseudo-bulk clusters into sub-populations\n",
    "subpopAnno <- list(\n",
    "  \"Old_1\" = \"Old Mk-biased\", \n",
    "  \"Old_2\" = \"Old intermediate\",\n",
    "  \"Old_3\" = \"Old Mk-biased\",\n",
    "  \"Old_4\" = \"Old multi-lineage\",\n",
    "  \"Young_1\" = \"Young multi-lineage\",\n",
    "  \"Young_2\" = \"Young multi-lineage\",\n",
    "  \"Young_3\" = \"Young Mk-biased\")\n",
    "subpopLabels <- sapply(pbulkClusters, function(x){subpopAnno[[x]]})\n",
    "\n",
    "# Order subpopulations\n",
    "subpopOrder <- c(\"Young multi-lineage\", \"Young Mk-biased\", \n",
    "                 \"Old intermediate\", \"Old multi-lineage\", \"Old Mk-biased\")"
   ]
  },
  {
   "cell_type": "code",
   "execution_count": 10,
   "id": "2ebec632-e762-4148-8290-03bfc009eb9d",
   "metadata": {},
   "outputs": [],
   "source": [
    "write.table(\n",
    "    programMat,\n",
    "    \"../../data/mHSCAging10xV3/pbulk_by_spectra_program_mat.tsv\", sep = \"\\t\",\n",
    "    row.names = T, col.names = T, quote = F)"
   ]
  },
  {
   "cell_type": "code",
   "execution_count": 123,
   "id": "e29fe23f-a984-4ee8-abaf-f1091cba6f84",
   "metadata": {},
   "outputs": [
    {
     "data": {
      "text/html": [
       "<strong>png:</strong> 2"
      ],
      "text/latex": [
       "\\textbf{png:} 2"
      ],
      "text/markdown": [
       "**png:** 2"
      ],
      "text/plain": [
       "png \n",
       "  2 "
      ]
     },
     "metadata": {},
     "output_type": "display_data"
    },
    {
     "data": {
      "text/html": [
       "<strong>png:</strong> 2"
      ],
      "text/latex": [
       "\\textbf{png:} 2"
      ],
      "text/markdown": [
       "**png:** 2"
      ],
      "text/plain": [
       "png \n",
       "  2 "
      ]
     },
     "metadata": {},
     "output_type": "display_data"
    }
   ],
   "source": [
    "# Plot program-by-pseudobulk clustermap\n",
    "colors <- circlize::colorRamp2(seq(quantile(programMat, 0.25), quantile(programMat, 0.99),length.out=9),\n",
    "                               colors = BuenColors::jdb_palette(\"solar_rojos\"))\n",
    "pdf(\"../../data/mHSCAging10xV3/plots/pseudobulk_cluster_heatmap.pdf\",\n",
    "    width = 20, height = 30)\n",
    "Heatmap(t(programMat), \n",
    "        col = colors,\n",
    "        column_split = subpopLabels, \n",
    "        row_split = programClusterLabels)\n",
    "dev.off()\n",
    "\n",
    "pdf(\"../../data/mHSCAging10xV3/plots/pseudobulk_cluster_heatmap_filt.pdf\",\n",
    "    width = 10, height = 15)\n",
    "filter <- rank(-colSds(programMat)) < 30\n",
    "colors <- circlize::colorRamp2(seq(quantile(programMat[, filter], 0.05), \n",
    "                                   quantile(programMat[, filter], 0.99),length.out=9),\n",
    "                               colors = BuenColors::jdb_palette(\"solar_rojos\"))\n",
    "options(repr.plot.width = 15, repr.plot.height = 10)\n",
    "Heatmap(programMat[, filter], \n",
    "    col = colors,\n",
    "    row_split = factor(subpopLabels, levels = subpopOrder), \n",
    "    cluster_row_slices = FALSE,\n",
    "    column_split = factor(programClusterLabels[filter], levels = programClusters[programClusterOrder]),\n",
    "    cluster_column_slices = FALSE)\n",
    "dev.off()"
   ]
  },
  {
   "cell_type": "code",
   "execution_count": 8,
   "id": "e7106087-1de8-4c13-a62b-d98bbb982810",
   "metadata": {},
   "outputs": [],
   "source": [
    "scATACSeurat <- readRDS(\"../../data/mHSCAging10xV3/scATACSeurat.rds\")\n",
    "\n",
    "UMAP <- scATACSeurat@reductions$umap@cell.embeddings\n",
    "write.table(UMAP, \"../../data//mHSCAging10xV3/UMAP_embedding.tsv\", \n",
    "           sep = \"\\t\", row.names = T, quote = F, col.names = T)"
   ]
  },
  {
   "cell_type": "code",
   "execution_count": 12,
   "id": "14c03c60-f70b-4320-947f-894c29c8c059",
   "metadata": {},
   "outputs": [
    {
     "data": {
      "text/html": [
       "<strong>png:</strong> 2"
      ],
      "text/latex": [
       "\\textbf{png:} 2"
      ],
      "text/markdown": [
       "**png:** 2"
      ],
      "text/plain": [
       "png \n",
       "  2 "
      ]
     },
     "metadata": {},
     "output_type": "display_data"
    }
   ],
   "source": [
    "##########################################\n",
    "# Visualize pseudo-bulk clusters on UMAP #\n",
    "##########################################\n",
    "\n",
    "# Load pseudobulk center cel barcodes\n",
    "pseudobulkCenters <- read.table(\"../../data/mHSCAging10xV3/pseudobulkCenters.txt\", sep = \"\\t\", header = T)\n",
    "pseudobulkAges <- sapply(pseudobulkCenters$barcode, function(x){strsplit(x, \"-\")[[1]][2]})\n",
    "\n",
    "# Get UMAP coordinates of cells\n",
    "plotData <- data.frame(\n",
    "  UMAP1 = scATACSeurat@reductions$umap@cell.embeddings[, 1],\n",
    "  UMAP2 = scATACSeurat@reductions$umap@cell.embeddings[, 2]\n",
    ")\n",
    "rownames(plotData) <- colnames(scATACSeurat)\n",
    "plotData <- plotData[(plotData$UMAP1 > -5) & (plotData$UMAP1 < 0) &\n",
    "                       (plotData$UMAP2 > -1) & (plotData$UMAP2 < 4), ]\n",
    "\n",
    "# Get the UMAP coordinate and subpopulation labels of young and old pseudo-bulks\n",
    "plotDataPbulk <- plotData[pseudobulkCenters$barcode, ]\n",
    "plotDataPbulk$subpopulation <- subpopLabels\n",
    "\n",
    "pdf(\"../../data/mHSCAging10xV3/plots/pseudobulkClusters.pdf\", width = 10, height = 8)\n",
    "ggplot(plotData) +\n",
    "  ggrastr::rasterise(geom_point(aes(x = UMAP1, y = UMAP2), color = \"grey\", size = 0.5, alpha = 0.3)) +\n",
    "  geom_point(data = plotDataPbulk, aes(x = UMAP1, y = UMAP2, color = subpopulation), size = 5) +\n",
    "  theme_classic()  \n",
    "dev.off()"
   ]
  },
  {
   "cell_type": "code",
   "execution_count": 9,
   "id": "ae8ba744-40da-4c63-85e9-afc9befcb2ab",
   "metadata": {},
   "outputs": [
    {
     "name": "stderr",
     "output_type": "stream",
     "text": [
      "Warning message:\n",
      "“\u001b[1m\u001b[22mRemoved 3 rows containing missing values or values outside the scale range\n",
      "(`geom_signif()`).”\n",
      "Warning message:\n",
      "“\u001b[1m\u001b[22mRemoved 1 row containing missing values or values outside the scale range\n",
      "(`geom_point()`).”\n"
     ]
    }
   ],
   "source": [
    "###############################################\n",
    "# Plot pathway z-scores in each subpopulation #\n",
    "###############################################\n",
    "\n",
    "plotPathways <- c(\n",
    "  \"Rodriguez_Fraticelli_et_al_mkBiased\", \"all_unfolded.protein.response\", \n",
    "  \"all_MHC.I.presentation\", \"all_G2M.transition\", \"all_G2M.transition\",\n",
    "  \"all_VAL.LEU.ILE_metabolism\", \"all_oxidative.phosphorylation\",\n",
    "  \"all_hypoxia.response\")\n",
    "for(pathway in plotPathways){\n",
    "  plotData <- data.frame(\n",
    "    subpop = subpopLabels,\n",
    "    expression = programMat[, pathway]\n",
    "  )\n",
    "  pdf(paste0(\"../../data/mHSCAging10xV3/plots/subpop_\", pathway, \".pdf\"), width = 8, height = 4)\n",
    "  print(ggpubr::ggboxplot(\n",
    "    plotData, x = \"subpop\", y = \"expression\", fill = \"subpop\", width = 0.3,\n",
    "    ylab = \"Program z-score\", xlab = \"\", palette = \"npg\", \n",
    "    add.params = list(fill = \"white\"), add = \"jitter\") +\n",
    "      ylim(c(min(plotData$expression), max(plotData$expression) * 2)) +\n",
    "      ggpubr::stat_compare_means(\n",
    "        comparisons = list(c(\"Old multi-lineage\", \"Young multi-lineage\"), \n",
    "                           c(\"Old Mk-biased\", \"Young Mk-biased\"),\n",
    "                           c(\"Old multi-lineage\", \"Old Mk-biased\"),\n",
    "                           c(\"Young multi-lineage\", \"Young Mk-biased\")),\n",
    "        label = \"p.signif\"))\n",
    "  dev.off()\n",
    "}"
   ]
  }
 ],
 "metadata": {
  "kernelspec": {
   "display_name": "R",
   "language": "R",
   "name": "ir"
  },
  "language_info": {
   "codemirror_mode": "r",
   "file_extension": ".r",
   "mimetype": "text/x-r-source",
   "name": "R",
   "pygments_lexer": "r",
   "version": "4.3.3"
  }
 },
 "nbformat": 4,
 "nbformat_minor": 5
}
