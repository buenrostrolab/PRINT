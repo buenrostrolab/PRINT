{
 "cells": [
  {
   "cell_type": "code",
   "execution_count": 1,
   "id": "ee2b12b5-6910-4ccc-88fa-a4684abdf40a",
   "metadata": {},
   "outputs": [
    {
     "name": "stderr",
     "output_type": "stream",
     "text": [
      "2024-11-04 12:52:44 - INFO - Failed to extract font properties from /usr/share/fonts/google-noto-emoji/NotoColorEmoji.ttf: In FT2Font: Could not set the fontsize (invalid pixel size; error code 0x17)\n",
      "/home/rzhang/miniforge3/envs/depmap/lib/python3.10/site-packages/scprinter/seq/interpretation/attributions.py:73: NumbaDeprecationWarning: \u001b[1mThe keyword argument 'nopython=False' was supplied. From Numba 0.59.0 the default is being changed to True and use of 'nopython=False' will raise a warning as the argument will have no effect. See https://numba.readthedocs.io/en/stable/reference/deprecation.html#deprecation-of-object-mode-fall-back-behaviour-when-using-jit for details.\u001b[0m\n",
      "  @numba.jit(params, nopython=False)\n"
     ]
    }
   ],
   "source": [
    "%load_ext autoreload\n",
    "%autoreload 2\n",
    "    \n",
    "import scprinter as scp\n",
    "import pandas as pd\n",
    "import seaborn as sns\n",
    "import matplotlib.pyplot as plt\n",
    "import time\n",
    "import pandas as pd\n",
    "import numpy as np\n",
    "import os\n",
    "import pickle\n",
    "import torch\n",
    "import matplotlib as mpl\n",
    "from scanpy.plotting.palettes import zeileis_28\n",
    "from tqdm.contrib.concurrent import *\n",
    "mpl.rcParams['pdf.fonttype'] = 42"
   ]
  },
  {
   "cell_type": "code",
   "execution_count": 2,
   "id": "3e1a7c34-9da2-409c-b0d7-a845c6abb667",
   "metadata": {},
   "outputs": [],
   "source": [
    "def strided_axis0(a, L):\n",
    "    # Store the shape and strides info\n",
    "    shp = a.shape\n",
    "    s  = a.strides\n",
    "\n",
    "    # Compute length of output array along the first axis\n",
    "    nd0 = shp[0]-L+1\n",
    "\n",
    "    # Setup shape and strides for use with np.lib.stride_tricks.as_strided\n",
    "    # and get (n+1) dim output array\n",
    "    shp_in = (nd0,L)+shp[1:]\n",
    "    strd_in = (s[0],) + s\n",
    "    return np.lib.stride_tricks.as_strided(a, shape=shp_in, strides=strd_in)\n"
   ]
  },
  {
   "cell_type": "code",
   "execution_count": 6,
   "id": "2ad2819d-6146-4cd1-b03a-653249d01654",
   "metadata": {},
   "outputs": [],
   "source": [
    "paths = [\n",
    "    '../PRINT_rev/BMMC/final_model/BMMC_lora_fold0-azure-meadow-7.pt',\n",
    "    '../PRINT_rev/BMMC/final_model/BMMC_lora_fold1-usual-feather-4.pt',\n",
    "    '../PRINT_rev/BMMC/final_model/BMMC_lora_fold2-quiet-energy-21.pt',\n",
    "    '../PRINT_rev/BMMC/final_model/BMMC_lora_fold3-snowy-lion-1.pt',\n",
    "    '../PRINT_rev/BMMC/final_model/BMMC_lora_fold4-solar-frost-8.pt',\n",
    "]\n",
    "# shared info to load\n",
    "barcodegroups = pd.read_table('/data/rzhang/PRINT_rev/BMMC/barcodeGrouping.txt.gz')\n",
    "groupinfo = pd.read_table(\"/data/rzhang/PRINT_rev/BMMC/groupInfo.txt\")\n",
    "CREs = pd.read_csv('/data/rzhang/PRINT_rev/BMMC/peaks_annotation.tsv', sep='\\t')\n",
    "CREs['start'] = CREs['start'] - 1"
   ]
  },
  {
   "cell_type": "code",
   "execution_count": 7,
   "id": "63207d21-7e79-400e-a087-b2ee6d8ea4ea",
   "metadata": {},
   "outputs": [],
   "source": [
    "ct2color = {}\n",
    "colors = []\n",
    "cts = list(groupinfo['cellType'].unique())\n",
    "for ct in cts:\n",
    "    tp = groupinfo[groupinfo['cellType'] == ct]\n",
    "    ct = ct.replace('/', '_')\n",
    "    color = tp['color'].unique()\n",
    "    ct2color[ct] = color[0]\n",
    "    colors.append(color[0])"
   ]
  },
  {
   "cell_type": "code",
   "execution_count": 10,
   "id": "095e316d-5fa6-4c34-8a36-510cade2c1a9",
   "metadata": {},
   "outputs": [
    {
     "data": {
      "application/vnd.jupyter.widget-view+json": {
       "model_id": "ea8d9fd740f64bc9a5344c4225488bd2",
       "version_major": 2,
       "version_minor": 0
      },
      "text/plain": [
       "  0%|          | 0/20 [00:00<?, ?it/s]"
      ]
     },
     "metadata": {},
     "output_type": "display_data"
    }
   ],
   "source": [
    "from tqdm.auto import *\n",
    "import pyBigWig\n",
    "CREs = pd.read_csv('/data/rzhang/PRINT_rev/BMMC/peaks_annotation.tsv', sep='\\t')\n",
    "CREs['start'] = CREs['start'] - 1\n",
    "cts = list(groupinfo['cellType'].unique())\n",
    "\n",
    "def fetch_one(ct):\n",
    "    signals = []\n",
    "    bw = f'/data/rzhang/PRINT_rev/BMMC/final_model/tfbs/{ct}_lora_TFBS.bigwig'\n",
    "    with pyBigWig.open(bw, 'r') as f:\n",
    "        chrom = np.array(CREs['seqnames'])\n",
    "        starts, ends = np.array(CREs['start']), np.array(CREs['end'])    \n",
    "        for c, start,end in zip(tqdm(chrom, disable=True), starts, ends):\n",
    "            v = f.values(c, start, end, numpy=True)\n",
    "            # v = np.nanmean(v)\n",
    "            \n",
    "            signals.append(v)\n",
    "    signals = np.array(signals)\n",
    "    signals = np.nan_to_num(signals)\n",
    "    return signals\n",
    "\n",
    "new_cts = []\n",
    "for ct in cts:\n",
    "    ct = ct.replace('/', '_')\n",
    "    new_cts.append(ct)\n",
    "results = np.array(process_map(fetch_one, new_cts, max_workers=20))"
   ]
  },
  {
   "cell_type": "code",
   "execution_count": 11,
   "id": "eb09fcb1-f2fa-46cf-8380-f9d76a17b546",
   "metadata": {},
   "outputs": [
    {
     "data": {
      "text/plain": [
       "(20, 189259, 100)"
      ]
     },
     "execution_count": 11,
     "metadata": {},
     "output_type": "execute_result"
    }
   ],
   "source": [
    "shapes = results.shape\n",
    "subcCRE_signals = results.reshape((shapes[0], shapes[1], -1, 10))\n",
    "subcCRE_signals = subcCRE_signals.mean(axis=-1)\n",
    "subcCRE_signals.shape"
   ]
  },
  {
   "cell_type": "code",
   "execution_count": 12,
   "id": "bd699063-f0da-4647-8dfd-0c9e662b70d2",
   "metadata": {},
   "outputs": [],
   "source": [
    "import os\n",
    "# os.environ['JOBLIB_START_METHOD'] = 'forkserver'\n",
    "# os.environ['OMP_NUM_THREADS'] = '2'\n",
    "# from threadpoolctl import threadpool_limits\n",
    "# from joblib import parallel_backend\n",
    "\n",
    "from sklearn.decomposition import *\n",
    "    \n",
    "def process_one(group_id):\n",
    "    # Use parallel_backend to limit the number of cores for cross_val_score\n",
    "    # Limit the number of threads\n",
    "    xxx = smoothed_res[:, group_id, :].T\n",
    "    thres_min = np.mean(xxx) + np.std(xxx) * 2\n",
    "    mask = np.quantile(xxx, 0.95, axis=-1) > max(0.2, thres_min)\n",
    "    # vb = np.sum(mask)\n",
    "    vb = [np.sum(mask), np.mean(xxx), np.std(xxx)]\n",
    "    # print (thres_min, vb)\n",
    "    # valid_bin = np.sum(np.quantile(xxx, 0.9, axis=-1) <= thres_min)\n",
    "    if vb[0] < 50:\n",
    "        # groups.append(0)\n",
    "        return vb, np.array([1]+[0]*9)\n",
    "    yyy = np.copy(xxx)\n",
    "    \n",
    "    # vbs.append([np.mean(xxx.reshape((-1))), np.std(xxx.reshape((-1)))])\n",
    "    # yyy[np.quantile(xxx, 0.9, axis=-1) <= thres_min] = 0.0\n",
    "    # yyy = xxx[mask]\n",
    "    # yyy = yyy / np.mean(yyy, axis=-1, keepdims=True)\n",
    "    # corr_mtx = np.corrcoef(xxx)\n",
    "    # corrs.append(np.corrcoef(xxx.T))\n",
    "\n",
    "    model = PCA(n_components=10)\n",
    "    pcs = model.fit_transform(yyy)\n",
    "    # pcs = normalize(pcs, axis=1)\n",
    "    # print (np.cumsum(model.explained_variance_ratio_))\n",
    "    # i = np.where(np.cumsum(model.explained_variance_ratio_) > 0.9)[0][0] + 1\n",
    "    return vb, model.explained_variance_ratio_\n",
    "    "
   ]
  },
  {
   "cell_type": "code",
   "execution_count": 13,
   "id": "0a26397d-b004-436c-9cc8-9ce0d4434b9e",
   "metadata": {},
   "outputs": [
    {
     "name": "stdout",
     "output_type": "stream",
     "text": [
      "(20, 189259, 1000)\n"
     ]
    }
   ],
   "source": [
    "def strided_lastaxis(a, L):\n",
    "    pad_vec1 = np.stack([a[..., 0]] * (L // 2), axis=-1)\n",
    "    pad_vec2 = np.stack([a[..., -1]] * (L // 2), axis=-1)\n",
    "    a = np.concatenate([pad_vec1, a, pad_vec2], axis=-1)\n",
    "    s0, s1, s2 = a.strides\n",
    "    l, m, n = a.shape\n",
    "    return np.lib.stride_tricks.as_strided(a, shape=(l, m, n - L + 1, L), strides=(s0, s1, s2, s2))\n",
    "\n",
    "smoothed_res = strided_lastaxis(results, 5).mean(axis=-1)[..., :results.shape[-1]]\n",
    "print (smoothed_res.shape)"
   ]
  },
  {
   "cell_type": "code",
   "execution_count": 14,
   "id": "845bf2f6-037c-444f-b0d0-1380137e4223",
   "metadata": {},
   "outputs": [
    {
     "data": {
      "application/vnd.jupyter.widget-view+json": {
       "model_id": "ba63bf7a0d5c47f8b1a7bd4a6e19db3a",
       "version_major": 2,
       "version_minor": 0
      },
      "text/plain": [
       "  0%|          | 0/189259 [00:00<?, ?it/s]"
      ]
     },
     "metadata": {},
     "output_type": "display_data"
    }
   ],
   "source": [
    "from sklearn.preprocessing import normalize\n",
    "from scipy.stats import *\n",
    "import scanpy as sc\n",
    "import scipy.cluster.hierarchy as sch\n",
    "import scipy.spatial.distance as spd\n",
    "from sklearn.decomposition import PCA\n",
    "\n",
    "results = [process_one(x) for x in trange(smoothed_res.shape[1])]\n",
    "# results = process_map(process_one, np.arange(smoothed_res.shape[1]), max_workers=64, chunksize=10)\n",
    "pc_info = np.array([x[1] for x in results])\n",
    "vbs = np.array([x[0] for x in results])\n",
    "if len(vbs.shape) == 1:\n",
    "    vbs = vbs[:, None]"
   ]
  },
  {
   "cell_type": "code",
   "execution_count": 15,
   "id": "0d0dd600-84c4-43cb-9931-b717170c5f37",
   "metadata": {},
   "outputs": [],
   "source": [
    "from sklearn.linear_model import *\n",
    "pc_info_regress = np.copy(pc_info)\n",
    "regress_mask = pc_info_regress[:, 0] < 1\n",
    "to_learn = np.log(vbs[regress_mask][:, :])\n",
    "pc_info_regress[regress_mask] = pc_info[regress_mask] - LinearRegression(fit_intercept=True).fit(to_learn, \n",
    "                                                                                                 pc_info[regress_mask]).predict(to_learn) + pc_info[regress_mask].mean(axis=0, keepdims=True)\n",
    "pc_info_regress[pc_info_regress < 0] = 0\n",
    "pc_info_regress = pc_info"
   ]
  },
  {
   "cell_type": "code",
   "execution_count": 16,
   "id": "fd8dd440-ff6a-4708-837e-a641b78129f4",
   "metadata": {},
   "outputs": [],
   "source": [
    "pc_info_regress = pc_info_regress / np.sum(pc_info_regress, axis=-1, keepdims=True)\n",
    "pc_info_regress = np.cumsum(pc_info_regress, axis=-1)\n"
   ]
  },
  {
   "cell_type": "code",
   "execution_count": 17,
   "id": "5045c592-7139-4a43-890e-e11ccc900103",
   "metadata": {},
   "outputs": [],
   "source": [
    "groups = []\n",
    "for pc in pc_info_regress:\n",
    "    groups.append(np.where(pc > 0.98)[0][0] + 1 if pc[0] < 1 else 0)\n"
   ]
  },
  {
   "cell_type": "code",
   "execution_count": 18,
   "id": "30d6ca64-6397-427e-b5e3-84d5062c1811",
   "metadata": {},
   "outputs": [
    {
     "data": {
      "text/plain": [
       "(189259, 0.5025236038569707, 109611)"
      ]
     },
     "execution_count": 18,
     "metadata": {},
     "output_type": "execute_result"
    },
    {
     "data": {
      "image/png": "[encoded data removed]",
      "text/plain": [
       "<Figure size 640x480 with 1 Axes>"
      ]
     },
     "metadata": {},
     "output_type": "display_data"
    }
   ],
   "source": [
    "groups = np.array(groups)\n",
    "sns.histplot(groups[groups > 0], binwidth=1, stat='percent')\n",
    "# plt.savefig('/data/rzhang/PRINT_rev/BMMC/groups.pdf')\n",
    "len(groups), np.sum(groups >= 2) / np.sum(groups > 0), np.sum(groups == 0)"
   ]
  },
  {
   "cell_type": "code",
   "execution_count": 20,
   "id": "97adc819-1f6b-401f-be29-ebed704af14e",
   "metadata": {},
   "outputs": [
    {
     "data": {
      "text/html": [
       "<div>\n",
       "<style scoped>\n",
       "    .dataframe tbody tr th:only-of-type {\n",
       "        vertical-align: middle;\n",
       "    }\n",
       "\n",
       "    .dataframe tbody tr th {\n",
       "        vertical-align: top;\n",
       "    }\n",
       "\n",
       "    .dataframe thead th {\n",
       "        text-align: right;\n",
       "    }\n",
       "</style>\n",
       "<table border=\"1\" class=\"dataframe\">\n",
       "  <thead>\n",
       "    <tr style=\"text-align: right;\">\n",
       "      <th></th>\n",
       "      <th>seqnames</th>\n",
       "      <th>start</th>\n",
       "      <th>end</th>\n",
       "      <th>width</th>\n",
       "      <th>strand</th>\n",
       "      <th>feature</th>\n",
       "    </tr>\n",
       "  </thead>\n",
       "  <tbody>\n",
       "    <tr>\n",
       "      <th>1</th>\n",
       "      <td>chr1</td>\n",
       "      <td>9836</td>\n",
       "      <td>10836</td>\n",
       "      <td>1000</td>\n",
       "      <td>*</td>\n",
       "      <td>Intergenic</td>\n",
       "    </tr>\n",
       "    <tr>\n",
       "      <th>2</th>\n",
       "      <td>chr1</td>\n",
       "      <td>28860</td>\n",
       "      <td>29860</td>\n",
       "      <td>1000</td>\n",
       "      <td>*</td>\n",
       "      <td>promoter-TSS (NR_024540)</td>\n",
       "    </tr>\n",
       "    <tr>\n",
       "      <th>3</th>\n",
       "      <td>chr1</td>\n",
       "      <td>181070</td>\n",
       "      <td>182070</td>\n",
       "      <td>1000</td>\n",
       "      <td>*</td>\n",
       "      <td>promoter-TSS (NR_148357)</td>\n",
       "    </tr>\n",
       "    <tr>\n",
       "      <th>4</th>\n",
       "      <td>chr1</td>\n",
       "      <td>191078</td>\n",
       "      <td>192078</td>\n",
       "      <td>1000</td>\n",
       "      <td>*</td>\n",
       "      <td>Intergenic</td>\n",
       "    </tr>\n",
       "    <tr>\n",
       "      <th>5</th>\n",
       "      <td>chr1</td>\n",
       "      <td>267519</td>\n",
       "      <td>268519</td>\n",
       "      <td>1000</td>\n",
       "      <td>*</td>\n",
       "      <td>Intergenic</td>\n",
       "    </tr>\n",
       "    <tr>\n",
       "      <th>...</th>\n",
       "      <td>...</td>\n",
       "      <td>...</td>\n",
       "      <td>...</td>\n",
       "      <td>...</td>\n",
       "      <td>...</td>\n",
       "      <td>...</td>\n",
       "    </tr>\n",
       "    <tr>\n",
       "      <th>189255</th>\n",
       "      <td>chrX</td>\n",
       "      <td>155577367</td>\n",
       "      <td>155578367</td>\n",
       "      <td>1000</td>\n",
       "      <td>*</td>\n",
       "      <td>intron (NM_018196, intron 1 of 7)</td>\n",
       "    </tr>\n",
       "    <tr>\n",
       "      <th>189256</th>\n",
       "      <td>chrX</td>\n",
       "      <td>155611181</td>\n",
       "      <td>155612181</td>\n",
       "      <td>1000</td>\n",
       "      <td>*</td>\n",
       "      <td>promoter-TSS (NM_001304990)</td>\n",
       "    </tr>\n",
       "    <tr>\n",
       "      <th>189257</th>\n",
       "      <td>chrX</td>\n",
       "      <td>155612352</td>\n",
       "      <td>155613352</td>\n",
       "      <td>1000</td>\n",
       "      <td>*</td>\n",
       "      <td>promoter-TSS (NM_001184797)</td>\n",
       "    </tr>\n",
       "    <tr>\n",
       "      <th>189258</th>\n",
       "      <td>chrX</td>\n",
       "      <td>155632170</td>\n",
       "      <td>155633170</td>\n",
       "      <td>1000</td>\n",
       "      <td>*</td>\n",
       "      <td>intron (NM_001304990, intron 1 of 2)</td>\n",
       "    </tr>\n",
       "    <tr>\n",
       "      <th>189259</th>\n",
       "      <td>chrX</td>\n",
       "      <td>155650883</td>\n",
       "      <td>155651883</td>\n",
       "      <td>1000</td>\n",
       "      <td>*</td>\n",
       "      <td>intron (NM_001304990, intron 1 of 2)</td>\n",
       "    </tr>\n",
       "  </tbody>\n",
       "</table>\n",
       "<p>189259 rows × 6 columns</p>\n",
       "</div>"
      ],
      "text/plain": [
       "       seqnames      start        end  width strand  \\\n",
       "1          chr1       9836      10836   1000      *   \n",
       "2          chr1      28860      29860   1000      *   \n",
       "3          chr1     181070     182070   1000      *   \n",
       "4          chr1     191078     192078   1000      *   \n",
       "5          chr1     267519     268519   1000      *   \n",
       "...         ...        ...        ...    ...    ...   \n",
       "189255     chrX  155577367  155578367   1000      *   \n",
       "189256     chrX  155611181  155612181   1000      *   \n",
       "189257     chrX  155612352  155613352   1000      *   \n",
       "189258     chrX  155632170  155633170   1000      *   \n",
       "189259     chrX  155650883  155651883   1000      *   \n",
       "\n",
       "                                     feature  \n",
       "1                                 Intergenic  \n",
       "2                   promoter-TSS (NR_024540)  \n",
       "3                   promoter-TSS (NR_148357)  \n",
       "4                                 Intergenic  \n",
       "5                                 Intergenic  \n",
       "...                                      ...  \n",
       "189255     intron (NM_018196, intron 1 of 7)  \n",
       "189256           promoter-TSS (NM_001304990)  \n",
       "189257           promoter-TSS (NM_001184797)  \n",
       "189258  intron (NM_001304990, intron 1 of 2)  \n",
       "189259  intron (NM_001304990, intron 1 of 2)  \n",
       "\n",
       "[189259 rows x 6 columns]"
      ]
     },
     "execution_count": 20,
     "metadata": {},
     "output_type": "execute_result"
    }
   ],
   "source": [
    "CREs"
   ]
  },
  {
   "cell_type": "code",
   "execution_count": 24,
   "id": "cf513537-9b82-44f4-b785-b3af84d224a1",
   "metadata": {},
   "outputs": [
    {
     "data": {
      "application/vnd.jupyter.widget-view+json": {
       "model_id": "718c2a28185c4e96978fb31a7316f57a",
       "version_major": 2,
       "version_minor": 0
      },
      "text/plain": [
       "  0%|          | 0/378518 [00:00<?, ?it/s]"
      ]
     },
     "metadata": {},
     "output_type": "display_data"
    },
    {
     "name": "stdout",
     "output_type": "stream",
     "text": [
      "takes 847.9549775123596\n"
     ]
    },
    {
     "data": {
      "text/html": [
       "<div>\n",
       "<style scoped>\n",
       "    .dataframe tbody tr th:only-of-type {\n",
       "        vertical-align: middle;\n",
       "    }\n",
       "\n",
       "    .dataframe tbody tr th {\n",
       "        vertical-align: top;\n",
       "    }\n",
       "\n",
       "    .dataframe thead th {\n",
       "        text-align: right;\n",
       "    }\n",
       "</style>\n",
       "<table border=\"1\" class=\"dataframe\">\n",
       "  <thead>\n",
       "    <tr style=\"text-align: right;\">\n",
       "      <th></th>\n",
       "      <th>seqnames</th>\n",
       "      <th>start</th>\n",
       "      <th>end</th>\n",
       "      <th>width</th>\n",
       "      <th>strand</th>\n",
       "      <th>feature</th>\n",
       "      <th>promoter</th>\n",
       "      <th>ctcf</th>\n",
       "    </tr>\n",
       "  </thead>\n",
       "  <tbody>\n",
       "    <tr>\n",
       "      <th>1</th>\n",
       "      <td>chr1</td>\n",
       "      <td>9836</td>\n",
       "      <td>10836</td>\n",
       "      <td>1000</td>\n",
       "      <td>*</td>\n",
       "      <td>Intergenic</td>\n",
       "      <td>False</td>\n",
       "      <td>False</td>\n",
       "    </tr>\n",
       "    <tr>\n",
       "      <th>2</th>\n",
       "      <td>chr1</td>\n",
       "      <td>28860</td>\n",
       "      <td>29860</td>\n",
       "      <td>1000</td>\n",
       "      <td>*</td>\n",
       "      <td>promoter-TSS (NR_024540)</td>\n",
       "      <td>True</td>\n",
       "      <td>False</td>\n",
       "    </tr>\n",
       "    <tr>\n",
       "      <th>3</th>\n",
       "      <td>chr1</td>\n",
       "      <td>181070</td>\n",
       "      <td>182070</td>\n",
       "      <td>1000</td>\n",
       "      <td>*</td>\n",
       "      <td>promoter-TSS (NR_148357)</td>\n",
       "      <td>True</td>\n",
       "      <td>True</td>\n",
       "    </tr>\n",
       "    <tr>\n",
       "      <th>4</th>\n",
       "      <td>chr1</td>\n",
       "      <td>191078</td>\n",
       "      <td>192078</td>\n",
       "      <td>1000</td>\n",
       "      <td>*</td>\n",
       "      <td>Intergenic</td>\n",
       "      <td>False</td>\n",
       "      <td>True</td>\n",
       "    </tr>\n",
       "    <tr>\n",
       "      <th>5</th>\n",
       "      <td>chr1</td>\n",
       "      <td>267519</td>\n",
       "      <td>268519</td>\n",
       "      <td>1000</td>\n",
       "      <td>*</td>\n",
       "      <td>Intergenic</td>\n",
       "      <td>False</td>\n",
       "      <td>True</td>\n",
       "    </tr>\n",
       "    <tr>\n",
       "      <th>...</th>\n",
       "      <td>...</td>\n",
       "      <td>...</td>\n",
       "      <td>...</td>\n",
       "      <td>...</td>\n",
       "      <td>...</td>\n",
       "      <td>...</td>\n",
       "      <td>...</td>\n",
       "      <td>...</td>\n",
       "    </tr>\n",
       "    <tr>\n",
       "      <th>189255</th>\n",
       "      <td>chrX</td>\n",
       "      <td>155577367</td>\n",
       "      <td>155578367</td>\n",
       "      <td>1000</td>\n",
       "      <td>*</td>\n",
       "      <td>intron (NM_018196, intron 1 of 7)</td>\n",
       "      <td>False</td>\n",
       "      <td>False</td>\n",
       "    </tr>\n",
       "    <tr>\n",
       "      <th>189256</th>\n",
       "      <td>chrX</td>\n",
       "      <td>155611181</td>\n",
       "      <td>155612181</td>\n",
       "      <td>1000</td>\n",
       "      <td>*</td>\n",
       "      <td>promoter-TSS (NM_001304990)</td>\n",
       "      <td>True</td>\n",
       "      <td>True</td>\n",
       "    </tr>\n",
       "    <tr>\n",
       "      <th>189257</th>\n",
       "      <td>chrX</td>\n",
       "      <td>155612352</td>\n",
       "      <td>155613352</td>\n",
       "      <td>1000</td>\n",
       "      <td>*</td>\n",
       "      <td>promoter-TSS (NM_001184797)</td>\n",
       "      <td>True</td>\n",
       "      <td>False</td>\n",
       "    </tr>\n",
       "    <tr>\n",
       "      <th>189258</th>\n",
       "      <td>chrX</td>\n",
       "      <td>155632170</td>\n",
       "      <td>155633170</td>\n",
       "      <td>1000</td>\n",
       "      <td>*</td>\n",
       "      <td>intron (NM_001304990, intron 1 of 2)</td>\n",
       "      <td>False</td>\n",
       "      <td>False</td>\n",
       "    </tr>\n",
       "    <tr>\n",
       "      <th>189259</th>\n",
       "      <td>chrX</td>\n",
       "      <td>155650883</td>\n",
       "      <td>155651883</td>\n",
       "      <td>1000</td>\n",
       "      <td>*</td>\n",
       "      <td>intron (NM_001304990, intron 1 of 2)</td>\n",
       "      <td>False</td>\n",
       "      <td>True</td>\n",
       "    </tr>\n",
       "  </tbody>\n",
       "</table>\n",
       "<p>189259 rows × 8 columns</p>\n",
       "</div>"
      ],
      "text/plain": [
       "       seqnames      start        end  width strand  \\\n",
       "1          chr1       9836      10836   1000      *   \n",
       "2          chr1      28860      29860   1000      *   \n",
       "3          chr1     181070     182070   1000      *   \n",
       "4          chr1     191078     192078   1000      *   \n",
       "5          chr1     267519     268519   1000      *   \n",
       "...         ...        ...        ...    ...    ...   \n",
       "189255     chrX  155577367  155578367   1000      *   \n",
       "189256     chrX  155611181  155612181   1000      *   \n",
       "189257     chrX  155612352  155613352   1000      *   \n",
       "189258     chrX  155632170  155633170   1000      *   \n",
       "189259     chrX  155650883  155651883   1000      *   \n",
       "\n",
       "                                     feature  promoter   ctcf  \n",
       "1                                 Intergenic     False  False  \n",
       "2                   promoter-TSS (NR_024540)      True  False  \n",
       "3                   promoter-TSS (NR_148357)      True   True  \n",
       "4                                 Intergenic     False   True  \n",
       "5                                 Intergenic     False   True  \n",
       "...                                      ...       ...    ...  \n",
       "189255     intron (NM_018196, intron 1 of 7)     False  False  \n",
       "189256           promoter-TSS (NM_001304990)      True   True  \n",
       "189257           promoter-TSS (NM_001184797)      True  False  \n",
       "189258  intron (NM_001304990, intron 1 of 2)     False  False  \n",
       "189259  intron (NM_001304990, intron 1 of 2)     False   True  \n",
       "\n",
       "[189259 rows x 8 columns]"
      ]
     },
     "execution_count": 24,
     "metadata": {},
     "output_type": "execute_result"
    }
   ],
   "source": [
    "import anndata\n",
    "peak_adata = anndata.read_h5ad('/data/rzhang/PRINT_rev/BMMC/peak_matrix.h5ad')\n",
    "from scprinter.chromvar import *\n",
    "import time\n",
    "start = time.time()\n",
    "sample_bg_peaks(peak_adata, scp.genome.hg38,\n",
    "                method='nndescent', # method='chromvar' do the whole binning and sampling thing (faster), when it's 'nndescent' it'll just fit a knn directory on peaks (which is also pretty fast)\n",
    "                niterations=250)\n",
    "motifs = scp.motifs.FigR_Human_Motifs(\n",
    "                           scp.genome.hg38, \n",
    "                           list(peak_adata.uns['bg_freq']),\n",
    "                           n_jobs=32,pvalue=5e-5, \n",
    "                           mode='motifmatchr' # when turn on mode='motifmatchr', it replicates the behavior and results of motifmatchr\n",
    "                          )\n",
    "motifs.prep_scanner(tf_genes=None,pvalue=5e-5)\n",
    "motifs.chromvar_scan(peak_adata)\n",
    "print (\"takes\", time.time()-start)\n",
    "\n",
    "names = peak_adata.uns['motif_name']\n",
    "names = np.array(names)\n",
    "names = np.where(names == 'CTCF')\n",
    "select = peak_adata.varm['motif_match'][:, names]\n",
    "select = np.array(select).reshape((-1)).astype('bool')\n",
    "select\n",
    "\n",
    "ctcfs = select #['CTCF' if xx else '' for xx in select]\n",
    "CREs['promoter'] = [xx.split(\" \")[0] == 'promoter-TSS' for xx in CREs['feature']]\n",
    "CREs['ctcf'] = ctcfs\n",
    "CREs"
   ]
  },
  {
   "cell_type": "code",
   "execution_count": 25,
   "id": "12a4d7f6-a0a5-40e0-89da-5728eca01956",
   "metadata": {},
   "outputs": [
    {
     "data": {
      "image/png": "[encoded data removed]",
      "text/plain": [
       "<Figure size 500x300 with 3 Axes>"
      ]
     },
     "metadata": {},
     "output_type": "display_data"
    }
   ],
   "source": [
    "fig, axs = plt.subplots(1, 3, figsize=(5,3))\n",
    "g = groups[CREs['promoter']]\n",
    "g = g[g > 0]\n",
    "sns.histplot(g, binwidth=1, label=t,stat='percent', ax=axs[0])\n",
    "axs[0].set_title('promoter')\n",
    "axs[0].set_xlim(1, 5)\n",
    "\n",
    "g = groups[(~CREs['promoter']) & (CREs['ctcf'])]\n",
    "g = g[g > 0]\n",
    "sns.histplot(g, binwidth=1, label=t,stat='percent', ax=axs[1])\n",
    "axs[1].set_title('Distal-CTCF')\n",
    "axs[1].set_xlim(1, 5)\n",
    "g = groups[(~CREs['promoter']) & (~CREs['ctcf'])]\n",
    "g = g[g > 0]\n",
    "sns.histplot(g, binwidth=1, label=t,stat='percent', ax=axs[2])\n",
    "axs[2].set_title('Distal')\n",
    "axs[2].set_xlim(1, 5)\n",
    "\n",
    "plt.tight_layout()\n",
    "# plt.savefig('/data/rzhang/PRINT_rev/BMMC/CREs_groups.pdf')\n",
    "# plt.legend()"
   ]
  },
  {
   "cell_type": "code",
   "execution_count": null,
   "id": "1def6e7e-c3e2-4b92-a34c-33a212ae94a4",
   "metadata": {},
   "outputs": [],
   "source": []
  },
  {
   "cell_type": "code",
   "execution_count": null,
   "id": "5cc3d2c2-c659-4b45-9748-0c6434adc646",
   "metadata": {},
   "outputs": [],
   "source": []
  }
 ],
 "metadata": {
  "kernelspec": {
   "display_name": "depmap",
   "language": "python",
   "name": "depmap"
  },
  "language_info": {
   "codemirror_mode": {
    "name": "ipython",
    "version": 3
   },
   "file_extension": ".py",
   "mimetype": "text/x-python",
   "name": "python",
   "nbconvert_exporter": "python",
   "pygments_lexer": "ipython3",
   "version": "3.10.13"
  }
 },
 "nbformat": 4,
 "nbformat_minor": 5
}
