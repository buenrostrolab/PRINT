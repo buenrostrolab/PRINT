{
 "cells": [
  {
   "cell_type": "code",
   "execution_count": 1,
   "id": "fac34a44-2699-4069-8699-8185e3f16141",
   "metadata": {},
   "outputs": [],
   "source": [
    "%load_ext autoreload\n",
    "%autoreload 2\n",
    "    \n",
    "import scprinter as scp\n",
    "import pandas as pd\n",
    "import seaborn as sns\n",
    "import matplotlib.pyplot as plt\n",
    "import matplotlib as mpl\n",
    "mpl.rcParams['pdf.fonttype'] = 42\n",
    "import time\n",
    "import pandas as pd\n",
    "import numpy as np\n",
    "import os\n",
    "import time\n",
    "import re\n",
    "import pyBigWig\n",
    "import numpy as np\n",
    "import pandas as pd\n",
    "from concurrent.futures import *\n",
    "from tqdm.auto import *\n",
    "import pickle"
   ]
  },
  {
   "cell_type": "markdown",
   "id": "ed7da3d1-2940-416b-8fbe-c77d0c635094",
   "metadata": {},
   "source": [
    "# HepG2 downsampling experiment"
   ]
  },
  {
   "cell_type": "code",
   "execution_count": 61,
   "id": "c7f54896-0bbb-4d4b-9220-b774a6dec60d",
   "metadata": {},
   "outputs": [
    {
     "data": {
      "text/html": [
       "<div>\n",
       "<style scoped>\n",
       "    .dataframe tbody tr th:only-of-type {\n",
       "        vertical-align: middle;\n",
       "    }\n",
       "\n",
       "    .dataframe tbody tr th {\n",
       "        vertical-align: top;\n",
       "    }\n",
       "\n",
       "    .dataframe thead th {\n",
       "        text-align: right;\n",
       "    }\n",
       "</style>\n",
       "<table border=\"1\" class=\"dataframe\">\n",
       "  <thead>\n",
       "    <tr style=\"text-align: right;\">\n",
       "      <th></th>\n",
       "      <th>0</th>\n",
       "      <th>1</th>\n",
       "      <th>2</th>\n",
       "      <th>3</th>\n",
       "      <th>4</th>\n",
       "    </tr>\n",
       "  </thead>\n",
       "  <tbody>\n",
       "    <tr>\n",
       "      <th>0</th>\n",
       "      <td>chr1</td>\n",
       "      <td>10067</td>\n",
       "      <td>10108</td>\n",
       "      <td>HepG2</td>\n",
       "      <td>1</td>\n",
       "    </tr>\n",
       "    <tr>\n",
       "      <th>1</th>\n",
       "      <td>chr1</td>\n",
       "      <td>10072</td>\n",
       "      <td>10407</td>\n",
       "      <td>HepG2</td>\n",
       "      <td>1</td>\n",
       "    </tr>\n",
       "    <tr>\n",
       "      <th>2</th>\n",
       "      <td>chr1</td>\n",
       "      <td>10073</td>\n",
       "      <td>10108</td>\n",
       "      <td>HepG2</td>\n",
       "      <td>1</td>\n",
       "    </tr>\n",
       "    <tr>\n",
       "      <th>3</th>\n",
       "      <td>chr1</td>\n",
       "      <td>10073</td>\n",
       "      <td>10119</td>\n",
       "      <td>HepG2</td>\n",
       "      <td>1</td>\n",
       "    </tr>\n",
       "    <tr>\n",
       "      <th>4</th>\n",
       "      <td>chr1</td>\n",
       "      <td>10079</td>\n",
       "      <td>10151</td>\n",
       "      <td>HepG2</td>\n",
       "      <td>1</td>\n",
       "    </tr>\n",
       "    <tr>\n",
       "      <th>...</th>\n",
       "      <td>...</td>\n",
       "      <td>...</td>\n",
       "      <td>...</td>\n",
       "      <td>...</td>\n",
       "      <td>...</td>\n",
       "    </tr>\n",
       "    <tr>\n",
       "      <th>65404904</th>\n",
       "      <td>chrX</td>\n",
       "      <td>156030274</td>\n",
       "      <td>156030298</td>\n",
       "      <td>HepG2</td>\n",
       "      <td>1</td>\n",
       "    </tr>\n",
       "    <tr>\n",
       "      <th>65404905</th>\n",
       "      <td>chrX</td>\n",
       "      <td>156030596</td>\n",
       "      <td>156030620</td>\n",
       "      <td>HepG2</td>\n",
       "      <td>1</td>\n",
       "    </tr>\n",
       "    <tr>\n",
       "      <th>65404906</th>\n",
       "      <td>chrX</td>\n",
       "      <td>156030596</td>\n",
       "      <td>156030620</td>\n",
       "      <td>HepG2</td>\n",
       "      <td>1</td>\n",
       "    </tr>\n",
       "    <tr>\n",
       "      <th>65404907</th>\n",
       "      <td>chrX</td>\n",
       "      <td>156030596</td>\n",
       "      <td>156030628</td>\n",
       "      <td>HepG2</td>\n",
       "      <td>1</td>\n",
       "    </tr>\n",
       "    <tr>\n",
       "      <th>65404908</th>\n",
       "      <td>chrX</td>\n",
       "      <td>156030608</td>\n",
       "      <td>156030632</td>\n",
       "      <td>HepG2</td>\n",
       "      <td>1</td>\n",
       "    </tr>\n",
       "  </tbody>\n",
       "</table>\n",
       "<p>65404909 rows × 5 columns</p>\n",
       "</div>"
      ],
      "text/plain": [
       "             0          1          2      3  4\n",
       "0         chr1      10067      10108  HepG2  1\n",
       "1         chr1      10072      10407  HepG2  1\n",
       "2         chr1      10073      10108  HepG2  1\n",
       "3         chr1      10073      10119  HepG2  1\n",
       "4         chr1      10079      10151  HepG2  1\n",
       "...        ...        ...        ...    ... ..\n",
       "65404904  chrX  156030274  156030298  HepG2  1\n",
       "65404905  chrX  156030596  156030620  HepG2  1\n",
       "65404906  chrX  156030596  156030620  HepG2  1\n",
       "65404907  chrX  156030596  156030628  HepG2  1\n",
       "65404908  chrX  156030608  156030632  HepG2  1\n",
       "\n",
       "[65404909 rows x 5 columns]"
      ]
     },
     "execution_count": 61,
     "metadata": {},
     "output_type": "execute_result"
    }
   ],
   "source": [
    "frags = pd.read_csv(\"/data/rzhang/PRINT_rev/HepG2/all.frags.filt.rmbc.tsv.gz\", sep='\\t', header=None)\n",
    "frags"
   ]
  },
  {
   "cell_type": "code",
   "execution_count": 62,
   "id": "f9da6b71-92cd-4792-b53d-7cbbb7a4de27",
   "metadata": {},
   "outputs": [],
   "source": [
    "frag_num_list = [50000000, 25000000, 10000000, 5000000, 2500000, 1000000]\n",
    "frag_num_list = [2500000]"
   ]
  },
  {
   "cell_type": "code",
   "execution_count": 63,
   "id": "801227f8-b14b-4017-b709-03ce42a30230",
   "metadata": {},
   "outputs": [],
   "source": [
    "for frag_num in frag_num_list:\n",
    "    frags_filt = frags.sample(frag_num)\n",
    "    frags_filt.to_csv(f\"/data/rzhang/PRINT_rev/HepG2/frags.filt.rmbc.{frag_num}.tsv.gz\", sep='\\t', header=False, index=False)"
   ]
  },
  {
   "cell_type": "code",
   "execution_count": 64,
   "id": "86e7f70c-c274-4378-a0fa-7830e5d13707",
   "metadata": {},
   "outputs": [
    {
     "name": "stdout",
     "output_type": "stream",
     "text": [
      "You are now using the beta auto_detect_shift function, this overwrites the plus_shift and minus_shift you provided\n",
      "If you believe the auto_detect_shift is wrong, please set auto_detect_shift=False\n",
      "detected plus_shift and minus_shift are 4 -5\n",
      "snapatac2 shift check True\n",
      "Initializing GFF-db\n"
     ]
    }
   ],
   "source": [
    "printer_dict = {}\n",
    "for frag_num in frag_num_list:\n",
    "    h5ad_path = f\"/data/rzhang/PRINT_rev/HepG2/HepG2_{frag_num}.h5ad\"\n",
    "    if not os.path.exists(h5ad_path):\n",
    "        printer_dict[frag_num] = scp.pp.import_fragments(\n",
    "                        pathToFrags= f\"/data/rzhang/PRINT_rev/HepG2/frags.filt.rmbc.{frag_num}.tsv.gz\",\n",
    "                        barcodes=None,\n",
    "                        savename=h5ad_path,\n",
    "                        genome=scp.genome.hg38,\n",
    "                        min_num_fragments=0, min_tsse=0,\n",
    "                        sorted_by_barcode=False, \n",
    "                        low_memory=False,\n",
    "                        )\n",
    "    else:\n",
    "        printer_dict[frag_num] = scp.load_printer(h5ad_path, scp.genome.hg38)"
   ]
  },
  {
   "cell_type": "code",
   "execution_count": 65,
   "id": "9d2342b5-9f3a-486f-a545-392011e8ac4a",
   "metadata": {},
   "outputs": [
    {
     "name": "stdout",
     "output_type": "stream",
     "text": [
      "Insertion profile from csr to csc\n",
      "Creating bigwig for HepG2_2500000\n"
     ]
    },
    {
     "data": {
      "application/vnd.jupyter.widget-view+json": {
       "model_id": "25529ddd559a48efa864634634af3518",
       "version_major": 2,
       "version_minor": 0
      },
      "text/plain": [
       "  0%|          | 0/24 [00:00<?, ?it/s]"
      ]
     },
     "metadata": {},
     "output_type": "display_data"
    }
   ],
   "source": [
    "for frag_num in frag_num_list:\n",
    "    printer = printer_dict[frag_num]\n",
    "    scp.pp.sync_footprints(printer,\n",
    "                       printer.insertion_file.obs_names,\n",
    "                       f\"HepG2_{frag_num}\")\n",
    "    "
   ]
  },
  {
   "cell_type": "code",
   "execution_count": 66,
   "id": "c18c743f-5253-4b39-9b52-f721cceddbde",
   "metadata": {
    "scrolled": true
   },
   "outputs": [
    {
     "name": "stderr",
     "output_type": "stream",
     "text": [
      "INFO  @ Wed, 13 Mar 2024 06:39:19: \n",
      "# Command line: callpeak --nomodel -t /data/rzhang/PRINT_rev/HepG2/frags.filt.rmbc.2500000.tsv.gz --outdir /data/rzhang/PRINT_rev/HepG2/peak_call_2500000 -n macs2_encode -f BEDPE --nolambda --keep-dup all --call-summits --nomodel -B --SPMR --shift 75 --extsize 150\n",
      "# ARGUMENTS LIST:\n",
      "# name = macs2_encode\n",
      "# format = BEDPE\n",
      "# ChIP-seq file = ['/data/rzhang/PRINT_rev/HepG2/frags.filt.rmbc.2500000.tsv.gz']\n",
      "# control file = None\n",
      "# effective genome size = 2.70e+09\n",
      "# band width = 300\n",
      "# model fold = [5, 50]\n",
      "# qvalue cutoff = 5.00e-02\n",
      "# The maximum gap between significant sites is assigned as the read length/tag size.\n",
      "# The minimum length of peaks is assigned as the predicted fragment length \"d\".\n",
      "# Larger dataset will be scaled towards smaller dataset.\n",
      "# Range for calculating regional lambda is: 10000 bps\n",
      "# Broad region calling is off\n",
      "# Paired-End mode is on\n",
      "# Searching for subpeak summits is on\n",
      "# MACS will save fragment pileup signal per million reads\n",
      " \n",
      "INFO  @ Wed, 13 Mar 2024 06:39:19: #1 read fragment files... \n",
      "INFO  @ Wed, 13 Mar 2024 06:39:19: #1 read treatment fragments... \n",
      "INFO  @ Wed, 13 Mar 2024 06:39:20:  1000000 \n",
      "INFO  @ Wed, 13 Mar 2024 06:39:21:  2000000 \n",
      "INFO  @ Wed, 13 Mar 2024 06:39:22: #1 mean fragment size is determined as 189.8 bp from treatment \n",
      "INFO  @ Wed, 13 Mar 2024 06:39:22: #1 fragment size = 189.8 \n",
      "INFO  @ Wed, 13 Mar 2024 06:39:22: #1  total fragments in treatment: 2500000 \n",
      "INFO  @ Wed, 13 Mar 2024 06:39:22: #1 finished! \n",
      "INFO  @ Wed, 13 Mar 2024 06:39:22: #2 Build Peak Model... \n",
      "INFO  @ Wed, 13 Mar 2024 06:39:22: #2 Skipped... \n",
      "INFO  @ Wed, 13 Mar 2024 06:39:22: #3 Call peaks... \n",
      "INFO  @ Wed, 13 Mar 2024 06:39:22: # local lambda is disabled! \n",
      "INFO  @ Wed, 13 Mar 2024 06:39:22: #3 !!!! DYNAMIC LAMBDA IS DISABLED !!!! \n",
      "INFO  @ Wed, 13 Mar 2024 06:39:22: #3 Going to call summits inside each peak ... \n",
      "INFO  @ Wed, 13 Mar 2024 06:39:22: #3 Pre-compute pvalue-qvalue table... \n",
      "INFO  @ Wed, 13 Mar 2024 06:39:23: #3 In the peak calling step, the following will be performed simultaneously: \n",
      "INFO  @ Wed, 13 Mar 2024 06:39:23: #3   Write bedGraph files for treatment pileup (after scaling if necessary)... macs2_encode_treat_pileup.bdg \n",
      "INFO  @ Wed, 13 Mar 2024 06:39:23: #3   Write bedGraph files for control lambda (after scaling if necessary)... macs2_encode_control_lambda.bdg \n",
      "INFO  @ Wed, 13 Mar 2024 06:39:23: #3   --SPMR is requested, so pileup will be normalized by sequencing depth in million reads. \n",
      "INFO  @ Wed, 13 Mar 2024 06:39:23: #3 Call peaks for each chromosome... \n",
      "INFO  @ Wed, 13 Mar 2024 06:39:37: #4 Write output xls file... /data/rzhang/PRINT_rev/HepG2/peak_call_2500000/macs2_encode_peaks.xls \n",
      "INFO  @ Wed, 13 Mar 2024 06:39:37: #4 Write peak in narrowPeak format file... /data/rzhang/PRINT_rev/HepG2/peak_call_2500000/macs2_encode_peaks.narrowPeak \n"
     ]
    },
    {
     "name": "stdout",
     "output_type": "stream",
     "text": [
      "Reading in peak summit file(s):\n",
      "NOTE: Assuming all start coordinates are 0-based ..\n",
      "\n",
      "Padding peak summits by: 500 bp on either side for\n",
      "Removing peaks overlapping with blacklisted regions and out of bound peaks based on chromosome sizes ..\n",
      "\n"
     ]
    },
    {
     "name": "stderr",
     "output_type": "stream",
     "text": [
      "INFO  @ Wed, 13 Mar 2024 06:39:37: #4 Write summits bed file... /data/rzhang/PRINT_rev/HepG2/peak_call_2500000/macs2_encode_summits.bed \n",
      "INFO  @ Wed, 13 Mar 2024 06:39:37: Done! \n"
     ]
    },
    {
     "data": {
      "application/vnd.jupyter.widget-view+json": {
       "model_id": "579c29977cd4463ab4c35b87070ab0b8",
       "version_major": 2,
       "version_minor": 0
      },
      "text/plain": [
       "  0%|          | 0/1 [00:00<?, ?it/s]"
      ]
     },
     "metadata": {},
     "output_type": "display_data"
    },
    {
     "name": "stderr",
     "output_type": "stream",
     "text": [
      "/home/rzhang/miniforge3/envs/scprinter/lib/python3.10/site-packages/bioframe/ops.py:1622: FutureWarning: A value is trying to be set on a copy of a DataFrame or Series through chained assignment using an inplace method.\n",
      "The behavior will change in pandas 3.0. This inplace method will never work because the intermediate object on which we are setting values always behaves as a copy.\n",
      "\n",
      "For example, when doing 'df[col].method(value, inplace=True)', try using 'df.method({col: value}, inplace=True)' or df[col] = df[col].method(value) instead, to perform the operation inplace on the original object.\n",
      "\n",
      "\n",
      "  df_trimmed[sk].clip(lower=lower_vector, upper=upper_vector, inplace=True)\n",
      "/home/rzhang/miniforge3/envs/scprinter/lib/python3.10/site-packages/bioframe/ops.py:1623: FutureWarning: A value is trying to be set on a copy of a DataFrame or Series through chained assignment using an inplace method.\n",
      "The behavior will change in pandas 3.0. This inplace method will never work because the intermediate object on which we are setting values always behaves as a copy.\n",
      "\n",
      "For example, when doing 'df[col].method(value, inplace=True)', try using 'df.method({col: value}, inplace=True)' or df[col] = df[col].method(value) instead, to perform the operation inplace on the original object.\n",
      "\n",
      "\n",
      "  df_trimmed[ek].clip(lower=lower_vector, upper=upper_vector, inplace=True)\n"
     ]
    },
    {
     "name": "stdout",
     "output_type": "stream",
     "text": [
      "Filtering overlapping peaks based on peak summit score ..\n",
      "round: 1 53511 peaks unresolved 53373 peaks selected\n",
      "round: 2 4 peaks unresolved 4 peaks selected\n",
      "finish clearing\n",
      "finish sorting\n",
      "finished summary\n"
     ]
    }
   ],
   "source": [
    "for frag_num in frag_num_list:\n",
    "    scp.peak.macs2(f\"/data/rzhang/PRINT_rev/HepG2/frags.filt.rmbc.{frag_num}.tsv.gz\",\n",
    "                   'macs2_encode', \n",
    "                   f'/data/rzhang/PRINT_rev/HepG2/peak_call_{frag_num}')\n",
    "    cleaned_peaks = scp.peak.clean_macs2('macs2_encode', f'/data/rzhang/PRINT_rev/HepG2/peak_call_{frag_num}',\n",
    "                peak_width=128,\n",
    "                blacklist_peak_width=1000,\n",
    "                genome=scp.genome.hg38, filter_chr=False,\n",
    "                n=999999999, fdr_threshold=0.01, use_quantile_scores=False, final_peak_width=1000\n",
    "                )\n",
    "    cleaned_peaks.to_csv(f'/data/rzhang/PRINT_rev/HepG2/HepG2_{frag_num}_cleaned_narrowPeak.bed', \n",
    "                         sep='\\t', header=False, index=False)"
   ]
  },
  {
   "cell_type": "code",
   "execution_count": 67,
   "id": "59c5b561-45a2-430e-9083-773a0971556e",
   "metadata": {},
   "outputs": [],
   "source": [
    "from scprinter.seq.dataloader import hg38_splits\n",
    "import json\n",
    "for frag_num in frag_num_list:\n",
    "    for fold in [0,1,2,3,4]:\n",
    "        default_config = {\n",
    "          \"peaks\": f\"HepG2_{frag_num}_cleaned_narrowPeak.bed\",\n",
    "          \"signals\": f\"HepG2_{frag_num}.bw\",\n",
    "          \"genome\": \"hg38\",\n",
    "          \"split\": hg38_splits[fold],\n",
    "          \"max_jitter\": 128,\n",
    "          \"reverse_compliment\": True,\n",
    "          \"n_filters\": 1024,\n",
    "          \"bottleneck_factor\": 1,\n",
    "          \"no_inception\": False,\n",
    "          \"groups\": 8,\n",
    "          \"n_layers\": 8,\n",
    "          \"n_inception_layers\": 8,\n",
    "          \"inception_layers_after\": True,\n",
    "          \"inception_version\": 2,\n",
    "          \"activation\": \"gelu\",\n",
    "          \"batch_norm_momentum\": 0.1,\n",
    "          \"dilation_base\": 1,\n",
    "          \"rezero\": False,\n",
    "          \"batch_norm\": True,\n",
    "          \"batch_size\": 64,\n",
    "          \"head_kernel_size\": 1,\n",
    "          \"kernel_size\": 3,\n",
    "          \"weight_decay\": 1e-3,\n",
    "          \"lr\": 3e-3,\n",
    "          \"scheduler\": False,\n",
    "          \"savename\": f\"HepG2_{frag_num}_fold{fold}\",\n",
    "          \"amp\": True,\n",
    "          \"ema\": True,\n",
    "          \"notes\": \"v2\",\n",
    "          \"tags\": [\"HepG2\", f'{frag_num}',f'fold{fold}']\n",
    "        }\n",
    "        json.dump(default_config, open(f'./config_dir/v2/HepG2_{frag_num}_fold{fold}.JSON', 'w'), indent=4)\n",
    "        \n",
    "    "
   ]
  },
  {
   "cell_type": "code",
   "execution_count": 68,
   "id": "6171ea17-96e7-4a65-b0d7-ede8fd5a737e",
   "metadata": {},
   "outputs": [],
   "source": [
    "for k in printer_dict:\n",
    "    printer_dict[k].close()"
   ]
  },
  {
   "cell_type": "code",
   "execution_count": 69,
   "id": "804caaed-ebd9-4043-bd64-7047f989b159",
   "metadata": {},
   "outputs": [],
   "source": [
    "printer.close()"
   ]
  },
  {
   "cell_type": "code",
   "execution_count": 87,
   "id": "f0e299f4-79ea-4c77-9f2a-7600165b6587",
   "metadata": {},
   "outputs": [],
   "source": [
    "models = [\"HepG2_10000000_fold0-prosperous-goat-117.pt\",\n",
    "\"HepG2_10000000_fold1-resplendent-orchid-118.pt\",\n",
    "\"HepG2_10000000_fold2-prosperous-lamp-116.pt\",\n",
    "\"HepG2_10000000_fold3-prosperous-envelope-119.pt\",\n",
    "\"HepG2_10000000_fold4-flashing-chrysanthemum-120.pt\",\n",
    "\"HepG2_1000000_fold0-fortuitous-chrysanthemum-126.pt\",\n",
    "\"HepG2_1000000_fold1-abundant-fish-127.pt\",\n",
    "\"HepG2_1000000_fold2-crimson-moon-128.pt\",\n",
    "\"HepG2_1000000_fold3-resplendent-chrysanthemum-129.pt\",\n",
    "\"HepG2_1000000_fold4-incandescent-goat-129.pt\",\n",
    "\"HepG2_25000000_fold0-virtuous-dragon-112.pt\",\n",
    "\"HepG2_25000000_fold1-thriving-goat-111.pt\",\n",
    "\"HepG2_25000000_fold2-lunar-dog-113.pt\",\n",
    "\"HepG2_25000000_fold3-dazzling-pig-115.pt\",\n",
    "\"HepG2_25000000_fold4-sparkling-rabbit-114.pt\",\n",
    "\"HepG2_50000000_fold0-incandescent-chrysanthemum-106.pt\",\n",
    "\"HepG2_50000000_fold1-dancing-lantern-106.pt\",\n",
    "\"HepG2_50000000_fold2-radiant-chrysanthemum-106.pt\",\n",
    "\"HepG2_50000000_fold3-filigreed-rabbit-110.pt\",\n",
    "\"HepG2_50000000_fold4-golden-rocket-109.pt\",\n",
    "\"HepG2_5000000_fold0-glittering-goat-122.pt\",\n",
    "\"HepG2_5000000_fold1-sparkling-dragon-121.pt\",\n",
    "\"HepG2_5000000_fold2-fortuitous-dog-123.pt\",\n",
    "\"HepG2_5000000_fold3-vermilion-tiger-124.pt\",\n",
    "\"HepG2_5000000_fold4-bright-festival-125.pt\"]"
   ]
  },
  {
   "cell_type": "code",
   "execution_count": 90,
   "id": "9a8e5a23-debd-44fb-a972-42cd6870ce27",
   "metadata": {
    "scrolled": true
   },
   "outputs": [
    {
     "name": "stdout",
     "output_type": "stream",
     "text": [
      "python evaluation_model.py --pt ../PRINT_rev/HepG2/final_model/HepG2_10000000_fold0-prosperous-goat-117.pt  --peaks ../PRINT_rev/HepG2/peaks.bed  --method shap_hypo --wrapper count --nth_output 0 --gpus 0 --genome hg38 --overwrite --decay 0.85 &\n",
      "python evaluation_model.py --pt ../PRINT_rev/HepG2/final_model/HepG2_10000000_fold1-resplendent-orchid-118.pt  --peaks ../PRINT_rev/HepG2/peaks.bed  --method shap_hypo --wrapper count --nth_output 0 --gpus 0 --genome hg38 --overwrite --decay 0.85 &\n",
      "python evaluation_model.py --pt ../PRINT_rev/HepG2/final_model/HepG2_10000000_fold2-prosperous-lamp-116.pt  --peaks ../PRINT_rev/HepG2/peaks.bed  --method shap_hypo --wrapper count --nth_output 0 --gpus 0 --genome hg38 --overwrite --decay 0.85 &\n",
      "python evaluation_model.py --pt ../PRINT_rev/HepG2/final_model/HepG2_10000000_fold3-prosperous-envelope-119.pt  --peaks ../PRINT_rev/HepG2/peaks.bed  --method shap_hypo --wrapper count --nth_output 0 --gpus 0 --genome hg38 --overwrite --decay 0.85 &\n",
      "python evaluation_model.py --pt ../PRINT_rev/HepG2/final_model/HepG2_10000000_fold4-flashing-chrysanthemum-120.pt  --peaks ../PRINT_rev/HepG2/peaks.bed  --method shap_hypo --wrapper count --nth_output 0 --gpus 0 --genome hg38 --overwrite --decay 0.85 &\n",
      "python evaluation_model.py --pt ../PRINT_rev/HepG2/final_model/HepG2_1000000_fold0-fortuitous-chrysanthemum-126.pt  --peaks ../PRINT_rev/HepG2/peaks.bed  --method shap_hypo --wrapper count --nth_output 0 --gpus 0 --genome hg38 --overwrite --decay 0.85 &\n",
      "python evaluation_model.py --pt ../PRINT_rev/HepG2/final_model/HepG2_1000000_fold1-abundant-fish-127.pt  --peaks ../PRINT_rev/HepG2/peaks.bed  --method shap_hypo --wrapper count --nth_output 0 --gpus 0 --genome hg38 --overwrite --decay 0.85 &\n",
      "python evaluation_model.py --pt ../PRINT_rev/HepG2/final_model/HepG2_1000000_fold2-crimson-moon-128.pt  --peaks ../PRINT_rev/HepG2/peaks.bed  --method shap_hypo --wrapper count --nth_output 0 --gpus 0 --genome hg38 --overwrite --decay 0.85 &\n",
      "python evaluation_model.py --pt ../PRINT_rev/HepG2/final_model/HepG2_1000000_fold3-resplendent-chrysanthemum-129.pt  --peaks ../PRINT_rev/HepG2/peaks.bed  --method shap_hypo --wrapper count --nth_output 0 --gpus 0 --genome hg38 --overwrite --decay 0.85 &\n",
      "python evaluation_model.py --pt ../PRINT_rev/HepG2/final_model/HepG2_1000000_fold4-incandescent-goat-129.pt  --peaks ../PRINT_rev/HepG2/peaks.bed  --method shap_hypo --wrapper count --nth_output 0 --gpus 0 --genome hg38 --overwrite --decay 0.85 &\n",
      "python evaluation_model.py --pt ../PRINT_rev/HepG2/final_model/HepG2_25000000_fold0-virtuous-dragon-112.pt  --peaks ../PRINT_rev/HepG2/peaks.bed  --method shap_hypo --wrapper count --nth_output 0 --gpus 0 --genome hg38 --overwrite --decay 0.85 &\n",
      "python evaluation_model.py --pt ../PRINT_rev/HepG2/final_model/HepG2_25000000_fold1-thriving-goat-111.pt  --peaks ../PRINT_rev/HepG2/peaks.bed  --method shap_hypo --wrapper count --nth_output 0 --gpus 0 --genome hg38 --overwrite --decay 0.85 &\n",
      "python evaluation_model.py --pt ../PRINT_rev/HepG2/final_model/HepG2_25000000_fold2-lunar-dog-113.pt  --peaks ../PRINT_rev/HepG2/peaks.bed  --method shap_hypo --wrapper count --nth_output 0 --gpus 0 --genome hg38 --overwrite --decay 0.85 &\n",
      "python evaluation_model.py --pt ../PRINT_rev/HepG2/final_model/HepG2_25000000_fold3-dazzling-pig-115.pt  --peaks ../PRINT_rev/HepG2/peaks.bed  --method shap_hypo --wrapper count --nth_output 0 --gpus 0 --genome hg38 --overwrite --decay 0.85 &\n",
      "python evaluation_model.py --pt ../PRINT_rev/HepG2/final_model/HepG2_25000000_fold4-sparkling-rabbit-114.pt  --peaks ../PRINT_rev/HepG2/peaks.bed  --method shap_hypo --wrapper count --nth_output 0 --gpus 0 --genome hg38 --overwrite --decay 0.85 &\n",
      "python evaluation_model.py --pt ../PRINT_rev/HepG2/final_model/HepG2_50000000_fold0-incandescent-chrysanthemum-106.pt  --peaks ../PRINT_rev/HepG2/peaks.bed  --method shap_hypo --wrapper count --nth_output 0 --gpus 0 --genome hg38 --overwrite --decay 0.85 &\n",
      "python evaluation_model.py --pt ../PRINT_rev/HepG2/final_model/HepG2_50000000_fold1-dancing-lantern-106.pt  --peaks ../PRINT_rev/HepG2/peaks.bed  --method shap_hypo --wrapper count --nth_output 0 --gpus 0 --genome hg38 --overwrite --decay 0.85 &\n",
      "python evaluation_model.py --pt ../PRINT_rev/HepG2/final_model/HepG2_50000000_fold2-radiant-chrysanthemum-106.pt  --peaks ../PRINT_rev/HepG2/peaks.bed  --method shap_hypo --wrapper count --nth_output 0 --gpus 0 --genome hg38 --overwrite --decay 0.85 &\n",
      "python evaluation_model.py --pt ../PRINT_rev/HepG2/final_model/HepG2_50000000_fold3-filigreed-rabbit-110.pt  --peaks ../PRINT_rev/HepG2/peaks.bed  --method shap_hypo --wrapper count --nth_output 0 --gpus 0 --genome hg38 --overwrite --decay 0.85 &\n",
      "python evaluation_model.py --pt ../PRINT_rev/HepG2/final_model/HepG2_50000000_fold4-golden-rocket-109.pt  --peaks ../PRINT_rev/HepG2/peaks.bed  --method shap_hypo --wrapper count --nth_output 0 --gpus 0 --genome hg38 --overwrite --decay 0.85 &\n",
      "python evaluation_model.py --pt ../PRINT_rev/HepG2/final_model/HepG2_5000000_fold0-glittering-goat-122.pt  --peaks ../PRINT_rev/HepG2/peaks.bed  --method shap_hypo --wrapper count --nth_output 0 --gpus 0 --genome hg38 --overwrite --decay 0.85 &\n",
      "python evaluation_model.py --pt ../PRINT_rev/HepG2/final_model/HepG2_5000000_fold1-sparkling-dragon-121.pt  --peaks ../PRINT_rev/HepG2/peaks.bed  --method shap_hypo --wrapper count --nth_output 0 --gpus 0 --genome hg38 --overwrite --decay 0.85 &\n",
      "python evaluation_model.py --pt ../PRINT_rev/HepG2/final_model/HepG2_5000000_fold2-fortuitous-dog-123.pt  --peaks ../PRINT_rev/HepG2/peaks.bed  --method shap_hypo --wrapper count --nth_output 0 --gpus 0 --genome hg38 --overwrite --decay 0.85 &\n",
      "python evaluation_model.py --pt ../PRINT_rev/HepG2/final_model/HepG2_5000000_fold3-vermilion-tiger-124.pt  --peaks ../PRINT_rev/HepG2/peaks.bed  --method shap_hypo --wrapper count --nth_output 0 --gpus 0 --genome hg38 --overwrite --decay 0.85 &\n",
      "python evaluation_model.py --pt ../PRINT_rev/HepG2/final_model/HepG2_5000000_fold4-bright-festival-125.pt  --peaks ../PRINT_rev/HepG2/peaks.bed  --method shap_hypo --wrapper count --nth_output 0 --gpus 0 --genome hg38 --overwrite --decay 0.85 &\n"
     ]
    }
   ],
   "source": [
    "commands = [f\"python evaluation_model.py --pt ../PRINT_rev/HepG2/final_model/{model}  --peaks ../PRINT_rev/HepG2/peaks.bed  --method shap_hypo --wrapper count --nth_output 0 --gpus 0 --genome hg38 --overwrite --decay 0.85 &\"  for model in models]\n",
    "for c in commands:\n",
    "    print (c)"
   ]
  },
  {
   "cell_type": "code",
   "execution_count": 91,
   "id": "9617a0a2-0b00-4a05-baaa-f90694ae0f3e",
   "metadata": {},
   "outputs": [
    {
     "name": "stdout",
     "output_type": "stream",
     "text": [
      "python evaluation_model.py --pt ../PRINT_rev/HepG2/final_model/HepG2_10000000_fold0-prosperous-goat-117.pt  --peaks ../PRINT_rev/HepG2/peaks.bed  --method shap_hypo --wrapper just_sum --nth_output 0-30 --gpus 0 --genome hg38 --overwrite --decay 0.85 &\n",
      "python evaluation_model.py --pt ../PRINT_rev/HepG2/final_model/HepG2_10000000_fold1-resplendent-orchid-118.pt  --peaks ../PRINT_rev/HepG2/peaks.bed  --method shap_hypo --wrapper just_sum --nth_output 0-30 --gpus 0 --genome hg38 --overwrite --decay 0.85 &\n",
      "python evaluation_model.py --pt ../PRINT_rev/HepG2/final_model/HepG2_10000000_fold2-prosperous-lamp-116.pt  --peaks ../PRINT_rev/HepG2/peaks.bed  --method shap_hypo --wrapper just_sum --nth_output 0-30 --gpus 0 --genome hg38 --overwrite --decay 0.85 &\n",
      "python evaluation_model.py --pt ../PRINT_rev/HepG2/final_model/HepG2_10000000_fold3-prosperous-envelope-119.pt  --peaks ../PRINT_rev/HepG2/peaks.bed  --method shap_hypo --wrapper just_sum --nth_output 0-30 --gpus 0 --genome hg38 --overwrite --decay 0.85 &\n",
      "python evaluation_model.py --pt ../PRINT_rev/HepG2/final_model/HepG2_10000000_fold4-flashing-chrysanthemum-120.pt  --peaks ../PRINT_rev/HepG2/peaks.bed  --method shap_hypo --wrapper just_sum --nth_output 0-30 --gpus 0 --genome hg38 --overwrite --decay 0.85 &\n",
      "python evaluation_model.py --pt ../PRINT_rev/HepG2/final_model/HepG2_1000000_fold0-fortuitous-chrysanthemum-126.pt  --peaks ../PRINT_rev/HepG2/peaks.bed  --method shap_hypo --wrapper just_sum --nth_output 0-30 --gpus 0 --genome hg38 --overwrite --decay 0.85 &\n",
      "python evaluation_model.py --pt ../PRINT_rev/HepG2/final_model/HepG2_1000000_fold1-abundant-fish-127.pt  --peaks ../PRINT_rev/HepG2/peaks.bed  --method shap_hypo --wrapper just_sum --nth_output 0-30 --gpus 0 --genome hg38 --overwrite --decay 0.85 &\n",
      "python evaluation_model.py --pt ../PRINT_rev/HepG2/final_model/HepG2_1000000_fold2-crimson-moon-128.pt  --peaks ../PRINT_rev/HepG2/peaks.bed  --method shap_hypo --wrapper just_sum --nth_output 0-30 --gpus 0 --genome hg38 --overwrite --decay 0.85 &\n",
      "python evaluation_model.py --pt ../PRINT_rev/HepG2/final_model/HepG2_1000000_fold3-resplendent-chrysanthemum-129.pt  --peaks ../PRINT_rev/HepG2/peaks.bed  --method shap_hypo --wrapper just_sum --nth_output 0-30 --gpus 0 --genome hg38 --overwrite --decay 0.85 &\n",
      "python evaluation_model.py --pt ../PRINT_rev/HepG2/final_model/HepG2_1000000_fold4-incandescent-goat-129.pt  --peaks ../PRINT_rev/HepG2/peaks.bed  --method shap_hypo --wrapper just_sum --nth_output 0-30 --gpus 0 --genome hg38 --overwrite --decay 0.85 &\n",
      "python evaluation_model.py --pt ../PRINT_rev/HepG2/final_model/HepG2_25000000_fold0-virtuous-dragon-112.pt  --peaks ../PRINT_rev/HepG2/peaks.bed  --method shap_hypo --wrapper just_sum --nth_output 0-30 --gpus 0 --genome hg38 --overwrite --decay 0.85 &\n",
      "python evaluation_model.py --pt ../PRINT_rev/HepG2/final_model/HepG2_25000000_fold1-thriving-goat-111.pt  --peaks ../PRINT_rev/HepG2/peaks.bed  --method shap_hypo --wrapper just_sum --nth_output 0-30 --gpus 0 --genome hg38 --overwrite --decay 0.85 &\n",
      "python evaluation_model.py --pt ../PRINT_rev/HepG2/final_model/HepG2_25000000_fold2-lunar-dog-113.pt  --peaks ../PRINT_rev/HepG2/peaks.bed  --method shap_hypo --wrapper just_sum --nth_output 0-30 --gpus 0 --genome hg38 --overwrite --decay 0.85 &\n",
      "python evaluation_model.py --pt ../PRINT_rev/HepG2/final_model/HepG2_25000000_fold3-dazzling-pig-115.pt  --peaks ../PRINT_rev/HepG2/peaks.bed  --method shap_hypo --wrapper just_sum --nth_output 0-30 --gpus 0 --genome hg38 --overwrite --decay 0.85 &\n",
      "python evaluation_model.py --pt ../PRINT_rev/HepG2/final_model/HepG2_25000000_fold4-sparkling-rabbit-114.pt  --peaks ../PRINT_rev/HepG2/peaks.bed  --method shap_hypo --wrapper just_sum --nth_output 0-30 --gpus 0 --genome hg38 --overwrite --decay 0.85 &\n",
      "python evaluation_model.py --pt ../PRINT_rev/HepG2/final_model/HepG2_50000000_fold0-incandescent-chrysanthemum-106.pt  --peaks ../PRINT_rev/HepG2/peaks.bed  --method shap_hypo --wrapper just_sum --nth_output 0-30 --gpus 0 --genome hg38 --overwrite --decay 0.85 &\n",
      "python evaluation_model.py --pt ../PRINT_rev/HepG2/final_model/HepG2_50000000_fold1-dancing-lantern-106.pt  --peaks ../PRINT_rev/HepG2/peaks.bed  --method shap_hypo --wrapper just_sum --nth_output 0-30 --gpus 0 --genome hg38 --overwrite --decay 0.85 &\n",
      "python evaluation_model.py --pt ../PRINT_rev/HepG2/final_model/HepG2_50000000_fold2-radiant-chrysanthemum-106.pt  --peaks ../PRINT_rev/HepG2/peaks.bed  --method shap_hypo --wrapper just_sum --nth_output 0-30 --gpus 0 --genome hg38 --overwrite --decay 0.85 &\n",
      "python evaluation_model.py --pt ../PRINT_rev/HepG2/final_model/HepG2_50000000_fold3-filigreed-rabbit-110.pt  --peaks ../PRINT_rev/HepG2/peaks.bed  --method shap_hypo --wrapper just_sum --nth_output 0-30 --gpus 0 --genome hg38 --overwrite --decay 0.85 &\n",
      "python evaluation_model.py --pt ../PRINT_rev/HepG2/final_model/HepG2_50000000_fold4-golden-rocket-109.pt  --peaks ../PRINT_rev/HepG2/peaks.bed  --method shap_hypo --wrapper just_sum --nth_output 0-30 --gpus 0 --genome hg38 --overwrite --decay 0.85 &\n",
      "python evaluation_model.py --pt ../PRINT_rev/HepG2/final_model/HepG2_5000000_fold0-glittering-goat-122.pt  --peaks ../PRINT_rev/HepG2/peaks.bed  --method shap_hypo --wrapper just_sum --nth_output 0-30 --gpus 0 --genome hg38 --overwrite --decay 0.85 &\n",
      "python evaluation_model.py --pt ../PRINT_rev/HepG2/final_model/HepG2_5000000_fold1-sparkling-dragon-121.pt  --peaks ../PRINT_rev/HepG2/peaks.bed  --method shap_hypo --wrapper just_sum --nth_output 0-30 --gpus 0 --genome hg38 --overwrite --decay 0.85 &\n",
      "python evaluation_model.py --pt ../PRINT_rev/HepG2/final_model/HepG2_5000000_fold2-fortuitous-dog-123.pt  --peaks ../PRINT_rev/HepG2/peaks.bed  --method shap_hypo --wrapper just_sum --nth_output 0-30 --gpus 0 --genome hg38 --overwrite --decay 0.85 &\n",
      "python evaluation_model.py --pt ../PRINT_rev/HepG2/final_model/HepG2_5000000_fold3-vermilion-tiger-124.pt  --peaks ../PRINT_rev/HepG2/peaks.bed  --method shap_hypo --wrapper just_sum --nth_output 0-30 --gpus 0 --genome hg38 --overwrite --decay 0.85 &\n",
      "python evaluation_model.py --pt ../PRINT_rev/HepG2/final_model/HepG2_5000000_fold4-bright-festival-125.pt  --peaks ../PRINT_rev/HepG2/peaks.bed  --method shap_hypo --wrapper just_sum --nth_output 0-30 --gpus 0 --genome hg38 --overwrite --decay 0.85 &\n"
     ]
    }
   ],
   "source": [
    "commands = [f\"python evaluation_model.py --pt ../PRINT_rev/HepG2/final_model/{model}  --peaks ../PRINT_rev/HepG2/peaks.bed  --method shap_hypo --wrapper just_sum --nth_output 0-30 --gpus 0 --genome hg38 --overwrite --decay 0.85 &\"  for model in models]\n",
    "for c in commands:\n",
    "    print (c)"
   ]
  },
  {
   "cell_type": "markdown",
   "id": "7504ac58-cc26-41d6-b10c-992ab8a84d2c",
   "metadata": {},
   "source": [
    "# HepG2 downsample evaluate"
   ]
  },
  {
   "cell_type": "code",
   "execution_count": 114,
   "id": "a060b82e-dd3d-43fa-91bb-3bda75616b30",
   "metadata": {},
   "outputs": [],
   "source": [
    "feats = ['attr.count.shap_hypo_0_.0.85.bigwig',\n",
    "         'attr.just_sum.shap_hypo_0-30_.0.85.bigwig',\n",
    "        ]"
   ]
  },
  {
   "cell_type": "code",
   "execution_count": 115,
   "id": "7b69e131-d639-4ffa-9af6-dfd57677204a",
   "metadata": {},
   "outputs": [],
   "source": [
    "tsv_paths = {\n",
    "    'HepG2_50M': \"/data/rzhang/PRINT_rev/HepG2/TF_prediction.tsv\",\n",
    "    'HepG2_25M': \"/data/rzhang/PRINT_rev/HepG2/TF_prediction.tsv\",\n",
    "    'HepG2_10M': \"/data/rzhang/PRINT_rev/HepG2/TF_prediction.tsv\",\n",
    "    'HepG2_5M': \"/data/rzhang/PRINT_rev/HepG2/TF_prediction.tsv\",\n",
    "    'HepG2_2.5M': \"/data/rzhang/PRINT_rev/HepG2/TF_prediction.tsv\",\n",
    "    'HepG2_1M': \"/data/rzhang/PRINT_rev/HepG2/TF_prediction.tsv\",\n",
    "    'HepG2_full':\"/data/rzhang/PRINT_rev/HepG2/TF_prediction.tsv\",\n",
    "}\n",
    "peaks_path = {\n",
    "    'HepG2_50M': \"/data/rzhang/PRINT_rev/HepG2/peaks.bed\",\n",
    "    'HepG2_25M': \"/data/rzhang/PRINT_rev/HepG2/peaks.bed\",\n",
    "    'HepG2_10M': \"/data/rzhang/PRINT_rev/HepG2/peaks.bed\",\n",
    "    'HepG2_5M': \"/data/rzhang/PRINT_rev/HepG2/peaks.bed\",\n",
    "    'HepG2_2.5M': \"/data/rzhang/PRINT_rev/HepG2/peaks.bed\",\n",
    "    'HepG2_1M': \"/data/rzhang/PRINT_rev/HepG2/peaks.bed\",\n",
    "    'HepG2_full':\"/data/rzhang/PRINT_rev/HepG2/peaks.bed\"\n",
    "}\n",
    "\n",
    "model_name = {\n",
    "    'HepG2_50M': [\"/data/rzhang/PRINT_rev/HepG2/final_model/HepG2_50000000_fold0-incandescent-chrysanthemum-106.pt_deepshap\",\n",
    "                \"/data/rzhang/PRINT_rev/HepG2/final_model/HepG2_50000000_fold1-dancing-lantern-106.pt_deepshap\",\n",
    "                \"/data/rzhang/PRINT_rev/HepG2/final_model/HepG2_50000000_fold2-radiant-chrysanthemum-106.pt_deepshap\",\n",
    "                \"/data/rzhang/PRINT_rev/HepG2/final_model/HepG2_50000000_fold3-filigreed-rabbit-110.pt_deepshap\",\n",
    "                \"/data/rzhang/PRINT_rev/HepG2/final_model/HepG2_50000000_fold4-golden-rocket-109.pt_deepshap\",],\n",
    "    'HepG2_25M': [\"/data/rzhang/PRINT_rev/HepG2/final_model/HepG2_25000000_fold0-virtuous-dragon-112.pt_deepshap\",\n",
    "                \"/data/rzhang/PRINT_rev/HepG2/final_model/HepG2_25000000_fold1-thriving-goat-111.pt_deepshap\",\n",
    "                \"/data/rzhang/PRINT_rev/HepG2/final_model/HepG2_25000000_fold2-lunar-dog-113.pt_deepshap\",\n",
    "                \"/data/rzhang/PRINT_rev/HepG2/final_model/HepG2_25000000_fold3-dazzling-pig-115.pt_deepshap\",\n",
    "                \"/data/rzhang/PRINT_rev/HepG2/final_model/HepG2_25000000_fold4-sparkling-rabbit-114.pt_deepshap\",],\n",
    "    'HepG2_10M': [\"/data/rzhang/PRINT_rev/HepG2/final_model/HepG2_10000000_fold0-prosperous-goat-117.pt_deepshap\",\n",
    "                \"/data/rzhang/PRINT_rev/HepG2/final_model/HepG2_10000000_fold1-resplendent-orchid-118.pt_deepshap\",\n",
    "                \"/data/rzhang/PRINT_rev/HepG2/final_model/HepG2_10000000_fold2-prosperous-lamp-116.pt_deepshap\",\n",
    "                \"/data/rzhang/PRINT_rev/HepG2/final_model/HepG2_10000000_fold3-prosperous-envelope-119.pt_deepshap\",\n",
    "                \"/data/rzhang/PRINT_rev/HepG2/final_model/HepG2_10000000_fold4-flashing-chrysanthemum-120.pt_deepshap\",],\n",
    "    'HepG2_5M': [\"/data/rzhang/PRINT_rev/HepG2/final_model/HepG2_5000000_fold0-glittering-goat-122.pt_deepshap\",\n",
    "                \"/data/rzhang/PRINT_rev/HepG2/final_model/HepG2_5000000_fold1-sparkling-dragon-121.pt_deepshap\",\n",
    "                \"/data/rzhang/PRINT_rev/HepG2/final_model/HepG2_5000000_fold2-fortuitous-dog-123.pt_deepshap\",\n",
    "                \"/data/rzhang/PRINT_rev/HepG2/final_model/HepG2_5000000_fold3-vermilion-tiger-124.pt_deepshap\",\n",
    "                \"/data/rzhang/PRINT_rev/HepG2/final_model/HepG2_5000000_fold4-bright-festival-125.pt_deepshap\"],\n",
    "    'HepG2_2.5M': [\"/data/rzhang/PRINT_rev/HepG2/final_model/HepG2_2500000_fold0-stellar-snowflake-159.pt_deepshap\",\n",
    "                \"/data/rzhang/PRINT_rev/HepG2/final_model/HepG2_2500000_fold1-prime-frost-157.pt_deepshap\",\n",
    "                \"/data/rzhang/PRINT_rev/HepG2/final_model/HepG2_2500000_fold2-radiant-forest-158.pt_deepshap\",\n",
    "                \"/data/rzhang/PRINT_rev/HepG2/final_model/HepG2_2500000_fold3-daily-violet-156.pt_deepshap\",\n",
    "                \"/data/rzhang/PRINT_rev/HepG2/final_model/HepG2_2500000_fold4-flowing-sun-160.pt_deepshap\"],\n",
    "    'HepG2_1M': [\"/data/rzhang/PRINT_rev/HepG2/final_model/HepG2_1000000_fold0-fortuitous-chrysanthemum-126.pt_deepshap\",\n",
    "            \"/data/rzhang/PRINT_rev/HepG2/final_model/HepG2_1000000_fold1-abundant-fish-127.pt_deepshap\",\n",
    "            \"/data/rzhang/PRINT_rev/HepG2/final_model/HepG2_1000000_fold2-crimson-moon-128.pt_deepshap\",\n",
    "            \"/data/rzhang/PRINT_rev/HepG2/final_model/HepG2_1000000_fold3-resplendent-chrysanthemum-129.pt_deepshap\",\n",
    "            \"/data/rzhang/PRINT_rev/HepG2/final_model/HepG2_1000000_fold4-incandescent-goat-129.pt_deepshap\",\n",
    "            ],\n",
    "    'HepG2_full': [\"/data/rzhang/PRINT_rev/HepG2/final_model/HepG2_fold0-crimson-bao-8.pt_deepshap\",\n",
    "                   \"/data/rzhang/PRINT_rev/HepG2/final_model/HepG2_fold1-auspicious-rocket-9.pt_deepshap\",\n",
    "                   \"/data/rzhang/PRINT_rev/HepG2/final_model/HepG2_fold2-prosperous-fish-8.pt_deepshap\",\n",
    "                    \"/data/rzhang/PRINT_rev/HepG2/final_model/HepG2_fold3-prosperous-bao-11.pt_deepshap\",\n",
    "                    \"/data/rzhang/PRINT_rev/HepG2/final_model/HepG2_fold4-radiant-paper-12.pt_deepshap\",\n",
    "                  ]\n",
    "}\n"
   ]
  },
  {
   "cell_type": "code",
   "execution_count": 11,
   "id": "8c84fe9e-7bec-4313-8815-85b9d9ec2181",
   "metadata": {},
   "outputs": [],
   "source": [
    "\n",
    "def read_TF_loci(path):\n",
    "    TF_prediction = pd.read_csv(path, sep='\\t')\n",
    "    if 'range' in TF_prediction.columns:\n",
    "        ranges = pd.DataFrame([re.split(':|-', xx) for xx in TF_prediction['range']])\n",
    "        ranges = ranges[[0,1,2,3]]\n",
    "        v = np.array(ranges[3])\n",
    "        v[v == ''] = '-'\n",
    "        ranges[3] = v\n",
    "        ranges.columns = ['chrom','start','end', 'strand']\n",
    "        ranges['start'] = ranges['start'].astype('int')\n",
    "        ranges['end'] = ranges['end'].astype('int')\n",
    "        TF_prediction = pd.concat([TF_prediction, ranges], axis=1)\n",
    "    else:\n",
    "        TF_prediction = pd.read_csv(path, sep='\\t', header=None)\n",
    "        TF_prediction.columns = ['chrom','start','end', 'bound', 'TF']\n",
    "        TF_prediction['strand'] = '+'\n",
    "    # TF_prediction = TF_prediction.sort_values(by=['bound'], ascending=False) # sort such that bound = 1, comes first, and will be kept.\n",
    "    TF_prediction['summit'] = (TF_prediction['start']-1 + TF_prediction['end']) // 2\n",
    "    # TF_prediction = TF_prediction.drop_duplicates(['chrom','start', 'end'])\n",
    "    # TF_prediction = TF_prediction[TF_prediction['chrom'].isin(['chr1', 'chr3', 'chr6'])]\n",
    "    return TF_prediction\n",
    "\n",
    "def read_peaks(path):\n",
    "    df = pd.read_csv(path, sep='\\t', header=None)\n",
    "    df.columns = ['chrom', 'start', 'end']\n",
    "    print (df)\n",
    "    return df\n",
    "\n",
    "def get_normalization_factor(model, feat, peak, low=0.05, \n",
    "                             median = 0.5,\n",
    "                             high=0.95, sample_num=30000):\n",
    "    vs = []\n",
    "    with pyBigWig.open(f\"{model}/{feat}\", 'r') as f:\n",
    "        chroms = f.chroms().keys()\n",
    "        print (chroms)\n",
    "        peaks = peak[peak['chrom'].isin(chroms)].copy()\n",
    "        peaks = peaks.sample(sample_num, replace=True).copy()\n",
    "        for chrom, start, end in zip(peaks['chrom'], peaks['start'], peaks['end']):\n",
    "            v = f.values(chrom, int(start), int(end), numpy=True)\n",
    "            vs.append(v)\n",
    "            \n",
    "    vs = np.concatenate(vs)\n",
    "    vs = np.nan_to_num(vs)\n",
    "    return np.quantile(vs, low), np.quantile(vs, median), np.quantile(vs, high)\n",
    "motifs = scp.motifs.Motifs(\"/data/rzhang/cisBP_human_pwms_2021.jaspar\", \n",
    "                           scp.genome.hg38.fetch_fa(), scp.genome.hg38.bg)\n",
    "motif2matrix = {motif.name: np.array([motif.counts['A'], motif.counts['C'], motif.counts['G'], motif.counts['T']]) for motif in motifs.all_motifs}"
   ]
  },
  {
   "cell_type": "code",
   "execution_count": 12,
   "id": "8e7eb039-ad5b-47ce-8725-b5ce7761a39a",
   "metadata": {
    "scrolled": true
   },
   "outputs": [
    {
     "name": "stdout",
     "output_type": "stream",
     "text": [
      "       chrom      start        end\n",
      "0       chr1     827026     828026\n",
      "1       chr1     857897     858897\n",
      "2       chr1     860538     861538\n",
      "3       chr1     869441     870441\n",
      "4       chr1     876235     877235\n",
      "...      ...        ...        ...\n",
      "168743  chrX  155196066  155197066\n",
      "168744  chrX  155215887  155216887\n",
      "168745  chrX  155264002  155265002\n",
      "168746  chrX  155293509  155294509\n",
      "168747  chrX  155612275  155613275\n",
      "\n",
      "[168748 rows x 3 columns]\n",
      "       chrom      start        end\n",
      "0       chr1     827026     828026\n",
      "1       chr1     857897     858897\n",
      "2       chr1     860538     861538\n",
      "3       chr1     869441     870441\n",
      "4       chr1     876235     877235\n",
      "...      ...        ...        ...\n",
      "168743  chrX  155196066  155197066\n",
      "168744  chrX  155215887  155216887\n",
      "168745  chrX  155264002  155265002\n",
      "168746  chrX  155293509  155294509\n",
      "168747  chrX  155612275  155613275\n",
      "\n",
      "[168748 rows x 3 columns]\n",
      "       chrom      start        end\n",
      "0       chr1     827026     828026\n",
      "1       chr1     857897     858897\n",
      "2       chr1     860538     861538\n",
      "3       chr1     869441     870441\n",
      "4       chr1     876235     877235\n",
      "...      ...        ...        ...\n",
      "168743  chrX  155196066  155197066\n",
      "168744  chrX  155215887  155216887\n",
      "168745  chrX  155264002  155265002\n",
      "168746  chrX  155293509  155294509\n",
      "168747  chrX  155612275  155613275\n",
      "\n",
      "[168748 rows x 3 columns]\n",
      "       chrom      start        end\n",
      "0       chr1     827026     828026\n",
      "1       chr1     857897     858897\n",
      "2       chr1     860538     861538\n",
      "3       chr1     869441     870441\n",
      "4       chr1     876235     877235\n",
      "...      ...        ...        ...\n",
      "168743  chrX  155196066  155197066\n",
      "168744  chrX  155215887  155216887\n",
      "168745  chrX  155264002  155265002\n",
      "168746  chrX  155293509  155294509\n",
      "168747  chrX  155612275  155613275\n",
      "\n",
      "[168748 rows x 3 columns]\n",
      "       chrom      start        end\n",
      "0       chr1     827026     828026\n",
      "1       chr1     857897     858897\n",
      "2       chr1     860538     861538\n",
      "3       chr1     869441     870441\n",
      "4       chr1     876235     877235\n",
      "...      ...        ...        ...\n",
      "168743  chrX  155196066  155197066\n",
      "168744  chrX  155215887  155216887\n",
      "168745  chrX  155264002  155265002\n",
      "168746  chrX  155293509  155294509\n",
      "168747  chrX  155612275  155613275\n",
      "\n",
      "[168748 rows x 3 columns]\n",
      "       chrom      start        end\n",
      "0       chr1     827026     828026\n",
      "1       chr1     857897     858897\n",
      "2       chr1     860538     861538\n",
      "3       chr1     869441     870441\n",
      "4       chr1     876235     877235\n",
      "...      ...        ...        ...\n",
      "168743  chrX  155196066  155197066\n",
      "168744  chrX  155215887  155216887\n",
      "168745  chrX  155264002  155265002\n",
      "168746  chrX  155293509  155294509\n",
      "168747  chrX  155612275  155613275\n",
      "\n",
      "[168748 rows x 3 columns]\n",
      "       chrom      start        end\n",
      "0       chr1     827026     828026\n",
      "1       chr1     857897     858897\n",
      "2       chr1     860538     861538\n",
      "3       chr1     869441     870441\n",
      "4       chr1     876235     877235\n",
      "...      ...        ...        ...\n",
      "168743  chrX  155196066  155197066\n",
      "168744  chrX  155215887  155216887\n",
      "168745  chrX  155264002  155265002\n",
      "168746  chrX  155293509  155294509\n",
      "168747  chrX  155612275  155613275\n",
      "\n",
      "[168748 rows x 3 columns]\n"
     ]
    }
   ],
   "source": [
    "tsvs = {cell:read_TF_loci(tsv_paths[cell]) for cell in tsv_paths}\n",
    "peaks = {cell:read_peaks(peaks_path[cell]) for cell in peaks_path}"
   ]
  },
  {
   "cell_type": "code",
   "execution_count": 13,
   "id": "253d1154-058f-404c-9ae3-52c9584366c7",
   "metadata": {
    "scrolled": true
   },
   "outputs": [
    {
     "data": {
      "application/vnd.jupyter.widget-view+json": {
       "model_id": "d940ace385f942a9b7aa005201162b76",
       "version_major": 2,
       "version_minor": 0
      },
      "text/plain": [
       "  0%|          | 0/70 [00:00<?, ?it/s]"
      ]
     },
     "metadata": {},
     "output_type": "display_data"
    },
    {
     "name": "stdout",
     "output_type": "stream",
     "text": [
      "dict_keys(['chr1', 'chr10', 'chr11', 'chr12', 'chr13', 'chr14', 'chr15', 'chr16', 'chr17', 'chr18', 'chr19', 'chr2', 'chr20', 'chr21', 'chr22', 'chr3', 'chr4', 'chr5', 'chr6', 'chr7', 'chr8', 'chr9', 'chrX'])\n",
      "dict_keys(['chr1', 'chr10', 'chr11', 'chr12', 'chr13', 'chr14', 'chr15', 'chr16', 'chr17', 'chr18', 'chr19', 'chr2', 'chr20', 'chr21', 'chr22', 'chr3', 'chr4', 'chr5', 'chr6', 'chr7', 'chr8', 'chr9', 'chrX'])\n",
      "dict_keys(['chr1', 'chr10', 'chr11', 'chr12', 'chr13', 'chr14', 'chr15', 'chr16', 'chr17', 'chr18', 'chr19', 'chr2', 'chr20', 'chr21', 'chr22', 'chr3', 'chr4', 'chr5', 'chr6', 'chr7', 'chr8', 'chr9', 'chrX'])\n",
      "dict_keys(['chr1', 'chr10', 'chr11', 'chr12', 'chr13', 'chr14', 'chr15', 'chr16', 'chr17', 'chr18', 'chr19', 'chr2', 'chr20', 'chr21', 'chr22', 'chr3', 'chr4', 'chr5', 'chr6', 'chr7', 'chr8', 'chr9', 'chrX'])\n",
      "dict_keys(['chr1', 'chr10', 'chr11', 'chr12', 'chr13', 'chr14', 'chr15', 'chr16', 'chr17', 'chr18', 'chr19', 'chr2', 'chr20', 'chr21', 'chr22', 'chr3', 'chr4', 'chr5', 'chr6', 'chr7', 'chr8', 'chr9', 'chrX'])\n",
      "dict_keys(['chr1', 'chr10', 'chr11', 'chr12', 'chr13', 'chr14', 'chr15', 'chr16', 'chr17', 'chr18', 'chr19', 'chr2', 'chr20', 'chr21', 'chr22', 'chr3', 'chr4', 'chr5', 'chr6', 'chr7', 'chr8', 'chr9', 'chrX'])\n",
      "dict_keys(['chr1', 'chr10', 'chr11', 'chr12', 'chr13', 'chr14', 'chr15', 'chr16', 'chr17', 'chr18', 'chr19', 'chr2', 'chr20', 'chr21', 'chr22', 'chr3', 'chr4', 'chr5', 'chr6', 'chr7', 'chr8', 'chr9', 'chrX'])\n",
      "dict_keys(['chr1', 'chr10', 'chr11', 'chr12', 'chr13', 'chr14', 'chr15', 'chr16', 'chr17', 'chr18', 'chr19', 'chr2', 'chr20', 'chr21', 'chr22', 'chr3', 'chr4', 'chr5', 'chr6', 'chr7', 'chr8', 'chr9', 'chrX'])\n",
      "dict_keys(['chr1', 'chr10', 'chr11', 'chr12', 'chr13', 'chr14', 'chr15', 'chr16', 'chr17', 'chr18', 'chr19', 'chr2', 'chr20', 'chr21', 'chr22', 'chr3', 'chr4', 'chr5', 'chr6', 'chr7', 'chr8', 'chr9', 'chrX'])\n",
      "dict_keys(['chr1', 'chr10', 'chr11', 'chr12', 'chr13', 'chr14', 'chr15', 'chr16', 'chr17', 'chr18', 'chr19', 'chr2', 'chr20', 'chr21', 'chr22', 'chr3', 'chr4', 'chr5', 'chr6', 'chr7', 'chr8', 'chr9', 'chrX'])\n",
      "dict_keys(['chr1', 'chr10', 'chr11', 'chr12', 'chr13', 'chr14', 'chr15', 'chr16', 'chr17', 'chr18', 'chr19', 'chr2', 'chr20', 'chr21', 'chr22', 'chr3', 'chr4', 'chr5', 'chr6', 'chr7', 'chr8', 'chr9', 'chrX'])\n",
      "dict_keys(['chr1', 'chr10', 'chr11', 'chr12', 'chr13', 'chr14', 'chr15', 'chr16', 'chr17', 'chr18', 'chr19', 'chr2', 'chr20', 'chr21', 'chr22', 'chr3', 'chr4', 'chr5', 'chr6', 'chr7', 'chr8', 'chr9', 'chrX'])\n",
      "dict_keys(['chr1', 'chr10', 'chr11', 'chr12', 'chr13', 'chr14', 'chr15', 'chr16', 'chr17', 'chr18', 'chr19', 'chr2', 'chr20', 'chr21', 'chr22', 'chr3', 'chr4', 'chr5', 'chr6', 'chr7', 'chr8', 'chr9', 'chrX'])\n",
      "dict_keys(['chr1', 'chr10', 'chr11', 'chr12', 'chr13', 'chr14', 'chr15', 'chr16', 'chr17', 'chr18', 'chr19', 'chr2', 'chr20', 'chr21', 'chr22', 'chr3', 'chr4', 'chr5', 'chr6', 'chr7', 'chr8', 'chr9', 'chrX'])\n",
      "dict_keys(['chr1', 'chr10', 'chr11', 'chr12', 'chr13', 'chr14', 'chr15', 'chr16', 'chr17', 'chr18', 'chr19', 'chr2', 'chr20', 'chr21', 'chr22', 'chr3', 'chr4', 'chr5', 'chr6', 'chr7', 'chr8', 'chr9', 'chrX'])\n",
      "dict_keys(['chr1', 'chr10', 'chr11', 'chr12', 'chr13', 'chr14', 'chr15', 'chr16', 'chr17', 'chr18', 'chr19', 'chr2', 'chr20', 'chr21', 'chr22', 'chr3', 'chr4', 'chr5', 'chr6', 'chr7', 'chr8', 'chr9', 'chrX'])\n",
      "dict_keys(['chr1', 'chr10', 'chr11', 'chr12', 'chr13', 'chr14', 'chr15', 'chr16', 'chr17', 'chr18', 'chr19', 'chr2', 'chr20', 'chr21', 'chr22', 'chr3', 'chr4', 'chr5', 'chr6', 'chr7', 'chr8', 'chr9', 'chrX'])\n",
      "dict_keys(['chr1', 'chr10', 'chr11', 'chr12', 'chr13', 'chr14', 'chr15', 'chr16', 'chr17', 'chr18', 'chr19', 'chr2', 'chr20', 'chr21', 'chr22', 'chr3', 'chr4', 'chr5', 'chr6', 'chr7', 'chr8', 'chr9', 'chrX'])\n",
      "dict_keys(['chr1', 'chr10', 'chr11', 'chr12', 'chr13', 'chr14', 'chr15', 'chr16', 'chr17', 'chr18', 'chr19', 'chr2', 'chr20', 'chr21', 'chr22', 'chr3', 'chr4', 'chr5', 'chr6', 'chr7', 'chr8', 'chr9', 'chrX'])\n",
      "dict_keys(['chr1', 'chr10', 'chr11', 'chr12', 'chr13', 'chr14', 'chr15', 'chr16', 'chr17', 'chr18', 'chr19', 'chr2', 'chr20', 'chr21', 'chr22', 'chr3', 'chr4', 'chr5', 'chr6', 'chr7', 'chr8', 'chr9', 'chrX'])\n",
      "dict_keys(['chr1', 'chr10', 'chr11', 'chr12', 'chr13', 'chr14', 'chr15', 'chr16', 'chr17', 'chr18', 'chr19', 'chr2', 'chr20', 'chr21', 'chr22', 'chr3', 'chr4', 'chr5', 'chr6', 'chr7', 'chr8', 'chr9', 'chrX'])\n",
      "dict_keys(['chr1', 'chr10', 'chr11', 'chr12', 'chr13', 'chr14', 'chr15', 'chr16', 'chr17', 'chr18', 'chr19', 'chr2', 'chr20', 'chr21', 'chr22', 'chr3', 'chr4', 'chr5', 'chr6', 'chr7', 'chr8', 'chr9', 'chrX'])\n",
      "dict_keys(['chr1', 'chr10', 'chr11', 'chr12', 'chr13', 'chr14', 'chr15', 'chr16', 'chr17', 'chr18', 'chr19', 'chr2', 'chr20', 'chr21', 'chr22', 'chr3', 'chr4', 'chr5', 'chr6', 'chr7', 'chr8', 'chr9', 'chrX'])\n",
      "dict_keys(['chr1', 'chr10', 'chr11', 'chr12', 'chr13', 'chr14', 'chr15', 'chr16', 'chr17', 'chr18', 'chr19', 'chr2', 'chr20', 'chr21', 'chr22', 'chr3', 'chr4', 'chr5', 'chr6', 'chr7', 'chr8', 'chr9', 'chrX'])\n",
      "dict_keys(['chr1', 'chr10', 'chr11', 'chr12', 'chr13', 'chr14', 'chr15', 'chr16', 'chr17', 'chr18', 'chr19', 'chr2', 'chr20', 'chr21', 'chr22', 'chr3', 'chr4', 'chr5', 'chr6', 'chr7', 'chr8', 'chr9', 'chrX'])\n",
      "dict_keys(['chr1', 'chr10', 'chr11', 'chr12', 'chr13', 'chr14', 'chr15', 'chr16', 'chr17', 'chr18', 'chr19', 'chr2', 'chr20', 'chr21', 'chr22', 'chr3', 'chr4', 'chr5', 'chr6', 'chr7', 'chr8', 'chr9', 'chrX'])\n",
      "dict_keys(['chr1', 'chr10', 'chr11', 'chr12', 'chr13', 'chr14', 'chr15', 'chr16', 'chr17', 'chr18', 'chr19', 'chr2', 'chr20', 'chr21', 'chr22', 'chr3', 'chr4', 'chr5', 'chr6', 'chr7', 'chr8', 'chr9', 'chrX'])dict_keys(['chr1', 'chr10', 'chr11', 'chr12', 'chr13', 'chr14', 'chr15', 'chr16', 'chr17', 'chr18', 'chr19', 'chr2', 'chr20', 'chr21', 'chr22', 'chr3', 'chr4', 'chr5', 'chr6', 'chr7', 'chr8', 'chr9', 'chrX'])\n",
      "\n",
      "dict_keys(['chr1', 'chr10', 'chr11', 'chr12', 'chr13', 'chr14', 'chr15', 'chr16', 'chr17', 'chr18', 'chr19', 'chr2', 'chr20', 'chr21', 'chr22', 'chr3', 'chr4', 'chr5', 'chr6', 'chr7', 'chr8', 'chr9', 'chrX'])\n",
      "dict_keys(['chr1', 'chr10', 'chr11', 'chr12', 'chr13', 'chr14', 'chr15', 'chr16', 'chr17', 'chr18', 'chr19', 'chr2', 'chr20', 'chr21', 'chr22', 'chr3', 'chr4', 'chr5', 'chr6', 'chr7', 'chr8', 'chr9', 'chrX'])\n",
      "dict_keys(['chr1', 'chr10', 'chr11', 'chr12', 'chr13', 'chr14', 'chr15', 'chr16', 'chr17', 'chr18', 'chr19', 'chr2', 'chr20', 'chr21', 'chr22', 'chr3', 'chr4', 'chr5', 'chr6', 'chr7', 'chr8', 'chr9', 'chrX'])\n",
      "dict_keys(['chr1', 'chr10', 'chr11', 'chr12', 'chr13', 'chr14', 'chr15', 'chr16', 'chr17', 'chr18', 'chr19', 'chr2', 'chr20', 'chr21', 'chr22', 'chr3', 'chr4', 'chr5', 'chr6', 'chr7', 'chr8', 'chr9', 'chrX'])\n",
      "dict_keys(['chr1', 'chr10', 'chr11', 'chr12', 'chr13', 'chr14', 'chr15', 'chr16', 'chr17', 'chr18', 'chr19', 'chr2', 'chr20', 'chr21', 'chr22', 'chr3', 'chr4', 'chr5', 'chr6', 'chr7', 'chr8', 'chr9', 'chrX'])\n",
      "dict_keys(['chr1', 'chr10', 'chr11', 'chr12', 'chr13', 'chr14', 'chr15', 'chr16', 'chr17', 'chr18', 'chr19', 'chr2', 'chr20', 'chr21', 'chr22', 'chr3', 'chr4', 'chr5', 'chr6', 'chr7', 'chr8', 'chr9', 'chrX'])\n",
      "dict_keys(['chr1', 'chr10', 'chr11', 'chr12', 'chr13', 'chr14', 'chr15', 'chr16', 'chr17', 'chr18', 'chr19', 'chr2', 'chr20', 'chr21', 'chr22', 'chr3', 'chr4', 'chr5', 'chr6', 'chr7', 'chr8', 'chr9', 'chrX'])\n",
      "dict_keys(['chr1', 'chr10', 'chr11', 'chr12', 'chr13', 'chr14', 'chr15', 'chr16', 'chr17', 'chr18', 'chr19', 'chr2', 'chr20', 'chr21', 'chr22', 'chr3', 'chr4', 'chr5', 'chr6', 'chr7', 'chr8', 'chr9', 'chrX'])\n",
      "dict_keys(['chr1', 'chr10', 'chr11', 'chr12', 'chr13', 'chr14', 'chr15', 'chr16', 'chr17', 'chr18', 'chr19', 'chr2', 'chr20', 'chr21', 'chr22', 'chr3', 'chr4', 'chr5', 'chr6', 'chr7', 'chr8', 'chr9', 'chrX'])\n",
      "dict_keys(['chr1', 'chr10', 'chr11', 'chr12', 'chr13', 'chr14', 'chr15', 'chr16', 'chr17', 'chr18', 'chr19', 'chr2', 'chr20', 'chr21', 'chr22', 'chr3', 'chr4', 'chr5', 'chr6', 'chr7', 'chr8', 'chr9', 'chrX'])\n",
      "dict_keys(['chr1', 'chr10', 'chr11', 'chr12', 'chr13', 'chr14', 'chr15', 'chr16', 'chr17', 'chr18', 'chr19', 'chr2', 'chr20', 'chr21', 'chr22', 'chr3', 'chr4', 'chr5', 'chr6', 'chr7', 'chr8', 'chr9', 'chrX'])\n",
      "dict_keys(['chr1', 'chr10', 'chr11', 'chr12', 'chr13', 'chr14', 'chr15', 'chr16', 'chr17', 'chr18', 'chr19', 'chr2', 'chr20', 'chr21', 'chr22', 'chr3', 'chr4', 'chr5', 'chr6', 'chr7', 'chr8', 'chr9', 'chrX'])\n",
      "dict_keys(['chr1', 'chr10', 'chr11', 'chr12', 'chr13', 'chr14', 'chr15', 'chr16', 'chr17', 'chr18', 'chr19', 'chr2', 'chr20', 'chr21', 'chr22', 'chr3', 'chr4', 'chr5', 'chr6', 'chr7', 'chr8', 'chr9', 'chrX'])\n",
      "dict_keys(['chr1', 'chr10', 'chr11', 'chr12', 'chr13', 'chr14', 'chr15', 'chr16', 'chr17', 'chr18', 'chr19', 'chr2', 'chr20', 'chr21', 'chr22', 'chr3', 'chr4', 'chr5', 'chr6', 'chr7', 'chr8', 'chr9', 'chrX'])\n",
      "dict_keys(['chr1', 'chr10', 'chr11', 'chr12', 'chr13', 'chr14', 'chr15', 'chr16', 'chr17', 'chr18', 'chr19', 'chr2', 'chr20', 'chr21', 'chr22', 'chr3', 'chr4', 'chr5', 'chr6', 'chr7', 'chr8', 'chr9', 'chrX'])\n",
      "dict_keys(['chr1', 'chr10', 'chr11', 'chr12', 'chr13', 'chr14', 'chr15', 'chr16', 'chr17', 'chr18', 'chr19', 'chr2', 'chr20', 'chr21', 'chr22', 'chr3', 'chr4', 'chr5', 'chr6', 'chr7', 'chr8', 'chr9', 'chrX'])\n",
      "dict_keys(['chr1', 'chr10', 'chr11', 'chr12', 'chr13', 'chr14', 'chr15', 'chr16', 'chr17', 'chr18', 'chr19', 'chr2', 'chr20', 'chr21', 'chr22', 'chr3', 'chr4', 'chr5', 'chr6', 'chr7', 'chr8', 'chr9', 'chrX'])\n",
      "dict_keys(['chr1', 'chr10', 'chr11', 'chr12', 'chr13', 'chr14', 'chr15', 'chr16', 'chr17', 'chr18', 'chr19', 'chr2', 'chr20', 'chr21', 'chr22', 'chr3', 'chr4', 'chr5', 'chr6', 'chr7', 'chr8', 'chr9', 'chrX'])\n",
      "dict_keys(['chr1', 'chr10', 'chr11', 'chr12', 'chr13', 'chr14', 'chr15', 'chr16', 'chr17', 'chr18', 'chr19', 'chr2', 'chr20', 'chr21', 'chr22', 'chr3', 'chr4', 'chr5', 'chr6', 'chr7', 'chr8', 'chr9', 'chrX'])\n",
      "dict_keys(['chr1', 'chr10', 'chr11', 'chr12', 'chr13', 'chr14', 'chr15', 'chr16', 'chr17', 'chr18', 'chr19', 'chr2', 'chr20', 'chr21', 'chr22', 'chr3', 'chr4', 'chr5', 'chr6', 'chr7', 'chr8', 'chr9', 'chrX'])\n",
      "dict_keys(['chr1', 'chr10', 'chr11', 'chr12', 'chr13', 'chr14', 'chr15', 'chr16', 'chr17', 'chr18', 'chr19', 'chr2', 'chr20', 'chr21', 'chr22', 'chr3', 'chr4', 'chr5', 'chr6', 'chr7', 'chr8', 'chr9', 'chrX'])\n",
      "dict_keys(['chr1', 'chr10', 'chr11', 'chr12', 'chr13', 'chr14', 'chr15', 'chr16', 'chr17', 'chr18', 'chr19', 'chr2', 'chr20', 'chr21', 'chr22', 'chr3', 'chr4', 'chr5', 'chr6', 'chr7', 'chr8', 'chr9', 'chrX'])\n",
      "dict_keys(['chr1', 'chr10', 'chr11', 'chr12', 'chr13', 'chr14', 'chr15', 'chr16', 'chr17', 'chr18', 'chr19', 'chr2', 'chr20', 'chr21', 'chr22', 'chr3', 'chr4', 'chr5', 'chr6', 'chr7', 'chr8', 'chr9', 'chrX'])\n",
      "dict_keys(['chr1', 'chr10', 'chr11', 'chr12', 'chr13', 'chr14', 'chr15', 'chr16', 'chr17', 'chr18', 'chr19', 'chr2', 'chr20', 'chr21', 'chr22', 'chr3', 'chr4', 'chr5', 'chr6', 'chr7', 'chr8', 'chr9', 'chrX'])\n",
      "dict_keys(['chr1', 'chr10', 'chr11', 'chr12', 'chr13', 'chr14', 'chr15', 'chr16', 'chr17', 'chr18', 'chr19', 'chr2', 'chr20', 'chr21', 'chr22', 'chr3', 'chr4', 'chr5', 'chr6', 'chr7', 'chr8', 'chr9', 'chrX'])\n",
      "dict_keys(['chr1', 'chr10', 'chr11', 'chr12', 'chr13', 'chr14', 'chr15', 'chr16', 'chr17', 'chr18', 'chr19', 'chr2', 'chr20', 'chr21', 'chr22', 'chr3', 'chr4', 'chr5', 'chr6', 'chr7', 'chr8', 'chr9', 'chrX'])\n",
      "dict_keys(['chr1', 'chr10', 'chr11', 'chr12', 'chr13', 'chr14', 'chr15', 'chr16', 'chr17', 'chr18', 'chr19', 'chr2', 'chr20', 'chr21', 'chr22', 'chr3', 'chr4', 'chr5', 'chr6', 'chr7', 'chr8', 'chr9', 'chrX'])\n",
      "dict_keys(['chr1', 'chr10', 'chr11', 'chr12', 'chr13', 'chr14', 'chr15', 'chr16', 'chr17', 'chr18', 'chr19', 'chr2', 'chr20', 'chr21', 'chr22', 'chr3', 'chr4', 'chr5', 'chr6', 'chr7', 'chr8', 'chr9', 'chrX'])\n",
      "dict_keys(['chr1', 'chr10', 'chr11', 'chr12', 'chr13', 'chr14', 'chr15', 'chr16', 'chr17', 'chr18', 'chr19', 'chr2', 'chr20', 'chr21', 'chr22', 'chr3', 'chr4', 'chr5', 'chr6', 'chr7', 'chr8', 'chr9', 'chrX'])\n",
      "dict_keys(['chr1', 'chr10', 'chr11', 'chr12', 'chr13', 'chr14', 'chr15', 'chr16', 'chr17', 'chr18', 'chr19', 'chr2', 'chr20', 'chr21', 'chr22', 'chr3', 'chr4', 'chr5', 'chr6', 'chr7', 'chr8', 'chr9', 'chrX'])\n",
      "dict_keys(['chr1', 'chr10', 'chr11', 'chr12', 'chr13', 'chr14', 'chr15', 'chr16', 'chr17', 'chr18', 'chr19', 'chr2', 'chr20', 'chr21', 'chr22', 'chr3', 'chr4', 'chr5', 'chr6', 'chr7', 'chr8', 'chr9', 'chrX'])\n",
      "dict_keys(['chr1', 'chr10', 'chr11', 'chr12', 'chr13', 'chr14', 'chr15', 'chr16', 'chr17', 'chr18', 'chr19', 'chr2', 'chr20', 'chr21', 'chr22', 'chr3', 'chr4', 'chr5', 'chr6', 'chr7', 'chr8', 'chr9', 'chrX'])\n",
      "dict_keys(['chr1', 'chr10', 'chr11', 'chr12', 'chr13', 'chr14', 'chr15', 'chr16', 'chr17', 'chr18', 'chr19', 'chr2', 'chr20', 'chr21', 'chr22', 'chr3', 'chr4', 'chr5', 'chr6', 'chr7', 'chr8', 'chr9', 'chrX'])\n",
      "dict_keys(['chr1', 'chr10', 'chr11', 'chr12', 'chr13', 'chr14', 'chr15', 'chr16', 'chr17', 'chr18', 'chr19', 'chr2', 'chr20', 'chr21', 'chr22', 'chr3', 'chr4', 'chr5', 'chr6', 'chr7', 'chr8', 'chr9', 'chrX'])\n",
      "dict_keys(['chr1', 'chr10', 'chr11', 'chr12', 'chr13', 'chr14', 'chr15', 'chr16', 'chr17', 'chr18', 'chr19', 'chr2', 'chr20', 'chr21', 'chr22', 'chr3', 'chr4', 'chr5', 'chr6', 'chr7', 'chr8', 'chr9', 'chrX'])\n",
      "dict_keys(['chr1', 'chr10', 'chr11', 'chr12', 'chr13', 'chr14', 'chr15', 'chr16', 'chr17', 'chr18', 'chr19', 'chr2', 'chr20', 'chr21', 'chr22', 'chr3', 'chr4', 'chr5', 'chr6', 'chr7', 'chr8', 'chr9', 'chrX'])\n",
      "dict_keys(['chr1', 'chr10', 'chr11', 'chr12', 'chr13', 'chr14', 'chr15', 'chr16', 'chr17', 'chr18', 'chr19', 'chr2', 'chr20', 'chr21', 'chr22', 'chr3', 'chr4', 'chr5', 'chr6', 'chr7', 'chr8', 'chr9', 'chrX'])\n",
      "dict_keys(['chr1', 'chr10', 'chr11', 'chr12', 'chr13', 'chr14', 'chr15', 'chr16', 'chr17', 'chr18', 'chr19', 'chr2', 'chr20', 'chr21', 'chr22', 'chr3', 'chr4', 'chr5', 'chr6', 'chr7', 'chr8', 'chr9', 'chrX'])\n",
      "dict_keys(['chr1', 'chr10', 'chr11', 'chr12', 'chr13', 'chr14', 'chr15', 'chr16', 'chr17', 'chr18', 'chr19', 'chr2', 'chr20', 'chr21', 'chr22', 'chr3', 'chr4', 'chr5', 'chr6', 'chr7', 'chr8', 'chr9', 'chrX'])\n",
      "dict_keys(['chr1', 'chr10', 'chr11', 'chr12', 'chr13', 'chr14', 'chr15', 'chr16', 'chr17', 'chr18', 'chr19', 'chr2', 'chr20', 'chr21', 'chr22', 'chr3', 'chr4', 'chr5', 'chr6', 'chr7', 'chr8', 'chr9', 'chrX'])\n",
      "dict_keys(['chr1', 'chr10', 'chr11', 'chr12', 'chr13', 'chr14', 'chr15', 'chr16', 'chr17', 'chr18', 'chr19', 'chr2', 'chr20', 'chr21', 'chr22', 'chr3', 'chr4', 'chr5', 'chr6', 'chr7', 'chr8', 'chr9', 'chrX'])\n",
      "dict_keys(['chr1', 'chr10', 'chr11', 'chr12', 'chr13', 'chr14', 'chr15', 'chr16', 'chr17', 'chr18', 'chr19', 'chr2', 'chr20', 'chr21', 'chr22', 'chr3', 'chr4', 'chr5', 'chr6', 'chr7', 'chr8', 'chr9', 'chrX'])\n"
     ]
    }
   ],
   "source": [
    "from concurrent.futures import *\n",
    "from tqdm.auto import *\n",
    "pool= ProcessPoolExecutor(max_workers=100)\n",
    "norm_factor = {}\n",
    "p_list = []\n",
    "for cell in model_name:\n",
    "    norm_factor[cell] = {}\n",
    "    for feat in feats:\n",
    "        norm_factor[cell][feat] = []\n",
    "        for model in model_name[cell]:\n",
    "            p = pool.submit(get_normalization_factor,model, \n",
    "                                                   feat,\n",
    "                                                   peaks[cell], sample_num=30000)\n",
    "            norm_factor[cell][feat].append(p)\n",
    "            p_list.append(p)\n",
    "for p in tqdm(as_completed(p_list), total=len(p_list)):\n",
    "    continue\n",
    "for cell in model_name:\n",
    "    for feat in feats:\n",
    "        for i, model in enumerate(model_name[cell]):\n",
    "            norm_factor[cell][feat][i] = norm_factor[cell][feat][i].result()\n",
    "            "
   ]
  },
  {
   "cell_type": "code",
   "execution_count": 14,
   "id": "297422f9-c76f-4bcc-8265-aa3fcbc1edf1",
   "metadata": {},
   "outputs": [],
   "source": [
    "from pyfaidx import Fasta\n",
    "from scipy.stats import *\n",
    "def cosine(x,y):\n",
    "    return (x*y).sum() / (np.linalg.norm(x) * np.linalg.norm(y))\n",
    "    # return spearmanr(x, y)[0]\n",
    "def get_feats(model, feat, tsv,\n",
    "              flank,\n",
    "              low, median, high, chroms = None,\n",
    "             verbose=False):\n",
    "    fasta = Fasta(scp.genome.hg38.fetch_fa())\n",
    "    signals = []\n",
    "    similarity = []\n",
    "    strengths = []\n",
    "    with pyBigWig.open(f\"{model}/{feat}\", 'r') as f:\n",
    "        if chroms is None:\n",
    "            chroms = f.chroms().keys()\n",
    "        tsv = tsv[tsv['chrom'].isin(chroms)].copy()\n",
    "        chrom, summit, strand = np.array(tsv['chrom']), np.array(tsv['summit']), np.array(tsv['strand'])\n",
    "        starts, ends, strands = np.array(tsv['start']), np.array(tsv['end']), np.array(tsv['strand'])\n",
    "        tfs = np.array(tsv['TF'])\n",
    "        labels = np.array(tsv['bound'])\n",
    "\n",
    "        \n",
    "        for c,s,sd,tf, start,end in zip(tqdm(chrom, disable=not verbose), summit, strands, tfs, starts, ends):\n",
    "            \n",
    "            try:\n",
    "                v = f.values(c, s-flank, s+flank+1, numpy=True)\n",
    "            except:\n",
    "                print (c, s-flank, s+flank+1)\n",
    "                v = np.zeros((int(2*flank+1)))\n",
    "            if sd != '+':\n",
    "                v = v[::-1]\n",
    "\n",
    "            # seq = hg38.fetch_onehot_seq(c, start-1, end).numpy()\n",
    "            seq = fasta[c][start-1:end].seq\n",
    "            seq = scp.utils.DNA_one_hot(seq).numpy()\n",
    "            seq_trend = f.values(c, start-1, end, numpy=True)\n",
    "            if sd == '-':\n",
    "                seq = seq[::-1][:, ::-1]\n",
    "                seq_trend = seq_trend[::-1]\n",
    "            motif_trend = (motif2matrix[tf] * seq).sum(axis=0)\n",
    "            motif_match = cosine(motif2matrix[tf].reshape((-1)), seq.reshape((-1)))\n",
    "            \n",
    "            signals.append(v)\n",
    "            similarity.append([cosine(seq_trend, motif_trend), \n",
    "                               # motif_match,\n",
    "                               ((seq_trend - median) / (high - low)).mean()])\n",
    "    \n",
    "    signals = np.array(signals)\n",
    "    similarity = np.array(similarity)\n",
    "    signals = np.nan_to_num(signals)\n",
    "    similarity =  np.nan_to_num(similarity)\n",
    "\n",
    "    # for tf in np.unique(tfs):\n",
    "    #     mask = tfs == tf\n",
    "    #     v = similarity[mask]\n",
    "    #     v = (v - np.min(v, axis=0, keepdims=True)) / (np.max(v, axis=0, keepdims=True) - np.min(v, axis=0, keepdims=True))\n",
    "    #     similarity[mask] = v\n",
    "\n",
    "    \n",
    "    signals = (signals - median) / (high - low)\n",
    "    return signals, similarity, tsv"
   ]
  },
  {
   "cell_type": "code",
   "execution_count": 15,
   "id": "a0e17e94-1ec2-4b6e-ac25-49381c198a5c",
   "metadata": {},
   "outputs": [
    {
     "data": {
      "application/vnd.jupyter.widget-view+json": {
       "model_id": "ffebed5eff32422882870990c6c89ad7",
       "version_major": 2,
       "version_minor": 0
      },
      "text/plain": [
       "  0%|          | 0/70 [00:00<?, ?it/s]"
      ]
     },
     "metadata": {},
     "output_type": "display_data"
    }
   ],
   "source": [
    "feats_all = {}\n",
    "labels_all = {}\n",
    "pool= ProcessPoolExecutor(max_workers=200)\n",
    "p_list = []\n",
    "for cell in model_name:\n",
    "    for feat in feats:\n",
    "        for i, model in enumerate(model_name[cell]):\n",
    "            lo, mid, hi = norm_factor[cell][feat][i]\n",
    "            p_list.append(pool.submit(get_feats,model, feat, tsvs[cell], \n",
    "                  100,\n",
    "                  lo, mid, hi))\n",
    "\n",
    "for p in tqdm(as_completed(p_list), total=len(p_list)):\n",
    "    continue\n",
    "ct = 0\n",
    "for cell in model_name:\n",
    "    feats_cell = []\n",
    "    sims_cell = []\n",
    "    for feat in feats:\n",
    "        feats_v = 0\n",
    "        sims_v = 0\n",
    "        for i, model in enumerate(model_name[cell]):\n",
    "            feats_, sims_, labels = p_list[ct].result()\n",
    "            ct += 1\n",
    "            feats_v += feats_\n",
    "            sims_v += sims_\n",
    "        feats_v = feats_v / len(model_name[cell])\n",
    "        sims_v = sims_v / len(model_name[cell])\n",
    "        feats_cell.append(feats_v)\n",
    "        sims_cell.append(sims_v)\n",
    "    feats_cell = np.stack(feats_cell, axis=1)\n",
    "    sims_cell = np.stack(sims_cell, axis=1)\n",
    "    # print (feats_cell.shape, sims_cell.shape)\n",
    "    feats_all[cell] = [feats_cell, sims_cell]\n",
    "    labels_all[cell] = labels\n",
    "pool.shutdown(wait=True)"
   ]
  },
  {
   "cell_type": "code",
   "execution_count": 16,
   "id": "df1e6c1f-4f97-4e02-99b5-2aa5a69d2223",
   "metadata": {},
   "outputs": [],
   "source": [
    "def feats_for_cell(feats_all, labels_all, cell, window=201, n_feats=np.arange(8)):\n",
    "    seq_attr = feats_all[cell][0]\n",
    "    pad = (seq_attr.shape[-1] - window) // 2\n",
    "    if pad > 0:\n",
    "        seq_attr = seq_attr[..., pad:-pad]\n",
    "    # seq_attr = seq_attr[:, n_feats].reshape((len(seq_attr), -1))\n",
    "    seq_motif_sim = feats_all[cell][1][:, n_feats]\n",
    "    motifs = np.asarray(labels_all[cell]['motifMatchScore'])[:, None]\n",
    "    motifs = np.stack([motifs] * len(n_feats), axis=1)\n",
    "    # feats = seq_motif_sim.reshape((len(seq_attr), -1))\n",
    "    feats = np.concatenate([motifs, seq_motif_sim, seq_attr], axis=-1)\n",
    "    print (motifs.shape, seq_motif_sim.shape, seq_attr.shape)\n",
    "    return feats"
   ]
  },
  {
   "cell_type": "code",
   "execution_count": 17,
   "id": "8329b919-e29e-4876-a0a9-55f02c47cd95",
   "metadata": {},
   "outputs": [],
   "source": [
    "import pickle\n",
    "scaler = pickle.load(open(\"TFBS_scaler_GM.pkl\", \"rb\"))"
   ]
  },
  {
   "cell_type": "code",
   "execution_count": 18,
   "id": "c696ada4-f3bd-471a-a4b4-78ce1bbdc5d3",
   "metadata": {},
   "outputs": [],
   "source": [
    "def eval_model(feats_all, labels_all, \n",
    "               clf_mega, \n",
    "               cell, \n",
    "               window=201, \n",
    "               n_feats=3, \n",
    "               feat_mask = None, \n",
    "               scaler=None):\n",
    "    from sklearn.metrics import average_precision_score\n",
    "    feats = feats_for_cell(feats_all, \n",
    "                                           labels_all, \n",
    "                                           cell, \n",
    "                                           window=window, \n",
    "                                           n_feats=np.arange(n_feats))\n",
    "    tsv = labels_all[cell]\n",
    "    shape = feats.shape\n",
    "    print (feats.shape)\n",
    "    print (feats[:, :, 1].min(), feats[:, :, 1].max())\n",
    "    feats = feats.reshape((len(feats), -1))\n",
    "    \n",
    "    if scaler is not None:\n",
    "        if type(scaler) is tuple:\n",
    "            feats = (feats - scaler[0]) / scaler[1]\n",
    "            feats = feats.reshape(shape)\n",
    "        else:\n",
    "            feats = scaler.transform(feats).reshape(shape)\n",
    "        # feats[:, :, 1] =  0\n",
    "        # feats[:, :, 2:] =  0\n",
    "   \n",
    "    pred_all = 0\n",
    "    for i, model in enumerate(clf_mega):\n",
    "        pred = torch.sigmoid(model(torch.from_numpy(feats)[:, i, :].float())).detach().cpu().numpy()\n",
    "        # pred = feats[:, :, 1]\n",
    "        pred_all += pred\n",
    "        tsv[f'pred_{i}'] = pred\n",
    "    pred_all /= len(clf_mega)\n",
    "    # pred_all = torch.sigmoid(clf_mega[0](torch.from_numpy(feats)[:, :2, :].float())).detach().cpu().numpy()\n",
    "    tsv['pred'] = pred_all\n",
    "    return tsv\n",
    "    \n",
    "def summarize(tsv, col='pred'):\n",
    "    from sklearn.metrics import average_precision_score\n",
    "    sig = tsv.copy()\n",
    "    score1 = average_precision_score(sig['bound'], sig[col])\n",
    "    summary = sig.groupby('TF')\n",
    "\n",
    "    precisions = []\n",
    "    auprs = []\n",
    "    tfs = []\n",
    "    for tf, sig in summary:\n",
    "        v = np.array(sig[col])\n",
    "        label = np.array(sig['bound'])\n",
    "        top10pct = np.mean(label[v >= np.quantile(v, 0.9)])\n",
    "        aupr = average_precision_score(sig['bound'], sig[col])\n",
    "        precisions.append(top10pct)\n",
    "        auprs.append(aupr)\n",
    "        tfs.append(tf)\n",
    "    summary_performance = pd.DataFrame({'tf':tfs, 'precision': precisions, 'aupr':auprs})\n",
    "    return score1, summary_performance['precision'].mean(), summary_performance['precision'].median(), summary_performance['aupr'].mean(), summary_performance['aupr'].median()\n"
   ]
  },
  {
   "cell_type": "code",
   "execution_count": 19,
   "id": "f659fc26-1ce1-4515-93df-b040e52065ea",
   "metadata": {},
   "outputs": [],
   "source": [
    "import torch\n",
    "models = [torch.jit.load(f\"TFBS_GM_{i}.pt\", map_location='cpu').eval() for i in range(2)]"
   ]
  },
  {
   "cell_type": "code",
   "execution_count": 28,
   "id": "923de318-8a32-4739-8066-588f961dd384",
   "metadata": {},
   "outputs": [],
   "source": [
    "scores = []"
   ]
  },
  {
   "cell_type": "code",
   "execution_count": 29,
   "id": "59409505-67cb-4d71-a825-147c9f6a2c63",
   "metadata": {},
   "outputs": [
    {
     "name": "stdout",
     "output_type": "stream",
     "text": [
      "(859876, 2, 1) (859876, 2, 2) (859876, 2, 201)\n",
      "(859876, 2, 204)\n",
      "-0.9790139842227129 0.9898693072457754\n",
      "(0.6411333460982448, 0.69732665494949, 0.7155071588269364, 0.619493040210647, 0.6355309522091197)\n"
     ]
    }
   ],
   "source": [
    "import pandas as pd\n",
    "score = eval_model(feats_all, labels_all, models, 'HepG2_full',201, 2, scaler=(scaler.mean_[:408], scaler.scale_[ :408]))\n",
    "print (summarize(score,'pred'))\n",
    "scores.append(summarize(score, 'pred')[2])\n",
    "# for i in range(8):\n",
    "#     print (summarize(score,f'pred_{i}'))"
   ]
  },
  {
   "cell_type": "code",
   "execution_count": 30,
   "id": "40bae6e3-a35f-458a-89ef-740c46cd61a5",
   "metadata": {},
   "outputs": [
    {
     "name": "stdout",
     "output_type": "stream",
     "text": [
      "(859876, 2, 1) (859876, 2, 2) (859876, 2, 201)\n",
      "(859876, 2, 204)\n",
      "-0.9801533558194103 0.990133403242211\n",
      "(0.6393485045779159, 0.6961520904491622, 0.7064831133890926, 0.6182327844613571, 0.6340944113954228)\n"
     ]
    }
   ],
   "source": [
    "import pandas as pd\n",
    "score = eval_model(feats_all, labels_all, models, 'HepG2_50M',201, 2, scaler=(scaler.mean_[:408], scaler.scale_[ :408]))\n",
    "print (summarize(score,'pred'))\n",
    "scores.append(summarize(score, 'pred')[2])\n",
    "# for i in range(8):\n",
    "#     print (summarize(score,f'pred_{i}'))"
   ]
  },
  {
   "cell_type": "code",
   "execution_count": 31,
   "id": "5344f0e0-e62a-4324-b686-11666ae14d02",
   "metadata": {},
   "outputs": [
    {
     "name": "stdout",
     "output_type": "stream",
     "text": [
      "(859876, 2, 1) (859876, 2, 2) (859876, 2, 201)\n",
      "(859876, 2, 204)\n",
      "-0.9744153076237421 0.9906281838512246\n",
      "(0.633720854889707, 0.6935908908597663, 0.7081460830777808, 0.6123256249194949, 0.6279340703409053)\n"
     ]
    }
   ],
   "source": [
    "import pandas as pd\n",
    "score = eval_model(feats_all, labels_all, models, 'HepG2_25M',201, 2, scaler=(scaler.mean_[:408], scaler.scale_[ :408]))\n",
    "print (summarize(score,'pred'))\n",
    "scores.append(summarize(score, 'pred')[2])\n",
    "# for i in range(8):\n",
    "#     print (summarize(score,f'pred_{i}'))"
   ]
  },
  {
   "cell_type": "code",
   "execution_count": 32,
   "id": "a5694b9d-0e11-4efe-97b1-1f4503aa703b",
   "metadata": {},
   "outputs": [
    {
     "name": "stdout",
     "output_type": "stream",
     "text": [
      "(859876, 2, 1) (859876, 2, 2) (859876, 2, 201)\n",
      "(859876, 2, 204)\n",
      "-0.9727028851808026 0.9919645554518514\n",
      "(0.6254027153358397, 0.6849153495681012, 0.7030845179372791, 0.6034624476345476, 0.6225671870166158)\n"
     ]
    }
   ],
   "source": [
    "import pandas as pd\n",
    "score = eval_model(feats_all, labels_all, models, 'HepG2_10M',201, 2, scaler=(scaler.mean_[:408], scaler.scale_[ :408]))\n",
    "print (summarize(score,'pred'))\n",
    "scores.append(summarize(score, 'pred')[2])\n",
    "# for i in range(8):\n",
    "#     print (summarize(score,f'pred_{i}'))"
   ]
  },
  {
   "cell_type": "code",
   "execution_count": 33,
   "id": "1e725dd5-d0dc-4a43-914d-d649b22d2bc9",
   "metadata": {},
   "outputs": [
    {
     "name": "stdout",
     "output_type": "stream",
     "text": [
      "(859876, 2, 1) (859876, 2, 2) (859876, 2, 201)\n",
      "(859876, 2, 204)\n",
      "-0.973418133213045 0.9915251316384117\n",
      "(0.6056202186959009, 0.662647389709396, 0.6881677331037988, 0.5775220765327227, 0.5935459431095054)\n"
     ]
    }
   ],
   "source": [
    "import pandas as pd\n",
    "score = eval_model(feats_all, labels_all, models, 'HepG2_5M',201, 2, scaler=(scaler.mean_[:408], scaler.scale_[ :408]))\n",
    "print (summarize(score,'pred'))\n",
    "scores.append(summarize(score, 'pred')[2])\n",
    "# for i in range(8):\n",
    "#     print (summarize(score,f'pred_{i}'))"
   ]
  },
  {
   "cell_type": "code",
   "execution_count": 34,
   "id": "93a9add9-44c6-4efe-9e7b-e332b92aaef3",
   "metadata": {},
   "outputs": [
    {
     "name": "stdout",
     "output_type": "stream",
     "text": [
      "(859876, 2, 1) (859876, 2, 2) (859876, 2, 201)\n",
      "(859876, 2, 204)\n",
      "-0.9714673219432516 0.9882898675349459\n",
      "(0.5894195454230392, 0.644347601404171, 0.6629702177404099, 0.5609772076338987, 0.5743784688104623)\n"
     ]
    }
   ],
   "source": [
    "import pandas as pd\n",
    "score = eval_model(feats_all, labels_all, models, 'HepG2_2.5M',201, 2, scaler=(scaler.mean_[:408], scaler.scale_[ :408]))\n",
    "print (summarize(score,'pred'))\n",
    "scores.append(summarize(score, 'pred')[2])\n",
    "# for i in range(8):\n",
    "#     print (summarize(score,f'pred_{i}'))"
   ]
  },
  {
   "cell_type": "code",
   "execution_count": 35,
   "id": "23542321-5e44-43b0-8c80-5a1855761bbe",
   "metadata": {},
   "outputs": [
    {
     "name": "stdout",
     "output_type": "stream",
     "text": [
      "(859876, 2, 1) (859876, 2, 2) (859876, 2, 201)\n",
      "(859876, 2, 204)\n",
      "-0.9125760777126377 0.9874166490070403\n",
      "(0.5338004336587968, 0.6000845288166703, 0.6225272229043324, 0.5069935486615232, 0.5072581949711279)\n"
     ]
    }
   ],
   "source": [
    "import pandas as pd\n",
    "score = eval_model(feats_all, labels_all, models, 'HepG2_1M',201, 2, scaler=(scaler.mean_[:408], scaler.scale_[ :408]))\n",
    "print (summarize(score,'pred'))\n",
    "scores.append(summarize(score, 'pred')[2])\n",
    "# for i in range(8):\n",
    "#     print (summarize(score,f'pred_{i}'))"
   ]
  },
  {
   "cell_type": "code",
   "execution_count": 37,
   "id": "d0628bf6-c884-47d7-889a-537b6fb94047",
   "metadata": {},
   "outputs": [],
   "source": [
    "frags = [65.5, 50, 25, 10, 5, 2.5, 1]"
   ]
  },
  {
   "cell_type": "code",
   "execution_count": 47,
   "id": "54afd260-b2aa-4261-8cfa-9f0e20719433",
   "metadata": {},
   "outputs": [
    {
     "data": {
      "image/png": "[encoded data removed]",
      "text/plain": [
       "<Figure size 640x480 with 1 Axes>"
      ]
     },
     "metadata": {},
     "output_type": "display_data"
    }
   ],
   "source": [
    "sns.scatterplot(x=frags, y=scores)\n",
    "ax=sns.lineplot(x=frags, y=scores)\n",
    "plt.xscale(\"log\")\n",
    "ax.set_xticks(frags, frags)\n",
    "plt.savefig('/data/rzhang/PRINT_rev/HepG2/downsample_TFBS_median_precision.pdf')"
   ]
  },
  {
   "cell_type": "markdown",
   "id": "f067270b-eb7b-4b84-a42c-bd915dbd4653",
   "metadata": {},
   "source": [
    "Now for evaluating predicted footprints vs gt"
   ]
  },
  {
   "cell_type": "code",
   "execution_count": 116,
   "id": "d2f0415d-c03a-449e-9853-7d3b06f6d520",
   "metadata": {},
   "outputs": [],
   "source": [
    "import torch\n",
    "torch.cuda.set_device(7)\n",
    "torch.set_num_threads(4)\n",
    "model_name = {\n",
    "    'HepG2_50M': [\"/data/rzhang/PRINT_rev/HepG2/final_model/HepG2_50000000_fold0-incandescent-chrysanthemum-106.pt\",\n",
    "                \"/data/rzhang/PRINT_rev/HepG2/final_model/HepG2_50000000_fold1-dancing-lantern-106.pt\",\n",
    "                \"/data/rzhang/PRINT_rev/HepG2/final_model/HepG2_50000000_fold2-radiant-chrysanthemum-106.pt\",\n",
    "                \"/data/rzhang/PRINT_rev/HepG2/final_model/HepG2_50000000_fold3-filigreed-rabbit-110.pt\",\n",
    "                \"/data/rzhang/PRINT_rev/HepG2/final_model/HepG2_50000000_fold4-golden-rocket-109.pt\",],\n",
    "    'HepG2_25M': [\"/data/rzhang/PRINT_rev/HepG2/final_model/HepG2_25000000_fold0-virtuous-dragon-112.pt\",\n",
    "                \"/data/rzhang/PRINT_rev/HepG2/final_model/HepG2_25000000_fold1-thriving-goat-111.pt\",\n",
    "                \"/data/rzhang/PRINT_rev/HepG2/final_model/HepG2_25000000_fold2-lunar-dog-113.pt\",\n",
    "                \"/data/rzhang/PRINT_rev/HepG2/final_model/HepG2_25000000_fold3-dazzling-pig-115.pt\",\n",
    "                \"/data/rzhang/PRINT_rev/HepG2/final_model/HepG2_25000000_fold4-sparkling-rabbit-114.pt\",],\n",
    "    'HepG2_10M': [\"/data/rzhang/PRINT_rev/HepG2/final_model/HepG2_10000000_fold0-prosperous-goat-117.pt\",\n",
    "                \"/data/rzhang/PRINT_rev/HepG2/final_model/HepG2_10000000_fold1-resplendent-orchid-118.pt\",\n",
    "                \"/data/rzhang/PRINT_rev/HepG2/final_model/HepG2_10000000_fold2-prosperous-lamp-116.pt\",\n",
    "                \"/data/rzhang/PRINT_rev/HepG2/final_model/HepG2_10000000_fold3-prosperous-envelope-119.pt\",\n",
    "                \"/data/rzhang/PRINT_rev/HepG2/final_model/HepG2_10000000_fold4-flashing-chrysanthemum-120.pt\",],\n",
    "    'HepG2_5M': [\"/data/rzhang/PRINT_rev/HepG2/final_model/HepG2_5000000_fold0-glittering-goat-122.pt\",\n",
    "                \"/data/rzhang/PRINT_rev/HepG2/final_model/HepG2_5000000_fold1-sparkling-dragon-121.pt\",\n",
    "                \"/data/rzhang/PRINT_rev/HepG2/final_model/HepG2_5000000_fold2-fortuitous-dog-123.pt\",\n",
    "                \"/data/rzhang/PRINT_rev/HepG2/final_model/HepG2_5000000_fold3-vermilion-tiger-124.pt\",\n",
    "                \"/data/rzhang/PRINT_rev/HepG2/final_model/HepG2_5000000_fold4-bright-festival-125.pt\"],\n",
    "    'HepG2_2.5M': [\"/data/rzhang/PRINT_rev/HepG2/final_model/HepG2_2500000_fold0-stellar-snowflake-159.pt\",\n",
    "                \"/data/rzhang/PRINT_rev/HepG2/final_model/HepG2_2500000_fold1-prime-frost-157.pt\",\n",
    "                \"/data/rzhang/PRINT_rev/HepG2/final_model/HepG2_2500000_fold2-radiant-forest-158.pt\",\n",
    "                \"/data/rzhang/PRINT_rev/HepG2/final_model/HepG2_2500000_fold3-daily-violet-156.pt\",\n",
    "                \"/data/rzhang/PRINT_rev/HepG2/final_model/HepG2_2500000_fold4-flowing-sun-160.pt\"],\n",
    "    'HepG2_1M': [\"/data/rzhang/PRINT_rev/HepG2/final_model/HepG2_1000000_fold0-fortuitous-chrysanthemum-126.pt\",\n",
    "            \"/data/rzhang/PRINT_rev/HepG2/final_model/HepG2_1000000_fold1-abundant-fish-127.pt\",\n",
    "            \"/data/rzhang/PRINT_rev/HepG2/final_model/HepG2_1000000_fold2-crimson-moon-128.pt\",\n",
    "            \"/data/rzhang/PRINT_rev/HepG2/final_model/HepG2_1000000_fold3-resplendent-chrysanthemum-129.pt\",\n",
    "            \"/data/rzhang/PRINT_rev/HepG2/final_model/HepG2_1000000_fold4-incandescent-goat-129.pt\",\n",
    "            ],\n",
    "    'HepG2_full': [\"/data/rzhang/PRINT_rev/HepG2/final_model/HepG2_fold0-crimson-bao-8.pt\",\n",
    "                   \"/data/rzhang/PRINT_rev/HepG2/final_model/HepG2_fold1-auspicious-rocket-9.pt\",\n",
    "                   \"/data/rzhang/PRINT_rev/HepG2/final_model/HepG2_fold2-prosperous-fish-8.pt\",\n",
    "                    \"/data/rzhang/PRINT_rev/HepG2/final_model/HepG2_fold3-prosperous-bao-11.pt\",\n",
    "                    \"/data/rzhang/PRINT_rev/HepG2/final_model/HepG2_fold4-radiant-paper-12.pt\",\n",
    "                  ]\n",
    "}"
   ]
  },
  {
   "cell_type": "code",
   "execution_count": 5,
   "id": "36eae816-19dc-4cdf-9140-6ecae04f66b1",
   "metadata": {
    "scrolled": true
   },
   "outputs": [
    {
     "name": "stdout",
     "output_type": "stream",
     "text": [
      "           0    summits   index\n",
      "0       chr1     827526       0\n",
      "1       chr1     858397       1\n",
      "2       chr1     861038       2\n",
      "3       chr1     869941       3\n",
      "4       chr1     876735       4\n",
      "...      ...        ...     ...\n",
      "168743  chrX  155196566  168743\n",
      "168744  chrX  155216387  168744\n",
      "168745  chrX  155264502  168745\n",
      "168746  chrX  155294009  168746\n",
      "168747  chrX  155612775  168747\n",
      "\n",
      "[168748 rows x 3 columns]\n",
      "downsample summits\n",
      "            0    summits   index\n",
      "80752    chr8   38030481   80752\n",
      "93979   chr10   35612999   93979\n",
      "14880    chr2   10371665   14880\n",
      "72012    chr7   23014229   72012\n",
      "137111  chr17    2083818  137111\n",
      "...       ...        ...     ...\n",
      "11715    chr1  209840057   11715\n",
      "32628    chr2  235740997   32628\n",
      "142438  chr17   67258999  142438\n",
      "141398  chr17   58326077  141398\n",
      "73736    chr7   55963017   73736\n",
      "\n",
      "[30000 rows x 3 columns]\n"
     ]
    }
   ],
   "source": [
    "peaks = pd.read_table('/data/rzhang/PRINT_rev/HepG2/peaks.bed', sep='\\t', header=None)\n",
    "summits = peaks\n",
    "summits['summits'] = (summits[1] + summits[2]) // 2\n",
    "summits = summits[[0, 'summits']]\n",
    "summits['index'] = np.arange(len(summits))\n",
    "print(summits)\n",
    "if len(summits) > 30000:\n",
    "    print(\"downsample summits\")\n",
    "    summits = summits.sample(30000)\n",
    "print (summits)"
   ]
  },
  {
   "cell_type": "code",
   "execution_count": 6,
   "id": "a118b24b-7ae0-493c-8e5d-b0433cf7480a",
   "metadata": {},
   "outputs": [
    {
     "name": "stderr",
     "output_type": "stream",
     "text": [
      "\u001b[1mThe keyword argument 'nopython=False' was supplied. From Numba 0.59.0 the default is being changed to True and use of 'nopython=False' will raise a warning as the argument will have no effect. See https://numba.readthedocs.io/en/stable/reference/deprecation.html#deprecation-of-object-mode-fall-back-behaviour-when-using-jit for details.\u001b[0m\n"
     ]
    }
   ],
   "source": [
    "from scprinter.seq.dataloader import *\n",
    "from scprinter.seq.Modules import *\n",
    "from scprinter.seq.Models import  *\n",
    "from scprinter.seq.minimum_footprint import *\n",
    "from scprinter.seq.ema import EMA\n",
    "from scprinter.seq.attribution_wrapper import *\n",
    "from scprinter.seq.attributions import *\n",
    "from scprinter.utils import load_entire_hdf5, loadDispModel"
   ]
  },
  {
   "cell_type": "code",
   "execution_count": 7,
   "id": "71c40d93-57cd-448a-89e7-f6da5b0a1a7c",
   "metadata": {},
   "outputs": [
    {
     "name": "stdout",
     "output_type": "stream",
     "text": [
      "input summits 30000\n"
     ]
    },
    {
     "data": {
      "application/vnd.jupyter.widget-view+json": {
       "model_id": "4b667b0776014018a66a929aca35b1c5",
       "version_major": 2,
       "version_minor": 0
      },
      "text/plain": [
       "validating loci:   0%|          | 0/30000 [00:00<?, ?it/s]"
      ]
     },
     "metadata": {},
     "output_type": "display_data"
    },
    {
     "name": "stdout",
     "output_type": "stream",
     "text": [
      "valid summits after trimming edges 30000\n"
     ]
    },
    {
     "data": {
      "application/vnd.jupyter.widget-view+json": {
       "model_id": "c8b3452a491e4107bfb39ce43e8dfca2",
       "version_major": 2,
       "version_minor": 0
      },
      "text/plain": [
       "fetching coverage:   0%|          | 0/30000 [00:00<?, ?it/s]"
      ]
     },
     "metadata": {},
     "output_type": "display_data"
    },
    {
     "name": "stdout",
     "output_type": "stream",
     "text": [
      "(30000, 2)\n",
      "coverage min max 36.0 18833.0\n",
      "valid summits after min/max count filter 30000\n"
     ]
    },
    {
     "data": {
      "application/vnd.jupyter.widget-view+json": {
       "model_id": "dedda711e5344f158d403c6c5b9c995f",
       "version_major": 2,
       "version_minor": 0
      },
      "text/plain": [
       "Caching sequences:   0%|          | 0/30000 [00:00<?, ?it/s]"
      ]
     },
     "metadata": {},
     "output_type": "display_data"
    }
   ],
   "source": [
    "genome = scp.genome.hg38\n",
    "dna_len = 1840\n",
    "output_len = 800\n",
    "signals = ['/data/rzhang/PRINT_rev/HepG2/HepG2.bw', \n",
    "        str(genome.fetch_bias())[:-3] + \".bw\"]\n",
    "dataset = ChromBPDataset(\n",
    "signals=signals,\n",
    "ref_seq=genome.fetch_fa(),\n",
    "summits=summits,\n",
    "DNA_window=dna_len,\n",
    "signal_window=output_len + 200,\n",
    "max_jitter=0,\n",
    "min_counts=None,\n",
    "max_counts=None,\n",
    "cached=True,\n",
    "lazy_cache=True,\n",
    "reverse_compliment=False,\n",
    "device='cpu')\n",
    "disp_path = scp.datasets.pretrained_dispersion_model\n",
    "dispmodel = loadDispModel(disp_path)\n",
    "dispmodel = dispModel(deepcopy(dispmodel)).cuda()\n",
    "validation_data = ChromBPDataLoader(\n",
    "                dataset=dataset,\n",
    "                batch_size=64,\n",
    "                num_workers=4,\n",
    "                pin_memory=True,\n",
    "                shuffle=False)"
   ]
  },
  {
   "cell_type": "code",
   "execution_count": 8,
   "id": "311967f8-6a22-40b4-9b55-6df343d976b9",
   "metadata": {},
   "outputs": [],
   "source": [
    "from scipy.stats import *\n",
    "\n",
    "import numpy as np\n",
    "\n",
    "def pearson_r(x, y):\n",
    "    \"\"\"Calculate the Pearson correlation coefficient between two arrays.\"\"\"\n",
    "    # Ensure x and y have the same length.\n",
    "    if len(x) != len(y):\n",
    "        raise ValueError(\"Arrays must have the same length.\")\n",
    "\n",
    "    # Subtract the mean from each array to center them.\n",
    "    x = x - np.mean(x)\n",
    "    y = y - np.mean(y)\n",
    "\n",
    "    # Calculate the correlation coefficient.\n",
    "    numerator = np.sum(x * y)\n",
    "    denominator = np.sqrt(np.sum(x**2) * np.sum(y**2))\n",
    "    \n",
    "    if denominator == 0:\n",
    "        raise ValueError(\"Division by zero: one or both of the arrays have no variability.\")\n",
    "    return numerator / denominator\n",
    "    \n",
    "def validation_step_footprint2(models,\n",
    "                    validation_data,\n",
    "                    validation_size,\n",
    "                    dispmodel,\n",
    "                    modes,\n",
    "                    linear_correction=False):\n",
    "    \n",
    "    across_batch_pearson = [[], []]\n",
    "    across_batch_pearson_coverage = [[], []]\n",
    "    mean_pred_score, mean_y, mean_pred_coverage, mean_coverage = 0, 0, 0, 0\n",
    "\n",
    "    \n",
    "    fp_pred = [[]] * len(models)\n",
    "    print (fp_pred)\n",
    "    fp_gt = [[]] * len(models)\n",
    "\n",
    "    cov_pred = [[]] * len(models)\n",
    "    cov_gt = [[] ] * len(models)\n",
    "    \n",
    "    for model_id, model in enumerate(models):\n",
    "        print (model)\n",
    "        model = torch.load(model, map_location='cpu').cuda()\n",
    "        device = next(model.parameters()).device\n",
    "        size = 0\n",
    "        if validation_size is None:\n",
    "            validation_size = len(validation_data)\n",
    "        bar = trange(validation_size, desc=' - (Validation)', leave=False, dynamic_ncols=True)\n",
    "        total_len = 0\n",
    "        for data in validation_data:\n",
    "            if len(data) == 2:\n",
    "                X, y = data\n",
    "                X = X.to(device)\n",
    "                y = y.to(device)\n",
    "                cell = None\n",
    "                norm_cov = None\n",
    "            else:\n",
    "                X, y, cell, _, norm_cov = data\n",
    "                cell = cell[..., 0]\n",
    "                X = X.to(device)\n",
    "                y = y.to(device)\n",
    "                cell = cell.to(device)\n",
    "                # norm_cov = norm_cov.to(device)\n",
    "                norm_cov = None\n",
    "    \n",
    "            pred_score, pred_coverage = model(X, cell)\n",
    "            coverage = torch.log1p(y[:, 0].sum(dim=-1)) if norm_cov is None else norm_cov\n",
    "            # print (coverage.min(), coverage.max())\n",
    "            y = multiscaleFoot(y[:, 0],\n",
    "                                y[:, 1],\n",
    "                                modes,\n",
    "                                dispmodel)\n",
    "            mask = ~torch.isnan(y)\n",
    "            y = torch.nan_to_num(y, nan=0)\n",
    "            pred_score, y = pred_score.reshape((len(pred_score), -1)), y.reshape((len(y), -1))\n",
    "            fp_pred[model_id].append(pred_score.detach().cpu().reshape((-1)))\n",
    "            fp_gt[model_id].append(y.detach().cpu().reshape((-1)))\n",
    "\n",
    "            cov_pred[model_id].append(coverage.detach().cpu().reshape((-1)))\n",
    "            cov_gt[model_id].append(pred_coverage.detach().cpu().reshape((-1)))\n",
    "    \n",
    "            size += 1\n",
    "            bar.update(1)\n",
    "            \n",
    "        model = model.cpu()\n",
    "\n",
    "        \n",
    "    \n",
    "    for i in range(len(models)):\n",
    "        fp_pred[i] = torch.cat(fp_pred[i], dim=0)\n",
    "        fp_gt[i] = torch.cat(fp_gt[i], dim=0)\n",
    "        cov_pred[i] = torch.cat(cov_pred[i], dim=0)\n",
    "        cov_gt[i] = torch.cat(cov_gt[i], dim=0)\n",
    "    fp_pred = torch.stack(fp_pred, dim=0)\n",
    "    fp_gt = torch.stack(fp_gt, dim=0)\n",
    "    cov_pred = torch.stack(cov_pred, dim=0)\n",
    "    cov_gt = torch.stack(cov_gt, dim=0)\n",
    "    print (fp_pred.shape, fp_gt.shape, cov_pred.shape, cov_gt.shape)\n",
    "    return pearson_r(fp_pred.mean(axis=0).numpy(), fp_gt.mean(axis=0).numpy()), pearson_r(cov_pred.mean(axis=0).numpy(), cov_gt.mean(axis=0).numpy())"
   ]
  },
  {
   "cell_type": "code",
   "execution_count": 9,
   "id": "fad86a7a-db63-44d4-bb30-7c9fa6b23197",
   "metadata": {
    "scrolled": true
   },
   "outputs": [
    {
     "name": "stdout",
     "output_type": "stream",
     "text": [
      "[[], [], [], [], []]\n",
      "/data/rzhang/PRINT_rev/HepG2/final_model/HepG2_50000000_fold0-incandescent-chrysanthemum-106.pt\n"
     ]
    },
    {
     "data": {
      "application/vnd.jupyter.widget-view+json": {
       "model_id": "",
       "version_major": 2,
       "version_minor": 0
      },
      "text/plain": [
       " - (Validation):   0%|                                                                                      | …"
      ]
     },
     "metadata": {},
     "output_type": "display_data"
    },
    {
     "name": "stdout",
     "output_type": "stream",
     "text": [
      "/data/rzhang/PRINT_rev/HepG2/final_model/HepG2_50000000_fold1-dancing-lantern-106.pt\n"
     ]
    },
    {
     "data": {
      "application/vnd.jupyter.widget-view+json": {
       "model_id": "",
       "version_major": 2,
       "version_minor": 0
      },
      "text/plain": [
       " - (Validation):   0%|                                                                                      | …"
      ]
     },
     "metadata": {},
     "output_type": "display_data"
    },
    {
     "name": "stdout",
     "output_type": "stream",
     "text": [
      "/data/rzhang/PRINT_rev/HepG2/final_model/HepG2_50000000_fold2-radiant-chrysanthemum-106.pt\n"
     ]
    },
    {
     "data": {
      "application/vnd.jupyter.widget-view+json": {
       "model_id": "",
       "version_major": 2,
       "version_minor": 0
      },
      "text/plain": [
       " - (Validation):   0%|                                                                                      | …"
      ]
     },
     "metadata": {},
     "output_type": "display_data"
    },
    {
     "name": "stdout",
     "output_type": "stream",
     "text": [
      "/data/rzhang/PRINT_rev/HepG2/final_model/HepG2_50000000_fold3-filigreed-rabbit-110.pt\n"
     ]
    },
    {
     "data": {
      "application/vnd.jupyter.widget-view+json": {
       "model_id": "",
       "version_major": 2,
       "version_minor": 0
      },
      "text/plain": [
       " - (Validation):   0%|                                                                                      | …"
      ]
     },
     "metadata": {},
     "output_type": "display_data"
    },
    {
     "name": "stdout",
     "output_type": "stream",
     "text": [
      "torch.Size([5, 11880000000]) torch.Size([5, 11880000000]) torch.Size([5, 150000]) torch.Size([5, 150000])\n",
      "[[], [], [], [], []]\n",
      "/data/rzhang/PRINT_rev/HepG2/final_model/HepG2_25000000_fold0-virtuous-dragon-112.pt\n"
     ]
    },
    {
     "data": {
      "application/vnd.jupyter.widget-view+json": {
       "model_id": "",
       "version_major": 2,
       "version_minor": 0
      },
      "text/plain": [
       " - (Validation):   0%|                                                                                      | …"
      ]
     },
     "metadata": {},
     "output_type": "display_data"
    },
    {
     "name": "stdout",
     "output_type": "stream",
     "text": [
      "/data/rzhang/PRINT_rev/HepG2/final_model/HepG2_25000000_fold1-thriving-goat-111.pt\n"
     ]
    },
    {
     "data": {
      "application/vnd.jupyter.widget-view+json": {
       "model_id": "",
       "version_major": 2,
       "version_minor": 0
      },
      "text/plain": [
       " - (Validation):   0%|                                                                                      | …"
      ]
     },
     "metadata": {},
     "output_type": "display_data"
    },
    {
     "name": "stdout",
     "output_type": "stream",
     "text": [
      "/data/rzhang/PRINT_rev/HepG2/final_model/HepG2_25000000_fold2-lunar-dog-113.pt\n"
     ]
    },
    {
     "data": {
      "application/vnd.jupyter.widget-view+json": {
       "model_id": "",
       "version_major": 2,
       "version_minor": 0
      },
      "text/plain": [
       " - (Validation):   0%|                                                                                      | …"
      ]
     },
     "metadata": {},
     "output_type": "display_data"
    },
    {
     "name": "stderr",
     "output_type": "stream",
     "text": [
      "IOPub message rate exceeded.\n",
      "The Jupyter server will temporarily stop sending output\n",
      "to the client in order to avoid crashing it.\n",
      "To change this limit, set the config variable\n",
      "`--ServerApp.iopub_msg_rate_limit`.\n",
      "\n",
      "Current values:\n",
      "ServerApp.iopub_msg_rate_limit=1000.0 (msgs/sec)\n",
      "ServerApp.rate_limit_window=3.0 (secs)\n",
      "\n"
     ]
    },
    {
     "name": "stdout",
     "output_type": "stream",
     "text": [
      "torch.Size([5, 11880000000]) torch.Size([5, 11880000000]) torch.Size([5, 150000]) torch.Size([5, 150000])\n",
      "[[], [], [], [], []]\n",
      "/data/rzhang/PRINT_rev/HepG2/final_model/HepG2_10000000_fold0-prosperous-goat-117.pt\n"
     ]
    },
    {
     "data": {
      "application/vnd.jupyter.widget-view+json": {
       "model_id": "",
       "version_major": 2,
       "version_minor": 0
      },
      "text/plain": [
       " - (Validation):   0%|                                                                                      | …"
      ]
     },
     "metadata": {},
     "output_type": "display_data"
    },
    {
     "name": "stdout",
     "output_type": "stream",
     "text": [
      "/data/rzhang/PRINT_rev/HepG2/final_model/HepG2_10000000_fold1-resplendent-orchid-118.pt\n"
     ]
    },
    {
     "data": {
      "application/vnd.jupyter.widget-view+json": {
       "model_id": "",
       "version_major": 2,
       "version_minor": 0
      },
      "text/plain": [
       " - (Validation):   0%|                                                                                      | …"
      ]
     },
     "metadata": {},
     "output_type": "display_data"
    },
    {
     "name": "stdout",
     "output_type": "stream",
     "text": [
      "/data/rzhang/PRINT_rev/HepG2/final_model/HepG2_10000000_fold2-prosperous-lamp-116.pt\n"
     ]
    },
    {
     "data": {
      "application/vnd.jupyter.widget-view+json": {
       "model_id": "",
       "version_major": 2,
       "version_minor": 0
      },
      "text/plain": [
       " - (Validation):   0%|                                                                                      | …"
      ]
     },
     "metadata": {},
     "output_type": "display_data"
    },
    {
     "name": "stdout",
     "output_type": "stream",
     "text": [
      "/data/rzhang/PRINT_rev/HepG2/final_model/HepG2_10000000_fold3-prosperous-envelope-119.pt\n"
     ]
    },
    {
     "data": {
      "application/vnd.jupyter.widget-view+json": {
       "model_id": "",
       "version_major": 2,
       "version_minor": 0
      },
      "text/plain": [
       " - (Validation):   0%|                                                                                      | …"
      ]
     },
     "metadata": {},
     "output_type": "display_data"
    },
    {
     "name": "stdout",
     "output_type": "stream",
     "text": [
      "/data/rzhang/PRINT_rev/HepG2/final_model/HepG2_10000000_fold4-flashing-chrysanthemum-120.pt\n"
     ]
    },
    {
     "data": {
      "application/vnd.jupyter.widget-view+json": {
       "model_id": "",
       "version_major": 2,
       "version_minor": 0
      },
      "text/plain": [
       " - (Validation):   0%|                                                                                      | …"
      ]
     },
     "metadata": {},
     "output_type": "display_data"
    },
    {
     "name": "stdout",
     "output_type": "stream",
     "text": [
      "torch.Size([5, 11880000000]) torch.Size([5, 11880000000]) torch.Size([5, 150000]) torch.Size([5, 150000])\n",
      "[[], [], [], [], []]\n",
      "/data/rzhang/PRINT_rev/HepG2/final_model/HepG2_5000000_fold0-glittering-goat-122.pt\n"
     ]
    },
    {
     "data": {
      "application/vnd.jupyter.widget-view+json": {
       "model_id": "",
       "version_major": 2,
       "version_minor": 0
      },
      "text/plain": [
       " - (Validation):   0%|                                                                                      | …"
      ]
     },
     "metadata": {},
     "output_type": "display_data"
    },
    {
     "name": "stdout",
     "output_type": "stream",
     "text": [
      "/data/rzhang/PRINT_rev/HepG2/final_model/HepG2_5000000_fold1-sparkling-dragon-121.pt\n"
     ]
    },
    {
     "data": {
      "application/vnd.jupyter.widget-view+json": {
       "model_id": "",
       "version_major": 2,
       "version_minor": 0
      },
      "text/plain": [
       " - (Validation):   0%|                                                                                      | …"
      ]
     },
     "metadata": {},
     "output_type": "display_data"
    },
    {
     "name": "stdout",
     "output_type": "stream",
     "text": [
      "/data/rzhang/PRINT_rev/HepG2/final_model/HepG2_5000000_fold2-fortuitous-dog-123.pt\n"
     ]
    },
    {
     "data": {
      "application/vnd.jupyter.widget-view+json": {
       "model_id": "",
       "version_major": 2,
       "version_minor": 0
      },
      "text/plain": [
       " - (Validation):   0%|                                                                                      | …"
      ]
     },
     "metadata": {},
     "output_type": "display_data"
    },
    {
     "name": "stdout",
     "output_type": "stream",
     "text": [
      "/data/rzhang/PRINT_rev/HepG2/final_model/HepG2_5000000_fold3-vermilion-tiger-124.pt\n"
     ]
    },
    {
     "data": {
      "application/vnd.jupyter.widget-view+json": {
       "model_id": "",
       "version_major": 2,
       "version_minor": 0
      },
      "text/plain": [
       " - (Validation):   0%|                                                                                      | …"
      ]
     },
     "metadata": {},
     "output_type": "display_data"
    },
    {
     "name": "stdout",
     "output_type": "stream",
     "text": [
      "/data/rzhang/PRINT_rev/HepG2/final_model/HepG2_5000000_fold4-bright-festival-125.pt\n"
     ]
    },
    {
     "data": {
      "application/vnd.jupyter.widget-view+json": {
       "model_id": "",
       "version_major": 2,
       "version_minor": 0
      },
      "text/plain": [
       " - (Validation):   0%|                                                                                      | …"
      ]
     },
     "metadata": {},
     "output_type": "display_data"
    },
    {
     "name": "stdout",
     "output_type": "stream",
     "text": [
      "torch.Size([5, 11880000000]) torch.Size([5, 11880000000]) torch.Size([5, 150000]) torch.Size([5, 150000])\n",
      "[[], [], [], [], []]\n",
      "/data/rzhang/PRINT_rev/HepG2/final_model/HepG2_2500000_fold0-stellar-snowflake-159.pt\n"
     ]
    },
    {
     "data": {
      "application/vnd.jupyter.widget-view+json": {
       "model_id": "",
       "version_major": 2,
       "version_minor": 0
      },
      "text/plain": [
       " - (Validation):   0%|                                                                                      | …"
      ]
     },
     "metadata": {},
     "output_type": "display_data"
    },
    {
     "name": "stdout",
     "output_type": "stream",
     "text": [
      "/data/rzhang/PRINT_rev/HepG2/final_model/HepG2_2500000_fold1-prime-frost-157.pt\n"
     ]
    },
    {
     "data": {
      "application/vnd.jupyter.widget-view+json": {
       "model_id": "",
       "version_major": 2,
       "version_minor": 0
      },
      "text/plain": [
       " - (Validation):   0%|                                                                                      | …"
      ]
     },
     "metadata": {},
     "output_type": "display_data"
    },
    {
     "name": "stdout",
     "output_type": "stream",
     "text": [
      "/data/rzhang/PRINT_rev/HepG2/final_model/HepG2_2500000_fold2-radiant-forest-158.pt\n"
     ]
    },
    {
     "data": {
      "application/vnd.jupyter.widget-view+json": {
       "model_id": "",
       "version_major": 2,
       "version_minor": 0
      },
      "text/plain": [
       " - (Validation):   0%|                                                                                      | …"
      ]
     },
     "metadata": {},
     "output_type": "display_data"
    },
    {
     "name": "stdout",
     "output_type": "stream",
     "text": [
      "/data/rzhang/PRINT_rev/HepG2/final_model/HepG2_2500000_fold3-daily-violet-156.pt\n"
     ]
    },
    {
     "data": {
      "application/vnd.jupyter.widget-view+json": {
       "model_id": "",
       "version_major": 2,
       "version_minor": 0
      },
      "text/plain": [
       " - (Validation):   0%|                                                                                      | …"
      ]
     },
     "metadata": {},
     "output_type": "display_data"
    },
    {
     "name": "stdout",
     "output_type": "stream",
     "text": [
      "/data/rzhang/PRINT_rev/HepG2/final_model/HepG2_2500000_fold4-flowing-sun-160.pt\n"
     ]
    },
    {
     "data": {
      "application/vnd.jupyter.widget-view+json": {
       "model_id": "",
       "version_major": 2,
       "version_minor": 0
      },
      "text/plain": [
       " - (Validation):   0%|                                                                                      | …"
      ]
     },
     "metadata": {},
     "output_type": "display_data"
    },
    {
     "name": "stdout",
     "output_type": "stream",
     "text": [
      "torch.Size([5, 11880000000]) torch.Size([5, 11880000000]) torch.Size([5, 150000]) torch.Size([5, 150000])\n",
      "[[], [], [], [], []]\n",
      "/data/rzhang/PRINT_rev/HepG2/final_model/HepG2_1000000_fold0-fortuitous-chrysanthemum-126.pt\n"
     ]
    },
    {
     "data": {
      "application/vnd.jupyter.widget-view+json": {
       "model_id": "",
       "version_major": 2,
       "version_minor": 0
      },
      "text/plain": [
       " - (Validation):   0%|                                                                                      | …"
      ]
     },
     "metadata": {},
     "output_type": "display_data"
    },
    {
     "name": "stdout",
     "output_type": "stream",
     "text": [
      "/data/rzhang/PRINT_rev/HepG2/final_model/HepG2_1000000_fold1-abundant-fish-127.pt\n"
     ]
    },
    {
     "data": {
      "application/vnd.jupyter.widget-view+json": {
       "model_id": "",
       "version_major": 2,
       "version_minor": 0
      },
      "text/plain": [
       " - (Validation):   0%|                                                                                      | …"
      ]
     },
     "metadata": {},
     "output_type": "display_data"
    },
    {
     "name": "stdout",
     "output_type": "stream",
     "text": [
      "/data/rzhang/PRINT_rev/HepG2/final_model/HepG2_1000000_fold2-crimson-moon-128.pt\n"
     ]
    },
    {
     "data": {
      "application/vnd.jupyter.widget-view+json": {
       "model_id": "",
       "version_major": 2,
       "version_minor": 0
      },
      "text/plain": [
       " - (Validation):   0%|                                                                                      | …"
      ]
     },
     "metadata": {},
     "output_type": "display_data"
    },
    {
     "name": "stdout",
     "output_type": "stream",
     "text": [
      "/data/rzhang/PRINT_rev/HepG2/final_model/HepG2_1000000_fold3-resplendent-chrysanthemum-129.pt\n"
     ]
    },
    {
     "data": {
      "application/vnd.jupyter.widget-view+json": {
       "model_id": "",
       "version_major": 2,
       "version_minor": 0
      },
      "text/plain": [
       " - (Validation):   0%|                                                                                      | …"
      ]
     },
     "metadata": {},
     "output_type": "display_data"
    },
    {
     "name": "stdout",
     "output_type": "stream",
     "text": [
      "/data/rzhang/PRINT_rev/HepG2/final_model/HepG2_1000000_fold4-incandescent-goat-129.pt\n"
     ]
    },
    {
     "data": {
      "application/vnd.jupyter.widget-view+json": {
       "model_id": "",
       "version_major": 2,
       "version_minor": 0
      },
      "text/plain": [
       " - (Validation):   0%|                                                                                      | …"
      ]
     },
     "metadata": {},
     "output_type": "display_data"
    },
    {
     "name": "stdout",
     "output_type": "stream",
     "text": [
      "torch.Size([5, 11880000000]) torch.Size([5, 11880000000]) torch.Size([5, 150000]) torch.Size([5, 150000])\n",
      "[[], [], [], [], []]\n",
      "/data/rzhang/PRINT_rev/HepG2/final_model/HepG2_fold0-crimson-bao-8.pt\n"
     ]
    },
    {
     "data": {
      "application/vnd.jupyter.widget-view+json": {
       "model_id": "",
       "version_major": 2,
       "version_minor": 0
      },
      "text/plain": [
       " - (Validation):   0%|                                                                                      | …"
      ]
     },
     "metadata": {},
     "output_type": "display_data"
    },
    {
     "name": "stdout",
     "output_type": "stream",
     "text": [
      "/data/rzhang/PRINT_rev/HepG2/final_model/HepG2_fold1-auspicious-rocket-9.pt\n"
     ]
    },
    {
     "data": {
      "application/vnd.jupyter.widget-view+json": {
       "model_id": "",
       "version_major": 2,
       "version_minor": 0
      },
      "text/plain": [
       " - (Validation):   0%|                                                                                      | …"
      ]
     },
     "metadata": {},
     "output_type": "display_data"
    },
    {
     "name": "stdout",
     "output_type": "stream",
     "text": [
      "/data/rzhang/PRINT_rev/HepG2/final_model/HepG2_fold2-prosperous-fish-8.pt\n"
     ]
    },
    {
     "data": {
      "application/vnd.jupyter.widget-view+json": {
       "model_id": "",
       "version_major": 2,
       "version_minor": 0
      },
      "text/plain": [
       " - (Validation):   0%|                                                                                      | …"
      ]
     },
     "metadata": {},
     "output_type": "display_data"
    },
    {
     "name": "stdout",
     "output_type": "stream",
     "text": [
      "/data/rzhang/PRINT_rev/HepG2/final_model/HepG2_fold3-prosperous-bao-11.pt\n"
     ]
    },
    {
     "data": {
      "application/vnd.jupyter.widget-view+json": {
       "model_id": "",
       "version_major": 2,
       "version_minor": 0
      },
      "text/plain": [
       " - (Validation):   0%|                                                                                      | …"
      ]
     },
     "metadata": {},
     "output_type": "display_data"
    },
    {
     "name": "stdout",
     "output_type": "stream",
     "text": [
      "/data/rzhang/PRINT_rev/HepG2/final_model/HepG2_fold4-radiant-paper-12.pt\n"
     ]
    },
    {
     "data": {
      "application/vnd.jupyter.widget-view+json": {
       "model_id": "",
       "version_major": 2,
       "version_minor": 0
      },
      "text/plain": [
       " - (Validation):   0%|                                                                                      | …"
      ]
     },
     "metadata": {},
     "output_type": "display_data"
    }
   ],
   "source": [
    "performance = {}\n",
    "\n",
    "for name in model_name:\n",
    "    a,b = validation_step_footprint2(model_name[name],\n",
    "                                      validation_data,\n",
    "                                      None,\n",
    "                                      dispmodel,\n",
    "                                      np.arange(2, 101, 1))\n",
    "    performance[name] = [a,b]"
   ]
  },
  {
   "cell_type": "code",
   "execution_count": 12,
   "id": "a92ba368-a802-48d5-8ff4-c38d96ebb956",
   "metadata": {},
   "outputs": [
    {
     "data": {
      "text/plain": [
       "{'HepG2_50M': [0.74482334, 0.78743476],\n",
       " 'HepG2_25M': [0.7234626, 0.72645956],\n",
       " 'HepG2_10M': [0.6875358, 0.6697971],\n",
       " 'HepG2_5M': [0.62390673, 0.60753924],\n",
       " 'HepG2_2.5M': [0.5701806, 0.46686512],\n",
       " 'HepG2_1M': [0.4438611, 0.33465067],\n",
       " 'HepG2_full': [0.7497943, 0.7827489]}"
      ]
     },
     "execution_count": 12,
     "metadata": {},
     "output_type": "execute_result"
    }
   ],
   "source": [
    "performance"
   ]
  },
  {
   "cell_type": "code",
   "execution_count": 25,
   "id": "a1350059-15f3-4641-bd05-5dc1b9b33bbf",
   "metadata": {},
   "outputs": [],
   "source": [
    "from scipy.stats import *\n",
    "def compare_low_high_signals(\n",
    "                    validation_data,\n",
    "                    validation_size,\n",
    "                    dispmodel,\n",
    "                    modes,\n",
    "                    linear_correction=False):\n",
    "\n",
    "    \n",
    "    fp_pred = []\n",
    "    print (fp_pred)\n",
    "    fp_gt = []\n",
    "\n",
    "    cov_pred = []\n",
    "    cov_gt = []\n",
    "    \n",
    "    device = 'cuda'\n",
    "    size = 0\n",
    "    if validation_size is None:\n",
    "        validation_size = len(validation_data)\n",
    "    bar = trange(validation_size, desc=' - (Validation)', leave=False, dynamic_ncols=True)\n",
    "    total_len = 0\n",
    "    for data in validation_data:\n",
    "        if len(data) == 2:\n",
    "            X, y = data\n",
    "            X = X.to(device)\n",
    "            y = y.to(device)\n",
    "            cell = None\n",
    "            norm_cov = None\n",
    "        else:\n",
    "            X, y, cell, _, norm_cov = data\n",
    "            cell = cell[..., 0]\n",
    "            X = X.to(device)\n",
    "            y = y.to(device)\n",
    "            cell = cell.to(device)\n",
    "            # norm_cov = norm_cov.to(device)\n",
    "            norm_cov = None\n",
    "            \n",
    "        coverage = torch.log1p(y[:, 0].sum(dim=-1)) if norm_cov is None else norm_cov\n",
    "        pred_coverage = torch.log1p(y[:, 1].sum(dim=-1))\n",
    "        # print (coverage.min(), coverage.max())\n",
    "\n",
    "        pred_score = multiscaleFoot(y[:, 1],\n",
    "                            y[:, 2],\n",
    "                            modes,\n",
    "                            dispmodel)\n",
    "        mask = ~torch.isnan(pred_score)\n",
    "        pred_score = torch.nan_to_num(pred_score, nan=0)\n",
    "\n",
    "        \n",
    "        y = multiscaleFoot(y[:, 0],\n",
    "                            y[:, 2],\n",
    "                            modes,\n",
    "                            dispmodel)\n",
    "        mask = ~torch.isnan(y)\n",
    "        y = torch.nan_to_num(y, nan=0)\n",
    "\n",
    "        \n",
    "        # print (y.shape, pred_score.shape)\n",
    "        pred_score, y = pred_score.reshape((len(pred_score), -1)), y.reshape((len(y), -1))\n",
    "        fp_pred.append(pred_score.detach().cpu().reshape((-1)))\n",
    "        fp_gt.append(y.detach().cpu().reshape((-1)))\n",
    "\n",
    "        cov_pred.append(coverage.detach().cpu().reshape((-1)))\n",
    "        cov_gt.append(pred_coverage.detach().cpu().reshape((-1)))\n",
    "\n",
    "        size += 1\n",
    "        bar.update(1)\n",
    "        if validation_size is not None and size > validation_size:\n",
    "            break\n",
    "        \n",
    "\n",
    "        \n",
    "    \n",
    "    fp_pred = torch.cat(fp_pred, dim=0).numpy()\n",
    "    fp_gt = torch.cat(fp_gt, dim=0).numpy()\n",
    "    cov_pred = torch.cat(cov_pred, dim=0).numpy()\n",
    "    cov_gt = torch.cat(cov_gt, dim=0).numpy()\n",
    "    \n",
    "    return pearson_r(fp_pred, fp_gt), pearson_r(cov_pred, cov_gt)"
   ]
  },
  {
   "cell_type": "code",
   "execution_count": 33,
   "id": "59725cc5-23b3-4b51-afe0-1512908799bd",
   "metadata": {},
   "outputs": [],
   "source": [
    "frag_num_list = [50000000, 25000000, 10000000, 5000000, 2500000, 1000000]\n",
    "name = ['HepG2_50M', 'HepG2_25M', 'HepG2_10M', 'HepG2_5M', 'HepG2_2.5M', 'HepG2_1M']"
   ]
  },
  {
   "cell_type": "code",
   "execution_count": 34,
   "id": "0f79edd0-cef3-41c3-b804-82786aa29dbd",
   "metadata": {},
   "outputs": [
    {
     "name": "stdout",
     "output_type": "stream",
     "text": [
      "input summits 30000\n"
     ]
    },
    {
     "data": {
      "application/vnd.jupyter.widget-view+json": {
       "model_id": "acffd6217c4f47dc81cef5c2937473ff",
       "version_major": 2,
       "version_minor": 0
      },
      "text/plain": [
       "validating loci:   0%|          | 0/30000 [00:00<?, ?it/s]"
      ]
     },
     "metadata": {},
     "output_type": "display_data"
    },
    {
     "name": "stdout",
     "output_type": "stream",
     "text": [
      "valid summits after trimming edges 30000\n"
     ]
    },
    {
     "data": {
      "application/vnd.jupyter.widget-view+json": {
       "model_id": "e304d5e07221423ca10ef5ae45de5156",
       "version_major": 2,
       "version_minor": 0
      },
      "text/plain": [
       "fetching coverage:   0%|          | 0/30000 [00:00<?, ?it/s]"
      ]
     },
     "metadata": {},
     "output_type": "display_data"
    },
    {
     "name": "stdout",
     "output_type": "stream",
     "text": [
      "(30000, 3)\n",
      "coverage min max 25.0 18833.0\n",
      "valid summits after min/max count filter 30000\n"
     ]
    },
    {
     "data": {
      "application/vnd.jupyter.widget-view+json": {
       "model_id": "27e21d362a2b46b9a17cee621c3e4fa1",
       "version_major": 2,
       "version_minor": 0
      },
      "text/plain": [
       "Caching sequences:   0%|          | 0/30000 [00:00<?, ?it/s]"
      ]
     },
     "metadata": {},
     "output_type": "display_data"
    },
    {
     "name": "stdout",
     "output_type": "stream",
     "text": [
      "[]\n"
     ]
    },
    {
     "data": {
      "application/vnd.jupyter.widget-view+json": {
       "model_id": "",
       "version_major": 2,
       "version_minor": 0
      },
      "text/plain": [
       " - (Validation):   0%|                                                                                      | …"
      ]
     },
     "metadata": {},
     "output_type": "display_data"
    },
    {
     "name": "stdout",
     "output_type": "stream",
     "text": [
      "input summits 30000\n"
     ]
    },
    {
     "data": {
      "application/vnd.jupyter.widget-view+json": {
       "model_id": "136bf03edbb746208d4f8fecb516f4f3",
       "version_major": 2,
       "version_minor": 0
      },
      "text/plain": [
       "validating loci:   0%|          | 0/30000 [00:00<?, ?it/s]"
      ]
     },
     "metadata": {},
     "output_type": "display_data"
    },
    {
     "name": "stdout",
     "output_type": "stream",
     "text": [
      "valid summits after trimming edges 30000\n"
     ]
    },
    {
     "data": {
      "application/vnd.jupyter.widget-view+json": {
       "model_id": "e4db776eeb214eb586291431640f748f",
       "version_major": 2,
       "version_minor": 0
      },
      "text/plain": [
       "fetching coverage:   0%|          | 0/30000 [00:00<?, ?it/s]"
      ]
     },
     "metadata": {},
     "output_type": "display_data"
    },
    {
     "name": "stdout",
     "output_type": "stream",
     "text": [
      "(30000, 3)\n",
      "coverage min max 6.0 18833.0\n",
      "valid summits after min/max count filter 30000\n"
     ]
    },
    {
     "data": {
      "application/vnd.jupyter.widget-view+json": {
       "model_id": "fc42a30da6e34327a7c8a346ac5422c1",
       "version_major": 2,
       "version_minor": 0
      },
      "text/plain": [
       "Caching sequences:   0%|          | 0/30000 [00:00<?, ?it/s]"
      ]
     },
     "metadata": {},
     "output_type": "display_data"
    },
    {
     "name": "stdout",
     "output_type": "stream",
     "text": [
      "[]\n"
     ]
    },
    {
     "data": {
      "application/vnd.jupyter.widget-view+json": {
       "model_id": "",
       "version_major": 2,
       "version_minor": 0
      },
      "text/plain": [
       " - (Validation):   0%|                                                                                      | …"
      ]
     },
     "metadata": {},
     "output_type": "display_data"
    },
    {
     "name": "stdout",
     "output_type": "stream",
     "text": [
      "input summits 30000\n"
     ]
    },
    {
     "data": {
      "application/vnd.jupyter.widget-view+json": {
       "model_id": "aa8c7c3bdb8e4e1782c13a9fbc1cba87",
       "version_major": 2,
       "version_minor": 0
      },
      "text/plain": [
       "validating loci:   0%|          | 0/30000 [00:00<?, ?it/s]"
      ]
     },
     "metadata": {},
     "output_type": "display_data"
    },
    {
     "name": "stdout",
     "output_type": "stream",
     "text": [
      "valid summits after trimming edges 30000\n"
     ]
    },
    {
     "data": {
      "application/vnd.jupyter.widget-view+json": {
       "model_id": "0cabfd8e37374760a5b5c684760328ca",
       "version_major": 2,
       "version_minor": 0
      },
      "text/plain": [
       "fetching coverage:   0%|          | 0/30000 [00:00<?, ?it/s]"
      ]
     },
     "metadata": {},
     "output_type": "display_data"
    },
    {
     "name": "stdout",
     "output_type": "stream",
     "text": [
      "(30000, 3)\n",
      "coverage min max 0.0 18833.0\n",
      "valid summits after min/max count filter 30000\n"
     ]
    },
    {
     "data": {
      "application/vnd.jupyter.widget-view+json": {
       "model_id": "d971b7d05fec4ca1942d494f47fcd1d6",
       "version_major": 2,
       "version_minor": 0
      },
      "text/plain": [
       "Caching sequences:   0%|          | 0/30000 [00:00<?, ?it/s]"
      ]
     },
     "metadata": {},
     "output_type": "display_data"
    },
    {
     "name": "stdout",
     "output_type": "stream",
     "text": [
      "[]\n"
     ]
    },
    {
     "data": {
      "application/vnd.jupyter.widget-view+json": {
       "model_id": "",
       "version_major": 2,
       "version_minor": 0
      },
      "text/plain": [
       " - (Validation):   0%|                                                                                      | …"
      ]
     },
     "metadata": {},
     "output_type": "display_data"
    },
    {
     "name": "stdout",
     "output_type": "stream",
     "text": [
      "input summits 30000\n"
     ]
    },
    {
     "data": {
      "application/vnd.jupyter.widget-view+json": {
       "model_id": "e09a707b767f464eaa385242b69bdbd1",
       "version_major": 2,
       "version_minor": 0
      },
      "text/plain": [
       "validating loci:   0%|          | 0/30000 [00:00<?, ?it/s]"
      ]
     },
     "metadata": {},
     "output_type": "display_data"
    },
    {
     "name": "stdout",
     "output_type": "stream",
     "text": [
      "valid summits after trimming edges 30000\n"
     ]
    },
    {
     "data": {
      "application/vnd.jupyter.widget-view+json": {
       "model_id": "49a480cd9e524cc9990f12acf90814d2",
       "version_major": 2,
       "version_minor": 0
      },
      "text/plain": [
       "fetching coverage:   0%|          | 0/30000 [00:00<?, ?it/s]"
      ]
     },
     "metadata": {},
     "output_type": "display_data"
    },
    {
     "name": "stdout",
     "output_type": "stream",
     "text": [
      "(30000, 3)\n",
      "coverage min max 0.0 18833.0\n",
      "valid summits after min/max count filter 30000\n"
     ]
    },
    {
     "data": {
      "application/vnd.jupyter.widget-view+json": {
       "model_id": "5aacff05a3e24801bbfc537a11e6d0b9",
       "version_major": 2,
       "version_minor": 0
      },
      "text/plain": [
       "Caching sequences:   0%|          | 0/30000 [00:00<?, ?it/s]"
      ]
     },
     "metadata": {},
     "output_type": "display_data"
    },
    {
     "name": "stdout",
     "output_type": "stream",
     "text": [
      "[]\n"
     ]
    },
    {
     "data": {
      "application/vnd.jupyter.widget-view+json": {
       "model_id": "",
       "version_major": 2,
       "version_minor": 0
      },
      "text/plain": [
       " - (Validation):   0%|                                                                                      | …"
      ]
     },
     "metadata": {},
     "output_type": "display_data"
    },
    {
     "name": "stdout",
     "output_type": "stream",
     "text": [
      "input summits 30000\n"
     ]
    },
    {
     "data": {
      "application/vnd.jupyter.widget-view+json": {
       "model_id": "bd5893129a204fccaece40229c111204",
       "version_major": 2,
       "version_minor": 0
      },
      "text/plain": [
       "validating loci:   0%|          | 0/30000 [00:00<?, ?it/s]"
      ]
     },
     "metadata": {},
     "output_type": "display_data"
    },
    {
     "name": "stdout",
     "output_type": "stream",
     "text": [
      "valid summits after trimming edges 30000\n"
     ]
    },
    {
     "data": {
      "application/vnd.jupyter.widget-view+json": {
       "model_id": "9b6afe9069134dc39bac1a1fbb804626",
       "version_major": 2,
       "version_minor": 0
      },
      "text/plain": [
       "fetching coverage:   0%|          | 0/30000 [00:00<?, ?it/s]"
      ]
     },
     "metadata": {},
     "output_type": "display_data"
    },
    {
     "name": "stdout",
     "output_type": "stream",
     "text": [
      "(30000, 3)\n",
      "coverage min max 0.0 18833.0\n",
      "valid summits after min/max count filter 30000\n"
     ]
    },
    {
     "data": {
      "application/vnd.jupyter.widget-view+json": {
       "model_id": "b6058bfbecb84173becc5977e446601a",
       "version_major": 2,
       "version_minor": 0
      },
      "text/plain": [
       "Caching sequences:   0%|          | 0/30000 [00:00<?, ?it/s]"
      ]
     },
     "metadata": {},
     "output_type": "display_data"
    },
    {
     "name": "stdout",
     "output_type": "stream",
     "text": [
      "[]\n"
     ]
    },
    {
     "data": {
      "application/vnd.jupyter.widget-view+json": {
       "model_id": "",
       "version_major": 2,
       "version_minor": 0
      },
      "text/plain": [
       " - (Validation):   0%|                                                                                      | …"
      ]
     },
     "metadata": {},
     "output_type": "display_data"
    },
    {
     "name": "stdout",
     "output_type": "stream",
     "text": [
      "input summits 30000\n"
     ]
    },
    {
     "data": {
      "application/vnd.jupyter.widget-view+json": {
       "model_id": "53c053c968134681a7bcb0f52b0b63c7",
       "version_major": 2,
       "version_minor": 0
      },
      "text/plain": [
       "validating loci:   0%|          | 0/30000 [00:00<?, ?it/s]"
      ]
     },
     "metadata": {},
     "output_type": "display_data"
    },
    {
     "name": "stdout",
     "output_type": "stream",
     "text": [
      "valid summits after trimming edges 30000\n"
     ]
    },
    {
     "data": {
      "application/vnd.jupyter.widget-view+json": {
       "model_id": "4a10cd0e3c27401db72fddb0c90ffb93",
       "version_major": 2,
       "version_minor": 0
      },
      "text/plain": [
       "fetching coverage:   0%|          | 0/30000 [00:00<?, ?it/s]"
      ]
     },
     "metadata": {},
     "output_type": "display_data"
    },
    {
     "name": "stdout",
     "output_type": "stream",
     "text": [
      "(30000, 3)\n",
      "coverage min max 0.0 18833.0\n",
      "valid summits after min/max count filter 30000\n"
     ]
    },
    {
     "data": {
      "application/vnd.jupyter.widget-view+json": {
       "model_id": "c937b8ce84c349ff8d63d4cd1212383c",
       "version_major": 2,
       "version_minor": 0
      },
      "text/plain": [
       "Caching sequences:   0%|          | 0/30000 [00:00<?, ?it/s]"
      ]
     },
     "metadata": {},
     "output_type": "display_data"
    },
    {
     "name": "stdout",
     "output_type": "stream",
     "text": [
      "[]\n"
     ]
    },
    {
     "data": {
      "application/vnd.jupyter.widget-view+json": {
       "model_id": "",
       "version_major": 2,
       "version_minor": 0
      },
      "text/plain": [
       " - (Validation):   0%|                                                                                      | …"
      ]
     },
     "metadata": {},
     "output_type": "display_data"
    }
   ],
   "source": [
    "performance2 = {}\n",
    "for frag_num, nm in zip(frag_num_list, name):\n",
    "    signals = ['/data/rzhang/PRINT_rev/HepG2/HepG2.bw', \n",
    "               f'/data/rzhang/PRINT_rev/HepG2/HepG2_{frag_num}.bw', \n",
    "            str(genome.fetch_bias())[:-3] + \".bw\"]\n",
    "    dataset = ChromBPDataset(\n",
    "    signals=signals,\n",
    "    ref_seq=genome.fetch_fa(),\n",
    "    summits=summits,\n",
    "    DNA_window=dna_len,\n",
    "    signal_window=output_len + 200,\n",
    "    max_jitter=0,\n",
    "    min_counts=None,\n",
    "    max_counts=None,\n",
    "    cached=True,\n",
    "    lazy_cache=True,\n",
    "    reverse_compliment=False,\n",
    "    device='cpu')\n",
    "    disp_path = scp.datasets.pretrained_dispersion_model\n",
    "    dispmodel = loadDispModel(disp_path)\n",
    "    dispmodel = dispModel(deepcopy(dispmodel)).cuda()\n",
    "    validation_data = ChromBPDataLoader(\n",
    "                    dataset=dataset,\n",
    "                    batch_size=64,\n",
    "                    num_workers=4,\n",
    "                    pin_memory=True,\n",
    "                    shuffle=False)\n",
    "    a,b = compare_low_high_signals(\n",
    "                        validation_data,\n",
    "                                          None,\n",
    "                                          dispmodel,\n",
    "                                          np.arange(2, 101, 1))\n",
    "    performance2[nm] = [a,b]"
   ]
  },
  {
   "cell_type": "code",
   "execution_count": 38,
   "id": "35e8d8ba-74ea-46b3-9192-770c8f43c765",
   "metadata": {},
   "outputs": [],
   "source": [
    "score = [performance2[xx][0] for xx in name] + [performance[xx][0] for xx in ['HepG2_full']+name ]\n",
    "x = [50, 25, 10, 5, 2.5, 1] + [65.5, 50, 25, 10, 5, 2.5, 1]\n",
    "hue = ['downsample_footprint'] * 6 + ['sequence model'] * 7\n"
   ]
  },
  {
   "cell_type": "code",
   "execution_count": 40,
   "id": "a7d609f2-c6d9-4415-8e01-1548f35e8474",
   "metadata": {},
   "outputs": [
    {
     "name": "stderr",
     "output_type": "stream",
     "text": [
      "When grouping with a length-1 list-like, you will need to pass a length-1 tuple to get_group in a future version of pandas. Pass `(name,)` instead of `name` to silence this warning.\n",
      "When grouping with a length-1 list-like, you will need to pass a length-1 tuple to get_group in a future version of pandas. Pass `(name,)` instead of `name` to silence this warning.\n"
     ]
    },
    {
     "data": {
      "image/png": "[encoded data removed]",
      "text/plain": [
       "<Figure size 640x480 with 1 Axes>"
      ]
     },
     "metadata": {},
     "output_type": "display_data"
    }
   ],
   "source": [
    "sns.scatterplot(x=x, y=score, hue=hue)\n",
    "ax=sns.lineplot(x=x, y=score, hue=hue)\n",
    "plt.xscale(\"log\")\n",
    "ax.set_xticks(x,x)\n",
    "plt.savefig('/data/rzhang/PRINT_rev/HepG2/downsample_pearsonr.pdf')"
   ]
  },
  {
   "cell_type": "code",
   "execution_count": 41,
   "id": "c4a541ed-dd52-412f-869d-3348395399c8",
   "metadata": {},
   "outputs": [
    {
     "name": "stderr",
     "output_type": "stream",
     "text": [
      "When grouping with a length-1 list-like, you will need to pass a length-1 tuple to get_group in a future version of pandas. Pass `(name,)` instead of `name` to silence this warning.\n"
     ]
    },
    {
     "data": {
      "image/png": "[encoded data removed]",
      "text/plain": [
       "<Figure size 640x480 with 1 Axes>"
      ]
     },
     "metadata": {},
     "output_type": "display_data"
    }
   ],
   "source": [
    "sns.scatterplot(x=x[6:], y=score[6:], hue=hue[6:])\n",
    "ax=sns.lineplot(x=x[6:], y=score[6:], hue=hue[6:])\n",
    "plt.xscale(\"log\")\n",
    "ax.set_xticks(x,x)\n",
    "plt.savefig('/data/rzhang/PRINT_rev/HepG2/downsample_pearsonr_wo_baseline.pdf')"
   ]
  },
  {
   "cell_type": "code",
   "execution_count": 148,
   "id": "faa322a9-855f-4a3e-8703-f530ef8d3d91",
   "metadata": {},
   "outputs": [],
   "source": [
    "# Pick an example\n",
    "chr, start, end = 'chr4', 39181938, 39182738\n",
    "center = (start + end) // 2\n",
    "pad = 920\n",
    "seq = scp.genome.hg38.fetch_seq(chr, \n",
    "                                   center-pad, \n",
    "                                   center+pad)\n",
    "seq = scp.utils.DNA_one_hot(seq).float().cuda()[None]"
   ]
  },
  {
   "cell_type": "code",
   "execution_count": 155,
   "id": "9fff499d-2477-4a53-8076-78495d6d37bd",
   "metadata": {},
   "outputs": [
    {
     "data": {
      "image/png": "[encoded data removed]",
      "text/plain": [
       "<Figure size 400x400 with 1 Axes>"
      ]
     },
     "metadata": {},
     "output_type": "display_data"
    }
   ],
   "source": [
    "scp.pl.plot_footprints(printer_dict['HepG2'],\n",
    "                       save_key=None,\n",
    "                       group_names='HepG2',\n",
    "                       cell_grouping=[printer_dict['HepG2'].insertion_file.obs_names],\n",
    "                       region=f'{chr}:{start-100}-{end+100}',\n",
    "                      clean_mode=True)\n",
    "plt.savefig(f'/data/rzhang/PRINT_rev/HepG2/gt-{chr}:{start}-{end}.png', dpi=300)"
   ]
  },
  {
   "cell_type": "code",
   "execution_count": 127,
   "id": "f007135d-a3dd-4f92-8550-d4d125f9ccbe",
   "metadata": {},
   "outputs": [],
   "source": [
    "pred_footprint_downsample = {}\n",
    "for name in model_name:    \n",
    "    tp = 0\n",
    "    for model in model_name[name]:\n",
    "        model = torch.load(model, map_location='cpu').cuda()\n",
    "        tp += model(seq)[0][0].detach().cpu().numpy()\n",
    "    tp /= len(model_name[name])\n",
    "    pred_footprint_downsample[name] = tp"
   ]
  },
  {
   "cell_type": "code",
   "execution_count": 139,
   "id": "c70e069b-0b9a-49cf-8f8e-228cf03e4afb",
   "metadata": {
    "scrolled": true
   },
   "outputs": [],
   "source": [
    "for name in pred_footprint_downsample:\n",
    "    plt.figure()\n",
    "    xx = scp.utils.zscore2pval(pred_footprint_downsample[name])\n",
    "    sns.heatmap(xx[::-1], cmap='Blues', vmin=0, vmax=np.quantile(xx, 0.95), cbar=False)\n",
    "    plt.axis('off')\n",
    "    plt.subplots_adjust(top = 1, bottom = 0, right = 1, left = 0, \n",
    "            hspace = 0, wspace = 0)\n",
    "    plt.margins(0,0)\n",
    "    plt.savefig(f'/data/rzhang/PRINT_rev/HepG2/{name}-{chr}:{start}-{end}.png', dpi=300)\n",
    "    plt.close('all')"
   ]
  },
  {
   "cell_type": "code",
   "execution_count": 168,
   "id": "e96d34d3-1831-487b-a5e2-ccb7dc35c785",
   "metadata": {},
   "outputs": [],
   "source": [
    "from scprinter.sync_visualization import _bigwig_footprint\n",
    "scp.sync_visualization.set_global_var(printer_dict['HepG2'])"
   ]
  },
  {
   "cell_type": "code",
   "execution_count": 179,
   "id": "edebfd46-9e51-4b31-a8c5-c71f52fade50",
   "metadata": {},
   "outputs": [
    {
     "data": {
      "text/plain": [
       "'/data/rzhang/PRINT_rev/K562/all.frags.filt.tsv.gz'"
      ]
     },
     "execution_count": 179,
     "metadata": {},
     "output_type": "execute_result"
    }
   ],
   "source": [
    "frag"
   ]
  },
  {
   "cell_type": "code",
   "execution_count": 180,
   "id": "808aa319-4962-4dd9-b04a-31a6dedffcc8",
   "metadata": {},
   "outputs": [],
   "source": [
    "frag_num_list = [50000000, 25000000, 10000000, 5000000, 2500000, 1000000]\n",
    "for frag_num in frag_num_list:\n",
    "    insertion = pyBigWig.open(f'/data/rzhang/PRINT_rev/HepG2/HepG2_{frag_num}.bw', 'rb')\n",
    "    bias = pyBigWig.open('/home/rzhang/.cache/scprinter/hg38Tn5Bias.tar.gz.untar/hg38Tn5Bias.bw', 'rb')\n",
    "    v = _bigwig_footprint(insertion, bias, chr, start, end, pad=100, extra=None, return_pval=True, smoothRadius=5)\n",
    "    sns.heatmap(v[::-1],cmap='Blues', vmin=0, vmax=2.0, cbar=False)\n",
    "    plt.axis('off')\n",
    "    plt.subplots_adjust(top = 1, bottom = 0, right = 1, left = 0, \n",
    "            hspace = 0, wspace = 0)\n",
    "    plt.margins(0,0)\n",
    "    plt.savefig(f'/data/rzhang/PRINT_rev/HepG2/gt_{frag_num}-{chr}:{start}-{end}.png', dpi=300)\n",
    "    plt.close('all')"
   ]
  }
 ],
 "metadata": {
  "kernelspec": {
   "display_name": "Python 3 (ipykernel)",
   "language": "python",
   "name": "python3"
  },
  "language_info": {
   "codemirror_mode": {
    "name": "ipython",
    "version": 3
   },
   "file_extension": ".py",
   "mimetype": "text/x-python",
   "name": "python",
   "nbconvert_exporter": "python",
   "pygments_lexer": "ipython3",
   "version": "3.11.9"
  }
 },
 "nbformat": 4,
 "nbformat_minor": 5
}
