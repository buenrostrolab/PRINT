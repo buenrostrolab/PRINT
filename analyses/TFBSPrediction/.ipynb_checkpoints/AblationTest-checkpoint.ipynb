{
 "cells": [
  {
   "cell_type": "code",
   "execution_count": 1,
   "id": "6b226516",
   "metadata": {},
   "outputs": [],
   "source": [
    "import os\n",
    "import sys\n",
    "import h5py\n",
    "import pandas as pd\n",
    "import numpy as np\n",
    "import tqdm\n",
    "import pickle\n",
    "import copy\n",
    "import matplotlib\n",
    "import matplotlib.pyplot as plt\n",
    "import multiprocessing as mp\n",
    "import scipy.stats as ss\n",
    "import seaborn as sns\n",
    "import keras\n",
    "import scipy\n",
    "from datetime import datetime\n",
    "from keras.models import load_model\n",
    "from keras.models import Sequential\n",
    "from keras.layers import *\n",
    "from keras.models import Model\n",
    "from keras import backend as K    \n",
    "from sklearn.metrics import roc_auc_score as auroc\n",
    "from sklearn.metrics import precision_recall_curve\n",
    "from sklearn.metrics import average_precision_score"
   ]
  },
  {
   "cell_type": "markdown",
   "id": "d2990aac",
   "metadata": {},
   "source": [
    "### Load multi-scale footprint and TF binding data"
   ]
  },
  {
   "cell_type": "code",
   "execution_count": 2,
   "id": "5ca9a318",
   "metadata": {},
   "outputs": [],
   "source": [
    "# Here we train a model that takes each genomic site with a matched TF motif\n",
    "# and predicts whether the site is bound by the corresponding TF"
   ]
  },
  {
   "cell_type": "code",
   "execution_count": 3,
   "id": "c7705e6e",
   "metadata": {},
   "outputs": [],
   "source": [
    "TFBS_data = []\n",
    "binding_labels = []\n",
    "TF_labels = []\n",
    "datasets = [\"HepG2\", \"GM12878\"]\n",
    "for dataset in datasets:\n",
    "\n",
    "    hf = h5py.File(\"../../data/\" + dataset + \"/TFBSData.h5\", 'r')\n",
    "\n",
    "    # Multi-scale footprint scores for each TF motif site\n",
    "    # Here we use footprints calculated using 6 different window sizes:\n",
    "    # 10bp, 20bp, 30bp, 50bp, 80bp, 100bp (radius, not diameter)\n",
    "    # For each window radius, we take a 201 bp (+/- 100bp with the motif center 1bp) local neighborhood \n",
    "    # as model input. Therefore for each locus we have a 201 * 6 = 1206 dimensional vector as input\n",
    "    # If we have in total N motif matched sites, then hf['motifFootprints'] should be a N-by-1026 matrix\n",
    "    footprints = hf['motifFootprints']\n",
    "    footprints = np.transpose(np.array(footprints))\n",
    "\n",
    "    # Metadata of each motif site\n",
    "    metadata = hf['metadata']\n",
    "    metadata = np.array(metadata)\n",
    "\n",
    "    # Ground truth TF binding label. An array of 0s (unbound) and 1s (bound).\n",
    "    TF_bound = np.array([i[0] for i in metadata])\n",
    "\n",
    "    # Motif match scores. Describe how well a motif is matched\n",
    "    motif_score = np.array([i[1] for i in metadata])\n",
    "\n",
    "    # The corresponding TF names for each motif site\n",
    "    TF_labels.append(np.array([i[2].decode('ascii') for i in metadata]))\n",
    "\n",
    "    # Combine all non-footprint features as additional features\n",
    "    motif_score = np.reshape(motif_score, (-1, 1))\n",
    "    TFBS_data.append(np.concatenate([footprints, motif_score], axis = 1))\n",
    "    binding_labels.append(TF_bound)"
   ]
  },
  {
   "cell_type": "code",
   "execution_count": 4,
   "id": "ee882196",
   "metadata": {},
   "outputs": [],
   "source": [
    "# Combine data from each dataset\n",
    "dataset_label = np.concatenate([[datasets[i] for j in range(len(TF_labels[i]))] for i in range(len(datasets))])\n",
    "TFBS_data = np.concatenate(TFBS_data, axis = 0)\n",
    "binding_labels = np.concatenate(binding_labels)\n",
    "TF_labels = np.concatenate(TF_labels)\n",
    "kept_TFs = np.unique(TF_labels)\n",
    "\n",
    "# Scale the features so that we can intepret input gradient later\n",
    "footprint_mean = np.mean(TFBS_data, axis = 0)[:-1]\n",
    "footprint_sd = np.std(TFBS_data, axis = 0)[:-1]\n",
    "TFBS_data[:, :-1] = (TFBS_data[:, :-1] - footprint_mean) / footprint_sd"
   ]
  },
  {
   "cell_type": "code",
   "execution_count": 5,
   "id": "8f7ff427",
   "metadata": {},
   "outputs": [],
   "source": [
    "# Filter out TFs with low percentages of bound motifs\n",
    "kept_TFs = np.unique(TF_labels)\n",
    "TF_bound_ratio = np.array([np.mean(binding_labels[TF_labels == TF]) for TF in kept_TFs])\n",
    "kept_TFs = kept_TFs[TF_bound_ratio > 0.25]\n",
    "TF_filter = [True if TF in kept_TFs else False for TF in TF_labels]\n",
    "TFBS_data_filt = TFBS_data[TF_filter, :]\n",
    "TF_labels_filt = TF_labels[TF_filter]\n",
    "binding_labels_filt = binding_labels[TF_filter]\n",
    "dataset_label_filt = dataset_label[TF_filter]"
   ]
  },
  {
   "cell_type": "code",
   "execution_count": 6,
   "id": "67dd7613",
   "metadata": {},
   "outputs": [
    {
     "data": {
      "text/plain": [
       "array(['ATF2', 'BHLHE40', 'CEBPA', 'CEBPB', 'CEBPD', 'CEBPG', 'CREB1',\n",
       "       'CREM', 'CTCF', 'E2F4', 'EBF1', 'EGR1', 'ELF1', 'ELK1', 'ETS1',\n",
       "       'ETV4', 'ETV5', 'FOSL2', 'FOXA2', 'FOXA3', 'GABPA', 'HLF', 'HNF4A',\n",
       "       'JUND', 'MYC', 'NFIA', 'NFIL3', 'NFYA', 'NFYB', 'NFYC', 'NR2F1',\n",
       "       'NR5A1', 'NRF1', 'ONECUT1', 'PATZ1', 'RFX1', 'RFX3', 'RUNX3',\n",
       "       'TFDP1', 'TFDP2', 'TFE3', 'USF1', 'USF2', 'YY1', 'ZBTB14', 'ZFY',\n",
       "       'ZNF501'], dtype='<U7')"
      ]
     },
     "execution_count": 6,
     "metadata": {},
     "output_type": "execute_result"
    }
   ],
   "source": [
    "kept_TFs"
   ]
  },
  {
   "cell_type": "markdown",
   "id": "13017403",
   "metadata": {},
   "source": [
    "### Preparing data for model training, optimization and evaluation"
   ]
  },
  {
   "cell_type": "code",
   "execution_count": 7,
   "id": "16012fbe",
   "metadata": {},
   "outputs": [
    {
     "name": "stdout",
     "output_type": "stream",
     "text": [
      "Training TFs: ['TFE3', 'HLF', 'CEBPD', 'NRF1', 'NR2F1', 'EBF1', 'USF1', 'NFIA', 'CEBPA', 'CREB1', 'ATF2', 'CEBPG', 'NFIL3', 'CREM', 'CTCF', 'BHLHE40', 'CEBPB', 'USF2']\n"
     ]
    }
   ],
   "source": [
    "# Load TF cluster membership\n",
    "TF_clustering = pd.read_csv(\"../../data/TFBSPrediction/clusterLabels.txt\", sep = \"\\t\")\n",
    "TF_clustering\n",
    "cluster_1_TFs = TF_clustering[\"TF\"].values[TF_clustering[\"cluster\"].values == 1]\n",
    "training_TFs = list(set(cluster_1_TFs) & set(kept_TFs))\n",
    "print(\"Training TFs:\", training_TFs)\n",
    "val_TFs = list(set(kept_TFs) - set(training_TFs))"
   ]
  },
  {
   "cell_type": "code",
   "execution_count": 8,
   "id": "63f7508c",
   "metadata": {},
   "outputs": [],
   "source": [
    "# Get total number of data points\n",
    "n_data = len(TF_labels_filt)\n",
    "\n",
    "# Split dataset by TF into training, validation and test\n",
    "training_inds = np.array([i for i in range(n_data) if TF_labels_filt[i] in training_TFs])\n",
    "val_inds = np.array([i for i in range(n_data) if TF_labels_filt[i] in val_TFs])\n",
    "np.random.shuffle(training_inds)\n",
    "\n",
    "training_data = TFBS_data_filt[training_inds, :]\n",
    "training_target = binding_labels_filt[training_inds]\n",
    "\n",
    "val_data = TFBS_data_filt[val_inds, :]\n",
    "val_target = binding_labels_filt[val_inds]"
   ]
  },
  {
   "cell_type": "code",
   "execution_count": 9,
   "id": "d7e89184",
   "metadata": {},
   "outputs": [],
   "source": [
    "# Down-sample validation data to prevent data imbalance when we use it as negative examples\n",
    "downsample_inds = np.random.choice(np.arange(len(val_target)), len(training_target))\n",
    "val_data = val_data[downsample_inds, :]\n",
    "val_target = val_target[downsample_inds]\n",
    "val_inds = val_inds[downsample_inds]"
   ]
  },
  {
   "cell_type": "code",
   "execution_count": 10,
   "id": "eb4e6f27",
   "metadata": {},
   "outputs": [],
   "source": [
    "training_data = np.concatenate([training_data, val_data], axis = 0)\n",
    "training_target = np.concatenate([training_target, np.zeros(len(val_target))])\n",
    "shuf_inds = np.arange(len(training_target))\n",
    "np.random.shuffle(shuf_inds)\n",
    "training_data = training_data[shuf_inds, :]\n",
    "training_target = training_target[shuf_inds]"
   ]
  },
  {
   "cell_type": "code",
   "execution_count": 11,
   "id": "e2bb7b0e",
   "metadata": {},
   "outputs": [],
   "source": [
    "training_data_inv = []\n",
    "context_radius = 100\n",
    "context_len = context_radius * 2 + 1\n",
    "for i in range(6):\n",
    "    start = i * context_len\n",
    "    end = (i + 1) * context_len\n",
    "    training_data_inv.append(np.flip(training_data[:, start:end], axis = 1))\n",
    "training_data_inv = np.concatenate(training_data_inv, axis = 1)\n",
    "training_data_inv = np.concatenate([training_data_inv, np.reshape(training_data[:, 1206], (-1, 1))], axis = 1)\n",
    "training_data = np.concatenate([training_data, training_data_inv], axis = 0)\n",
    "training_target = np.concatenate([training_target, training_target])"
   ]
  },
  {
   "cell_type": "code",
   "execution_count": 12,
   "id": "0f252e03",
   "metadata": {},
   "outputs": [],
   "source": [
    "shuf_inds = np.arange(len(training_target))\n",
    "np.random.shuffle(shuf_inds)\n",
    "training_data = training_data[shuf_inds, :]\n",
    "training_target = training_target[shuf_inds]"
   ]
  },
  {
   "cell_type": "markdown",
   "id": "c6c49ed1",
   "metadata": {},
   "source": [
    "### Model training"
   ]
  },
  {
   "cell_type": "code",
   "execution_count": 13,
   "id": "4b39e848",
   "metadata": {},
   "outputs": [],
   "source": [
    "def model_training(training_data, training_target, val_data, val_target):\n",
    "    \n",
    "    # Initialize a Keras model for footprint-to-TF binding prediction\n",
    "    inputs = Input(shape = np.shape(training_data)[1])\n",
    "    fc_1 = Dense(64, activation = \"relu\")(inputs)\n",
    "    fc_2 = Dense(16, activation = \"relu\")(fc_1)\n",
    "    output = Dense(1, activation = \"sigmoid\")(fc_2)\n",
    "    model = keras.models.Model(inputs, output)\n",
    "    model.summary()\n",
    "    model.compile(optimizer = \"adam\",\n",
    "                  loss='binary_crossentropy', metrics=['binary_crossentropy'])\n",
    "    loss = tf.keras.losses.BinaryCrossentropy(from_logits=True)\n",
    "    prev_loss = np.inf\n",
    "    \n",
    "    # The positive vs. negative examples in training set might be imbalanced\n",
    "    # Here we adjust the weights for different examples\n",
    "    n_positive = np.sum(training_target == 1)\n",
    "    n_negative = np.sum(training_target == 0)\n",
    "    class_weight = {0: n_positive / (n_negative + n_positive),\n",
    "                    1: n_negative / (n_negative + n_positive)}\n",
    "\n",
    "    # Model training\n",
    "    for n_epoch in range(10):\n",
    "\n",
    "        # New training epoch\n",
    "        model.fit(training_data, training_target, \n",
    "                  batch_size = 128, epochs = 1, \n",
    "                  validation_data = (val_data, val_target)) \n",
    "\n",
    "        # Calculate loss on validation set\n",
    "        val_pred = np.transpose(model.predict(val_data))[0]\n",
    "        bce_loss = loss(val_target, val_pred).numpy()\n",
    "\n",
    "        # If loss on validation set stops decreasing rapidly, stop training and adopt the previous saved version\n",
    "        if bce_loss - prev_loss > -0.001:\n",
    "            break\n",
    "        else:\n",
    "            prev_loss = bce_loss\n",
    "\n",
    "            # Save current model version\n",
    "            model.save(\"../../data/TFBSPrediction/TFBS_model_ablate.h5\")\n",
    "\n",
    "    # Load the last Tn5 bias model\n",
    "    model = load_model(\"../../data/TFBSPrediction/TFBS_model_ablate.h5\")\n",
    "    \n",
    "    return model"
   ]
  },
  {
   "cell_type": "code",
   "execution_count": 14,
   "id": "63057dcb",
   "metadata": {},
   "outputs": [],
   "source": [
    "def model_eval(pred, target, TF_labels, threshold = 0.5, \n",
    "               TF_list = None, pred_bound_ratio_threshold = 0.1,\n",
    "               print_results = True):\n",
    "    \n",
    "    precision_list = []\n",
    "    recovery_list = []\n",
    "    pred_bound_list = []\n",
    "    pred_bound_r_list = []\n",
    "    AUPRC_list = []\n",
    "    n_site_list = []\n",
    "    kept_TFs = []\n",
    "    \n",
    "    # See if the user has a specified list of TFs they want to evaluate the model on\n",
    "    if TF_list is None:\n",
    "        TF_list = np.unique(TF_labels)\n",
    "    else:\n",
    "        TF_list = list(set(TF_list)&set(np.unique(TF_labels)))\n",
    "        \n",
    "    for TF in TF_list:\n",
    "\n",
    "        # Get prediction for a specific TF\n",
    "        TF_inds = np.array(TF_labels == TF)\n",
    "        pred_bound = pred[TF_inds] > threshold\n",
    "        if np.sum(pred_bound) == 0:\n",
    "            continue\n",
    "\n",
    "        # Calculate precision\n",
    "        precision = np.mean(target[TF_inds][pred_bound])\n",
    "\n",
    "        # Calculate percentage of motif sites that are predicted to be bound\n",
    "        pred_bound_r = np.mean(pred_bound)\n",
    "        \n",
    "        # Calculate number of true binding sites recovered\n",
    "        recovery = np.sum(target[TF_inds][pred_bound])\n",
    "        \n",
    "        # If predicted percentage of bound sites is very low, label this TF as inactive in this cell type\n",
    "        if pred_bound_r < pred_bound_ratio_threshold:\n",
    "            continue\n",
    "            \n",
    "        # Calculate area under precision-recall curve\n",
    "        AUPRC = average_precision_score(target[TF_inds], pred[TF_inds])\n",
    "            \n",
    "        # If the TF is considered active, record model performance\n",
    "        precision_list.append(precision)\n",
    "        pred_bound_list.append(np.sum(pred_bound))\n",
    "        pred_bound_r_list.append(pred_bound_r)\n",
    "        recovery_list.append(recovery)\n",
    "        AUPRC_list.append(AUPRC)\n",
    "        n_site_list.append(np.sum(TF_inds))\n",
    "        kept_TFs.append(TF)\n",
    "        \n",
    "        if print_results:\n",
    "            print(TF, \"AUROC\", round(auroc(target[TF_inds], pred[TF_inds]), 2),\n",
    "                  \"AUPRC\", round(AUPRC, 2),\n",
    "                  \"Precision\", round(precision, 3),\n",
    "                  \"Pred bound ratio\", round(pred_bound_r, 3),\n",
    "                  \"recovery\", round(recovery, 3),\n",
    "                  \"Number of motif matches\", np.sum(TF_inds))\n",
    "\n",
    "    # Filter out TFs with low binding signal\n",
    "    if print_results:\n",
    "        print(\"Median precision\", np.median(np.array(precision_list)))\n",
    "        print(\"Mean precision\", np.mean(np.array(precision_list)))\n",
    "        print(\"Median recovery\", np.median(np.array(recovery_list)))\n",
    "        print(\"Mean AURPC\", np.mean(np.array(AUPRC_list)))\n",
    "        print(\"Mean recovery\", np.mean(np.array(recovery_list)))\n",
    "    \n",
    "    eval_results = {\"precision\" : precision_list,\n",
    "                    \"recovery\" : recovery_list,\n",
    "                    \"pred_bound\" : pred_bound_list,\n",
    "                    \"pred_bound_r\" : pred_bound_r_list,\n",
    "                    \"AUPRC\" : AUPRC_list,\n",
    "                    \"n_site\": n_site_list,\n",
    "                    \"TFs\" : kept_TFs,}\n",
    "    \n",
    "    return eval_results"
   ]
  },
  {
   "cell_type": "code",
   "execution_count": 15,
   "id": "36327274",
   "metadata": {},
   "outputs": [],
   "source": [
    "# Mask TF footprints \n",
    "training_data_TF_mask = copy.deepcopy(training_data)\n",
    "training_data_TF_mask[:, :(context_len * 3)] = 0\n",
    "\n",
    "# Mask\n",
    "training_data_nucleosome_mask = copy.deepcopy(training_data)\n",
    "training_data_nucleosome_mask[:, (context_len * 3):-1] = 0"
   ]
  },
  {
   "cell_type": "code",
   "execution_count": null,
   "id": "d7e6c346",
   "metadata": {},
   "outputs": [
    {
     "name": "stdout",
     "output_type": "stream",
     "text": [
      "Training a model using All data\n",
      "Model: \"model\"\n",
      "_________________________________________________________________\n",
      "Layer (type)                 Output Shape              Param #   \n",
      "=================================================================\n",
      "input_1 (InputLayer)         [(None, 1207)]            0         \n",
      "_________________________________________________________________\n",
      "dense (Dense)                (None, 64)                77312     \n",
      "_________________________________________________________________\n",
      "dense_1 (Dense)              (None, 16)                1040      \n",
      "_________________________________________________________________\n",
      "dense_2 (Dense)              (None, 1)                 17        \n",
      "=================================================================\n",
      "Total params: 78,369\n",
      "Trainable params: 78,369\n",
      "Non-trainable params: 0\n",
      "_________________________________________________________________\n"
     ]
    },
    {
     "name": "stderr",
     "output_type": "stream",
     "text": [
      "2022-08-31 11:08:22.921660: W tensorflow/stream_executor/platform/default/dso_loader.cc:64] Could not load dynamic library 'libcuda.so.1'; dlerror: libcuda.so.1: cannot open shared object file: No such file or directory; LD_LIBRARY_PATH: /n/helmod/apps/centos7/Core/cuda/11.1.0-fasrc01/cuda/extras/CUPTI/lib64:/n/helmod/apps/centos7/Core/cuda/11.1.0-fasrc01/cuda/lib64:/n/helmod/apps/centos7/Core/cuda/11.1.0-fasrc01/cuda/lib:/n/helmod/apps/centos7/Core/cudnn/8.1.0.77_cuda11.2-fasrc01/lib64\n",
      "2022-08-31 11:08:22.922180: W tensorflow/stream_executor/cuda/cuda_driver.cc:269] failed call to cuInit: UNKNOWN ERROR (303)\n",
      "2022-08-31 11:08:22.922499: I tensorflow/stream_executor/cuda/cuda_diagnostics.cc:156] kernel driver does not appear to be running on this host (holy7c24202.rc.fas.harvard.edu): /proc/driver/nvidia/version does not exist\n",
      "2022-08-31 11:08:22.923464: I tensorflow/core/platform/cpu_feature_guard.cc:142] This TensorFlow binary is optimized with oneAPI Deep Neural Network Library (oneDNN) to use the following CPU instructions in performance-critical operations:  AVX2 AVX512F FMA\n",
      "To enable them in other operations, rebuild TensorFlow with the appropriate compiler flags.\n"
     ]
    }
   ],
   "source": [
    "model_dict = {}\n",
    "data_dict = {\"All\" : training_data,\n",
    "            \"TF_mask\": training_data_TF_mask,\n",
    "            \"Nuc_mask\": training_data_nucleosome_mask}\n",
    "for mask in data_dict.keys():\n",
    "    print(\"Training a model using \" + mask + \" data\")\n",
    "    model_dict[mask] = model_training(data_dict[mask], training_target, \n",
    "                         val_data, val_target)"
   ]
  },
  {
   "cell_type": "code",
   "execution_count": null,
   "id": "aa6dfd3a",
   "metadata": {},
   "outputs": [],
   "source": [
    "# Save the rescaling factor for later use\n",
    "with h5py.File(\"../../data/TFBSPrediction/TFBS_model_cluster_ablate.h5\", \"a\") as hf:\n",
    "    hf[\"footprint_mean\"] = footprint_mean\n",
    "    hf[\"footprint_sd\"] = footprint_sd"
   ]
  },
  {
   "cell_type": "markdown",
   "id": "357530f4",
   "metadata": {},
   "source": [
    "### Calculate and visualize gradients with respect to input"
   ]
  },
  {
   "cell_type": "code",
   "execution_count": 21,
   "id": "9ab4ea9a",
   "metadata": {},
   "outputs": [],
   "source": [
    "# Get model gradients with respect to input\n",
    "# Helps to visualize what the model has learned\n",
    "def get_gradients(model, data):\n",
    "    \n",
    "    # Calculate gradients with respect to the input\n",
    "    data_tensor = tf.convert_to_tensor(data, dtype=tf.float32)\n",
    "    with tf.GradientTape() as t:\n",
    "        t.watch(data_tensor)\n",
    "        tape_output = model(data_tensor)\n",
    "    gradients = t.gradient(tape_output, data_tensor)\n",
    "\n",
    "    # Smoothe gradients\n",
    "    from scipy.signal import savgol_filter\n",
    "    smoothed_grad = savgol_filter(np.median(gradients, axis = 0)[:1206], 51, 3) \n",
    "    # window size 51, polynomial order 3\n",
    "    # np.median(gradients, axis = 0)[:-1] removes the last value which is gradient for motif match score\n",
    "    # We are now only interested in gradients with respect to footprint patterns\n",
    "\n",
    "    return smoothed_grad"
   ]
  },
  {
   "cell_type": "code",
   "execution_count": 30,
   "id": "980f471d",
   "metadata": {},
   "outputs": [
    {
     "data": {
      "image/png": "[encoded data removed]",
      "text/plain": [
       "<Figure size 1080x576 with 2 Axes>"
      ]
     },
     "metadata": {
      "needs_background": "light"
     },
     "output_type": "display_data"
    }
   ],
   "source": [
    "sample_ind = np.random.choice(np.arange(len(training_target)), 10000)\n",
    "smoothed_grad = get_gradients(model_dict[\"Nuc_mask\"], training_data[sample_ind, :])\n",
    "\n",
    "# Visualize the learned greadients\n",
    "# Note that the scales here represent radius not diameter!\n",
    "# Diameter should be from 20 bp to 200 bp\n",
    "smoothed_grad = np.flip(np.reshape(smoothed_grad[:1206], (6, -1)), axis = 0)\n",
    "plt.figure(figsize = (15,8))\n",
    "ax = sns.heatmap(smoothed_grad, \n",
    "            yticklabels=[\"100bp\", \"80bp\", \"50bp\", \"30bp\", \"20bp\", \"10bp\",], \n",
    "            xticklabels=False, \n",
    "            vmax = 0.003, vmin = -0.003,\n",
    "            cmap = sns.color_palette(\"coolwarm\", as_cmap=True))\n",
    "plt.xticks(np.arange(0,250,50))\n",
    "ax.set_yticklabels(ax.get_yticklabels(),rotation = 0, fontsize = 15)\n",
    "ax.set_xticklabels(np.arange(0,250,50) - 100, fontsize = 15)\n",
    "plt.show()"
   ]
  },
  {
   "cell_type": "markdown",
   "id": "b06c1e0d",
   "metadata": {},
   "source": [
    "### Test the model on an external dataset (e.g., another cell type)"
   ]
  },
  {
   "cell_type": "code",
   "execution_count": 31,
   "id": "7be6ca0b",
   "metadata": {},
   "outputs": [],
   "source": [
    "external_dataset = \"K562\" # Can be either \"GM12878\" or \"K562\"\n",
    "external_hf = h5py.File(\"../../data/\" + external_dataset + \"/TFBSData.h5\", 'r')\n",
    "\n",
    "external_footprints = external_hf['motifFootprints']\n",
    "external_footprints = np.transpose(np.array(external_footprints))\n",
    "\n",
    "external_metadata = external_hf['metadata']\n",
    "external_metadata = np.array(external_metadata)\n",
    "\n",
    "external_TF_bound = np.array([i[0] for i in external_metadata])\n",
    "external_motif_scores = np.array([i[1] for i in external_metadata])\n",
    "external_TF_labels = np.array([i[2].decode('ascii') for i in external_metadata])\n",
    "external_kept_TFs = np.unique(external_TF_labels)"
   ]
  },
  {
   "cell_type": "code",
   "execution_count": 43,
   "id": "85a9d21a",
   "metadata": {},
   "outputs": [
    {
     "data": {
      "text/plain": [
       "['CEBPG',\n",
       " 'TFE3',\n",
       " 'CTCF',\n",
       " 'CREB1',\n",
       " 'NFIC',\n",
       " 'NRF1',\n",
       " 'NR2F1',\n",
       " 'CEBPB',\n",
       " 'BHLHE40',\n",
       " 'USF2',\n",
       " 'ATF1',\n",
       " 'ATF2',\n",
       " 'CREM']"
      ]
     },
     "execution_count": 43,
     "metadata": {},
     "output_type": "execute_result"
    }
   ],
   "source": [
    "external_kept_TFs"
   ]
  },
  {
   "cell_type": "code",
   "execution_count": 32,
   "id": "b8570c81",
   "metadata": {},
   "outputs": [],
   "source": [
    "external_kept_TFs = list(set(external_kept_TFs) & set(cluster_1_TFs))"
   ]
  },
  {
   "cell_type": "code",
   "execution_count": 33,
   "id": "7a96c6fe",
   "metadata": {},
   "outputs": [],
   "source": [
    "# Scale the features \n",
    "external_footprints = external_footprints - footprint_mean\n",
    "external_footprints = external_footprints / footprint_sd"
   ]
  },
  {
   "cell_type": "code",
   "execution_count": 34,
   "id": "7a474bea",
   "metadata": {},
   "outputs": [],
   "source": [
    "# Combine all non-footprint features as additional features\n",
    "external_motif_scores = np.reshape(external_motif_scores, (-1, 1))\n",
    "external_data = np.concatenate([external_footprints, external_motif_scores], axis = 1)"
   ]
  },
  {
   "cell_type": "code",
   "execution_count": 36,
   "id": "2e1c986a",
   "metadata": {},
   "outputs": [],
   "source": [
    "external_pred = {}\n",
    "for mask in data_dict.keys():\n",
    "    external_pred[mask] = np.transpose(model_dict[mask].predict(external_data))[0]"
   ]
  },
  {
   "cell_type": "code",
   "execution_count": 74,
   "id": "4d0fbb7d",
   "metadata": {},
   "outputs": [],
   "source": [
    "eval_results = {}\n",
    "for mask in data_dict.keys():\n",
    "    eval_results[mask] = model_eval(external_pred[mask], external_TF_bound, external_TF_labels, threshold = 0.5,\n",
    "               TF_list = external_kept_TFs, pred_bound_ratio_threshold = 0, print_results = False)\n",
    "    eval_results[mask] = np.median(eval_results[mask]['AUPRC'])"
   ]
  },
  {
   "cell_type": "code",
   "execution_count": 75,
   "id": "51997085",
   "metadata": {},
   "outputs": [
    {
     "data": {
      "text/plain": [
       "{'All': 0.8160996269293964,\n",
       " 'TF_mask': 0.7400867254659966,\n",
       " 'Nuc_mask': 0.808760095995438}"
      ]
     },
     "execution_count": 75,
     "metadata": {},
     "output_type": "execute_result"
    }
   ],
   "source": [
    "eval_results "
   ]
  },
  {
   "cell_type": "code",
   "execution_count": 82,
   "id": "9b69c978",
   "metadata": {},
   "outputs": [],
   "source": [
    "!mkdir ../../data/TFBSPrediction/plots/ablation"
   ]
  },
  {
   "cell_type": "code",
   "execution_count": 91,
   "id": "9ff188f1",
   "metadata": {},
   "outputs": [
    {
     "data": {
      "image/png": "[encoded data removed]",
      "text/plain": [
       "<Figure size 1500x660 with 1 Axes>"
      ]
     },
     "metadata": {
      "needs_background": "light"
     },
     "output_type": "display_data"
    }
   ],
   "source": [
    "TF = \"TFE3\"\n",
    "plt.figure(dpi = 300, figsize = (5,2.2))\n",
    "plt.xlabel(\"Bone marrow recall\")\n",
    "plt.ylabel(\"Bone marrow precision\")\n",
    "plt.title(TF)\n",
    "colors = {\"All\" : \"#00A087FF\", \"TF_mask\" : \"#8491B4FF\", \"Nuc_mask\" : \"#7E6148FF\"}\n",
    "for mask in data_dict.keys():\n",
    "    # Visualize precision-recall curve \n",
    "    TF_inds = external_TF_labels == TF\n",
    "    precision, recall, thresholds = precision_recall_curve(external_TF_bound[TF_inds], external_pred[mask][TF_inds])\n",
    "    plt.plot(recall, precision, label = mask, color = colors[mask])\n",
    "plt.legend()\n",
    "plt.savefig(\"../../data/TFBSPrediction/plots/ablation/ablation_\" + TF + \".pdf\")"
   ]
  },
  {
   "cell_type": "code",
   "execution_count": null,
   "id": "1dec243c",
   "metadata": {},
   "outputs": [],
   "source": []
  }
 ],
 "metadata": {
  "kernelspec": {
   "display_name": "Python [conda env:.conda-SHARE_footprinting]",
   "language": "python",
   "name": "conda-env-.conda-SHARE_footprinting-py"
  },
  "language_info": {
   "codemirror_mode": {
    "name": "ipython",
    "version": 3
   },
   "file_extension": ".py",
   "mimetype": "text/x-python",
   "name": "python",
   "nbconvert_exporter": "python",
   "pygments_lexer": "ipython3",
   "version": "3.8.12"
  }
 },
 "nbformat": 4,
 "nbformat_minor": 5
}
