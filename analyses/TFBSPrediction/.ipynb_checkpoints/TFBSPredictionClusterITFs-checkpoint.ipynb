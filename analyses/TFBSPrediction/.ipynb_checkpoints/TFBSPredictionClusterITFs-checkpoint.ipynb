{
 "cells": [
  {
   "cell_type": "code",
   "execution_count": 1,
   "id": "6b226516",
   "metadata": {},
   "outputs": [],
   "source": [
    "import os\n",
    "import sys\n",
    "import h5py\n",
    "import pandas as pd\n",
    "import numpy as np\n",
    "import tqdm\n",
    "import pickle\n",
    "import copy\n",
    "import matplotlib\n",
    "import matplotlib.pyplot as plt\n",
    "import multiprocessing as mp\n",
    "import scipy.stats as ss\n",
    "import seaborn as sns\n",
    "import keras\n",
    "import scipy\n",
    "from datetime import datetime\n",
    "from keras.models import load_model\n",
    "from keras.models import Sequential\n",
    "from keras.layers import *\n",
    "from keras.models import Model\n",
    "from keras import backend as K    \n",
    "from sklearn.metrics import roc_auc_score as auroc\n",
    "from sklearn.metrics import precision_recall_curve\n",
    "from sklearn.metrics import average_precision_score"
   ]
  },
  {
   "cell_type": "markdown",
   "id": "d2990aac",
   "metadata": {},
   "source": [
    "### Load multi-scale footprint and TF binding data"
   ]
  },
  {
   "cell_type": "code",
   "execution_count": 2,
   "id": "5ca9a318",
   "metadata": {},
   "outputs": [],
   "source": [
    "# Here we train a model that takes each genomic site with a matched TF motif\n",
    "# and predicts whether the site is bound by the corresponding TF"
   ]
  },
  {
   "cell_type": "code",
   "execution_count": 4,
   "id": "c7705e6e",
   "metadata": {},
   "outputs": [],
   "source": [
    "TFBS_data = []\n",
    "binding_labels = []\n",
    "TF_labels = []\n",
    "datasets = [\"HepG2\", \"GM12878\"]\n",
    "for dataset in datasets:\n",
    "\n",
    "    hf = h5py.File(\"../../data/\" + dataset + \"/TFBSDataENCODE.h5\", 'r')\n",
    "\n",
    "    # Multi-scale footprint scores for each TF motif site\n",
    "    # Here we use footprints calculated using 6 different window sizes:\n",
    "    # 10bp, 20bp, 30bp, 50bp, 80bp, 100bp (radius, not diameter)\n",
    "    # For each window radius, we take a 201 bp (+/- 100bp with the motif center 1bp) local neighborhood \n",
    "    # as model input. Therefore for each locus we have a 201 * 6 = 1206 dimensional vector as input\n",
    "    # If we have in total N motif matched sites, then hf['motifFootprints'] should be a N-by-1026 matrix\n",
    "    footprints = hf['motifFootprints']\n",
    "    footprints = np.transpose(np.array(footprints))\n",
    "\n",
    "    # Metadata of each motif site\n",
    "    metadata = hf['metadata']\n",
    "    metadata = np.array(metadata)\n",
    "\n",
    "    # Ground truth TF binding label. An array of 0s (unbound) and 1s (bound).\n",
    "    TF_bound = np.array([i[0] for i in metadata])\n",
    "\n",
    "    # Motif match scores. Describe how well a motif is matched\n",
    "    motif_score = np.array([i[1] for i in metadata])\n",
    "\n",
    "    # The corresponding TF names for each motif site\n",
    "    TF_labels.append(np.array([i[2].decode('ascii') for i in metadata]))\n",
    "\n",
    "    # Combine all non-footprint features as additional features\n",
    "    motif_score = np.reshape(motif_score, (-1, 1))\n",
    "    TFBS_data.append(np.concatenate([footprints, motif_score], axis = 1))\n",
    "    binding_labels.append(TF_bound)"
   ]
  },
  {
   "cell_type": "code",
   "execution_count": 5,
   "id": "ee882196",
   "metadata": {},
   "outputs": [],
   "source": [
    "# Combine data from each dataset\n",
    "dataset_label = np.concatenate([[datasets[i] for j in range(len(TF_labels[i]))] for i in range(len(datasets))])\n",
    "TFBS_data = np.concatenate(TFBS_data, axis = 0)\n",
    "binding_labels = np.concatenate(binding_labels)\n",
    "TF_labels = np.concatenate(TF_labels)\n",
    "kept_TFs = np.unique(TF_labels)\n",
    "\n",
    "# Scale the features so that we can intepret input gradient later\n",
    "footprint_mean = np.mean(TFBS_data, axis = 0)[:-1]\n",
    "footprint_sd = np.std(TFBS_data, axis = 0)[:-1]\n",
    "TFBS_data[:, :-1] = (TFBS_data[:, :-1] - footprint_mean) / footprint_sd"
   ]
  },
  {
   "cell_type": "code",
   "execution_count": 6,
   "id": "8f7ff427",
   "metadata": {},
   "outputs": [],
   "source": [
    "# Filter out TFs with low percentages of bound motifs\n",
    "kept_TFs = np.unique(TF_labels)\n",
    "TF_bound_ratio = np.array([np.mean(binding_labels[TF_labels == TF]) for TF in kept_TFs])\n",
    "kept_TFs = kept_TFs[TF_bound_ratio > 0.25]\n",
    "TF_filter = [True if TF in kept_TFs else False for TF in TF_labels]\n",
    "TFBS_data_filt = TFBS_data[TF_filter, :]\n",
    "TF_labels_filt = TF_labels[TF_filter]\n",
    "binding_labels_filt = binding_labels[TF_filter]\n",
    "dataset_label_filt = dataset_label[TF_filter]"
   ]
  },
  {
   "cell_type": "code",
   "execution_count": 7,
   "id": "67dd7613",
   "metadata": {},
   "outputs": [
    {
     "data": {
      "text/plain": [
       "array(['ATF2', 'BHLHE40', 'CEBPA', 'CEBPB', 'CEBPD', 'CEBPG', 'CREB1',\n",
       "       'CREM', 'CTCF', 'E2F4', 'EBF1', 'EGR1', 'ELF1', 'ELK1', 'ETS1',\n",
       "       'ETV4', 'ETV5', 'FOSL2', 'FOXA2', 'FOXA3', 'GABPA', 'HLF', 'HNF4A',\n",
       "       'JUND', 'MYC', 'NFIA', 'NFIL3', 'NFYA', 'NFYB', 'NFYC', 'NR2F1',\n",
       "       'NR5A1', 'NRF1', 'ONECUT1', 'PATZ1', 'RFX1', 'RFX3', 'RUNX3',\n",
       "       'TFDP1', 'TFDP2', 'TFE3', 'USF1', 'USF2', 'YY1', 'ZBTB14', 'ZFY',\n",
       "       'ZNF501'], dtype='<U7')"
      ]
     },
     "execution_count": 7,
     "metadata": {},
     "output_type": "execute_result"
    }
   ],
   "source": [
    "kept_TFs"
   ]
  },
  {
   "cell_type": "markdown",
   "id": "13017403",
   "metadata": {},
   "source": [
    "### Preparing data for model training, optimization and evaluation"
   ]
  },
  {
   "cell_type": "code",
   "execution_count": 8,
   "id": "16012fbe",
   "metadata": {},
   "outputs": [
    {
     "name": "stdout",
     "output_type": "stream",
     "text": [
      "Training TFs: ['USF1', 'BHLHE40', 'NFIL3', 'HLF', 'NRF1', 'CTCF', 'USF2', 'NFIA', 'ATF2', 'CREB1', 'EBF1', 'CEBPG', 'TFE3', 'CEBPA', 'NR2F1', 'CEBPB', 'CREM', 'CEBPD']\n"
     ]
    }
   ],
   "source": [
    "# Load TF cluster membership\n",
    "TF_clustering = pd.read_csv(\"../../data/TFBSPrediction/clusterLabels.txt\", sep = \"\\t\")\n",
    "TF_clustering\n",
    "cluster_1_TFs = TF_clustering[\"TF\"].values[TF_clustering[\"cluster\"].values == 1]\n",
    "training_TFs = list(set(cluster_1_TFs) & set(kept_TFs))\n",
    "print(\"Training TFs:\", training_TFs)\n",
    "val_TFs = list(set(kept_TFs) - set(training_TFs))"
   ]
  },
  {
   "cell_type": "code",
   "execution_count": 8,
   "id": "63f7508c",
   "metadata": {},
   "outputs": [],
   "source": [
    "# Get total number of data points\n",
    "n_data = len(TF_labels_filt)\n",
    "\n",
    "# Split dataset by TF into training, validation and test\n",
    "training_inds = np.array([i for i in range(n_data) if TF_labels_filt[i] in training_TFs])\n",
    "val_inds = np.array([i for i in range(n_data) if TF_labels_filt[i] in val_TFs])\n",
    "np.random.shuffle(training_inds)\n",
    "\n",
    "training_data = TFBS_data_filt[training_inds, :]\n",
    "training_target = binding_labels_filt[training_inds]\n",
    "\n",
    "val_data = TFBS_data_filt[val_inds, :]\n",
    "val_target = binding_labels_filt[val_inds]"
   ]
  },
  {
   "cell_type": "code",
   "execution_count": 9,
   "id": "b15d8683",
   "metadata": {},
   "outputs": [],
   "source": [
    "# Down-sample validation data to prevent data imbalance when we use it as negative examples\n",
    "downsample_inds = np.random.choice(np.arange(len(val_target)), len(training_target))\n",
    "val_data = val_data[downsample_inds, :]\n",
    "val_target = val_target[downsample_inds]\n",
    "val_inds = val_inds[downsample_inds]"
   ]
  },
  {
   "cell_type": "code",
   "execution_count": 10,
   "id": "afa68ac6",
   "metadata": {},
   "outputs": [],
   "source": [
    "training_data = np.concatenate([training_data, val_data], axis = 0)\n",
    "training_target = np.concatenate([training_target, np.zeros(len(val_target))])\n",
    "shuf_inds = np.arange(len(training_target))\n",
    "np.random.shuffle(shuf_inds)\n",
    "training_data = training_data[shuf_inds, :]\n",
    "training_target = training_target[shuf_inds]"
   ]
  },
  {
   "cell_type": "code",
   "execution_count": 11,
   "id": "e2bb7b0e",
   "metadata": {},
   "outputs": [],
   "source": [
    "training_data_inv = []\n",
    "context_radius = 100\n",
    "context_len = context_radius * 2 + 1\n",
    "for i in range(6):\n",
    "    start = i * context_len\n",
    "    end = (i + 1) * context_len\n",
    "    training_data_inv.append(np.flip(training_data[:, start:end], axis = 1))\n",
    "training_data_inv = np.concatenate(training_data_inv, axis = 1)\n",
    "training_data_inv = np.concatenate([training_data_inv, np.reshape(training_data[:, 1206], (-1, 1))], axis = 1)\n",
    "training_data = np.concatenate([training_data, training_data_inv], axis = 0)\n",
    "training_target = np.concatenate([training_target, training_target])"
   ]
  },
  {
   "cell_type": "code",
   "execution_count": 12,
   "id": "0f252e03",
   "metadata": {},
   "outputs": [],
   "source": [
    "shuf_inds = np.arange(len(training_target))\n",
    "np.random.shuffle(shuf_inds)\n",
    "training_data = training_data[shuf_inds, :]\n",
    "training_target = training_target[shuf_inds]"
   ]
  },
  {
   "cell_type": "markdown",
   "id": "c6c49ed1",
   "metadata": {},
   "source": [
    "### Model training"
   ]
  },
  {
   "cell_type": "code",
   "execution_count": 13,
   "id": "4b39e848",
   "metadata": {},
   "outputs": [],
   "source": [
    "def model_training(training_data, training_target, val_data, val_target):\n",
    "    \n",
    "    # Initialize a Keras model for footprint-to-TF binding prediction\n",
    "    inputs = Input(shape = np.shape(training_data)[1])\n",
    "    fc_1 = Dense(32, activation = \"relu\")(inputs)\n",
    "    fc_2 = Dense(16, activation = \"relu\")(fc_1)\n",
    "    output = Dense(1, activation = \"sigmoid\")(fc_2)\n",
    "    model = keras.models.Model(inputs, output)\n",
    "    model.summary()\n",
    "    model.compile(optimizer = \"adam\",\n",
    "                  loss='binary_crossentropy', metrics=['binary_crossentropy'])\n",
    "    loss = tf.keras.losses.BinaryCrossentropy(from_logits=True)\n",
    "    prev_loss = np.inf\n",
    "\n",
    "    # Model training\n",
    "    for n_epoch in range(10):\n",
    "\n",
    "        # New training epoch\n",
    "        model.fit(training_data, training_target, \n",
    "                  batch_size = 128, epochs = 1, \n",
    "                  validation_data = (val_data, val_target)) \n",
    "\n",
    "        # Calculate loss on validation set\n",
    "        val_pred = np.transpose(model.predict(val_data))[0]\n",
    "        bce_loss = loss(val_target, val_pred).numpy()\n",
    "\n",
    "        # If loss on validation set stops decreasing rapidly, stop training and adopt the previous saved version\n",
    "        if bce_loss - prev_loss > -0.001:\n",
    "            break\n",
    "        else:\n",
    "            prev_loss = bce_loss\n",
    "\n",
    "            # Save current model version\n",
    "            model.save(\"../../data/TFBSPrediction/TFBS_model_cluster_I.h5\")\n",
    "\n",
    "    # Load the last Tn5 bias model\n",
    "    model = load_model(\"../../data/TFBSPrediction/TFBS_model_cluster_I.h5\")\n",
    "    \n",
    "    return model"
   ]
  },
  {
   "cell_type": "code",
   "execution_count": 16,
   "id": "63057dcb",
   "metadata": {},
   "outputs": [],
   "source": [
    "def model_eval(pred, target, TF_labels, threshold = 0.5, \n",
    "               TF_list = None, pred_bound_ratio_threshold = 0.1,\n",
    "               print_results = True):\n",
    "    \n",
    "    precision_list = []\n",
    "    recovery_list = []\n",
    "    pred_bound_list = []\n",
    "    pred_bound_r_list = []\n",
    "    AUPRC_list = []\n",
    "    n_site_list = []\n",
    "    kept_TFs = []\n",
    "    \n",
    "    # See if the user has a specified list of TFs they want to evaluate the model on\n",
    "    if TF_list is None:\n",
    "        TF_list = np.unique(TF_labels)\n",
    "    else:\n",
    "        TF_list = list(set(TF_list)&set(np.unique(TF_labels)))\n",
    "        \n",
    "    for TF in TF_list:\n",
    "\n",
    "        # Get prediction for a specific TF\n",
    "        TF_inds = np.array(TF_labels == TF)\n",
    "        pred_bound = pred[TF_inds] > threshold\n",
    "        if np.sum(pred_bound) == 0:\n",
    "            continue\n",
    "\n",
    "        # Calculate precision\n",
    "        precision = np.mean(target[TF_inds][pred_bound])\n",
    "\n",
    "        # Calculate percentage of motif sites that are predicted to be bound\n",
    "        pred_bound_r = np.mean(pred_bound)\n",
    "        \n",
    "        # Calculate number of true binding sites recovered\n",
    "        recovery = np.sum(target[TF_inds][pred_bound])\n",
    "        \n",
    "        # If predicted percentage of bound sites is very low, label this TF as inactive in this cell type\n",
    "        if pred_bound_r < pred_bound_ratio_threshold:\n",
    "            continue\n",
    "            \n",
    "        # Calculate area under precision-recall curve\n",
    "        AUPRC = average_precision_score(target[TF_inds], pred[TF_inds])\n",
    "            \n",
    "        # If the TF is considered active, record model performance\n",
    "        precision_list.append(precision)\n",
    "        pred_bound_list.append(np.sum(pred_bound))\n",
    "        pred_bound_r_list.append(pred_bound_r)\n",
    "        recovery_list.append(recovery)\n",
    "        AUPRC_list.append(AUPRC)\n",
    "        n_site_list.append(np.sum(TF_inds))\n",
    "        kept_TFs.append(TF)\n",
    "        \n",
    "        if print_results:\n",
    "            print(TF, \"AUROC\", round(auroc(target[TF_inds], pred[TF_inds]), 2),\n",
    "                  \"AUPRC\", round(AUPRC, 2),\n",
    "                  \"Precision\", round(precision, 3),\n",
    "                  \"Pred bound ratio\", round(pred_bound_r, 3),\n",
    "                  \"recovery\", round(recovery, 3),\n",
    "                  \"Number of motif matches\", np.sum(TF_inds))\n",
    "\n",
    "    # Filter out TFs with low binding signal\n",
    "    if print_results:\n",
    "        print(\"Median precision\", np.median(np.array(precision_list)))\n",
    "        print(\"Mean precision\", np.mean(np.array(precision_list)))\n",
    "        print(\"Median recovery\", np.median(np.array(recovery_list)))\n",
    "        print(\"Mean AURPC\", np.mean(np.array(AUPRC_list)))\n",
    "        print(\"Mean recovery\", np.mean(np.array(recovery_list)))\n",
    "    \n",
    "    eval_results = {\"precision\" : precision_list,\n",
    "                    \"recovery\" : recovery_list,\n",
    "                    \"pred_bound\" : pred_bound_list,\n",
    "                    \"pred_bound_r\" : pred_bound_r_list,\n",
    "                    \"AUPRC\" : AUPRC_list,\n",
    "                    \"n_site\": n_site_list,\n",
    "                    \"TFs\" : kept_TFs,}\n",
    "    \n",
    "    return eval_results"
   ]
  },
  {
   "cell_type": "code",
   "execution_count": 15,
   "id": "d89100a6",
   "metadata": {},
   "outputs": [
    {
     "name": "stderr",
     "output_type": "stream",
     "text": [
      "2022-08-10 14:23:42.655384: W tensorflow/stream_executor/platform/default/dso_loader.cc:64] Could not load dynamic library 'libcuda.so.1'; dlerror: libcuda.so.1: cannot open shared object file: No such file or directory; LD_LIBRARY_PATH: /n/helmod/apps/centos7/Core/cuda/11.1.0-fasrc01/cuda/extras/CUPTI/lib64:/n/helmod/apps/centos7/Core/cuda/11.1.0-fasrc01/cuda/lib64:/n/helmod/apps/centos7/Core/cuda/11.1.0-fasrc01/cuda/lib:/n/helmod/apps/centos7/Core/cudnn/8.1.0.77_cuda11.2-fasrc01/lib64\n",
      "2022-08-10 14:23:42.655457: W tensorflow/stream_executor/cuda/cuda_driver.cc:269] failed call to cuInit: UNKNOWN ERROR (303)\n",
      "2022-08-10 14:23:42.655498: I tensorflow/stream_executor/cuda/cuda_diagnostics.cc:156] kernel driver does not appear to be running on this host (holy7c26409.rc.fas.harvard.edu): /proc/driver/nvidia/version does not exist\n",
      "2022-08-10 14:23:42.656088: I tensorflow/core/platform/cpu_feature_guard.cc:142] This TensorFlow binary is optimized with oneAPI Deep Neural Network Library (oneDNN) to use the following CPU instructions in performance-critical operations:  AVX2 AVX512F FMA\n",
      "To enable them in other operations, rebuild TensorFlow with the appropriate compiler flags.\n"
     ]
    },
    {
     "name": "stdout",
     "output_type": "stream",
     "text": [
      "Model: \"model\"\n",
      "_________________________________________________________________\n",
      "Layer (type)                 Output Shape              Param #   \n",
      "=================================================================\n",
      "input_1 (InputLayer)         [(None, 1207)]            0         \n",
      "_________________________________________________________________\n",
      "dense (Dense)                (None, 32)                38656     \n",
      "_________________________________________________________________\n",
      "dense_1 (Dense)              (None, 16)                528       \n",
      "_________________________________________________________________\n",
      "dense_2 (Dense)              (None, 1)                 17        \n",
      "=================================================================\n",
      "Total params: 39,201\n",
      "Trainable params: 39,201\n",
      "Non-trainable params: 0\n",
      "_________________________________________________________________\n"
     ]
    },
    {
     "name": "stderr",
     "output_type": "stream",
     "text": [
      "2022-08-10 14:23:49.069335: I tensorflow/compiler/mlir/mlir_graph_optimization_pass.cc:185] None of the MLIR Optimization Passes are enabled (registered 2)\n"
     ]
    },
    {
     "name": "stdout",
     "output_type": "stream",
     "text": [
      "10472/10472 [==============================] - 32s 3ms/step - loss: 0.3935 - binary_crossentropy: 0.3935 - val_loss: 0.6325 - val_binary_crossentropy: 0.6325\n",
      "10472/10472 [==============================] - 33s 3ms/step - loss: 0.3822 - binary_crossentropy: 0.3822 - val_loss: 0.6402 - val_binary_crossentropy: 0.6402\n",
      "10472/10472 [==============================] - 32s 3ms/step - loss: 0.3795 - binary_crossentropy: 0.3795 - val_loss: 0.6341 - val_binary_crossentropy: 0.6341\n"
     ]
    }
   ],
   "source": [
    "model = model_training(training_data, training_target, \n",
    "                       val_data, val_target)"
   ]
  },
  {
   "cell_type": "code",
   "execution_count": 16,
   "id": "ffd5d08a",
   "metadata": {},
   "outputs": [
    {
     "name": "stdout",
     "output_type": "stream",
     "text": [
      "CREM AUROC 0.79 AUPRC 0.78 Precision 0.868 Pred bound ratio 0.046 recovery 59 Number of motif matches 1471\n",
      "E2F4 AUROC 0.74 AUPRC 0.5 Precision 0.566 Pred bound ratio 0.022 recovery 98 Number of motif matches 8009\n",
      "EBF1 AUROC 0.79 AUPRC 0.75 Precision 0.833 Pred bound ratio 0.038 recovery 224 Number of motif matches 7141\n",
      "EGR1 AUROC 0.74 AUPRC 0.58 Precision 0.653 Pred bound ratio 0.025 recovery 309 Number of motif matches 18808\n",
      "ELF1 AUROC 0.84 AUPRC 0.69 Precision 0.796 Pred bound ratio 0.031 recovery 258 Number of motif matches 10601\n",
      "ELK1 AUROC 0.86 AUPRC 0.79 Precision 0.916 Pred bound ratio 0.044 recovery 76 Number of motif matches 1873\n",
      "ETV4 AUROC 0.82 AUPRC 0.64 Precision 0.777 Pred bound ratio 0.028 recovery 115 Number of motif matches 5362\n",
      "ETV5 AUROC 0.82 AUPRC 0.77 Precision 0.849 Pred bound ratio 0.044 recovery 129 Number of motif matches 3442\n",
      "FOSL2 AUROC 0.79 AUPRC 0.68 Precision 0.736 Pred bound ratio 0.04 recovery 488 Number of motif matches 16702\n",
      "FOXA2 AUROC 0.82 AUPRC 0.61 Precision 0.77 Pred bound ratio 0.042 recovery 621 Number of motif matches 19394\n",
      "FOXA3 AUROC 0.82 AUPRC 0.6 Precision 0.789 Pred bound ratio 0.031 recovery 384 Number of motif matches 15880\n",
      "GABPA AUROC 0.79 AUPRC 0.52 Precision 0.638 Pred bound ratio 0.042 recovery 178 Number of motif matches 6692\n",
      "HLF AUROC 0.8 AUPRC 0.69 Precision 0.69 Pred bound ratio 0.026 recovery 69 Number of motif matches 3883\n",
      "HNF4A AUROC 0.78 AUPRC 0.66 Precision 0.707 Pred bound ratio 0.028 recovery 402 Number of motif matches 20032\n",
      "JUND AUROC 0.76 AUPRC 0.5 Precision 0.598 Pred bound ratio 0.037 recovery 342 Number of motif matches 15332\n",
      "MAFF AUROC 0.75 AUPRC 0.56 Precision 0.635 Pred bound ratio 0.034 recovery 80 Number of motif matches 3674\n",
      "NFIA AUROC 0.8 AUPRC 0.53 Precision 0.621 Pred bound ratio 0.016 recovery 87 Number of motif matches 8992\n",
      "NFIL3 AUROC 0.8 AUPRC 0.62 Precision 0.586 Pred bound ratio 0.019 recovery 51 Number of motif matches 4670\n",
      "NFYA AUROC 0.81 AUPRC 0.66 Precision 0.694 Pred bound ratio 0.015 recovery 77 Number of motif matches 7493\n",
      "NFYB AUROC 0.81 AUPRC 0.64 Precision 0.681 Pred bound ratio 0.017 recovery 98 Number of motif matches 8234\n",
      "NFYC AUROC 0.79 AUPRC 0.56 Precision 0.699 Pred bound ratio 0.017 recovery 100 Number of motif matches 8588\n",
      "NR2C2 AUROC 0.81 AUPRC 0.59 Precision 0.85 Pred bound ratio 0.012 recovery 17 Number of motif matches 1659\n",
      "NR5A1 AUROC 0.74 AUPRC 0.44 Precision 0.498 Pred bound ratio 0.026 recovery 138 Number of motif matches 10488\n",
      "NRF1 AUROC 0.73 AUPRC 0.41 Precision 0.44 Pred bound ratio 0.033 recovery 154 Number of motif matches 10498\n",
      "ONECUT1 AUROC 0.71 AUPRC 0.38 Precision 0.105 Pred bound ratio 0.032 recovery 2 Number of motif matches 603\n",
      "PATZ1 AUROC 0.76 AUPRC 0.5 Precision 0.647 Pred bound ratio 0.031 recovery 1020 Number of motif matches 50214\n",
      "RFX1 AUROC 0.74 AUPRC 0.5 Precision 0.495 Pred bound ratio 0.022 recovery 52 Number of motif matches 4779\n",
      "TFDP1 AUROC 0.75 AUPRC 0.51 Precision 0.628 Pred bound ratio 0.052 recovery 204 Number of motif matches 6210\n",
      "TFDP2 AUROC 0.71 AUPRC 0.41 Precision 0.49 Pred bound ratio 0.023 recovery 76 Number of motif matches 6829\n",
      "TFE3 AUROC 0.73 AUPRC 0.46 Precision 0.534 Pred bound ratio 0.023 recovery 62 Number of motif matches 5082\n",
      "USF1 AUROC 0.71 AUPRC 0.45 Precision 0.489 Pred bound ratio 0.024 recovery 91 Number of motif matches 7861\n",
      "USF2 AUROC 0.71 AUPRC 0.48 Precision 0.597 Pred bound ratio 0.019 recovery 86 Number of motif matches 7725\n",
      "ZBTB14 AUROC 0.71 AUPRC 0.48 Precision 0.512 Pred bound ratio 0.018 recovery 42 Number of motif matches 4468\n",
      "ZFY AUROC 0.72 AUPRC 0.53 Precision 0.656 Pred bound ratio 0.042 recovery 277 Number of motif matches 10081\n",
      "ZNF263 AUROC 0.76 AUPRC 0.53 Precision 0.638 Pred bound ratio 0.048 recovery 375 Number of motif matches 12315\n",
      "Median precision 0.6467977171845276\n",
      "Mean precision 0.6480331715792128\n",
      "Median recovery 100.0\n",
      "Mean AURPC 0.5709319550118933\n",
      "Mean recovery 195.45714285714286\n"
     ]
    }
   ],
   "source": [
    "val_pred = np.transpose(model.predict(val_data))[0]\n",
    "eval_results = model_eval(val_pred, val_target, TF_labels[val_inds], \n",
    "                          threshold = 0.5, pred_bound_ratio_threshold = 0)"
   ]
  },
  {
   "cell_type": "code",
   "execution_count": 17,
   "id": "14743299",
   "metadata": {},
   "outputs": [],
   "source": [
    "# Save the rescaling factor for later use\n",
    "with h5py.File(\"../../data/TFBSPrediction/TFBS_model_cluster_I.h5\", \"a\") as hf:\n",
    "    hf[\"footprint_mean\"] = footprint_mean\n",
    "    hf[\"footprint_sd\"] = footprint_sd"
   ]
  },
  {
   "cell_type": "markdown",
   "id": "357530f4",
   "metadata": {},
   "source": [
    "### Calculate and visualize gradients with respect to input"
   ]
  },
  {
   "cell_type": "code",
   "execution_count": 18,
   "id": "a9ab3ca0",
   "metadata": {},
   "outputs": [],
   "source": [
    "# Get model gradients with respect to input\n",
    "# Helps to visualize what the model has learned\n",
    "def get_gradients(model, data):\n",
    "    \n",
    "    # Calculate gradients with respect to the input\n",
    "    data_tensor = tf.convert_to_tensor(data, dtype=tf.float32)\n",
    "    with tf.GradientTape() as t:\n",
    "        t.watch(data_tensor)\n",
    "        tape_output = model(data_tensor)\n",
    "    gradients = t.gradient(tape_output, data_tensor)\n",
    "\n",
    "    # Smoothe gradients\n",
    "    from scipy.signal import savgol_filter\n",
    "    smoothed_grad = savgol_filter(np.median(gradients, axis = 0)[:1206], 51, 3) \n",
    "    # window size 51, polynomial order 3\n",
    "    # np.median(gradients, axis = 0)[:-1] removes the last value which is gradient for motif match score\n",
    "    # We are now only interested in gradients with respect to footprint patterns\n",
    "\n",
    "    return smoothed_grad"
   ]
  },
  {
   "cell_type": "code",
   "execution_count": 19,
   "id": "980f471d",
   "metadata": {},
   "outputs": [
    {
     "data": {
      "image/png": "[encoded data removed]",
      "text/plain": [
       "<Figure size 1080x576 with 2 Axes>"
      ]
     },
     "metadata": {
      "needs_background": "light"
     },
     "output_type": "display_data"
    }
   ],
   "source": [
    "sample_ind = np.random.choice(np.arange(len(training_target)), 10000)\n",
    "smoothed_grad = get_gradients(model, training_data[sample_ind, :])\n",
    "\n",
    "# Visualize the learned greadients\n",
    "# Note that the scales here represent radius not diameter!\n",
    "# Diameter should be from 20 bp to 200 bp\n",
    "smoothed_grad = np.flip(np.reshape(smoothed_grad[:1206], (6, -1)), axis = 0)\n",
    "plt.figure(figsize = (15,8))\n",
    "ax = sns.heatmap(smoothed_grad, \n",
    "            yticklabels=[\"100bp\", \"80bp\", \"50bp\", \"30bp\", \"20bp\", \"10bp\",], \n",
    "            xticklabels=False, \n",
    "            vmax = 0.002, vmin = -0.002,\n",
    "            cmap = sns.color_palette(\"coolwarm\", as_cmap=True))\n",
    "plt.xticks(np.arange(0,250,50))\n",
    "ax.set_yticklabels(ax.get_yticklabels(),rotation = 0, fontsize = 15)\n",
    "ax.set_xticklabels(np.arange(0,250,50) - 100, fontsize = 15)\n",
    "plt.show()"
   ]
  },
  {
   "cell_type": "markdown",
   "id": "b06c1e0d",
   "metadata": {},
   "source": [
    "### Test the model on an external dataset (e.g., another cell type)"
   ]
  },
  {
   "cell_type": "code",
   "execution_count": 10,
   "id": "1c6d8739",
   "metadata": {},
   "outputs": [],
   "source": [
    "model = load_model(\"../../data/TFBSPrediction/TFBS_model_cluster_I.h5\")\n",
    "with h5py.File(\"../../data/TFBSPrediction/TFBS_model_cluster_I.h5\", \"r\") as hf:\n",
    "    footprint_mean = np.array(hf[\"footprint_mean\"])\n",
    "    footprint_sd = np.array(hf[\"footprint_sd\"])"
   ]
  },
  {
   "cell_type": "code",
   "execution_count": 11,
   "id": "7be6ca0b",
   "metadata": {},
   "outputs": [],
   "source": [
    "external_dataset = \"K562\" # Can be either \"GM12878\" or \"K562\"\n",
    "external_hf = h5py.File(\"../../data/\" + external_dataset + \"/TFBSDataUnibind.h5\", 'r')\n",
    "\n",
    "external_footprints = external_hf['motifFootprints']\n",
    "external_footprints = np.transpose(np.array(external_footprints))\n",
    "\n",
    "external_metadata = external_hf['metadata']\n",
    "external_metadata = np.array(external_metadata)\n",
    "\n",
    "external_metadata[\"range\"] = [i.decode('ascii') for i in external_metadata[\"range\"]]\n",
    "external_metadata[\"TF\"] = [i.decode('ascii') for i in external_metadata[\"TF\"]]\n",
    "external_TF_labels = external_metadata[\"TF\"]\n",
    "\n",
    "external_TF_bound = np.array([i[0] for i in external_metadata])\n",
    "external_motif_scores = np.array([i[1] for i in external_metadata])\n",
    "external_kept_TFs = np.unique(external_TF_labels)"
   ]
  },
  {
   "cell_type": "code",
   "execution_count": 12,
   "id": "b8570c81",
   "metadata": {},
   "outputs": [],
   "source": [
    "external_kept_TFs = list(set(external_kept_TFs) & set(cluster_1_TFs))"
   ]
  },
  {
   "cell_type": "code",
   "execution_count": 13,
   "id": "7a96c6fe",
   "metadata": {},
   "outputs": [],
   "source": [
    "# Scale the features \n",
    "external_footprints = external_footprints - footprint_mean\n",
    "external_footprints = external_footprints / footprint_sd"
   ]
  },
  {
   "cell_type": "code",
   "execution_count": 14,
   "id": "7a474bea",
   "metadata": {},
   "outputs": [],
   "source": [
    "# Combine all non-footprint features as additional features\n",
    "external_motif_scores = np.reshape(external_motif_scores, (-1, 1))\n",
    "external_data = np.concatenate([external_footprints, external_motif_scores], axis = 1)"
   ]
  },
  {
   "cell_type": "code",
   "execution_count": 17,
   "id": "24be1f03",
   "metadata": {},
   "outputs": [
    {
     "name": "stdout",
     "output_type": "stream",
     "text": [
      "USF1 AUROC 0.76 AUPRC 0.82 Precision 0.885 Pred bound ratio 0.064 recovery 479 Number of motif matches 8476\n",
      "BHLHE40 AUROC 0.75 AUPRC 0.79 Precision 0.879 Pred bound ratio 0.07 recovery 306 Number of motif matches 4994\n",
      "NRF1 AUROC 0.8 AUPRC 0.59 Precision 0.654 Pred bound ratio 0.172 recovery 1455 Number of motif matches 12958\n",
      "CTCF AUROC 0.88 AUPRC 0.78 Precision 0.833 Pred bound ratio 0.22 recovery 4989 Number of motif matches 27279\n",
      "USF2 AUROC 0.87 AUPRC 0.48 Precision 0.551 Pred bound ratio 0.069 recovery 298 Number of motif matches 7851\n",
      "NFIA AUROC 0.68 AUPRC 0.48 Precision 0.562 Pred bound ratio 0.047 recovery 339 Number of motif matches 12901\n",
      "ATF2 AUROC 0.71 AUPRC 0.81 Precision 0.885 Pred bound ratio 0.083 recovery 309 Number of motif matches 4195\n",
      "CREB1 AUROC 0.84 AUPRC 0.82 Precision 0.899 Pred bound ratio 0.097 recovery 275 Number of motif matches 3139\n",
      "CEBPG AUROC 0.7 AUPRC 0.51 Precision 0.707 Pred bound ratio 0.014 recovery 29 Number of motif matches 3023\n",
      "NR2F1 AUROC 0.7 AUPRC 0.35 Precision 0.634 Pred bound ratio 0.011 recovery 71 Number of motif matches 10575\n",
      "CEBPB AUROC 0.7 AUPRC 0.58 Precision 0.8 Pred bound ratio 0.008 recovery 36 Number of motif matches 5606\n",
      "MITF AUROC 0.83 AUPRC 0.5 Precision 0.625 Pred bound ratio 0.055 recovery 334 Number of motif matches 9691\n",
      "CREM AUROC 0.76 AUPRC 0.81 Precision 0.861 Pred bound ratio 0.092 recovery 272 Number of motif matches 3437\n",
      "NFIC AUROC 0.68 AUPRC 0.34 Precision 0.488 Pred bound ratio 0.033 recovery 336 Number of motif matches 21054\n",
      "Median precision 0.7536585365853659\n",
      "Mean precision 0.7330951968252372\n",
      "Median recovery 307.5\n",
      "Mean AURPC 0.6194039113726737\n",
      "Mean recovery 680.5714285714286\n"
     ]
    }
   ],
   "source": [
    "external_pred = np.transpose(model.predict(external_data))[0]\n",
    "eval_results = model_eval(external_pred, external_TF_bound, external_TF_labels, threshold = 0.5,\n",
    "           TF_list = external_kept_TFs, pred_bound_ratio_threshold = 0)"
   ]
  },
  {
   "cell_type": "code",
   "execution_count": 19,
   "id": "57600fa7",
   "metadata": {},
   "outputs": [],
   "source": [
    "external_metadata = pd.DataFrame(external_metadata)\n",
    "external_metadata[\"predScore\"] = external_pred\n",
    "external_metadata.to_csv(\"../../data/TFBSPrediction/\" + external_dataset + \"_pred_data_cluster_I.tsv\",\n",
    "                        sep = \"\\t\")"
   ]
  },
  {
   "cell_type": "code",
   "execution_count": null,
   "id": "8b601f34-7f90-4efc-85fb-92b0554a1fe6",
   "metadata": {},
   "outputs": [],
   "source": []
  }
 ],
 "metadata": {
  "kernelspec": {
   "display_name": "Python [conda env:.conda-SHARE_footprinting]",
   "language": "python",
   "name": "conda-env-.conda-SHARE_footprinting-py"
  },
  "language_info": {
   "codemirror_mode": {
    "name": "ipython",
    "version": 3
   },
   "file_extension": ".py",
   "mimetype": "text/x-python",
   "name": "python",
   "nbconvert_exporter": "python",
   "pygments_lexer": "ipython3",
   "version": "3.8.12"
  }
 },
 "nbformat": 4,
 "nbformat_minor": 5
}
