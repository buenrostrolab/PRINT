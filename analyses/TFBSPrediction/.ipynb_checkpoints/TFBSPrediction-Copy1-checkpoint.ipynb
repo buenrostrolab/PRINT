{
 "cells": [
  {
   "cell_type": "code",
   "execution_count": 1,
   "id": "6b226516",
   "metadata": {},
   "outputs": [],
   "source": [
    "import os\n",
    "import sys\n",
    "import h5py\n",
    "import pandas as pd\n",
    "import numpy as np\n",
    "import tqdm\n",
    "import pickle\n",
    "import copy\n",
    "import matplotlib\n",
    "import matplotlib.pyplot as plt\n",
    "import multiprocessing as mp\n",
    "import scipy.stats as ss\n",
    "import seaborn as sns\n",
    "import keras\n",
    "import scipy\n",
    "from datetime import datetime\n",
    "from keras.models import load_model\n",
    "from keras.models import Sequential\n",
    "from keras.layers import *\n",
    "from keras.models import Model\n",
    "from keras import backend as K    \n",
    "from sklearn.metrics import roc_auc_score as auroc\n",
    "from sklearn.metrics import precision_recall_curve"
   ]
  },
  {
   "cell_type": "markdown",
   "id": "d2990aac",
   "metadata": {},
   "source": [
    "### Load multi-scale footprint and TF binding data"
   ]
  },
  {
   "cell_type": "code",
   "execution_count": 2,
   "id": "5ca9a318",
   "metadata": {},
   "outputs": [],
   "source": [
    "# Here we train a model that takes each genomic site with a matched TF motif\n",
    "# and predicts whether the site is bound by the corresponding TF"
   ]
  },
  {
   "cell_type": "code",
   "execution_count": 3,
   "id": "c7705e6e",
   "metadata": {},
   "outputs": [],
   "source": [
    "hf = h5py.File(\"../../data/HepG2/TFBSData.h5\", 'r')\n",
    "\n",
    "# Multi-scale footprint scores for each TF motif site\n",
    "# Here we use footprints calculated using 6 different window sizes:\n",
    "# 10bp, 20bp, 30bp, 50bp, 80bp, 100bp (radius, not diameter)\n",
    "# For each window radius, we take a 201 bp (+/- 100bp with the motif center 1bp) local neighborhood \n",
    "# as model input. Therefore for each locus we have a 201 * 6 = 1206 dimensional vector as input\n",
    "# If we have in total N motif matched sites, then hf['motifFootprints'] should be a N-by-1026 matrix\n",
    "footprints = hf['motifFootprints']\n",
    "footprints = np.transpose(np.array(footprints))\n",
    "\n",
    "# Metadata of each motif site\n",
    "metadata = hf['metadata']\n",
    "metadata = np.array(metadata)\n",
    "\n",
    "# Ground truth TF binding label. An array of 0s (unbound) and 1s (bound).\n",
    "TF_bound = np.array([i[0] for i in metadata])\n",
    "\n",
    "# Motif match scores. Describe how well a motif is matched\n",
    "motif_score = np.array([i[1] for i in metadata])\n",
    "\n",
    "# The corresponding TF names for each motif site\n",
    "TF_labels = np.array([i[2].decode('ascii') for i in metadata])\n",
    "kept_TFs = np.unique(TF_labels)\n",
    "\n",
    "# Scale the features so that we can intepret input gradient later\n",
    "footprint_mean = np.mean(footprints, axis = 0)\n",
    "footprint_sd = np.std(footprints, axis = 0)\n",
    "footprints = (footprints - footprint_mean) / footprint_sd\n",
    "\n",
    "# Combine all non-footprint features as additional features\n",
    "motif_score = np.reshape(motif_score, (-1, 1))\n",
    "TFBS_data = np.concatenate([footprints, motif_score], axis = 1)"
   ]
  },
  {
   "cell_type": "markdown",
   "id": "13017403",
   "metadata": {},
   "source": [
    "### Preparing data for model training, optimization and evaluation"
   ]
  },
  {
   "cell_type": "code",
   "execution_count": 5,
   "id": "05fead4e",
   "metadata": {},
   "outputs": [
    {
     "name": "stdout",
     "output_type": "stream",
     "text": [
      "Training TFs: ['CTCF', 'USF1', 'ARNTL', 'USF2', 'CEBPA', 'CEBPB', 'NFIA', 'CEBPD', 'CEBPG', 'BHLHE40', 'TFE3', 'HLF', 'NFIL3']\n",
      "Validation TFs: ['ETV4' 'ZBTB14' 'CREM' 'TFE3' 'ELF1' 'CTCF' 'MYC' 'ZFY' 'NFE2L2' 'PATZ1'\n",
      " 'FOSL1' 'TFDP2' 'E2F4' 'GABPA']\n",
      "Test TFs: ['ZNF652' 'ZKSCAN1' 'NFYB' 'NR2C2' 'FOXA3' 'NR5A1' 'MXD1' 'ARNTL' 'TEAD1'\n",
      " 'NFYA' 'FOXA2' 'HNF4A' 'ATF2' 'NR2F6' 'ONECUT2']\n"
     ]
    }
   ],
   "source": [
    "# Split TFs into training, validation and test\n",
    "# We do this so that the data of the same TF is all in one of training / val / test\n",
    "np.random.seed(123)\n",
    "np.random.shuffle(kept_TFs)\n",
    "n_TFs = len(kept_TFs)\n",
    "training_TFs = [\"CTCF\",\"USF1\",\"ARNTL\",\"USF2\",\"CEBPA\",\"CEBPB\",\"NFIA\",\"CEBPD\",\"CEBPG\",\"BHLHE40\",\"TFE3\",\"HLF\",\"NFIL3\"]\n",
    "print(\"Training TFs:\", training_TFs)\n",
    "val_TFs = kept_TFs[int(0.6 * n_TFs):int(0.8 * n_TFs)]\n",
    "print(\"Validation TFs:\", val_TFs)\n",
    "test_TFs = kept_TFs[int(0.8 * n_TFs):]\n",
    "print(\"Test TFs:\", test_TFs)\n",
    "\n",
    "# Get total number of data points\n",
    "n_data = len(TF_labels)\n",
    "\n",
    "# Split dataset by TF into training, validation and test\n",
    "training_inds = np.array([i for i in range(n_data) if TF_labels[i] in training_TFs])\n",
    "val_inds = np.array([i for i in range(n_data) if TF_labels[i] in val_TFs])\n",
    "test_inds = np.array([i for i in range(n_data) if TF_labels[i] in test_TFs])\n",
    "np.random.shuffle(training_inds)\n",
    "\n",
    "training_data = TFBS_data[training_inds, :]\n",
    "training_target = TF_bound[training_inds]\n",
    "\n",
    "val_data = TFBS_data[val_inds, :]\n",
    "val_target = TF_bound[val_inds]\n",
    "\n",
    "test_data = TFBS_data[test_inds, :]\n",
    "test_target = TF_bound[test_inds]"
   ]
  },
  {
   "cell_type": "markdown",
   "id": "c6c49ed1",
   "metadata": {},
   "source": [
    "### Model training"
   ]
  },
  {
   "cell_type": "code",
   "execution_count": 6,
   "id": "4b39e848",
   "metadata": {},
   "outputs": [],
   "source": [
    "def model_training(training_data, training_target, val_data, val_target):\n",
    "    \n",
    "    # Initialize a Keras model for footprint-to-TF binding prediction\n",
    "    inputs = Input(shape = np.shape(training_data)[1])\n",
    "    fc_1 = Dense(32, activation = \"relu\")(inputs)\n",
    "    fc_2 = Dense(16, activation = \"relu\")(fc_1)\n",
    "    output = Dense(1, activation = \"sigmoid\")(fc_2)\n",
    "    model = keras.models.Model(inputs, output)\n",
    "    model.summary()\n",
    "    model.compile(optimizer = \"adam\",\n",
    "                  loss='binary_crossentropy', metrics=['binary_crossentropy'])\n",
    "    loss = tf.keras.losses.BinaryCrossentropy(from_logits=True)\n",
    "    prev_loss = np.inf\n",
    "    \n",
    "    # The positive vs. negative examples in training set might be imbalanced\n",
    "    # Here we adjust the weights for different examples\n",
    "    n_positive = np.sum(training_target == 1)\n",
    "    n_negative = np.sum(training_target == 0)\n",
    "    class_weight = {0: n_positive / (n_negative + n_positive),\n",
    "                    1: n_negative / (n_negative + n_positive)}\n",
    "\n",
    "    # Model training\n",
    "    for n_epoch in range(10):\n",
    "\n",
    "        # New training epoch\n",
    "        model.fit(training_data, training_target, \n",
    "                  batch_size = 64, epochs = 1, \n",
    "                  validation_data = (val_data, val_target),\n",
    "                  class_weight = class_weight) \n",
    "\n",
    "        # Calculate loss on validation set\n",
    "        val_pred = np.transpose(model.predict(val_data))[0]\n",
    "        bce_loss = loss(val_target, val_pred).numpy()\n",
    "\n",
    "        # If loss on validation set stops decreasing rapidly, stop training and adopt the previous saved version\n",
    "        if bce_loss - prev_loss > -0.001:\n",
    "            break\n",
    "        else:\n",
    "            prev_loss = bce_loss\n",
    "\n",
    "            # Save current model version\n",
    "            #model.save(\"../../data/TFBSPrediction/TFBS_model.h5\")\n",
    "\n",
    "    # Load the last Tn5 bias model\n",
    "    #model = load_model(\"../../data/TFBSPrediction/TFBS_model.h5\")\n",
    "    \n",
    "    return model"
   ]
  },
  {
   "cell_type": "code",
   "execution_count": 7,
   "id": "9105147c",
   "metadata": {},
   "outputs": [
    {
     "name": "stderr",
     "output_type": "stream",
     "text": [
      "2022-07-29 16:19:33.718692: W tensorflow/stream_executor/platform/default/dso_loader.cc:64] Could not load dynamic library 'libcuda.so.1'; dlerror: libcuda.so.1: cannot open shared object file: No such file or directory; LD_LIBRARY_PATH: /n/helmod/apps/centos7/Core/cuda/11.1.0-fasrc01/cuda/extras/CUPTI/lib64:/n/helmod/apps/centos7/Core/cuda/11.1.0-fasrc01/cuda/lib64:/n/helmod/apps/centos7/Core/cuda/11.1.0-fasrc01/cuda/lib:/n/helmod/apps/centos7/Core/cudnn/8.1.0.77_cuda11.2-fasrc01/lib64\n",
      "2022-07-29 16:19:33.740948: W tensorflow/stream_executor/cuda/cuda_driver.cc:269] failed call to cuInit: UNKNOWN ERROR (303)\n",
      "2022-07-29 16:19:33.741682: I tensorflow/stream_executor/cuda/cuda_diagnostics.cc:156] kernel driver does not appear to be running on this host (holy7c24203.rc.fas.harvard.edu): /proc/driver/nvidia/version does not exist\n",
      "2022-07-29 16:19:33.764322: I tensorflow/core/platform/cpu_feature_guard.cc:142] This TensorFlow binary is optimized with oneAPI Deep Neural Network Library (oneDNN) to use the following CPU instructions in performance-critical operations:  AVX2 AVX512F FMA\n",
      "To enable them in other operations, rebuild TensorFlow with the appropriate compiler flags.\n"
     ]
    },
    {
     "name": "stdout",
     "output_type": "stream",
     "text": [
      "Model: \"model\"\n",
      "_________________________________________________________________\n",
      "Layer (type)                 Output Shape              Param #   \n",
      "=================================================================\n",
      "input_1 (InputLayer)         [(None, 1207)]            0         \n",
      "_________________________________________________________________\n",
      "dense (Dense)                (None, 32)                38656     \n",
      "_________________________________________________________________\n",
      "dense_1 (Dense)              (None, 16)                528       \n",
      "_________________________________________________________________\n",
      "dense_2 (Dense)              (None, 1)                 17        \n",
      "=================================================================\n",
      "Total params: 39,201\n",
      "Trainable params: 39,201\n",
      "Non-trainable params: 0\n",
      "_________________________________________________________________\n"
     ]
    },
    {
     "name": "stderr",
     "output_type": "stream",
     "text": [
      "2022-07-29 16:19:41.307832: I tensorflow/compiler/mlir/mlir_graph_optimization_pass.cc:185] None of the MLIR Optimization Passes are enabled (registered 2)\n"
     ]
    },
    {
     "name": "stdout",
     "output_type": "stream",
     "text": [
      "918/918 [==============================] - 5s 4ms/step - loss: 0.2116 - binary_crossentropy: 0.4584 - val_loss: 0.5171 - val_binary_crossentropy: 0.5171\n",
      "918/918 [==============================] - 4s 4ms/step - loss: 0.1978 - binary_crossentropy: 0.4324 - val_loss: 0.5011 - val_binary_crossentropy: 0.5011\n",
      "918/918 [==============================] - 4s 4ms/step - loss: 0.1938 - binary_crossentropy: 0.4247 - val_loss: 0.4872 - val_binary_crossentropy: 0.4872\n",
      "918/918 [==============================] - 4s 4ms/step - loss: 0.1901 - binary_crossentropy: 0.4173 - val_loss: 0.4874 - val_binary_crossentropy: 0.4874\n"
     ]
    }
   ],
   "source": [
    "model = model_training(training_data, training_target, val_data, val_target)"
   ]
  },
  {
   "cell_type": "markdown",
   "id": "352b3fe7",
   "metadata": {},
   "source": [
    "### Evaluate performance on the validation and test set"
   ]
  },
  {
   "cell_type": "code",
   "execution_count": 8,
   "id": "63057dcb",
   "metadata": {},
   "outputs": [],
   "source": [
    "def model_eval(pred, target, TF_labels, threshold = 0.5, \n",
    "               TF_list = None, pred_bound_ratio_threshold = 0.1):\n",
    "    \n",
    "    precision_list = []\n",
    "    recovery_list = []\n",
    "    pred_bound_list = []\n",
    "    pred_bound_r_list = []\n",
    "    kept_TFs = []\n",
    "    \n",
    "    # See if the user has a specified list of TFs they want to evaluate the model on\n",
    "    if TF_list is None:\n",
    "        TF_list = np.unique(TF_labels)\n",
    "    else:\n",
    "        TF_list = list(set(TF_list)&set(np.unique(TF_labels)))\n",
    "        \n",
    "    for TF in TF_list:\n",
    "\n",
    "        # Get prediction for a specific TF\n",
    "        TF_inds = np.array(TF_labels == TF)\n",
    "        pred_bound = pred[TF_inds] > threshold\n",
    "        if np.sum(pred_bound) == 0:\n",
    "            continue\n",
    "\n",
    "        # Calculate precision\n",
    "        precision = np.mean(target[TF_inds][pred_bound])\n",
    "\n",
    "        # Calculate percentage of motif sites that are predicted to be bound\n",
    "        pred_bound_r = np.mean(pred_bound)\n",
    "        \n",
    "        # Calculate number of true binding sites recovered\n",
    "        recovery = np.sum(target[TF_inds][pred_bound])\n",
    "        \n",
    "        # If predicted percentage of bound sites is very low, label this TF as inactive in this cell type\n",
    "        if pred_bound_r < pred_bound_ratio_threshold:\n",
    "            continue\n",
    "            \n",
    "        # If the TF is considered active, record model performance\n",
    "        precision_list.append(precision)\n",
    "        pred_bound_list.append(np.sum(pred_bound))\n",
    "        pred_bound_r_list.append(pred_bound_r)\n",
    "        recovery_list.append(recovery)\n",
    "        kept_TFs.append(TF)\n",
    "\n",
    "        print(TF, \"AUROC\", round(auroc(target[TF_inds], pred[TF_inds]), 2),\n",
    "              \"Precision\", round(precision, 3),\n",
    "              \"Pred bound ratio\", round(pred_bound_r, 3),\n",
    "              \"recovery\", round(recovery, 3))\n",
    "\n",
    "    # Filter out TFs with low binding signal\n",
    "    print(\"Median precision\", np.median(np.array(precision_list)))\n",
    "    print(\"Mean precision\", np.mean(np.array(precision_list)))\n",
    "    print(\"Median recovery\", np.median(np.array(recovery_list)))\n",
    "    print(\"Mean recovery\", np.mean(np.array(recovery_list)))\n",
    "    \n",
    "    eval_results = {\"precision\" : precision_list,\n",
    "                    \"recovery\" : recovery_list,\n",
    "                    \"pred_bound\" : pred_bound_list,\n",
    "                    \"pred_bound_r\" : pred_bound_r_list,\n",
    "                    \"TFs\" : kept_TFs,}\n",
    "    \n",
    "    return eval_results"
   ]
  },
  {
   "cell_type": "code",
   "execution_count": 9,
   "id": "73862a3a",
   "metadata": {},
   "outputs": [
    {
     "name": "stdout",
     "output_type": "stream",
     "text": [
      "CREM AUROC 0.75 Precision 0.504 Pred bound ratio 0.268 recovery 205\n",
      "CTCF AUROC 0.96 Precision 0.972 Pred bound ratio 0.679 recovery 15562\n",
      "ELF1 AUROC 0.88 Precision 0.953 Pred bound ratio 0.256 recovery 410\n",
      "ETV4 AUROC 0.83 Precision 0.846 Pred bound ratio 0.203 recovery 269\n",
      "FOSL1 AUROC 0.78 Precision 0.503 Pred bound ratio 0.174 recovery 703\n",
      "GABPA AUROC 0.79 Precision 0.838 Pred bound ratio 0.309 recovery 565\n",
      "NFE2L2 AUROC 0.77 Precision 0.69 Pred bound ratio 0.143 recovery 638\n",
      "TFDP2 AUROC 0.74 Precision 0.723 Pred bound ratio 0.1 recovery 258\n",
      "TFE3 AUROC 0.86 Precision 0.804 Pred bound ratio 0.307 recovery 591\n",
      "ZBTB14 AUROC 0.81 Precision 0.803 Pred bound ratio 0.13 recovery 232\n",
      "Median precision 0.8034248993715133\n",
      "Mean precision 0.7635932755587491\n",
      "Median recovery 487.5\n",
      "Mean recovery 1943.3\n"
     ]
    }
   ],
   "source": [
    "# Evaluate model performance on the validation set\n",
    "val_TF_labels = TF_labels[val_inds]\n",
    "val_pred = np.transpose(model.predict(val_data))[0]\n",
    "eval_results = model_eval(val_pred, val_target, val_TF_labels, threshold = 0.75)"
   ]
  },
  {
   "cell_type": "code",
   "execution_count": 10,
   "id": "e9867a86",
   "metadata": {},
   "outputs": [
    {
     "name": "stdout",
     "output_type": "stream",
     "text": [
      "ARNTL AUROC 0.81 Precision 0.635 Pred bound ratio 0.303 recovery 325\n",
      "ATF2 AUROC 0.79 Precision 0.774 Pred bound ratio 0.271 recovery 308\n",
      "FOXA2 AUROC 0.84 Precision 0.805 Pred bound ratio 0.177 recovery 1282\n",
      "FOXA3 AUROC 0.83 Precision 0.777 Pred bound ratio 0.156 recovery 982\n",
      "HNF4A AUROC 0.81 Precision 0.902 Pred bound ratio 0.181 recovery 2007\n",
      "NFYA AUROC 0.8 Precision 0.725 Pred bound ratio 0.114 recovery 479\n",
      "NFYB AUROC 0.83 Precision 0.879 Pred bound ratio 0.15 recovery 772\n",
      "NR2C2 AUROC 0.83 Precision 0.807 Pred bound ratio 0.171 recovery 347\n",
      "Median precision 0.7910875580433815\n",
      "Mean precision 0.7880181958540062\n",
      "Median recovery 625.5\n",
      "Mean recovery 812.75\n"
     ]
    }
   ],
   "source": [
    "# Evaluate model performance on the validation set\n",
    "test_TF_labels = TF_labels[test_inds]\n",
    "test_pred = np.transpose(model.predict(test_data))[0]\n",
    "eval_results = model_eval(test_pred, test_target, test_TF_labels, threshold = 0.75)"
   ]
  },
  {
   "cell_type": "code",
   "execution_count": 12,
   "id": "5f09471f",
   "metadata": {},
   "outputs": [
    {
     "name": "stdout",
     "output_type": "stream",
     "text": [
      "NFYA Test set AUROC 0.7956606439592213\n"
     ]
    },
    {
     "data": {
      "text/plain": [
       "[<matplotlib.lines.Line2D at 0x2ba8c993c5e0>]"
      ]
     },
     "execution_count": 12,
     "metadata": {},
     "output_type": "execute_result"
    },
    {
     "data": {
      "image/png": "[encoded data removed]",
      "text/plain": [
       "<Figure size 1800x1200 with 1 Axes>"
      ]
     },
     "metadata": {
      "needs_background": "light"
     },
     "output_type": "display_data"
    }
   ],
   "source": [
    "# Visualize precision-recall curve for a specific TF\n",
    "TF = \"NFYA\"\n",
    "TF_inds = np.array([i for i in range(len(test_inds)) if test_TF_labels[i] == TF])\n",
    "print(TF, \"Test set AUROC\", auroc(test_target[TF_inds], test_pred[TF_inds]))\n",
    "precision, recall, thresholds = precision_recall_curve(test_target[TF_inds], test_pred[TF_inds])\n",
    "plt.figure(dpi = 300)\n",
    "plt.xlabel(\"Test set Recall\")\n",
    "plt.ylabel(\"Test set Precision\")\n",
    "plt.plot(recall, precision)"
   ]
  },
  {
   "cell_type": "markdown",
   "id": "357530f4",
   "metadata": {},
   "source": [
    "### Calculate and visualize gradients with respect to input"
   ]
  },
  {
   "cell_type": "code",
   "execution_count": 13,
   "id": "a9ab3ca0",
   "metadata": {},
   "outputs": [],
   "source": [
    "# Get model gradients with respect to input\n",
    "# Helps to visualize what the model has learned\n",
    "def get_gradients(model, data):\n",
    "    \n",
    "    # Calculate gradients with respect to the input\n",
    "    data_tensor = tf.convert_to_tensor(data, dtype=tf.float32)\n",
    "    with tf.GradientTape() as t:\n",
    "        t.watch(data_tensor)\n",
    "        tape_output = model(data_tensor)\n",
    "    gradients = t.gradient(tape_output, data_tensor)\n",
    "\n",
    "    # Smoothe gradients\n",
    "    from scipy.signal import savgol_filter\n",
    "    smoothed_grad = savgol_filter(np.median(gradients, axis = 0)[:-1], 51, 3) \n",
    "    # window size 51, polynomial order 3\n",
    "    # np.median(gradients, axis = 0)[:-1] removes the last value which is gradient for motif match score\n",
    "    # We are now only interested in gradients with respect to footprint patterns\n",
    "\n",
    "    return smoothed_grad"
   ]
  },
  {
   "cell_type": "code",
   "execution_count": 25,
   "id": "b16b852b",
   "metadata": {},
   "outputs": [
    {
     "data": {
      "image/png": "[encoded data removed]",
      "text/plain": [
       "<Figure size 1080x576 with 2 Axes>"
      ]
     },
     "metadata": {
      "needs_background": "light"
     },
     "output_type": "display_data"
    }
   ],
   "source": [
    "smoothed_grad = get_gradients(model, TFBS_data)\n",
    "\n",
    "# Visualize the learned greadients\n",
    "# Note that the scales here represent radius not diameter!\n",
    "# Diameter should be from 20 bp to 200 bp\n",
    "smoothed_grad = np.flip(np.reshape(smoothed_grad, (6, -1)), axis = 0)\n",
    "plt.figure(figsize = (15,8))\n",
    "ax = sns.heatmap(smoothed_grad, \n",
    "            yticklabels=[\"100bp\", \"80bp\", \"50bp\", \"30bp\", \"20bp\", \"10bp\",], \n",
    "            xticklabels=False, \n",
    "            vmax = 0.004, vmin = -0.004,\n",
    "            cmap = sns.color_palette(\"coolwarm\", as_cmap=True))\n",
    "plt.xticks(np.arange(0,250,50))\n",
    "ax.set_yticklabels(ax.get_yticklabels(),rotation = 0, fontsize = 15)\n",
    "ax.set_xticklabels(np.arange(0,250,50) - 100, fontsize = 15)\n",
    "plt.show()"
   ]
  },
  {
   "cell_type": "code",
   "execution_count": 26,
   "id": "b178486f",
   "metadata": {},
   "outputs": [],
   "source": [
    "model.save(\"../../data/TFBSPrediction/TFBS_model_test.h5\")\n",
    "\n",
    "# Save the rescaling factor for later use\n",
    "with h5py.File(\"../../data/TFBSPrediction/TFBS_model_test.h5\", \"a\") as hf:\n",
    "    hf[\"footprint_mean\"] = footprint_mean\n",
    "    hf[\"footprint_sd\"] = footprint_sd"
   ]
  },
  {
   "cell_type": "markdown",
   "id": "b06c1e0d",
   "metadata": {},
   "source": [
    "### Test the model on an external dataset (e.g., another cell type)"
   ]
  },
  {
   "cell_type": "code",
   "execution_count": 33,
   "id": "7be6ca0b",
   "metadata": {},
   "outputs": [],
   "source": [
    "external_dataset = \"GM12878\" # Can be either \"GM12878\" or \"K562\"\n",
    "external_hf = h5py.File(\"../../data/\" + external_dataset + \"/TFBSData.h5\", 'r')\n",
    "external_footprints = external_hf['motifFootprints']\n",
    "external_footprints = np.transpose(np.array(external_footprints))\n",
    "external_metadata = external_hf['metadata']\n",
    "external_metadata = np.array(external_metadata)\n",
    "\n",
    "external_TF_bound = np.array([i[0] for i in external_metadata])\n",
    "external_motif_scores = np.array([i[1] for i in external_metadata])\n",
    "external_TF_labels = np.array([i[2].decode('ascii') for i in external_metadata])\n",
    "external_kept_TFs = np.unique(external_TF_labels)"
   ]
  },
  {
   "cell_type": "code",
   "execution_count": 34,
   "id": "7a96c6fe",
   "metadata": {},
   "outputs": [],
   "source": [
    "# Scale the features \n",
    "external_footprints = external_footprints - footprint_mean\n",
    "external_footprints = external_footprints / footprint_sd"
   ]
  },
  {
   "cell_type": "code",
   "execution_count": 35,
   "id": "7a474bea",
   "metadata": {},
   "outputs": [],
   "source": [
    "# Combine all non-footprint features as additional features\n",
    "external_motif_scores = np.reshape(external_motif_scores, (-1, 1))\n",
    "external_data = np.concatenate([external_footprints, external_motif_scores], axis = 1)"
   ]
  },
  {
   "cell_type": "code",
   "execution_count": 36,
   "id": "fe916f5f",
   "metadata": {},
   "outputs": [
    {
     "data": {
      "text/plain": [
       "array(['ATF2', 'BHLHE40', 'CREB1', 'CREM', 'EBF1', 'ELF1', 'ELK1', 'ETS1',\n",
       "       'GABPA', 'MAZ', 'MXI1', 'NR2F1', 'NRF1', 'PAX5', 'POU2F2', 'RELB',\n",
       "       'RUNX3', 'TBX21', 'USF2', 'YY1', 'ZBED1', 'ZNF143'], dtype='<U7')"
      ]
     },
     "execution_count": 36,
     "metadata": {},
     "output_type": "execute_result"
    }
   ],
   "source": [
    "external_kept_TFs"
   ]
  },
  {
   "cell_type": "code",
   "execution_count": 37,
   "id": "24be1f03",
   "metadata": {},
   "outputs": [
    {
     "name": "stdout",
     "output_type": "stream",
     "text": [
      "TBX21 AUROC 0.8 Precision 0.735 Pred bound ratio 0.073 recovery 161\n",
      "ELK1 AUROC 0.82 Precision 0.86 Pred bound ratio 0.371 recovery 436\n",
      "RELB AUROC 0.69 Precision 0.462 Pred bound ratio 0.152 recovery 258\n",
      "MAZ AUROC 0.75 Precision 0.499 Pred bound ratio 0.142 recovery 2681\n",
      "YY1 AUROC 0.86 Precision 0.937 Pred bound ratio 0.221 recovery 784\n",
      "MXI1 AUROC 0.75 Precision 0.533 Pred bound ratio 0.141 recovery 220\n",
      "USF2 AUROC 0.89 Precision 0.872 Pred bound ratio 0.394 recovery 956\n",
      "BHLHE40 AUROC 0.87 Precision 0.924 Pred bound ratio 0.388 recovery 610\n",
      "ZBED1 AUROC 0.79 Precision 0.6 Pred bound ratio 0.084 recovery 6\n",
      "GABPA AUROC 0.76 Precision 0.802 Pred bound ratio 0.417 recovery 761\n",
      "ETS1 AUROC 0.74 Precision 0.66 Pred bound ratio 0.329 recovery 202\n",
      "POU2F2 AUROC 0.8 Precision 0.68 Pred bound ratio 0.154 recovery 814\n",
      "RUNX3 AUROC 0.76 Precision 0.811 Pred bound ratio 0.203 recovery 700\n",
      "ZNF143 AUROC 0.86 Precision 0.841 Pred bound ratio 0.175 recovery 546\n",
      "ATF2 AUROC 0.57 Precision 0.444 Pred bound ratio 0.388 recovery 209\n",
      "ELF1 AUROC 0.77 Precision 0.777 Pred bound ratio 0.327 recovery 476\n",
      "PAX5 AUROC 0.8 Precision 0.643 Pred bound ratio 0.119 recovery 222\n",
      "CREM AUROC 0.86 Precision 0.962 Pred bound ratio 0.389 recovery 503\n",
      "NR2F1 AUROC 0.78 Precision 0.835 Pred bound ratio 0.057 recovery 157\n",
      "NRF1 AUROC 0.83 Precision 0.868 Pred bound ratio 0.544 recovery 4007\n",
      "EBF1 AUROC 0.84 Precision 0.948 Pred bound ratio 0.177 recovery 1054\n",
      "CREB1 AUROC 0.85 Precision 0.907 Pred bound ratio 0.346 recovery 706\n",
      "Median precision 0.8065103597493\n",
      "Mean precision 0.7545931875697351\n",
      "Median recovery 524.5\n",
      "Mean recovery 748.5909090909091\n"
     ]
    }
   ],
   "source": [
    "external_pred = np.transpose(model.predict(external_data))[0]\n",
    "eval_results = model_eval(external_pred, external_TF_bound, external_TF_labels, threshold = 0.7,\n",
    "           TF_list = external_kept_TFs, pred_bound_ratio_threshold = 0.025)"
   ]
  },
  {
   "cell_type": "code",
   "execution_count": null,
   "id": "0155eadc",
   "metadata": {},
   "outputs": [],
   "source": []
  }
 ],
 "metadata": {
  "kernelspec": {
   "display_name": "Python [conda env:.conda-SHARE_footprinting]",
   "language": "python",
   "name": "conda-env-.conda-SHARE_footprinting-py"
  },
  "language_info": {
   "codemirror_mode": {
    "name": "ipython",
    "version": 3
   },
   "file_extension": ".py",
   "mimetype": "text/x-python",
   "name": "python",
   "nbconvert_exporter": "python",
   "pygments_lexer": "ipython3",
   "version": "3.8.12"
  }
 },
 "nbformat": 4,
 "nbformat_minor": 5
}
