{
 "cells": [
  {
   "cell_type": "code",
   "execution_count": 8,
   "id": "6b226516",
   "metadata": {},
   "outputs": [],
   "source": [
    "import os\n",
    "import sys\n",
    "import h5py\n",
    "import pandas as pd\n",
    "import numpy as np\n",
    "import tqdm\n",
    "import pickle\n",
    "import copy\n",
    "import matplotlib\n",
    "import matplotlib.pyplot as plt\n",
    "import multiprocessing as mp\n",
    "import scipy.stats as ss\n",
    "import seaborn as sns\n",
    "import keras\n",
    "import scipy\n",
    "from datetime import datetime\n",
    "from keras.models import load_model\n",
    "from keras.models import Sequential\n",
    "from keras.layers import *\n",
    "from keras.models import Model\n",
    "from keras import backend as K    \n",
    "from sklearn.metrics import roc_auc_score as auroc\n",
    "from sklearn.metrics import precision_recall_curve\n",
    "from sklearn.metrics import average_precision_score"
   ]
  },
  {
   "cell_type": "markdown",
   "id": "d2990aac",
   "metadata": {},
   "source": [
    "### Load multi-scale footprint and TF binding data"
   ]
  },
  {
   "cell_type": "code",
   "execution_count": 2,
   "id": "5ca9a318",
   "metadata": {},
   "outputs": [],
   "source": [
    "# Here we train a model that takes each genomic site with a matched TF motif\n",
    "# and predicts whether the site is bound by the corresponding TF"
   ]
  },
  {
   "cell_type": "code",
   "execution_count": 2,
   "id": "08263bbd",
   "metadata": {},
   "outputs": [],
   "source": [
    "np.random.seed(123)"
   ]
  },
  {
   "cell_type": "code",
   "execution_count": 4,
   "id": "c7705e6e",
   "metadata": {},
   "outputs": [],
   "source": [
    "TFBS_data = []\n",
    "binding_labels = []\n",
    "TF_labels = []\n",
    "datasets = [\"HepG2\", \"GM12878\"]\n",
    "for dataset in datasets:\n",
    "\n",
    "    hf = h5py.File(\"../../data/\" + dataset + \"/TFBSDataUnibind.h5\", 'r')\n",
    "\n",
    "    # Multi-scale footprint scores for each TF motif site\n",
    "    # Here we use footprints calculated using 6 different window sizes:\n",
    "    # 10bp, 20bp, 30bp, 50bp, 80bp, 100bp (radius, not diameter)\n",
    "    # For each window radius, we take a 201 bp (+/- 100bp with the motif center 1bp) local neighborhood \n",
    "    # as model input. Therefore for each locus we have a 201 * 6 = 1206 dimensional vector as input\n",
    "    # If we have in total N motif matched sites, then hf['motifFootprints'] should be a N-by-1026 matrix\n",
    "    footprints = hf['motifFootprints']\n",
    "    footprints = np.transpose(np.array(footprints))\n",
    "\n",
    "    # Metadata of each motif site\n",
    "    metadata = hf['metadata']\n",
    "    metadata = np.array(metadata)\n",
    "\n",
    "    # Ground truth TF binding label. An array of 0s (unbound) and 1s (bound).\n",
    "    TF_bound = np.array([i[0] for i in metadata])\n",
    "\n",
    "    # Motif match scores. Describe how well a motif is matched\n",
    "    motif_score = np.array([i[1] for i in metadata])\n",
    "\n",
    "    # The corresponding TF names for each motif site\n",
    "    TF_labels.append(np.array([i[2].decode('ascii') for i in metadata]))\n",
    "\n",
    "    # Combine all non-footprint features as additional features\n",
    "    motif_score = np.reshape(motif_score, (-1, 1))\n",
    "    TFBS_data.append(np.concatenate([footprints, motif_score], axis = 1))\n",
    "    binding_labels.append(TF_bound)"
   ]
  },
  {
   "cell_type": "code",
   "execution_count": 5,
   "id": "ee882196",
   "metadata": {},
   "outputs": [],
   "source": [
    "# Combine data from each dataset\n",
    "dataset_label = np.concatenate([[datasets[i] for j in range(len(TF_labels[i]))] for i in range(len(datasets))])\n",
    "TFBS_data = np.concatenate(TFBS_data, axis = 0)\n",
    "binding_labels = np.concatenate(binding_labels)\n",
    "TF_labels = np.concatenate(TF_labels)\n",
    "kept_TFs = np.unique(TF_labels)\n",
    "\n",
    "# Scale the features so that we can intepret input gradient later\n",
    "footprint_mean = np.mean(TFBS_data, axis = 0)[:-1]\n",
    "footprint_sd = np.std(TFBS_data, axis = 0)[:-1]\n",
    "TFBS_data[:, :-1] = (TFBS_data[:, :-1] - footprint_mean) / footprint_sd"
   ]
  },
  {
   "cell_type": "code",
   "execution_count": 6,
   "id": "8f7ff427",
   "metadata": {},
   "outputs": [],
   "source": [
    "kept_TFs = np.unique(TF_labels)\n",
    "TF_bound_ratio = np.array([np.mean(binding_labels[TF_labels == TF]) for TF in kept_TFs])\n",
    "kept_TFs = kept_TFs[TF_bound_ratio > 0.1]\n",
    "TF_filter = [True if TF in kept_TFs else False for TF in TF_labels]"
   ]
  },
  {
   "cell_type": "code",
   "execution_count": 7,
   "id": "67dd7613",
   "metadata": {},
   "outputs": [
    {
     "data": {
      "text/plain": [
       "array(['ATF2', 'ATF3', 'ATF7', 'BHLHE40', 'CEBPA', 'CEBPB', 'CEBPG',\n",
       "       'CREB1', 'CREM', 'CTCF', 'EBF1', 'ELF1', 'ELF3', 'ETS1', 'ETV4',\n",
       "       'ETV5', 'FOSL2', 'FOXA2', 'FOXA3', 'GABPA', 'HLF', 'HNF1A',\n",
       "       'HNF4G', 'IRF4', 'JUN', 'JUNB', 'JUND', 'MAFF', 'MAFK', 'MAX',\n",
       "       'MLX', 'MXI1', 'NFE2L2', 'NFIA', 'NFIL3', 'NFKB1', 'NFKB2', 'NFYB',\n",
       "       'NFYC', 'NR2F2', 'NRF1', 'PAX5', 'PBX3', 'REL', 'RELA', 'RELB',\n",
       "       'RFX1', 'RFX3', 'RUNX3', 'RXRA', 'RXRB', 'SRF', 'TBX21', 'TCF3',\n",
       "       'TCF7', 'TEAD3', 'TEAD4', 'TFE3', 'USF1', 'USF2', 'YY1'],\n",
       "      dtype='<U7')"
      ]
     },
     "execution_count": 7,
     "metadata": {},
     "output_type": "execute_result"
    }
   ],
   "source": [
    "kept_TFs"
   ]
  },
  {
   "cell_type": "code",
   "execution_count": 8,
   "id": "ff508f3b",
   "metadata": {},
   "outputs": [],
   "source": [
    "TFBS_data_filt = TFBS_data[TF_filter, :]\n",
    "TF_labels_filt = TF_labels[TF_filter]\n",
    "binding_labels_filt = binding_labels[TF_filter]\n",
    "dataset_label_filt = dataset_label[TF_filter]"
   ]
  },
  {
   "cell_type": "markdown",
   "id": "13017403",
   "metadata": {},
   "source": [
    "### Preparing data for model training, optimization and evaluation"
   ]
  },
  {
   "cell_type": "code",
   "execution_count": 9,
   "id": "16012fbe",
   "metadata": {},
   "outputs": [],
   "source": [
    "# Partition data by dataset\n",
    "training_inds = [i for i in range(len(binding_labels_filt)) if dataset_label_filt[i] == \"HepG2\"]\n",
    "val_inds = [i for i in range(len(binding_labels_filt)) if dataset_label_filt[i] == \"GM12878\"]\n",
    "\n",
    "# Shuffle order of data\n",
    "np.random.shuffle(training_inds)\n",
    "np.random.shuffle(val_inds)\n",
    "\n",
    "# Get training data\n",
    "training_data = TFBS_data_filt[training_inds, :]\n",
    "training_target = binding_labels_filt[training_inds]\n",
    "\n",
    "# Get validation data\n",
    "val_data = TFBS_data_filt[val_inds, :]\n",
    "val_target = binding_labels_filt[val_inds]"
   ]
  },
  {
   "cell_type": "code",
   "execution_count": 10,
   "id": "bcb0f66d",
   "metadata": {},
   "outputs": [],
   "source": [
    "# Add additional negative examples\n",
    "context_radius = 100\n",
    "context_len = context_radius * 2 + 1\n",
    "nucleosome_center = context_len * 4 + context_radius\n",
    "negative_data_ind = np.where(training_data[:, nucleosome_center] > 1)[0]\n",
    "negative_data = training_data[negative_data_ind, :]\n",
    "training_data = np.concatenate([training_data, negative_data], axis = 0)\n",
    "training_target = np.concatenate([training_target, np.zeros(len(negative_data_ind))])"
   ]
  },
  {
   "cell_type": "code",
   "execution_count": 11,
   "id": "b97a5b33",
   "metadata": {},
   "outputs": [],
   "source": [
    "training_data_inv = []\n",
    "context_radius = 100\n",
    "context_len = context_radius * 2 + 1\n",
    "for i in range(6):\n",
    "    start = i * context_len\n",
    "    end = (i + 1) * context_len\n",
    "    training_data_inv.append(np.flip(training_data[:, start:end], axis = 1))\n",
    "training_data_inv = np.concatenate(training_data_inv, axis = 1)\n",
    "training_data_inv = np.concatenate([training_data_inv, np.reshape(training_data[:, 1206], (-1, 1))], axis = 1)\n",
    "training_data = np.concatenate([training_data, training_data_inv], axis = 0)\n",
    "training_target = np.concatenate([training_target, training_target])"
   ]
  },
  {
   "cell_type": "code",
   "execution_count": 12,
   "id": "065fbebf",
   "metadata": {},
   "outputs": [],
   "source": [
    "shuf_inds = np.arange(len(training_target))\n",
    "np.random.shuffle(shuf_inds)\n",
    "training_data = training_data[shuf_inds, :]\n",
    "training_target = training_target[shuf_inds]"
   ]
  },
  {
   "cell_type": "code",
   "execution_count": 13,
   "id": "39371734",
   "metadata": {},
   "outputs": [
    {
     "data": {
      "text/plain": [
       "(1887272, 1207)"
      ]
     },
     "execution_count": 13,
     "metadata": {},
     "output_type": "execute_result"
    }
   ],
   "source": [
    "np.shape(training_data)"
   ]
  },
  {
   "cell_type": "markdown",
   "id": "c6c49ed1",
   "metadata": {},
   "source": [
    "### Model training"
   ]
  },
  {
   "cell_type": "code",
   "execution_count": 42,
   "id": "4b39e848",
   "metadata": {},
   "outputs": [],
   "source": [
    "def model_training(training_data, training_target, val_data, val_target):\n",
    "    \n",
    "    # Initialize a Keras model for footprint-to-TF binding prediction\n",
    "    inputs = Input(shape = np.shape(training_data)[1])\n",
    "    fc_1 = Dense(128, activation = \"relu\")(inputs)\n",
    "    fc_2 = Dense(32, activation = \"relu\")(fc_1)\n",
    "    output = Dense(1, activation = \"sigmoid\")(fc_2)\n",
    "    model = keras.models.Model(inputs, output)\n",
    "    model.summary()\n",
    "    model.compile(optimizer = \"adam\",\n",
    "                  loss='binary_crossentropy', metrics=['binary_crossentropy'])\n",
    "    loss = tf.keras.losses.BinaryCrossentropy(from_logits=True)\n",
    "    prev_loss = np.inf\n",
    "\n",
    "    # Model training\n",
    "    for n_epoch in range(10):\n",
    "\n",
    "        # New training epoch\n",
    "        model.fit(training_data, training_target, \n",
    "                  batch_size = 128, epochs = 1, \n",
    "                  validation_data = (val_data, val_target)) \n",
    "\n",
    "        # Calculate loss on validation set\n",
    "        val_pred = np.transpose(model.predict(val_data))[0]\n",
    "        bce_loss = loss(val_target, val_pred).numpy()\n",
    "\n",
    "        # If loss on validation set stops decreasing rapidly, stop training and adopt the previous saved version\n",
    "        if bce_loss - prev_loss > -0.001:\n",
    "            break\n",
    "        else:\n",
    "            prev_loss = bce_loss\n",
    "\n",
    "            # Save current model version\n",
    "            model.save(\"../../data/TFBSPrediction/TFBS_model.h5\")\n",
    "\n",
    "    # Load the last Tn5 bias model\n",
    "    model = load_model(\"../../data/TFBSPrediction/TFBS_model.h5\")\n",
    "    \n",
    "    return model"
   ]
  },
  {
   "cell_type": "code",
   "execution_count": 3,
   "id": "63057dcb",
   "metadata": {},
   "outputs": [],
   "source": [
    "def model_eval(pred, target, TF_labels, threshold = 0.5, \n",
    "               TF_list = None, pred_bound_ratio_threshold = 0.1,\n",
    "               print_results = True):\n",
    "    \n",
    "    precision_list = []\n",
    "    recovery_list = []\n",
    "    pred_bound_list = []\n",
    "    pred_bound_r_list = []\n",
    "    AUPRC_list = []\n",
    "    n_site_list = []\n",
    "    kept_TFs = []\n",
    "    \n",
    "    # See if the user has a specified list of TFs they want to evaluate the model on\n",
    "    if TF_list is None:\n",
    "        TF_list = np.unique(TF_labels)\n",
    "    else:\n",
    "        TF_list = list(set(TF_list)&set(np.unique(TF_labels)))\n",
    "        \n",
    "    for TF in TF_list:\n",
    "\n",
    "        # Get prediction for a specific TF\n",
    "        TF_inds = np.array(TF_labels == TF)\n",
    "        pred_bound = pred[TF_inds] > threshold\n",
    "        if np.sum(pred_bound) == 0:\n",
    "            continue\n",
    "\n",
    "        # Calculate precision\n",
    "        precision = np.mean(target[TF_inds][pred_bound])\n",
    "\n",
    "        # Calculate percentage of motif sites that are predicted to be bound\n",
    "        pred_bound_r = np.mean(pred_bound)\n",
    "        \n",
    "        # Calculate number of true binding sites recovered\n",
    "        recovery = np.sum(target[TF_inds][pred_bound])\n",
    "        \n",
    "        # If predicted percentage of bound sites is very low, label this TF as inactive in this cell type\n",
    "        if pred_bound_r < pred_bound_ratio_threshold:\n",
    "            continue\n",
    "            \n",
    "        # Calculate area under precision-recall curve\n",
    "        AUPRC = average_precision_score(target[TF_inds], pred[TF_inds])\n",
    "            \n",
    "        # If the TF is considered active, record model performance\n",
    "        precision_list.append(precision)\n",
    "        pred_bound_list.append(np.sum(pred_bound))\n",
    "        pred_bound_r_list.append(pred_bound_r)\n",
    "        recovery_list.append(recovery)\n",
    "        AUPRC_list.append(AUPRC)\n",
    "        n_site_list.append(np.sum(TF_inds))\n",
    "        kept_TFs.append(TF)\n",
    "        \n",
    "        if print_results:\n",
    "            print(TF, \"AUROC\", round(auroc(target[TF_inds], pred[TF_inds]), 2),\n",
    "                  \"AUPRC\", round(AUPRC, 2),\n",
    "                  \"Precision\", round(precision, 3),\n",
    "                  \"Pred bound ratio\", round(pred_bound_r, 3),\n",
    "                  \"recovery\", round(recovery, 3),\n",
    "                  \"Number of motif matches\", np.sum(TF_inds))\n",
    "\n",
    "    # Filter out TFs with low binding signal\n",
    "    if print_results:\n",
    "        print(\"Median precision\", np.median(np.array(precision_list)))\n",
    "        print(\"Mean precision\", np.mean(np.array(precision_list)))\n",
    "        print(\"Median recovery\", np.median(np.array(recovery_list)))\n",
    "        print(\"Mean AURPC\", np.mean(np.array(AUPRC_list)))\n",
    "        print(\"Mean recovery\", np.mean(np.array(recovery_list)))\n",
    "    \n",
    "    eval_results = {\"precision\" : precision_list,\n",
    "                    \"recovery\" : recovery_list,\n",
    "                    \"pred_bound\" : pred_bound_list,\n",
    "                    \"pred_bound_r\" : pred_bound_r_list,\n",
    "                    \"AUPRC\" : AUPRC_list,\n",
    "                    \"n_site\": n_site_list,\n",
    "                    \"TFs\" : kept_TFs,}\n",
    "    \n",
    "    return eval_results"
   ]
  },
  {
   "cell_type": "code",
   "execution_count": 44,
   "id": "d89100a6",
   "metadata": {},
   "outputs": [
    {
     "name": "stdout",
     "output_type": "stream",
     "text": [
      "Model: \"model_4\"\n",
      "_________________________________________________________________\n",
      "Layer (type)                 Output Shape              Param #   \n",
      "=================================================================\n",
      "input_5 (InputLayer)         [(None, 1207)]            0         \n",
      "_________________________________________________________________\n",
      "dense_12 (Dense)             (None, 128)               154624    \n",
      "_________________________________________________________________\n",
      "dense_13 (Dense)             (None, 32)                4128      \n",
      "_________________________________________________________________\n",
      "dense_14 (Dense)             (None, 1)                 33        \n",
      "=================================================================\n",
      "Total params: 158,785\n",
      "Trainable params: 158,785\n",
      "Non-trainable params: 0\n",
      "_________________________________________________________________\n",
      "21403/21403 [==============================] - 82s 4ms/step - loss: 0.4003 - binary_crossentropy: 0.4003 - val_loss: 0.4249 - val_binary_crossentropy: 0.4249\n",
      "21403/21403 [==============================] - 82s 4ms/step - loss: 0.3893 - binary_crossentropy: 0.3893 - val_loss: 0.4192 - val_binary_crossentropy: 0.4192\n",
      "21403/21403 [==============================] - 80s 4ms/step - loss: 0.3869 - binary_crossentropy: 0.3869 - val_loss: 0.4190 - val_binary_crossentropy: 0.4190\n"
     ]
    }
   ],
   "source": [
    "model = model_training(training_data, training_target, \n",
    "                       val_data, val_target)"
   ]
  },
  {
   "cell_type": "code",
   "execution_count": 45,
   "id": "5d7fb7a1-f1be-42a0-8bc3-8eee31edea68",
   "metadata": {},
   "outputs": [
    {
     "name": "stdout",
     "output_type": "stream",
     "text": [
      "ATF2 AUROC 0.7 AUPRC 0.49 Precision 0.639 Pred bound ratio 0.041 recovery 140 Number of motif matches 5369\n",
      "ATF3 AUROC 0.86 AUPRC 0.61 Precision 0.787 Pred bound ratio 0.055 recovery 365 Number of motif matches 8365\n",
      "ATF7 AUROC 0.79 AUPRC 0.77 Precision 0.831 Pred bound ratio 0.037 recovery 182 Number of motif matches 5998\n",
      "BHLHE40 AUROC 0.8 AUPRC 0.71 Precision 0.753 Pred bound ratio 0.046 recovery 250 Number of motif matches 7237\n",
      "CREB1 AUROC 0.88 AUPRC 0.85 Precision 0.923 Pred bound ratio 0.042 recovery 143 Number of motif matches 3694\n",
      "CREM AUROC 0.86 AUPRC 0.82 Precision 0.897 Pred bound ratio 0.047 recovery 165 Number of motif matches 3906\n",
      "CTCF AUROC 0.94 AUPRC 0.86 Precision 0.887 Pred bound ratio 0.195 recovery 7767 Number of motif matches 44947\n",
      "EBF1 AUROC 0.85 AUPRC 0.66 Precision 0.902 Pred bound ratio 0.011 recovery 266 Number of motif matches 26296\n",
      "ELF1 AUROC 0.82 AUPRC 0.57 Precision 0.796 Pred bound ratio 0.02 recovery 164 Number of motif matches 10428\n",
      "ETS1 AUROC 0.82 AUPRC 0.5 Precision 0.634 Pred bound ratio 0.02 recovery 104 Number of motif matches 8102\n",
      "GABPA AUROC 0.86 AUPRC 0.47 Precision 0.619 Pred bound ratio 0.027 recovery 213 Number of motif matches 12768\n",
      "IRF4 AUROC 0.8 AUPRC 0.38 Precision 0.576 Pred bound ratio 0.009 recovery 102 Number of motif matches 19047\n",
      "JUNB AUROC 0.8 AUPRC 0.64 Precision 0.787 Pred bound ratio 0.006 recovery 137 Number of motif matches 26847\n",
      "MAX AUROC 0.85 AUPRC 0.72 Precision 0.807 Pred bound ratio 0.011 recovery 71 Number of motif matches 7890\n",
      "NFKB1 AUROC 0.82 AUPRC 0.55 Precision 0.798 Pred bound ratio 0.005 recovery 79 Number of motif matches 21233\n",
      "NFKB2 AUROC 0.86 AUPRC 0.65 Precision 0.812 Pred bound ratio 0.004 recovery 91 Number of motif matches 25045\n",
      "NFYB AUROC 0.86 AUPRC 0.62 Precision 0.786 Pred bound ratio 0.014 recovery 147 Number of motif matches 13019\n",
      "PAX5 AUROC 0.8 AUPRC 0.38 Precision 0.452 Pred bound ratio 0.003 recovery 19 Number of motif matches 15417\n",
      "PBX3 AUROC 0.86 AUPRC 0.62 Precision 0.815 Pred bound ratio 0.004 recovery 53 Number of motif matches 16475\n",
      "REL AUROC 0.83 AUPRC 0.49 Precision 0.717 Pred bound ratio 0.005 recovery 76 Number of motif matches 20605\n",
      "RELA AUROC 0.85 AUPRC 0.55 Precision 0.793 Pred bound ratio 0.005 recovery 111 Number of motif matches 30246\n",
      "RELB AUROC 0.88 AUPRC 0.59 Precision 0.826 Pred bound ratio 0.003 recovery 38 Number of motif matches 13558\n",
      "RUNX3 AUROC 0.8 AUPRC 0.78 Precision 0.876 Pred bound ratio 0.006 recovery 78 Number of motif matches 15992\n",
      "TBX21 AUROC 0.83 AUPRC 0.54 Precision 0.667 Pred bound ratio 0.002 recovery 14 Number of motif matches 13914\n",
      "TCF3 AUROC 0.85 AUPRC 0.41 Precision 0.484 Pred bound ratio 0.001 recovery 15 Number of motif matches 24594\n",
      "USF1 AUROC 0.85 AUPRC 0.73 Precision 0.899 Pred bound ratio 0.042 recovery 489 Number of motif matches 12832\n",
      "USF2 AUROC 0.9 AUPRC 0.72 Precision 0.849 Pred bound ratio 0.044 recovery 462 Number of motif matches 12324\n",
      "Median precision 0.7961165048543689\n",
      "Mean precision 0.7634705159722114\n",
      "Median recovery 137.0\n",
      "Mean AURPC 0.6173719082362266\n",
      "Mean recovery 434.85185185185185\n"
     ]
    }
   ],
   "source": [
    "val_pred = np.transpose(model.predict(val_data))[0]\n",
    "eval_results = model_eval(val_pred, val_target, TF_labels[val_inds], \n",
    "                          threshold = 0.75, pred_bound_ratio_threshold = 0)"
   ]
  },
  {
   "cell_type": "code",
   "execution_count": 46,
   "id": "60064aa3",
   "metadata": {},
   "outputs": [
    {
     "name": "stdout",
     "output_type": "stream",
     "text": [
      "Model: \"model_5\"\n",
      "_________________________________________________________________\n",
      "Layer (type)                 Output Shape              Param #   \n",
      "=================================================================\n",
      "input_6 (InputLayer)         [(None, 1207)]            0         \n",
      "_________________________________________________________________\n",
      "dense_15 (Dense)             (None, 128)               154624    \n",
      "_________________________________________________________________\n",
      "dense_16 (Dense)             (None, 32)                4128      \n",
      "_________________________________________________________________\n",
      "dense_17 (Dense)             (None, 1)                 33        \n",
      "=================================================================\n",
      "Total params: 158,785\n",
      "Trainable params: 158,785\n",
      "Non-trainable params: 0\n",
      "_________________________________________________________________\n",
      "24733/24733 [==============================] - 100s 4ms/step - loss: 0.4040 - binary_crossentropy: 0.4040 - val_loss: 0.4222 - val_binary_crossentropy: 0.4222\n",
      "24733/24733 [==============================] - 101s 4ms/step - loss: 0.3931 - binary_crossentropy: 0.3931 - val_loss: 0.4175 - val_binary_crossentropy: 0.4175\n",
      "24733/24733 [==============================] - 88s 4ms/step - loss: 0.3908 - binary_crossentropy: 0.3908 - val_loss: 0.4170 - val_binary_crossentropy: 0.4170\n",
      "24733/24733 [==============================] - 86s 3ms/step - loss: 0.3895 - binary_crossentropy: 0.3895 - val_loss: 0.4186 - val_binary_crossentropy: 0.4186\n"
     ]
    }
   ],
   "source": [
    "training_data = np.concatenate([training_data, val_data], axis = 0)\n",
    "training_target = np.concatenate([training_target, val_target], axis = 0)\n",
    "shuf_ind = np.arange(len(training_target))\n",
    "np.random.shuffle(shuf_ind)\n",
    "model = model_training(training_data[shuf_ind,:],\n",
    "                       training_target[shuf_ind], \n",
    "                       val_data, val_target)"
   ]
  },
  {
   "cell_type": "code",
   "execution_count": 47,
   "id": "aa6dfd3a",
   "metadata": {},
   "outputs": [],
   "source": [
    "# Save the rescaling factor for later use\n",
    "with h5py.File(\"../../data/TFBSPrediction/TFBS_model.h5\", \"a\") as hf:\n",
    "    hf[\"footprint_mean\"] = footprint_mean\n",
    "    hf[\"footprint_sd\"] = footprint_sd"
   ]
  },
  {
   "cell_type": "markdown",
   "id": "357530f4",
   "metadata": {},
   "source": [
    "### Calculate and visualize gradients with respect to input"
   ]
  },
  {
   "cell_type": "code",
   "execution_count": 48,
   "id": "a9ab3ca0",
   "metadata": {},
   "outputs": [],
   "source": [
    "# Get model gradients with respect to input\n",
    "# Helps to visualize what the model has learned\n",
    "def get_gradients(model, data):\n",
    "    \n",
    "    # Calculate gradients with respect to the input\n",
    "    data_tensor = tf.convert_to_tensor(data, dtype=tf.float32)\n",
    "    with tf.GradientTape() as t:\n",
    "        t.watch(data_tensor)\n",
    "        tape_output = model(data_tensor)\n",
    "    gradients = t.gradient(tape_output, data_tensor)\n",
    "\n",
    "    # Smoothe gradients\n",
    "    from scipy.signal import savgol_filter\n",
    "    smoothed_grad = savgol_filter(np.median(gradients, axis = 0)[:1206], 51, 3) \n",
    "    # window size 51, polynomial order 3\n",
    "    # np.median(gradients, axis = 0)[:-1] removes the last value which is gradient for motif match score\n",
    "    # We are now only interested in gradients with respect to footprint patterns\n",
    "\n",
    "    return smoothed_grad"
   ]
  },
  {
   "cell_type": "code",
   "execution_count": 58,
   "id": "980f471d",
   "metadata": {},
   "outputs": [
    {
     "data": {
      "image/png": "[encoded data removed]",
      "text/plain": [
       "<Figure size 1080x576 with 2 Axes>"
      ]
     },
     "metadata": {
      "needs_background": "light"
     },
     "output_type": "display_data"
    }
   ],
   "source": [
    "sample_ind = np.random.choice(np.arange(len(training_target)), 10000)\n",
    "smoothed_grad = get_gradients(model, training_data[sample_ind, :])\n",
    "\n",
    "# Visualize the learned greadients\n",
    "# Note that the scales here represent radius not diameter!\n",
    "# Diameter should be from 20 bp to 200 bp\n",
    "smoothed_grad = np.flip(np.reshape(smoothed_grad[:1206], (6, -1)), axis = 0)\n",
    "plt.figure(figsize = (15,8))\n",
    "ax = sns.heatmap(smoothed_grad, \n",
    "            yticklabels=[\"100bp\", \"80bp\", \"50bp\", \"30bp\", \"20bp\", \"10bp\",], \n",
    "            xticklabels=False, \n",
    "            vmax = 0.001, vmin = -0.001,\n",
    "            cmap = sns.color_palette(\"coolwarm\", as_cmap=True))\n",
    "plt.xticks(np.arange(0,250,50))\n",
    "ax.set_yticklabels(ax.get_yticklabels(),rotation = 0, fontsize = 15)\n",
    "ax.set_xticklabels(np.arange(0,250,50) - 100, fontsize = 15)\n",
    "plt.show()"
   ]
  },
  {
   "cell_type": "markdown",
   "id": "b06c1e0d",
   "metadata": {},
   "source": [
    "### Test the model on an external dataset (e.g., another cell type)"
   ]
  },
  {
   "cell_type": "code",
   "execution_count": 4,
   "id": "1c6d8739",
   "metadata": {},
   "outputs": [
    {
     "ename": "NameError",
     "evalue": "name 'load_model' is not defined",
     "output_type": "error",
     "traceback": [
      "\u001b[0;31m---------------------------------------------------------------------------\u001b[0m",
      "\u001b[0;31mNameError\u001b[0m                                 Traceback (most recent call last)",
      "Cell \u001b[0;32mIn[4], line 1\u001b[0m\n\u001b[0;32m----> 1\u001b[0m model \u001b[38;5;241m=\u001b[39m \u001b[43mload_model\u001b[49m(\u001b[38;5;124m\"\u001b[39m\u001b[38;5;124m../../data/TFBSPrediction/TFBS_model.h5\u001b[39m\u001b[38;5;124m\"\u001b[39m)\n\u001b[1;32m      2\u001b[0m \u001b[38;5;28;01mwith\u001b[39;00m h5py\u001b[38;5;241m.\u001b[39mFile(\u001b[38;5;124m\"\u001b[39m\u001b[38;5;124m../../data/TFBSPrediction/TFBS_model.h5\u001b[39m\u001b[38;5;124m\"\u001b[39m, \u001b[38;5;124m\"\u001b[39m\u001b[38;5;124mr\u001b[39m\u001b[38;5;124m\"\u001b[39m) \u001b[38;5;28;01mas\u001b[39;00m hf:\n\u001b[1;32m      3\u001b[0m     footprint_mean \u001b[38;5;241m=\u001b[39m np\u001b[38;5;241m.\u001b[39marray(hf[\u001b[38;5;124m\"\u001b[39m\u001b[38;5;124mfootprint_mean\u001b[39m\u001b[38;5;124m\"\u001b[39m])\n",
      "\u001b[0;31mNameError\u001b[0m: name 'load_model' is not defined"
     ]
    }
   ],
   "source": [
    "model = load_model(\"../../data/TFBSPrediction/TFBS_model.h5\")\n",
    "with h5py.File(\"../../data/TFBSPrediction/TFBS_model.h5\", \"r\") as hf:\n",
    "    footprint_mean = np.array(hf[\"footprint_mean\"])\n",
    "    footprint_sd = np.array(hf[\"footprint_sd\"])"
   ]
  },
  {
   "cell_type": "code",
   "execution_count": 53,
   "id": "7be6ca0b",
   "metadata": {},
   "outputs": [],
   "source": [
    "external_dataset = \"K562\" # Can be either \"GM12878\" or \"K562\"\n",
    "external_hf = h5py.File(\"../../data/\" + external_dataset + \"/TFBSDataUnibind.h5\", 'r')\n",
    "\n",
    "external_footprints = external_hf['motifFootprints']\n",
    "external_footprints = np.transpose(np.array(external_footprints))\n",
    "\n",
    "external_metadata = external_hf['metadata']\n",
    "external_metadata = np.array(external_metadata)\n",
    "\n",
    "external_TF_bound = np.array([i[0] for i in external_metadata])\n",
    "external_motif_scores = np.array([i[1] for i in external_metadata])\n",
    "external_TF_labels = np.array([i[2].decode('ascii') for i in external_metadata])\n",
    "external_kept_TFs = np.unique(external_TF_labels)"
   ]
  },
  {
   "cell_type": "code",
   "execution_count": 54,
   "id": "7a96c6fe",
   "metadata": {},
   "outputs": [],
   "source": [
    "# Scale the features \n",
    "external_footprints = external_footprints - footprint_mean\n",
    "external_footprints = external_footprints / footprint_sd"
   ]
  },
  {
   "cell_type": "code",
   "execution_count": 55,
   "id": "7a474bea",
   "metadata": {},
   "outputs": [],
   "source": [
    "# Combine all non-footprint features as additional features\n",
    "external_motif_scores = np.reshape(external_motif_scores, (-1, 1))\n",
    "external_data = np.concatenate([external_footprints, external_motif_scores], axis = 1)"
   ]
  },
  {
   "cell_type": "code",
   "execution_count": 56,
   "id": "24be1f03",
   "metadata": {},
   "outputs": [
    {
     "name": "stdout",
     "output_type": "stream",
     "text": [
      "FOXK2 AUROC 0.79 AUPRC 0.39 Precision 0.667 Pred bound ratio 0.004 recovery 22 Number of motif matches 8376\n",
      "FOS AUROC 0.77 AUPRC 0.37 Precision 0.429 Pred bound ratio 0.02 recovery 151 Number of motif matches 17430\n",
      "HMBOX1 AUROC 0.68 AUPRC 0.38 Precision 0.444 Pred bound ratio 0.003 recovery 4 Number of motif matches 2985\n",
      "BHLHE40 AUROC 0.76 AUPRC 0.8 Precision 0.897 Pred bound ratio 0.056 recovery 252 Number of motif matches 4994\n",
      "JUND AUROC 0.76 AUPRC 0.75 Precision 0.886 Pred bound ratio 0.021 recovery 342 Number of motif matches 18296\n",
      "IRF2 AUROC 0.79 AUPRC 0.4 Precision 0.694 Pred bound ratio 0.005 recovery 34 Number of motif matches 10344\n",
      "NFYA AUROC 0.85 AUPRC 0.54 Precision 0.636 Pred bound ratio 0.04 recovery 208 Number of motif matches 8225\n",
      "FOSL1 AUROC 0.79 AUPRC 0.68 Precision 0.803 Pred bound ratio 0.023 recovery 354 Number of motif matches 19399\n",
      "CTCFL AUROC 0.82 AUPRC 0.4 Precision 0.424 Pred bound ratio 0.18 recovery 2199 Number of motif matches 28782\n",
      "MYC AUROC 0.85 AUPRC 0.51 Precision 0.614 Pred bound ratio 0.023 recovery 97 Number of motif matches 7017\n",
      "RFX1 AUROC 0.75 AUPRC 0.61 Precision 0.74 Pred bound ratio 0.037 recovery 165 Number of motif matches 5971\n",
      "CREB1 AUROC 0.86 AUPRC 0.84 Precision 0.867 Pred bound ratio 0.122 recovery 333 Number of motif matches 3139\n",
      "JUNB AUROC 0.79 AUPRC 0.45 Precision 0.594 Pred bound ratio 0.022 recovery 234 Number of motif matches 17986\n",
      "NR2F2 AUROC 0.77 AUPRC 0.48 Precision 0.682 Pred bound ratio 0.007 recovery 60 Number of motif matches 12120\n",
      "NRF1 AUROC 0.8 AUPRC 0.61 Precision 0.692 Pred bound ratio 0.135 recovery 1209 Number of motif matches 12958\n",
      "USF1 AUROC 0.77 AUPRC 0.83 Precision 0.896 Pred bound ratio 0.06 recovery 455 Number of motif matches 8476\n",
      "NFE2L2 AUROC 0.82 AUPRC 0.69 Precision 0.903 Pred bound ratio 0.019 recovery 250 Number of motif matches 14710\n",
      "MAFF AUROC 0.73 AUPRC 0.38 Precision 0.557 Pred bound ratio 0.019 recovery 108 Number of motif matches 10227\n",
      "CEBPG AUROC 0.7 AUPRC 0.54 Precision 0.863 Pred bound ratio 0.017 recovery 44 Number of motif matches 3023\n",
      "MAX AUROC 0.83 AUPRC 0.65 Precision 0.804 Pred bound ratio 0.018 recovery 78 Number of motif matches 5250\n",
      "NFIC AUROC 0.7 AUPRC 0.34 Precision 0.483 Pred bound ratio 0.025 recovery 257 Number of motif matches 21054\n",
      "GABPA AUROC 0.82 AUPRC 0.67 Precision 0.734 Pred bound ratio 0.089 recovery 502 Number of motif matches 7709\n",
      "CREM AUROC 0.78 AUPRC 0.83 Precision 0.868 Pred bound ratio 0.13 recovery 387 Number of motif matches 3437\n",
      "MXI1 AUROC 0.85 AUPRC 0.49 Precision 0.563 Pred bound ratio 0.028 recovery 112 Number of motif matches 7211\n",
      "ELF1 AUROC 0.84 AUPRC 0.6 Precision 0.668 Pred bound ratio 0.071 recovery 306 Number of motif matches 6423\n",
      "CTCF AUROC 0.87 AUPRC 0.77 Precision 0.833 Pred bound ratio 0.192 recovery 4351 Number of motif matches 27279\n",
      "ELK1 AUROC 0.83 AUPRC 0.58 Precision 0.671 Pred bound ratio 0.098 recovery 287 Number of motif matches 4370\n",
      "NFIA AUROC 0.71 AUPRC 0.49 Precision 0.553 Pred bound ratio 0.033 recovery 236 Number of motif matches 12901\n",
      "NFYB AUROC 0.81 AUPRC 0.58 Precision 0.69 Pred bound ratio 0.063 recovery 411 Number of motif matches 9428\n",
      "JUN AUROC 0.77 AUPRC 0.37 Precision 0.514 Pred bound ratio 0.021 recovery 166 Number of motif matches 15597\n",
      "MAFK AUROC 0.8 AUPRC 0.6 Precision 0.876 Pred bound ratio 0.015 recovery 169 Number of motif matches 12786\n",
      "USF2 AUROC 0.89 AUPRC 0.54 Precision 0.614 Pred bound ratio 0.064 recovery 307 Number of motif matches 7851\n",
      "ATF2 AUROC 0.73 AUPRC 0.82 Precision 0.9 Pred bound ratio 0.122 recovery 460 Number of motif matches 4195\n",
      "EGR1 AUROC 0.73 AUPRC 0.33 Precision 0.452 Pred bound ratio 0.038 recovery 345 Number of motif matches 20184\n",
      "NR2F1 AUROC 0.73 AUPRC 0.37 Precision 0.621 Pred bound ratio 0.01 recovery 64 Number of motif matches 10575\n",
      "NR2F6 AUROC 0.76 AUPRC 0.33 Precision 0.533 Pred bound ratio 0.011 recovery 57 Number of motif matches 9860\n",
      "MITF AUROC 0.84 AUPRC 0.51 Precision 0.643 Pred bound ratio 0.052 recovery 322 Number of motif matches 9691\n",
      "ELF4 AUROC 0.79 AUPRC 0.59 Precision 0.677 Pred bound ratio 0.069 recovery 357 Number of motif matches 7599\n",
      "YY1 AUROC 0.88 AUPRC 0.64 Precision 0.713 Pred bound ratio 0.038 recovery 271 Number of motif matches 10098\n",
      "TAL1 AUROC 0.77 AUPRC 0.52 Precision 0.731 Pred bound ratio 0.018 recovery 147 Number of motif matches 10918\n",
      "CEBPB AUROC 0.7 AUPRC 0.6 Precision 0.925 Pred bound ratio 0.009 recovery 49 Number of motif matches 5606\n",
      "Median precision 0.6818181818181818\n",
      "Mean precision 0.691449096921116\n",
      "Median recovery 250.0\n",
      "Mean AURPC 0.5583538482564088\n",
      "Mean recovery 394.1951219512195\n"
     ]
    }
   ],
   "source": [
    "external_pred = np.transpose(model.predict(external_data))[0]\n",
    "eval_results = model_eval(external_pred, external_TF_bound, external_TF_labels, threshold = 0.5,\n",
    "           TF_list = external_kept_TFs, pred_bound_ratio_threshold = 0)"
   ]
  },
  {
   "cell_type": "code",
   "execution_count": 57,
   "id": "57600fa7",
   "metadata": {},
   "outputs": [],
   "source": [
    "external_metadata = pd.DataFrame(external_metadata)\n",
    "external_metadata[\"range\"] = [i.decode('ascii') for i in external_metadata[\"range\"]]\n",
    "external_metadata[\"TF\"] = [i.decode('ascii') for i in external_metadata[\"TF\"]]\n",
    "external_metadata[\"predScore\"] = external_pred\n",
    "external_metadata.to_csv(\"../../data/TFBSPrediction/\" + external_dataset + \"_pred_data.tsv\",\n",
    "                        sep = \"\\t\")"
   ]
  },
  {
   "cell_type": "code",
   "execution_count": null,
   "id": "01a374e3-dea2-479f-aadf-56b6ea481b10",
   "metadata": {},
   "outputs": [],
   "source": []
  }
 ],
 "metadata": {
  "kernelspec": {
   "display_name": "Python 3 (ipykernel)",
   "language": "python",
   "name": "python3"
  },
  "language_info": {
   "codemirror_mode": {
    "name": "ipython",
    "version": 3
   },
   "file_extension": ".py",
   "mimetype": "text/x-python",
   "name": "python",
   "nbconvert_exporter": "python",
   "pygments_lexer": "ipython3",
   "version": "3.12.2"
  }
 },
 "nbformat": 4,
 "nbformat_minor": 5
}
